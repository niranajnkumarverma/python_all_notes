{
 "cells": [
  {
   "cell_type": "markdown",
   "metadata": {
    "id": "cpThYb_uuqQh"
   },
   "source": [
    "# Operators in Python\n",
    "\n",
    "## 1. Arithmetic - '+, -, *, **,  /,  //,  %'\n",
    "## 2. Assignment - '=, +=, -=, /=,'\n",
    "## 3. Comparision - '==, >, <, >=, <=, !='\n",
    "## 4. Membership - 'in, not in'\n",
    "## 5. Logical - 'and, or, not' \n",
    "## 6. Identity - 'is, is not'\n",
    "## 7. Bitwise - '&, |, ^, ~, <<, >>'"
   ]
  },
  {
   "cell_type": "markdown",
   "metadata": {
    "id": "zqLxu5ZLuqQp"
   },
   "source": [
    "<h3>1. Arithmetic</h3>"
   ]
  },
  {
   "cell_type": "code",
   "execution_count": null,
   "metadata": {
    "id": "-StraDr7uqQq",
    "outputId": "c5834b64-10c7-4d53-fda5-24828e5562ee"
   },
   "outputs": [
    {
     "data": {
      "text/plain": [
       "11"
      ]
     },
     "execution_count": 1,
     "metadata": {
      "tags": []
     },
     "output_type": "execute_result"
    }
   ],
   "source": [
    "# Arithmetic\n",
    "\n",
    "5 + 6"
   ]
  },
  {
   "cell_type": "code",
   "execution_count": null,
   "metadata": {
    "id": "1PqVoxqwuqQs",
    "outputId": "311a6b89-214e-4eff-bb54-71b6afda4502"
   },
   "outputs": [
    {
     "data": {
      "text/plain": [
       "-1"
      ]
     },
     "execution_count": 2,
     "metadata": {
      "tags": []
     },
     "output_type": "execute_result"
    }
   ],
   "source": [
    "5 - 6"
   ]
  },
  {
   "cell_type": "code",
   "execution_count": null,
   "metadata": {
    "id": "aXKMGotcuqQt",
    "outputId": "464f624d-a462-48b4-b7a3-d9b00ce21610"
   },
   "outputs": [
    {
     "data": {
      "text/plain": [
       "10"
      ]
     },
     "execution_count": 3,
     "metadata": {
      "tags": []
     },
     "output_type": "execute_result"
    }
   ],
   "source": [
    "5 * 2"
   ]
  },
  {
   "cell_type": "code",
   "execution_count": null,
   "metadata": {
    "id": "GEbIQwKkuqQu",
    "outputId": "ee641f2a-5417-4e82-c79b-a3c19413acf7"
   },
   "outputs": [
    {
     "data": {
      "text/plain": [
       "25"
      ]
     },
     "execution_count": 4,
     "metadata": {
      "tags": []
     },
     "output_type": "execute_result"
    }
   ],
   "source": [
    "5 ** 2"
   ]
  },
  {
   "cell_type": "code",
   "execution_count": null,
   "metadata": {
    "id": "L-AHTPePuqQv",
    "outputId": "d3683465-0339-4dff-f32a-9f947a93beca"
   },
   "outputs": [
    {
     "data": {
      "text/plain": [
       "2.5"
      ]
     },
     "execution_count": 5,
     "metadata": {
      "tags": []
     },
     "output_type": "execute_result"
    }
   ],
   "source": [
    "5 / 2"
   ]
  },
  {
   "cell_type": "code",
   "execution_count": 2,
   "metadata": {
    "id": "6nUzk2yhuqQv",
    "outputId": "69d6dbb8-dd9c-4692-ceef-44c4396a0386"
   },
   "outputs": [
    {
     "data": {
      "text/plain": [
       "2"
      ]
     },
     "execution_count": 2,
     "metadata": {},
     "output_type": "execute_result"
    }
   ],
   "source": [
    "5 // 2"
   ]
  },
  {
   "cell_type": "code",
   "execution_count": null,
   "metadata": {
    "id": "C9WplvqnuqQx",
    "outputId": "5c604e15-7e94-4242-8ca9-d115831233ea"
   },
   "outputs": [
    {
     "data": {
      "text/plain": [
       "1.0"
      ]
     },
     "execution_count": 7,
     "metadata": {
      "tags": []
     },
     "output_type": "execute_result"
    }
   ],
   "source": [
    "5 / 2 // 2"
   ]
  },
  {
   "cell_type": "code",
   "execution_count": 5,
   "metadata": {
    "id": "1DgpLFPyuqQy",
    "outputId": "c0144ca8-b9f2-435e-81c4-5347627d67f1"
   },
   "outputs": [
    {
     "data": {
      "text/plain": [
       "1"
      ]
     },
     "execution_count": 5,
     "metadata": {},
     "output_type": "execute_result"
    }
   ],
   "source": [
    "5 % 2"
   ]
  },
  {
   "cell_type": "markdown",
   "metadata": {
    "id": "5AXNH4SWuqQz"
   },
   "source": [
    "### 2. Assignment"
   ]
  },
  {
   "cell_type": "code",
   "execution_count": null,
   "metadata": {
    "id": "FRWedll5uqQ0"
   },
   "outputs": [],
   "source": [
    "a = 5"
   ]
  },
  {
   "cell_type": "code",
   "execution_count": null,
   "metadata": {
    "id": "lPCfeM0WuqQ0"
   },
   "outputs": [],
   "source": [
    "b = 'h'"
   ]
  },
  {
   "cell_type": "code",
   "execution_count": null,
   "metadata": {
    "id": "Ouz9aRh9uqQ0"
   },
   "outputs": [],
   "source": [
    "a += 1"
   ]
  },
  {
   "cell_type": "code",
   "execution_count": null,
   "metadata": {
    "id": "cXV9sDJEuqQ0",
    "outputId": "1104da23-8ed5-4618-e86a-0454b7c5aeb7"
   },
   "outputs": [
    {
     "data": {
      "text/plain": [
       "6"
      ]
     },
     "execution_count": 12,
     "metadata": {
      "tags": []
     },
     "output_type": "execute_result"
    }
   ],
   "source": [
    "a"
   ]
  },
  {
   "cell_type": "code",
   "execution_count": null,
   "metadata": {
    "id": "eyRvcYeguqQ1"
   },
   "outputs": [],
   "source": [
    "a -= 2"
   ]
  },
  {
   "cell_type": "code",
   "execution_count": null,
   "metadata": {
    "id": "LnC_Jg1xuqQ1",
    "outputId": "77d6f141-5147-4f34-d7a4-8e8fc11686a5"
   },
   "outputs": [
    {
     "data": {
      "text/plain": [
       "4"
      ]
     },
     "execution_count": 14,
     "metadata": {
      "tags": []
     },
     "output_type": "execute_result"
    }
   ],
   "source": [
    "a"
   ]
  },
  {
   "cell_type": "code",
   "execution_count": null,
   "metadata": {
    "id": "iRj8379euqQ1"
   },
   "outputs": [],
   "source": [
    "a /= 2"
   ]
  },
  {
   "cell_type": "code",
   "execution_count": null,
   "metadata": {
    "id": "qFKTAm5cuqQ2",
    "outputId": "304fc53f-5ee0-476d-9917-8f396022bb5d"
   },
   "outputs": [
    {
     "data": {
      "text/plain": [
       "2.0"
      ]
     },
     "execution_count": 16,
     "metadata": {
      "tags": []
     },
     "output_type": "execute_result"
    }
   ],
   "source": [
    "a"
   ]
  },
  {
   "cell_type": "code",
   "execution_count": null,
   "metadata": {
    "id": "qIxanzfauqQ2"
   },
   "outputs": [],
   "source": [
    "a %= 2"
   ]
  },
  {
   "cell_type": "code",
   "execution_count": null,
   "metadata": {
    "id": "M9wFkoRZuqQ3",
    "outputId": "1e0d5b0e-1c8d-4ed0-d055-545492e399a1"
   },
   "outputs": [
    {
     "data": {
      "text/plain": [
       "0.0"
      ]
     },
     "execution_count": 18,
     "metadata": {
      "tags": []
     },
     "output_type": "execute_result"
    }
   ],
   "source": [
    "a"
   ]
  },
  {
   "cell_type": "markdown",
   "metadata": {
    "id": "-LXbsFyxuqQ3"
   },
   "source": [
    "### 3. Comparision"
   ]
  },
  {
   "cell_type": "code",
   "execution_count": null,
   "metadata": {
    "id": "eqB0DZVtuqQ4",
    "outputId": "13e98961-4188-4bb1-ed39-8ba01ffde3e4"
   },
   "outputs": [
    {
     "data": {
      "text/plain": [
       "False"
      ]
     },
     "execution_count": 19,
     "metadata": {
      "tags": []
     },
     "output_type": "execute_result"
    }
   ],
   "source": [
    "# ==\n",
    "\n",
    "5 == 2"
   ]
  },
  {
   "cell_type": "code",
   "execution_count": null,
   "metadata": {
    "id": "1u9K0EBquqQ4",
    "outputId": "4a162313-bbde-4a11-9a22-937acee7f5ac"
   },
   "outputs": [
    {
     "data": {
      "text/plain": [
       "False"
      ]
     },
     "execution_count": 20,
     "metadata": {
      "tags": []
     },
     "output_type": "execute_result"
    }
   ],
   "source": [
    "a == 5"
   ]
  },
  {
   "cell_type": "code",
   "execution_count": null,
   "metadata": {
    "id": "FKjFR18BuqQ4",
    "outputId": "c4110185-2653-4de7-a985-92ad60830fec"
   },
   "outputs": [
    {
     "data": {
      "text/plain": [
       "True"
      ]
     },
     "execution_count": 21,
     "metadata": {
      "tags": []
     },
     "output_type": "execute_result"
    }
   ],
   "source": [
    "a == 0"
   ]
  },
  {
   "cell_type": "code",
   "execution_count": null,
   "metadata": {
    "id": "Qv_e7uJ-uqQ5"
   },
   "outputs": [],
   "source": [
    "b = ''"
   ]
  },
  {
   "cell_type": "code",
   "execution_count": null,
   "metadata": {
    "id": "yEuWG1HpuqQ5",
    "outputId": "e0406f64-22d3-48e3-f404-7c046dc5bf45"
   },
   "outputs": [
    {
     "data": {
      "text/plain": [
       "False"
      ]
     },
     "execution_count": 23,
     "metadata": {
      "tags": []
     },
     "output_type": "execute_result"
    }
   ],
   "source": [
    "b == 1"
   ]
  },
  {
   "cell_type": "code",
   "execution_count": null,
   "metadata": {
    "id": "BTckM3gvuqQ5",
    "outputId": "700a93a4-ddfe-471e-ce95-804f5690c5c7"
   },
   "outputs": [
    {
     "data": {
      "text/plain": [
       "False"
      ]
     },
     "execution_count": 24,
     "metadata": {
      "tags": []
     },
     "output_type": "execute_result"
    }
   ],
   "source": [
    "b == 0"
   ]
  },
  {
   "cell_type": "code",
   "execution_count": null,
   "metadata": {
    "id": "UZOlwodyuqQ5",
    "outputId": "c9836a68-cf32-4fd0-b40a-75d5194ec4f6"
   },
   "outputs": [
    {
     "data": {
      "text/plain": [
       "True"
      ]
     },
     "execution_count": 25,
     "metadata": {
      "tags": []
     },
     "output_type": "execute_result"
    }
   ],
   "source": [
    "b == ''"
   ]
  },
  {
   "cell_type": "code",
   "execution_count": null,
   "metadata": {
    "id": "kA0FGk-CuqQ5",
    "outputId": "9d9b389f-5b82-4991-9212-108569d9ddac"
   },
   "outputs": [
    {
     "data": {
      "text/plain": [
       "0"
      ]
     },
     "execution_count": 26,
     "metadata": {
      "tags": []
     },
     "output_type": "execute_result"
    }
   ],
   "source": [
    "len(b)"
   ]
  },
  {
   "cell_type": "code",
   "execution_count": null,
   "metadata": {
    "id": "YLqjpi4huqQ6",
    "outputId": "8467342c-97b6-424f-bafe-52bc58f2c685"
   },
   "outputs": [
    {
     "data": {
      "text/plain": [
       "True"
      ]
     },
     "execution_count": 27,
     "metadata": {
      "tags": []
     },
     "output_type": "execute_result"
    }
   ],
   "source": [
    "# !=\n",
    "\n",
    "5 != 2"
   ]
  },
  {
   "cell_type": "code",
   "execution_count": null,
   "metadata": {
    "id": "N9C4IMPcuqQ6",
    "outputId": "231245f8-4975-4213-c01c-1b43a4de8264"
   },
   "outputs": [
    {
     "data": {
      "text/plain": [
       "True"
      ]
     },
     "execution_count": 28,
     "metadata": {
      "tags": []
     },
     "output_type": "execute_result"
    }
   ],
   "source": [
    "a != True"
   ]
  },
  {
   "cell_type": "code",
   "execution_count": null,
   "metadata": {
    "id": "ikIfgTnpuqQ6",
    "outputId": "6f29548d-aee6-4e02-d236-5caa85af103c"
   },
   "outputs": [
    {
     "data": {
      "text/plain": [
       "0.0"
      ]
     },
     "execution_count": 29,
     "metadata": {
      "tags": []
     },
     "output_type": "execute_result"
    }
   ],
   "source": [
    "a"
   ]
  },
  {
   "cell_type": "code",
   "execution_count": null,
   "metadata": {
    "id": "cIBzrg6luqQ7",
    "outputId": "e94a3230-50ef-4a02-f9dd-5091a568ac7d"
   },
   "outputs": [
    {
     "data": {
      "text/plain": [
       "True"
      ]
     },
     "execution_count": 30,
     "metadata": {
      "tags": []
     },
     "output_type": "execute_result"
    }
   ],
   "source": [
    "# >\n",
    "\n",
    "5 > 4"
   ]
  },
  {
   "cell_type": "code",
   "execution_count": null,
   "metadata": {
    "id": "LdchVPR_uqQ7",
    "outputId": "ebbbd652-23c9-4b7c-feee-93c8bcc383f4"
   },
   "outputs": [
    {
     "data": {
      "text/plain": [
       "False"
      ]
     },
     "execution_count": 31,
     "metadata": {
      "tags": []
     },
     "output_type": "execute_result"
    }
   ],
   "source": [
    "5 > 6"
   ]
  },
  {
   "cell_type": "code",
   "execution_count": null,
   "metadata": {
    "id": "nsYtFSlSuqQ8",
    "outputId": "a1ae6de9-f76a-47ad-b4b5-5f498a3ee37f"
   },
   "outputs": [
    {
     "data": {
      "text/plain": [
       "True"
      ]
     },
     "execution_count": 32,
     "metadata": {
      "tags": []
     },
     "output_type": "execute_result"
    }
   ],
   "source": [
    "5 <= 6"
   ]
  },
  {
   "cell_type": "code",
   "execution_count": null,
   "metadata": {
    "id": "CILHXI66uqQ8",
    "outputId": "ea739fd7-635e-4954-cbcc-8d33b8cd86ee"
   },
   "outputs": [
    {
     "data": {
      "text/plain": [
       "False"
      ]
     },
     "execution_count": 33,
     "metadata": {
      "tags": []
     },
     "output_type": "execute_result"
    }
   ],
   "source": [
    "5 < 4"
   ]
  },
  {
   "cell_type": "code",
   "execution_count": null,
   "metadata": {
    "id": "op9j0rSFuqQ8",
    "outputId": "82c71f64-e8ce-4f03-c975-dfe670799de8"
   },
   "outputs": [
    {
     "data": {
      "text/plain": [
       "True"
      ]
     },
     "execution_count": 34,
     "metadata": {
      "tags": []
     },
     "output_type": "execute_result"
    }
   ],
   "source": [
    "# >=\n",
    "\n",
    "5 >= 4"
   ]
  },
  {
   "cell_type": "code",
   "execution_count": null,
   "metadata": {
    "id": "EkRzjCy_uqQ8",
    "outputId": "9b10190c-3839-4969-941a-b2ba1b46fbdd"
   },
   "outputs": [
    {
     "data": {
      "text/plain": [
       "True"
      ]
     },
     "execution_count": 35,
     "metadata": {
      "tags": []
     },
     "output_type": "execute_result"
    }
   ],
   "source": [
    "5 <= 6"
   ]
  },
  {
   "cell_type": "code",
   "execution_count": null,
   "metadata": {
    "id": "Aj9ssOxIuqQ-",
    "outputId": "0bf1f64a-bfff-4dbd-aa21-09649442a4e8"
   },
   "outputs": [
    {
     "data": {
      "text/plain": [
       "False"
      ]
     },
     "execution_count": 36,
     "metadata": {
      "tags": []
     },
     "output_type": "execute_result"
    }
   ],
   "source": [
    "5 <= 4"
   ]
  },
  {
   "cell_type": "markdown",
   "metadata": {
    "id": "h5V64S-vuqQ-"
   },
   "source": [
    "### 4. Membership"
   ]
  },
  {
   "cell_type": "code",
   "execution_count": null,
   "metadata": {
    "id": "V96uOHukuqQ-"
   },
   "outputs": [],
   "source": [
    "s = 'hello! how are you?'"
   ]
  },
  {
   "cell_type": "code",
   "execution_count": null,
   "metadata": {
    "id": "m0mDTQRuuqQ-",
    "outputId": "8472620f-eee6-4ec7-c1a7-5dbbe5a290e1"
   },
   "outputs": [
    {
     "data": {
      "text/plain": [
       "True"
      ]
     },
     "execution_count": 38,
     "metadata": {
      "tags": []
     },
     "output_type": "execute_result"
    }
   ],
   "source": [
    "# in\n",
    "\n",
    "'h' in s"
   ]
  },
  {
   "cell_type": "code",
   "execution_count": null,
   "metadata": {
    "id": "s_zhBodIuqQ_",
    "outputId": "26bb9055-78b3-4653-8c34-333e5d798dcf"
   },
   "outputs": [
    {
     "data": {
      "text/plain": [
       "True"
      ]
     },
     "execution_count": 39,
     "metadata": {
      "tags": []
     },
     "output_type": "execute_result"
    }
   ],
   "source": [
    "'' in s"
   ]
  },
  {
   "cell_type": "code",
   "execution_count": null,
   "metadata": {
    "id": "e0J1NcthuqQ_",
    "outputId": "7c71a85a-6cf3-4efe-a0d2-a6b757a4cbd3"
   },
   "outputs": [
    {
     "data": {
      "text/plain": [
       "True"
      ]
     },
     "execution_count": 40,
     "metadata": {
      "tags": []
     },
     "output_type": "execute_result"
    }
   ],
   "source": [
    "'how' in s"
   ]
  },
  {
   "cell_type": "code",
   "execution_count": null,
   "metadata": {
    "id": "AKvQNWqhuqQ_",
    "outputId": "d8a450ef-fc4d-4b88-ba73-505663996565"
   },
   "outputs": [
    {
     "data": {
      "text/plain": [
       "False"
      ]
     },
     "execution_count": 41,
     "metadata": {
      "tags": []
     },
     "output_type": "execute_result"
    }
   ],
   "source": [
    "# not in\n",
    "\n",
    "'h' not in s"
   ]
  },
  {
   "cell_type": "markdown",
   "metadata": {
    "id": "BImqendruqQ_"
   },
   "source": [
    "### 5. Logical"
   ]
  },
  {
   "cell_type": "code",
   "execution_count": null,
   "metadata": {
    "id": "gox7RycSuqRA"
   },
   "outputs": [],
   "source": [
    "# And\n",
    "\n",
    "a = 0"
   ]
  },
  {
   "cell_type": "code",
   "execution_count": null,
   "metadata": {
    "id": "x0HXItfUuqRA",
    "outputId": "5cafe789-71bb-42c4-bde0-d02239965098"
   },
   "outputs": [
    {
     "data": {
      "text/plain": [
       "0"
      ]
     },
     "execution_count": 43,
     "metadata": {
      "tags": []
     },
     "output_type": "execute_result"
    }
   ],
   "source": [
    "a and 1"
   ]
  },
  {
   "cell_type": "code",
   "execution_count": null,
   "metadata": {
    "id": "gwCNnPLmuqRA",
    "outputId": "0d9008e4-e286-46ee-da7c-89b58c250c03"
   },
   "outputs": [
    {
     "data": {
      "text/plain": [
       "False"
      ]
     },
     "execution_count": 44,
     "metadata": {
      "tags": []
     },
     "output_type": "execute_result"
    }
   ],
   "source": [
    "False and 1"
   ]
  },
  {
   "cell_type": "code",
   "execution_count": null,
   "metadata": {
    "id": "G9VfHm9UuqRB"
   },
   "outputs": [],
   "source": [
    "a = ''"
   ]
  },
  {
   "cell_type": "code",
   "execution_count": null,
   "metadata": {
    "id": "K0xYX47MuqRC",
    "outputId": "4fc532ef-ba78-46fa-f349-8b87bc451fe4"
   },
   "outputs": [
    {
     "data": {
      "text/plain": [
       "''"
      ]
     },
     "execution_count": 46,
     "metadata": {
      "tags": []
     },
     "output_type": "execute_result"
    }
   ],
   "source": [
    "a and 1"
   ]
  },
  {
   "cell_type": "code",
   "execution_count": null,
   "metadata": {
    "id": "utOvZqvTuqRC",
    "outputId": "3d24653a-8971-4e5c-a3e4-baa419e4c245"
   },
   "outputs": [
    {
     "data": {
      "text/plain": [
       "'b'"
      ]
     },
     "execution_count": 47,
     "metadata": {
      "tags": []
     },
     "output_type": "execute_result"
    }
   ],
   "source": [
    "'a' and 'b'"
   ]
  },
  {
   "cell_type": "code",
   "execution_count": 7,
   "metadata": {
    "id": "-ZWjxtzsuqRD",
    "outputId": "8c16d35a-b55e-4ea9-8e0a-f72eafc1eff2"
   },
   "outputs": [
    {
     "data": {
      "text/plain": [
       "98"
      ]
     },
     "execution_count": 7,
     "metadata": {},
     "output_type": "execute_result"
    }
   ],
   "source": [
    "# ord() method\n",
    "\n",
    "ord('b')"
   ]
  },
  {
   "cell_type": "code",
   "execution_count": null,
   "metadata": {
    "id": "bFycSstluqRE",
    "outputId": "768f3072-d23d-458e-8b01-f4749a7059a8"
   },
   "outputs": [
    {
     "data": {
      "text/plain": [
       "65"
      ]
     },
     "execution_count": 49,
     "metadata": {
      "tags": []
     },
     "output_type": "execute_result"
    }
   ],
   "source": [
    "ord('A')"
   ]
  },
  {
   "cell_type": "code",
   "execution_count": null,
   "metadata": {
    "id": "83dGBbhLuqRE",
    "outputId": "e849901e-8062-4e7a-9648-5508cd42d2a0"
   },
   "outputs": [
    {
     "data": {
      "text/plain": [
       "98"
      ]
     },
     "execution_count": 50,
     "metadata": {
      "tags": []
     },
     "output_type": "execute_result"
    }
   ],
   "source": [
    "ord('b')"
   ]
  },
  {
   "cell_type": "code",
   "execution_count": null,
   "metadata": {
    "id": "C4QVDLrSuqRF",
    "outputId": "8ceab7a5-afa5-4214-9972-1a48a39bc1b5"
   },
   "outputs": [
    {
     "data": {
      "text/plain": [
       "98"
      ]
     },
     "execution_count": 51,
     "metadata": {
      "tags": []
     },
     "output_type": "execute_result"
    }
   ],
   "source": [
    "97 and 98"
   ]
  },
  {
   "cell_type": "code",
   "execution_count": null,
   "metadata": {
    "id": "AH1zs0e5uqRF",
    "outputId": "b12b0f28-2e47-4f70-8f33-8cca00ac4519"
   },
   "outputs": [
    {
     "data": {
      "text/plain": [
       "1000010"
      ]
     },
     "execution_count": 52,
     "metadata": {
      "tags": []
     },
     "output_type": "execute_result"
    }
   ],
   "source": [
    "1000001 and 1000010"
   ]
  },
  {
   "cell_type": "code",
   "execution_count": null,
   "metadata": {
    "id": "LbGOP5SCuqRF",
    "outputId": "4089e760-c3fc-4e70-9473-d314b42d6a17"
   },
   "outputs": [
    {
     "data": {
      "text/plain": [
       "9"
      ]
     },
     "execution_count": 53,
     "metadata": {
      "tags": []
     },
     "output_type": "execute_result"
    }
   ],
   "source": [
    "1000010 - 1000001"
   ]
  },
  {
   "cell_type": "code",
   "execution_count": null,
   "metadata": {
    "id": "ltKMA8h6uqRF",
    "outputId": "49631fb0-f55b-4264-c745-ef0633f29738"
   },
   "outputs": [
    {
     "data": {
      "text/plain": [
       "5"
      ]
     },
     "execution_count": 54,
     "metadata": {
      "tags": []
     },
     "output_type": "execute_result"
    }
   ],
   "source": [
    "# or\n",
    "\n",
    "5 or 6"
   ]
  },
  {
   "cell_type": "code",
   "execution_count": null,
   "metadata": {
    "id": "lFaJS0sJuqRF",
    "outputId": "786f0316-9503-491b-dc58-dd1b43fa705f"
   },
   "outputs": [
    {
     "data": {
      "text/plain": [
       "4"
      ]
     },
     "execution_count": 55,
     "metadata": {
      "tags": []
     },
     "output_type": "execute_result"
    }
   ],
   "source": [
    "4 or 5"
   ]
  },
  {
   "cell_type": "code",
   "execution_count": null,
   "metadata": {
    "id": "rmEuzM2muqRG",
    "outputId": "bd7200c2-f5b7-4270-99ec-d7b64500c6ca"
   },
   "outputs": [
    {
     "data": {
      "text/plain": [
       "'h'"
      ]
     },
     "execution_count": 56,
     "metadata": {
      "tags": []
     },
     "output_type": "execute_result"
    }
   ],
   "source": [
    "'' or 'h'"
   ]
  },
  {
   "cell_type": "code",
   "execution_count": null,
   "metadata": {
    "id": "GKyFVBujuqRG",
    "outputId": "84a3c4cb-bee3-40a8-991a-c0a29c5571f6"
   },
   "outputs": [
    {
     "data": {
      "text/plain": [
       "False"
      ]
     },
     "execution_count": 57,
     "metadata": {
      "tags": []
     },
     "output_type": "execute_result"
    }
   ],
   "source": [
    "# not\n",
    "\n",
    "not 5"
   ]
  },
  {
   "cell_type": "code",
   "execution_count": null,
   "metadata": {
    "id": "wUIAZpqpuqRG",
    "outputId": "3829fbb9-d071-41bf-ecf1-fed20dfd98ed"
   },
   "outputs": [
    {
     "data": {
      "text/plain": [
       "False"
      ]
     },
     "execution_count": 58,
     "metadata": {
      "tags": []
     },
     "output_type": "execute_result"
    }
   ],
   "source": [
    "not True"
   ]
  },
  {
   "cell_type": "code",
   "execution_count": null,
   "metadata": {
    "id": "32IyRhN5uqRG",
    "outputId": "34fabaef-afb0-4b2c-eebd-4cd7fd7fa04c"
   },
   "outputs": [
    {
     "data": {
      "text/plain": [
       "True"
      ]
     },
     "execution_count": 59,
     "metadata": {
      "tags": []
     },
     "output_type": "execute_result"
    }
   ],
   "source": [
    "not False"
   ]
  },
  {
   "cell_type": "code",
   "execution_count": null,
   "metadata": {
    "id": "AqlOvlc8uqRH",
    "outputId": "83aa8d88-8be4-4b3a-9d21-cb84e4220fd6"
   },
   "outputs": [
    {
     "data": {
      "text/plain": [
       "False"
      ]
     },
     "execution_count": 60,
     "metadata": {
      "tags": []
     },
     "output_type": "execute_result"
    }
   ],
   "source": [
    "# membership in + logical not\n",
    "\n",
    "not 'h' in s"
   ]
  },
  {
   "cell_type": "code",
   "execution_count": null,
   "metadata": {
    "id": "MjBJnetKuqRH",
    "outputId": "2b0b167d-e6bd-4022-8662-691602333789"
   },
   "outputs": [
    {
     "data": {
      "text/plain": [
       "True"
      ]
     },
     "execution_count": 61,
     "metadata": {
      "tags": []
     },
     "output_type": "execute_result"
    }
   ],
   "source": [
    "'h' in s"
   ]
  },
  {
   "cell_type": "code",
   "execution_count": null,
   "metadata": {
    "id": "aZPvIjcluqRH",
    "outputId": "5ad9cf8a-b523-45fa-aff6-034f7cd931a8"
   },
   "outputs": [
    {
     "name": "stderr",
     "output_type": "stream",
     "text": [
      "<>:3: SyntaxWarning: \"is\" with a literal. Did you mean \"==\"?\n",
      "<>:3: SyntaxWarning: \"is\" with a literal. Did you mean \"==\"?\n",
      "<ipython-input-62-2019a456706b>:3: SyntaxWarning: \"is\" with a literal. Did you mean \"==\"?\n",
      "  'h' is 'h'\n"
     ]
    },
    {
     "data": {
      "text/plain": [
       "True"
      ]
     },
     "execution_count": 62,
     "metadata": {
      "tags": []
     },
     "output_type": "execute_result"
    }
   ],
   "source": [
    "# Identity\n",
    "\n",
    "'h' is 'h'"
   ]
  },
  {
   "cell_type": "code",
   "execution_count": null,
   "metadata": {
    "id": "7oyUZIN-uqRI",
    "outputId": "53ba4fe7-9992-45b8-93c5-3a252b48dc93"
   },
   "outputs": [
    {
     "name": "stderr",
     "output_type": "stream",
     "text": [
      "<>:1: SyntaxWarning: \"is not\" with a literal. Did you mean \"!=\"?\n",
      "<>:1: SyntaxWarning: \"is not\" with a literal. Did you mean \"!=\"?\n",
      "<ipython-input-63-8d5e203efe18>:1: SyntaxWarning: \"is not\" with a literal. Did you mean \"!=\"?\n",
      "  'h' is not 'h'\n"
     ]
    },
    {
     "data": {
      "text/plain": [
       "False"
      ]
     },
     "execution_count": 63,
     "metadata": {
      "tags": []
     },
     "output_type": "execute_result"
    }
   ],
   "source": [
    "'h' is not 'h'"
   ]
  },
  {
   "cell_type": "code",
   "execution_count": null,
   "metadata": {
    "id": "438aCrEUuqRJ",
    "outputId": "45585378-dd52-4deb-8340-d5c68de38105"
   },
   "outputs": [
    {
     "name": "stderr",
     "output_type": "stream",
     "text": [
      "<>:3: SyntaxWarning: \"is not\" with a literal. Did you mean \"!=\"?\n",
      "<>:3: SyntaxWarning: \"is not\" with a literal. Did you mean \"!=\"?\n",
      "<ipython-input-64-c807817628a5>:3: SyntaxWarning: \"is not\" with a literal. Did you mean \"!=\"?\n",
      "  not 'h' is 'h'\n"
     ]
    },
    {
     "data": {
      "text/plain": [
       "False"
      ]
     },
     "execution_count": 64,
     "metadata": {
      "tags": []
     },
     "output_type": "execute_result"
    }
   ],
   "source": [
    "# identity is + logical not\n",
    "\n",
    "not 'h' is 'h'"
   ]
  },
  {
   "cell_type": "code",
   "execution_count": null,
   "metadata": {
    "id": "o0lRwFCzuqRJ",
    "outputId": "af25a9b4-bb87-48c9-f6be-a1b234e3546e"
   },
   "outputs": [
    {
     "name": "stderr",
     "output_type": "stream",
     "text": [
      "<>:1: SyntaxWarning: \"is not\" with a literal. Did you mean \"!=\"?\n",
      "<>:1: SyntaxWarning: \"is not\" with a literal. Did you mean \"!=\"?\n",
      "<ipython-input-65-407bce52bec8>:1: SyntaxWarning: \"is not\" with a literal. Did you mean \"!=\"?\n",
      "  not 'h' is 'k'\n"
     ]
    },
    {
     "data": {
      "text/plain": [
       "True"
      ]
     },
     "execution_count": 65,
     "metadata": {
      "tags": []
     },
     "output_type": "execute_result"
    }
   ],
   "source": [
    "not 'h' is 'k'"
   ]
  },
  {
   "cell_type": "markdown",
   "metadata": {
    "id": "Xn7LFJ5rvr8A"
   },
   "source": [
    "### 7. Bitwise"
   ]
  },
  {
   "cell_type": "code",
   "execution_count": 1,
   "metadata": {
    "colab": {
     "base_uri": "https://localhost:8080/"
    },
    "executionInfo": {
     "elapsed": 931,
     "status": "ok",
     "timestamp": 1616044380472,
     "user": {
      "displayName": "Demo Purpose",
      "photoUrl": "",
      "userId": "12724079362540459699"
     },
     "user_tz": -330
    },
    "id": "Za3Afl6BuqRJ",
    "outputId": "3b93b407-8f14-4fae-f6f0-ae3ff527b048"
   },
   "outputs": [
    {
     "data": {
      "text/plain": [
       "4"
      ]
     },
     "execution_count": 1,
     "metadata": {
      "tags": []
     },
     "output_type": "execute_result"
    }
   ],
   "source": [
    "# Bitwise & - And\n",
    "\n",
    "5 and 4"
   ]
  },
  {
   "cell_type": "code",
   "execution_count": 2,
   "metadata": {
    "colab": {
     "base_uri": "https://localhost:8080/"
    },
    "executionInfo": {
     "elapsed": 892,
     "status": "ok",
     "timestamp": 1616044388171,
     "user": {
      "displayName": "Demo Purpose",
      "photoUrl": "",
      "userId": "12724079362540459699"
     },
     "user_tz": -330
    },
    "id": "Fixmsz2ZwE1k",
    "outputId": "6f75d19e-b003-471c-a373-dfc202033705"
   },
   "outputs": [
    {
     "data": {
      "text/plain": [
       "4"
      ]
     },
     "execution_count": 2,
     "metadata": {
      "tags": []
     },
     "output_type": "execute_result"
    }
   ],
   "source": [
    "5 & 4"
   ]
  },
  {
   "cell_type": "code",
   "execution_count": 3,
   "metadata": {
    "colab": {
     "base_uri": "https://localhost:8080/"
    },
    "executionInfo": {
     "elapsed": 872,
     "status": "ok",
     "timestamp": 1616044609226,
     "user": {
      "displayName": "Demo Purpose",
      "photoUrl": "",
      "userId": "12724079362540459699"
     },
     "user_tz": -330
    },
    "id": "W75qfPnmwGuT",
    "outputId": "d9cb2397-519d-4b00-f32c-b47318f9ef9d"
   },
   "outputs": [
    {
     "data": {
      "text/plain": [
       "0"
      ]
     },
     "execution_count": 3,
     "metadata": {
      "tags": []
     },
     "output_type": "execute_result"
    }
   ],
   "source": [
    "17 & 6"
   ]
  },
  {
   "cell_type": "code",
   "execution_count": 4,
   "metadata": {
    "colab": {
     "base_uri": "https://localhost:8080/"
    },
    "executionInfo": {
     "elapsed": 1115,
     "status": "ok",
     "timestamp": 1616044735221,
     "user": {
      "displayName": "Demo Purpose",
      "photoUrl": "",
      "userId": "12724079362540459699"
     },
     "user_tz": -330
    },
    "id": "jaeyQq3bw8sd",
    "outputId": "d929d303-9a0a-4cb6-fa10-21592cdc46d3"
   },
   "outputs": [
    {
     "data": {
      "text/plain": [
       "5"
      ]
     },
     "execution_count": 4,
     "metadata": {
      "tags": []
     },
     "output_type": "execute_result"
    }
   ],
   "source": [
    "# Bitwise | - OR\n",
    "\n",
    "5 or 4"
   ]
  },
  {
   "cell_type": "code",
   "execution_count": 5,
   "metadata": {
    "colab": {
     "base_uri": "https://localhost:8080/"
    },
    "executionInfo": {
     "elapsed": 898,
     "status": "ok",
     "timestamp": 1616044744267,
     "user": {
      "displayName": "Demo Purpose",
      "photoUrl": "",
      "userId": "12724079362540459699"
     },
     "user_tz": -330
    },
    "id": "bprkGoywxbZi",
    "outputId": "dc56014f-3143-4c24-d7ae-62b10a35a45a"
   },
   "outputs": [
    {
     "data": {
      "text/plain": [
       "5"
      ]
     },
     "execution_count": 5,
     "metadata": {
      "tags": []
     },
     "output_type": "execute_result"
    }
   ],
   "source": [
    "5 | 4"
   ]
  },
  {
   "cell_type": "code",
   "execution_count": 6,
   "metadata": {
    "colab": {
     "base_uri": "https://localhost:8080/"
    },
    "executionInfo": {
     "elapsed": 929,
     "status": "ok",
     "timestamp": 1616045034942,
     "user": {
      "displayName": "Demo Purpose",
      "photoUrl": "",
      "userId": "12724079362540459699"
     },
     "user_tz": -330
    },
    "id": "3cbXEXbBxdqT",
    "outputId": "97ae729d-2f64-4764-8f15-6398a6f88d08"
   },
   "outputs": [
    {
     "data": {
      "text/plain": [
       "1"
      ]
     },
     "execution_count": 6,
     "metadata": {
      "tags": []
     },
     "output_type": "execute_result"
    }
   ],
   "source": [
    "# Bitwise ^ - XOR\n",
    "\n",
    "5 ^ 4"
   ]
  },
  {
   "cell_type": "code",
   "execution_count": 7,
   "metadata": {
    "colab": {
     "base_uri": "https://localhost:8080/"
    },
    "executionInfo": {
     "elapsed": 959,
     "status": "ok",
     "timestamp": 1616045255418,
     "user": {
      "displayName": "Demo Purpose",
      "photoUrl": "",
      "userId": "12724079362540459699"
     },
     "user_tz": -330
    },
    "id": "EwXfryQSyknq",
    "outputId": "c6ec3daa-aba4-4711-b8ad-ce15f9611068"
   },
   "outputs": [
    {
     "data": {
      "text/plain": [
       "22"
      ]
     },
     "execution_count": 7,
     "metadata": {
      "tags": []
     },
     "output_type": "execute_result"
    }
   ],
   "source": [
    "17 ^ 7"
   ]
  },
  {
   "cell_type": "code",
   "execution_count": 8,
   "metadata": {
    "colab": {
     "base_uri": "https://localhost:8080/"
    },
    "executionInfo": {
     "elapsed": 931,
     "status": "ok",
     "timestamp": 1616045396815,
     "user": {
      "displayName": "Demo Purpose",
      "photoUrl": "",
      "userId": "12724079362540459699"
     },
     "user_tz": -330
    },
    "id": "G_iHOSLgzacL",
    "outputId": "c8bd224d-96bc-458a-e74a-f2dd4aca1b85"
   },
   "outputs": [
    {
     "data": {
      "text/plain": [
       "80"
      ]
     },
     "execution_count": 8,
     "metadata": {
      "tags": []
     },
     "output_type": "execute_result"
    }
   ],
   "source": [
    "# Bitwise << - Left Shift\n",
    "\n",
    "5 << 4"
   ]
  },
  {
   "cell_type": "code",
   "execution_count": 9,
   "metadata": {
    "colab": {
     "base_uri": "https://localhost:8080/"
    },
    "executionInfo": {
     "elapsed": 903,
     "status": "ok",
     "timestamp": 1616045616146,
     "user": {
      "displayName": "Demo Purpose",
      "photoUrl": "",
      "userId": "12724079362540459699"
     },
     "user_tz": -330
    },
    "id": "z42a8828z898",
    "outputId": "13960763-24c7-4525-a4f4-c93a62a67665"
   },
   "outputs": [
    {
     "data": {
      "text/plain": [
       "104"
      ]
     },
     "execution_count": 9,
     "metadata": {
      "tags": []
     },
     "output_type": "execute_result"
    }
   ],
   "source": [
    "13 << 3"
   ]
  },
  {
   "cell_type": "code",
   "execution_count": 10,
   "metadata": {
    "colab": {
     "base_uri": "https://localhost:8080/"
    },
    "executionInfo": {
     "elapsed": 907,
     "status": "ok",
     "timestamp": 1616045740574,
     "user": {
      "displayName": "Demo Purpose",
      "photoUrl": "",
      "userId": "12724079362540459699"
     },
     "user_tz": -330
    },
    "id": "XcrpGdMG0yha",
    "outputId": "ac48a2ec-6365-4fef-e2a4-caa17314db27"
   },
   "outputs": [
    {
     "data": {
      "text/plain": [
       "0"
      ]
     },
     "execution_count": 10,
     "metadata": {
      "tags": []
     },
     "output_type": "execute_result"
    }
   ],
   "source": [
    "# Bitwise >> - Right Shift\n",
    "\n",
    "5 >> 4"
   ]
  },
  {
   "cell_type": "code",
   "execution_count": 12,
   "metadata": {
    "colab": {
     "base_uri": "https://localhost:8080/"
    },
    "executionInfo": {
     "elapsed": 932,
     "status": "ok",
     "timestamp": 1616045818828,
     "user": {
      "displayName": "Demo Purpose",
      "photoUrl": "",
      "userId": "12724079362540459699"
     },
     "user_tz": -330
    },
    "id": "EAEYkWpo1Q5m",
    "outputId": "fd3336f4-376a-484f-f7c9-3fb9f30dcff1"
   },
   "outputs": [
    {
     "data": {
      "text/plain": [
       "4"
      ]
     },
     "execution_count": 12,
     "metadata": {
      "tags": []
     },
     "output_type": "execute_result"
    }
   ],
   "source": [
    "17 >> 2"
   ]
  },
  {
   "cell_type": "code",
   "execution_count": 14,
   "metadata": {
    "colab": {
     "base_uri": "https://localhost:8080/"
    },
    "executionInfo": {
     "elapsed": 957,
     "status": "ok",
     "timestamp": 1616045915087,
     "user": {
      "displayName": "Demo Purpose",
      "photoUrl": "",
      "userId": "12724079362540459699"
     },
     "user_tz": -330
    },
    "id": "iJKNn6O41ikL",
    "outputId": "f8a06157-8342-4559-b2d4-8a0f4840705a"
   },
   "outputs": [
    {
     "data": {
      "text/plain": [
       "-6"
      ]
     },
     "execution_count": 14,
     "metadata": {
      "tags": []
     },
     "output_type": "execute_result"
    }
   ],
   "source": [
    "# Bitwise ~\n",
    "\n",
    "~ 5"
   ]
  },
  {
   "cell_type": "code",
   "execution_count": 15,
   "metadata": {
    "colab": {
     "base_uri": "https://localhost:8080/"
    },
    "executionInfo": {
     "elapsed": 880,
     "status": "ok",
     "timestamp": 1616046193918,
     "user": {
      "displayName": "Demo Purpose",
      "photoUrl": "",
      "userId": "12724079362540459699"
     },
     "user_tz": -330
    },
    "id": "v-MCrrLf15Tf",
    "outputId": "b73b8a5d-f20c-4306-81f2-5f40979ab88f"
   },
   "outputs": [
    {
     "data": {
      "text/plain": [
       "-36"
      ]
     },
     "execution_count": 15,
     "metadata": {
      "tags": []
     },
     "output_type": "execute_result"
    }
   ],
   "source": [
    "~ 35"
   ]
  },
  {
   "cell_type": "code",
   "execution_count": 16,
   "metadata": {
    "colab": {
     "base_uri": "https://localhost:8080/"
    },
    "executionInfo": {
     "elapsed": 925,
     "status": "ok",
     "timestamp": 1616046587125,
     "user": {
      "displayName": "Demo Purpose",
      "photoUrl": "",
      "userId": "12724079362540459699"
     },
     "user_tz": -330
    },
    "id": "injwgDTd2_lI",
    "outputId": "cc6664a9-bfd9-4252-d430-6c2ce9e8f225"
   },
   "outputs": [
    {
     "data": {
      "text/plain": [
       "-13"
      ]
     },
     "execution_count": 16,
     "metadata": {
      "tags": []
     },
     "output_type": "execute_result"
    }
   ],
   "source": [
    "~12"
   ]
  },
  {
   "cell_type": "code",
   "execution_count": 17,
   "metadata": {
    "colab": {
     "base_uri": "https://localhost:8080/"
    },
    "executionInfo": {
     "elapsed": 914,
     "status": "ok",
     "timestamp": 1616046606931,
     "user": {
      "displayName": "Demo Purpose",
      "photoUrl": "",
      "userId": "12724079362540459699"
     },
     "user_tz": -330
    },
    "id": "WBYYdRtL4fkS",
    "outputId": "218a3d32-61b0-488e-8e93-eb4b09deebf5"
   },
   "outputs": [
    {
     "data": {
      "text/plain": [
       "-28"
      ]
     },
     "execution_count": 17,
     "metadata": {
      "tags": []
     },
     "output_type": "execute_result"
    }
   ],
   "source": [
    "~27"
   ]
  },
  {
   "cell_type": "code",
   "execution_count": null,
   "metadata": {
    "id": "n09fHB7R4kZ_"
   },
   "outputs": [],
   "source": []
  }
 ],
 "metadata": {
  "colab": {
   "name": "Python_Operators.ipynb",
   "provenance": []
  },
  "kernelspec": {
   "display_name": "Python 3",
   "language": "python",
   "name": "python3"
  },
  "language_info": {
   "codemirror_mode": {
    "name": "ipython",
    "version": 3
   },
   "file_extension": ".py",
   "mimetype": "text/x-python",
   "name": "python",
   "nbconvert_exporter": "python",
   "pygments_lexer": "ipython3",
   "version": "3.8.8"
  }
 },
 "nbformat": 4,
 "nbformat_minor": 1
}
