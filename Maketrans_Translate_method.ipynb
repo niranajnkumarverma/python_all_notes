{
 "cells": [
  {
   "cell_type": "markdown",
   "metadata": {
    "id": "HKlAd033KvwA"
   },
   "source": [
    "# maketrans() and translate() method of string\n",
    "\n",
    "## Translate means convert or change\n",
    "\n",
    "## when a string is called as changed?\n",
    "\n",
    "* ### when we insert or replace word or character in the string\n",
    "* ### when we delete a word or character in the string\n",
    "\n",
    "## 1. translate()\n",
    "\n",
    "## This string method will change the string by replacing or deleting the character.\n",
    "\n",
    "## 2. mmaketrans()\n",
    "\n",
    "## This string method return a translation table usable for str.translate()\n",
    "\n",
    "## What is translation table?\n",
    "* ### The table is 256 characater string giving the translation for each character value indexed by its **ordinals**.\n",
    "## Note: Ordinal means ascii code\n",
    "\n",
    "## To create this table we can use maketrans() method.\n",
    "\n",
    "## syntax: maketrans(x, y=None, z=None) -> second and third arguments are optional\n",
    "\n",
    "* ### If we give one argument, the argument must be a dictionary mapping Unicode ordinals (integers) or character to Unicode ordinals, string or None character keys will be then converted to ordinals.\n",
    "\n",
    "## Note: You can get ordinal of any unicode character by ord() function, i.e.: ord('a') --> 97\n",
    "\n",
    "## Example:\n",
    "## st = 'hello hi how are you'\n",
    "## dic = {'a': 'A', 'h': 'H', 'y': 'Y'}\n",
    "\n",
    "## st.maketrans(dic) -- it will return translation table like this --> {97: 'A', 104: 'H', 121: 'Y'}"
   ]
  },
  {
   "cell_type": "code",
   "execution_count": null,
   "metadata": {
    "id": "_RzdWBHnKjcw"
   },
   "outputs": [],
   "source": [
    "st = 'hi hello how are you'\n",
    "\n",
    "dic = {'a': 'A', 'h': 'H', 'y': 'Y'}\n",
    "\n",
    "# apply maketrans(dic) method on st using dic\n",
    "\n",
    "trans_table = st.maketrans( dic )"
   ]
  },
  {
   "cell_type": "code",
   "execution_count": null,
   "metadata": {
    "colab": {
     "base_uri": "https://localhost:8080/"
    },
    "executionInfo": {
     "elapsed": 877,
     "status": "ok",
     "timestamp": 1618635843707,
     "user": {
      "displayName": "Demo Purpose",
      "photoUrl": "",
      "userId": "12724079362540459699"
     },
     "user_tz": -330
    },
    "id": "ucsCVArbNjlz",
    "outputId": "9218f1c1-8365-492f-8593-88a373eb16b6"
   },
   "outputs": [
    {
     "data": {
      "text/plain": [
       "{97: 'A', 104: 'H', 121: 'Y'}"
      ]
     },
     "execution_count": 3,
     "metadata": {
      "tags": []
     },
     "output_type": "execute_result"
    }
   ],
   "source": [
    "trans_table # translation table as dictionary"
   ]
  },
  {
   "cell_type": "code",
   "execution_count": 3,
   "metadata": {
    "colab": {
     "base_uri": "https://localhost:8080/"
    },
    "executionInfo": {
     "elapsed": 844,
     "status": "ok",
     "timestamp": 1618635923461,
     "user": {
      "displayName": "Demo Purpose",
      "photoUrl": "",
      "userId": "12724079362540459699"
     },
     "user_tz": -330
    },
    "id": "N8eRXV-6NuSX",
    "outputId": "6af94a8b-7363-4c32-a156-9e1621e62d4e"
   },
   "outputs": [
    {
     "data": {
      "text/plain": [
       "97"
      ]
     },
     "execution_count": 3,
     "metadata": {},
     "output_type": "execute_result"
    }
   ],
   "source": [
    "# ord(char) - returns a ascii code\n",
    "\n",
    "ord('a')"
   ]
  },
  {
   "cell_type": "code",
   "execution_count": null,
   "metadata": {
    "colab": {
     "base_uri": "https://localhost:8080/"
    },
    "executionInfo": {
     "elapsed": 688,
     "status": "ok",
     "timestamp": 1618635932616,
     "user": {
      "displayName": "Demo Purpose",
      "photoUrl": "",
      "userId": "12724079362540459699"
     },
     "user_tz": -330
    },
    "id": "N5Ki30K4OBxA",
    "outputId": "40a0f9fa-4758-40d2-9141-949a17b97757"
   },
   "outputs": [
    {
     "data": {
      "text/plain": [
       "104"
      ]
     },
     "execution_count": 5,
     "metadata": {
      "tags": []
     },
     "output_type": "execute_result"
    }
   ],
   "source": [
    "ord('h')"
   ]
  },
  {
   "cell_type": "code",
   "execution_count": null,
   "metadata": {
    "colab": {
     "base_uri": "https://localhost:8080/"
    },
    "executionInfo": {
     "elapsed": 1159,
     "status": "ok",
     "timestamp": 1618636105025,
     "user": {
      "displayName": "Demo Purpose",
      "photoUrl": "",
      "userId": "12724079362540459699"
     },
     "user_tz": -330
    },
    "id": "UvlQYAmcOECn",
    "outputId": "105649ea-0df0-4a0e-ac37-560d9a368e2f"
   },
   "outputs": [
    {
     "name": "stdout",
     "output_type": "stream",
     "text": [
      "In this, keys mentioned as characters \"a\" and \"b\" {'a': 'A', 'h': 'H', 'y': 'Y'}\n",
      "In this, character keys \"a\" and \"b\" will be then converted to ordinals 97 and 98 {97: 'A', 104: 'H', 121: 'Y'}\n"
     ]
    }
   ],
   "source": [
    "print('In this, keys mentioned as characters \"a\" and \"b\"', dic) # dic by us\n",
    "\n",
    "print('In this, character keys \"a\" and \"b\" will be then converted to ordinals 97 and 98', trans_table) # dic by maketrans"
   ]
  },
  {
   "cell_type": "code",
   "execution_count": null,
   "metadata": {
    "id": "spwfK_2vOuBb"
   },
   "outputs": [],
   "source": [
    "st1 = 'hey'\n",
    "st2 = 'HAY'\n",
    "\n",
    "trans = st.maketrans(st1, st2)"
   ]
  },
  {
   "cell_type": "code",
   "execution_count": null,
   "metadata": {
    "colab": {
     "base_uri": "https://localhost:8080/"
    },
    "executionInfo": {
     "elapsed": 1214,
     "status": "ok",
     "timestamp": 1618636147317,
     "user": {
      "displayName": "Demo Purpose",
      "photoUrl": "",
      "userId": "12724079362540459699"
     },
     "user_tz": -330
    },
    "id": "ZV8JXT3vO3OH",
    "outputId": "5d6cae89-b0e7-45b9-81d4-7375a47518fd"
   },
   "outputs": [
    {
     "data": {
      "text/plain": [
       "{101: 65, 104: 72, 121: 89}"
      ]
     },
     "execution_count": 8,
     "metadata": {
      "tags": []
     },
     "output_type": "execute_result"
    }
   ],
   "source": [
    "trans"
   ]
  },
  {
   "cell_type": "code",
   "execution_count": null,
   "metadata": {
    "colab": {
     "base_uri": "https://localhost:8080/",
     "height": 36
    },
    "executionInfo": {
     "elapsed": 1431,
     "status": "ok",
     "timestamp": 1618636170927,
     "user": {
      "displayName": "Demo Purpose",
      "photoUrl": "",
      "userId": "12724079362540459699"
     },
     "user_tz": -330
    },
    "id": "8C-N_mZKO4UF",
    "outputId": "9a1ed1e2-f793-4677-b5d8-ad2c880dbb7b"
   },
   "outputs": [
    {
     "data": {
      "application/vnd.google.colaboratory.intrinsic+json": {
       "type": "string"
      },
      "text/plain": [
       "'Hi HAllo How arA You'"
      ]
     },
     "execution_count": 9,
     "metadata": {
      "tags": []
     },
     "output_type": "execute_result"
    }
   ],
   "source": [
    "st.translate( trans )"
   ]
  },
  {
   "cell_type": "code",
   "execution_count": null,
   "metadata": {
    "colab": {
     "base_uri": "https://localhost:8080/",
     "height": 36
    },
    "executionInfo": {
     "elapsed": 981,
     "status": "ok",
     "timestamp": 1618636227552,
     "user": {
      "displayName": "Demo Purpose",
      "photoUrl": "",
      "userId": "12724079362540459699"
     },
     "user_tz": -330
    },
    "id": "lFgm8UpeO-C0",
    "outputId": "c797c902-009a-4d43-acdf-6740bd438dce"
   },
   "outputs": [
    {
     "data": {
      "application/vnd.google.colaboratory.intrinsic+json": {
       "type": "string"
      },
      "text/plain": [
       "'hi hello how are you'"
      ]
     },
     "execution_count": 10,
     "metadata": {
      "tags": []
     },
     "output_type": "execute_result"
    }
   ],
   "source": [
    "st"
   ]
  },
  {
   "cell_type": "code",
   "execution_count": null,
   "metadata": {
    "colab": {
     "base_uri": "https://localhost:8080/",
     "height": 36
    },
    "executionInfo": {
     "elapsed": 931,
     "status": "ok",
     "timestamp": 1618636289541,
     "user": {
      "displayName": "Demo Purpose",
      "photoUrl": "",
      "userId": "12724079362540459699"
     },
     "user_tz": -330
    },
    "id": "iVIXEx1XPL2c",
    "outputId": "6a8d26a0-9e23-48dc-cd28-3cfbffaec4b2"
   },
   "outputs": [
    {
     "data": {
      "application/vnd.google.colaboratory.intrinsic+json": {
       "type": "string"
      },
      "text/plain": [
       "'hi hEllO hOw aRE yOu'"
      ]
     },
     "execution_count": 12,
     "metadata": {
      "tags": []
     },
     "output_type": "execute_result"
    }
   ],
   "source": [
    "st.translate( st.maketrans('reo', 'REO') )"
   ]
  },
  {
   "cell_type": "code",
   "execution_count": null,
   "metadata": {
    "colab": {
     "base_uri": "https://localhost:8080/"
    },
    "executionInfo": {
     "elapsed": 909,
     "status": "ok",
     "timestamp": 1618636885491,
     "user": {
      "displayName": "Demo Purpose",
      "photoUrl": "",
      "userId": "12724079362540459699"
     },
     "user_tz": -330
    },
    "id": "sLTlSikhPVZm",
    "outputId": "dd966a2d-3a4a-4b4d-af1a-2e3766b1fb04"
   },
   "outputs": [
    {
     "name": "stdout",
     "output_type": "stream",
     "text": [
      "0\n"
     ]
    }
   ],
   "source": [
    "a = 0\n",
    "\n",
    "def abcd():\n",
    "  a = 1\n",
    "\n",
    "abcd()\n",
    "print(a)"
   ]
  },
  {
   "cell_type": "code",
   "execution_count": null,
   "metadata": {
    "colab": {
     "base_uri": "https://localhost:8080/"
    },
    "executionInfo": {
     "elapsed": 860,
     "status": "ok",
     "timestamp": 1618636931218,
     "user": {
      "displayName": "Demo Purpose",
      "photoUrl": "",
      "userId": "12724079362540459699"
     },
     "user_tz": -330
    },
    "id": "U3k0xLJXRsnS",
    "outputId": "ba0dacf2-3b18-40b6-8f90-0b0541e65e06"
   },
   "outputs": [
    {
     "name": "stdout",
     "output_type": "stream",
     "text": [
      "0\n"
     ]
    }
   ],
   "source": [
    "a = 0\n",
    "\n",
    "def abcd():\n",
    "  global a\n",
    "  a = 1\n",
    "\n",
    "print(a)"
   ]
  },
  {
   "cell_type": "code",
   "execution_count": null,
   "metadata": {
    "colab": {
     "base_uri": "https://localhost:8080/"
    },
    "executionInfo": {
     "elapsed": 775,
     "status": "ok",
     "timestamp": 1618636942663,
     "user": {
      "displayName": "Demo Purpose",
      "photoUrl": "",
      "userId": "12724079362540459699"
     },
     "user_tz": -330
    },
    "id": "gmXUmzt5R3yw",
    "outputId": "1a15af2f-6a88-4425-8005-124713a52705"
   },
   "outputs": [
    {
     "name": "stdout",
     "output_type": "stream",
     "text": [
      "1\n"
     ]
    }
   ],
   "source": [
    "a = 0\n",
    "\n",
    "def abcd():\n",
    "  global a\n",
    "  a = 1\n",
    "\n",
    "abcd()\n",
    "print(a)"
   ]
  },
  {
   "cell_type": "code",
   "execution_count": 7,
   "metadata": {
    "id": "lgL7sRXER6mP"
   },
   "outputs": [
    {
     "data": {
      "text/plain": [
       "104"
      ]
     },
     "execution_count": 7,
     "metadata": {},
     "output_type": "execute_result"
    }
   ],
   "source": [
    "ord('h')"
   ]
  },
  {
   "cell_type": "code",
   "execution_count": null,
   "metadata": {},
   "outputs": [],
   "source": []
  }
 ],
 "metadata": {
  "colab": {
   "authorship_tag": "ABX9TyPNMYr2kWfX90NaH3ShAu7Q",
   "name": "Maketrans_Translate_method.ipynb",
   "provenance": []
  },
  "kernelspec": {
   "display_name": "Python 3",
   "language": "python",
   "name": "python3"
  },
  "language_info": {
   "codemirror_mode": {
    "name": "ipython",
    "version": 3
   },
   "file_extension": ".py",
   "mimetype": "text/x-python",
   "name": "python",
   "nbconvert_exporter": "python",
   "pygments_lexer": "ipython3",
   "version": "3.8.8"
  }
 },
 "nbformat": 4,
 "nbformat_minor": 1
}
