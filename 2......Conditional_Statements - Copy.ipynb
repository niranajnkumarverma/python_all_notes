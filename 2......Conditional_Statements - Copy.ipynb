{
 "cells": [
  {
   "cell_type": "markdown",
   "metadata": {
    "id": "b8IkzTnj77Ca"
   },
   "source": [
    "# Conditional Statements\n",
    "\n",
    "## 1. if condition\n",
    "## 2. if...else\n",
    "## 3. if..elif..else\n",
    "## 4. Nested if"
   ]
  },
  {
   "cell_type": "code",
   "execution_count": 11,
   "metadata": {},
   "outputs": [
    {
     "ename": "NameError",
     "evalue": "name 'char' is not defined",
     "output_type": "error",
     "traceback": [
      "\u001b[1;31m---------------------------------------------------------------------------\u001b[0m",
      "\u001b[1;31mNameError\u001b[0m                                 Traceback (most recent call last)",
      "\u001b[1;32m<ipython-input-11-a711a73f0474>\u001b[0m in \u001b[0;36m<module>\u001b[1;34m\u001b[0m\n\u001b[1;32m----> 1\u001b[1;33m \u001b[0mchar\u001b[0m \u001b[1;33m=\u001b[0m \u001b[0mord\u001b[0m\u001b[1;33m(\u001b[0m\u001b[0mchar\u001b[0m\u001b[1;33m(\u001b[0m\u001b[1;36m93\u001b[0m\u001b[1;33m)\u001b[0m\u001b[1;33m)\u001b[0m\u001b[1;33m\u001b[0m\u001b[1;33m\u001b[0m\u001b[0m\n\u001b[0m",
      "\u001b[1;31mNameError\u001b[0m: name 'char' is not defined"
     ]
    }
   ],
   "source": [
    "char = ord(char(93))"
   ]
  },
  {
   "cell_type": "code",
   "execution_count": 1,
   "metadata": {
    "colab": {
     "base_uri": "https://localhost:8080/"
    },
    "executionInfo": {
     "elapsed": 2791,
     "status": "ok",
     "timestamp": 1616047599952,
     "user": {
      "displayName": "Demo Purpose",
      "photoUrl": "",
      "userId": "12724079362540459699"
     },
     "user_tz": -330
    },
    "id": "EKB7fy3C7jyJ",
    "outputId": "a7eb2e23-15e0-4e13-94b2-8aa23e510a94"
   },
   "outputs": [
    {
     "name": "stdout",
     "output_type": "stream",
     "text": [
      "True\n"
     ]
    }
   ],
   "source": [
    "# if\n",
    "\n",
    "if True:\n",
    "  print('True')"
   ]
  },
  {
   "cell_type": "code",
   "execution_count": null,
   "metadata": {},
   "outputs": [],
   "source": []
  },
  {
   "cell_type": "code",
   "execution_count": 2,
   "metadata": {
    "executionInfo": {
     "elapsed": 2114,
     "status": "ok",
     "timestamp": 1616047629177,
     "user": {
      "displayName": "Demo Purpose",
      "photoUrl": "",
      "userId": "12724079362540459699"
     },
     "user_tz": -330
    },
    "id": "2BNcQiGJ8UTd"
   },
   "outputs": [],
   "source": [
    "if 5 < 4:\n",
    "  print('True')"
   ]
  },
  {
   "cell_type": "code",
   "execution_count": 3,
   "metadata": {
    "colab": {
     "base_uri": "https://localhost:8080/"
    },
    "executionInfo": {
     "elapsed": 3204,
     "status": "ok",
     "timestamp": 1616047651209,
     "user": {
      "displayName": "Demo Purpose",
      "photoUrl": "",
      "userId": "12724079362540459699"
     },
     "user_tz": -330
    },
    "id": "58a1DCaX8dsG",
    "outputId": "a9cc9845-aa0a-4221-c5ef-6a86a0c91917"
   },
   "outputs": [
    {
     "name": "stdout",
     "output_type": "stream",
     "text": [
      "True\n"
     ]
    }
   ],
   "source": [
    "if 5 > 4:\n",
    "  print('True')"
   ]
  },
  {
   "cell_type": "code",
   "execution_count": 4,
   "metadata": {
    "colab": {
     "base_uri": "https://localhost:8080/"
    },
    "executionInfo": {
     "elapsed": 1195,
     "status": "ok",
     "timestamp": 1616047674386,
     "user": {
      "displayName": "Demo Purpose",
      "photoUrl": "",
      "userId": "12724079362540459699"
     },
     "user_tz": -330
    },
    "id": "_q1Sjggr8iYM",
    "outputId": "adb89061-d987-4c58-b3d5-2c7d77a83364"
   },
   "outputs": [
    {
     "name": "stdout",
     "output_type": "stream",
     "text": [
      "True\n"
     ]
    }
   ],
   "source": [
    "if 5 >= 4:\n",
    "  print('True')"
   ]
  },
  {
   "cell_type": "code",
   "execution_count": 5,
   "metadata": {
    "colab": {
     "base_uri": "https://localhost:8080/"
    },
    "executionInfo": {
     "elapsed": 11493,
     "status": "ok",
     "timestamp": 1616047953873,
     "user": {
      "displayName": "Demo Purpose",
      "photoUrl": "",
      "userId": "12724079362540459699"
     },
     "user_tz": -330
    },
    "id": "VPgJKt5j8o86",
    "outputId": "b6438f5b-2894-4e4f-a8a4-64b08c2a1b77"
   },
   "outputs": [
    {
     "name": "stdout",
     "output_type": "stream",
     "text": [
      "Enter your Name: hello\n",
      "Sorry hello! You are not allowed to view true block of if statement.\n"
     ]
    }
   ],
   "source": [
    "# input() - built-in method to get a value from user\n",
    "# if..else...\n",
    "\n",
    "abc = input('Enter your Name: ')\n",
    "\n",
    "if abc == 'jaini':\n",
    "  a = 'Welcome {}! This is if statement block.'.format(abc)\n",
    "  print(a)\n",
    "else:\n",
    "  print(f'Sorry {abc}! You are not allowed to view true block of if statement.')"
   ]
  },
  {
   "cell_type": "code",
   "execution_count": 9,
   "metadata": {
    "colab": {
     "base_uri": "https://localhost:8080/"
    },
    "executionInfo": {
     "elapsed": 6088,
     "status": "ok",
     "timestamp": 1616048034828,
     "user": {
      "displayName": "Demo Purpose",
      "photoUrl": "",
      "userId": "12724079362540459699"
     },
     "user_tz": -330
    },
    "id": "-T6XnRXB9e2U",
    "outputId": "ae3eaccd-4c56-4bc5-8898-dcc4d7defcac"
   },
   "outputs": [
    {
     "name": "stdout",
     "output_type": "stream",
     "text": [
      "Enter your Name: JaInI\n",
      "Welcome Jaini! This is if statement block.\n"
     ]
    }
   ],
   "source": [
    "abc = input('Enter your Name: ')\n",
    "\n",
    "if abc.lower() == 'jaini':\n",
    "  a = 'Welcome {}! This is if statement block.'.format(abc.capitalize())\n",
    "  print(a)\n",
    "else:\n",
    "  print(f'Sorry {abc}! You are not allowed to view true block of if statement.')"
   ]
  },
  {
   "cell_type": "code",
   "execution_count": 11,
   "metadata": {
    "colab": {
     "base_uri": "https://localhost:8080/"
    },
    "executionInfo": {
     "elapsed": 11724,
     "status": "ok",
     "timestamp": 1616048249585,
     "user": {
      "displayName": "Demo Purpose",
      "photoUrl": "",
      "userId": "12724079362540459699"
     },
     "user_tz": -330
    },
    "id": "ArgOvkv7941c",
    "outputId": "94a9109b-f34f-4891-ff10-0f430971ba00"
   },
   "outputs": [
    {
     "name": "stdout",
     "output_type": "stream",
     "text": [
      "Enter your Name:   j a   in       i     \n",
      "Welcome Jaini! This is if statement block.\n"
     ]
    }
   ],
   "source": [
    "# if an user puts white spaces in input box\n",
    "\n",
    "abc = input('Enter your Name: ')\n",
    "abc = abc.lower()\n",
    "\n",
    "abc = ''.join(abc.split())\n",
    "\n",
    "if abc == 'jaini':\n",
    "  a = 'Welcome {}! This is if statement block.'.format(abc.capitalize())\n",
    "  print(a)\n",
    "else:\n",
    "  print(f'Sorry {abc}! You are not allowed to view true block of if statement.')"
   ]
  },
  {
   "cell_type": "code",
   "execution_count": 15,
   "metadata": {
    "colab": {
     "base_uri": "https://localhost:8080/"
    },
    "executionInfo": {
     "elapsed": 29880,
     "status": "ok",
     "timestamp": 1616048780763,
     "user": {
      "displayName": "Demo Purpose",
      "photoUrl": "",
      "userId": "12724079362540459699"
     },
     "user_tz": -330
    },
    "id": "lR7fjfzy-p21",
    "outputId": "5d4bb346-08c3-400f-9afa-5b04e3ef2b6d"
   },
   "outputs": [
    {
     "name": "stdout",
     "output_type": "stream",
     "text": [
      "Enter your Name: veer\n",
      "Yes e is found in veer\n"
     ]
    }
   ],
   "source": [
    "# if...elif...else\n",
    "\n",
    "# find vowels in given name\n",
    "\n",
    "name = input('Enter your Name: ')\n",
    "msg = 'Yes {} is found in {}'\n",
    "\n",
    "if 'a' in name:\n",
    "  print(msg.format('a', name))\n",
    "elif 'e' in name:\n",
    "  print(msg.format('e', name))"
   ]
  },
  {
   "cell_type": "code",
   "execution_count": 34,
   "metadata": {
    "colab": {
     "base_uri": "https://localhost:8080/"
    },
    "executionInfo": {
     "elapsed": 12066,
     "status": "ok",
     "timestamp": 1616050217965,
     "user": {
      "displayName": "Demo Purpose",
      "photoUrl": "",
      "userId": "12724079362540459699"
     },
     "user_tz": -330
    },
    "id": "3bJdyFLFBnYt",
    "outputId": "d9a1201a-976a-4fc9-f9d4-e21c74ca590d"
   },
   "outputs": [
    {
     "name": "stdout",
     "output_type": "stream",
     "text": [
      "Enter your Name: jaini\n",
      "Which vowel you would like to find? Options: ['a', 'e', 'i', 'o', 'u'] a\n",
      "Yes a is found in jaini -->>> j[a]ini\n"
     ]
    }
   ],
   "source": [
    "# nested if..else\n",
    "# find vowel in given name and highlight that vowel in name\n",
    "\n",
    "name = input('Enter your Name: ')\n",
    "vowel_set = 'aeiou'\n",
    "find_char = input(f'Which vowel you would like to find? Options: {[*vowel_set]} ')\n",
    "msg = 'Yes {} is found in {} -->>> {}'\n",
    "\n",
    "if find_char in vowel_set:\n",
    "  if find_char in name:\n",
    "    index = name.find(find_char)\n",
    "\n",
    "    n = f\"{name[:index]}[{find_char}]{name[index+1:]}\"\n",
    "    \n",
    "    print(msg.format(find_char, name, n))\n",
    "  else:\n",
    "    print(f'{find_char} not found in {name}')\n",
    "else:\n",
    "  print('Sorry! you can find vowels only.')"
   ]
  },
  {
   "cell_type": "code",
   "execution_count": 16,
   "metadata": {},
   "outputs": [
    {
     "data": {
      "text/plain": [
       "'A'"
      ]
     },
     "execution_count": 16,
     "metadata": {},
     "output_type": "execute_result"
    }
   ],
   "source": [
    "chr(65)"
   ]
  },
  {
   "cell_type": "code",
   "execution_count": 17,
   "metadata": {},
   "outputs": [
    {
     "data": {
      "text/plain": [
       "114"
      ]
     },
     "execution_count": 17,
     "metadata": {},
     "output_type": "execute_result"
    }
   ],
   "source": [
    "ord('r')"
   ]
  },
  {
   "cell_type": "code",
   "execution_count": 22,
   "metadata": {},
   "outputs": [
    {
     "name": "stdout",
     "output_type": "stream",
     "text": [
      "     March 2021\n",
      "Mo Tu We Th Fr Sa Su\n",
      " 1  2  3  4  5  6  7\n",
      " 8  9 10 11 12 13 14\n",
      "15 16 17 18 19 20 21\n",
      "22 23 24 25 26 27 28\n",
      "29 30 31\n",
      "\n"
     ]
    }
   ],
   "source": [
    "import calendar\n",
    "yy = 2021\n",
    "mm = 3\n",
    "print(calendar.month(yy,mm))"
   ]
  },
  {
   "cell_type": "code",
   "execution_count": 23,
   "metadata": {},
   "outputs": [
    {
     "name": "stdout",
     "output_type": "stream",
     "text": [
      "False\n",
      "None\n",
      "True\n",
      "and\n",
      "as\n",
      "assert\n",
      "async\n",
      "await\n",
      "break\n",
      "class\n",
      "continue\n",
      "def\n",
      "del\n",
      "elif\n",
      "else\n",
      "except\n",
      "finally\n",
      "for\n",
      "from\n",
      "global\n",
      "if\n",
      "import\n",
      "in\n",
      "is\n",
      "lambda\n",
      "nonlocal\n",
      "not\n",
      "or\n",
      "pass\n",
      "raise\n",
      "return\n",
      "try\n",
      "while\n",
      "with\n",
      "yield\n"
     ]
    }
   ],
   "source": [
    "import keyword\n",
    "s = keyword.kwlist\n",
    "for key in s:\n",
    "    print(key)"
   ]
  },
  {
   "cell_type": "code",
   "execution_count": 24,
   "metadata": {},
   "outputs": [],
   "source": [
    "list = [1,2,3,4,5,6]"
   ]
  },
  {
   "cell_type": "code",
   "execution_count": 25,
   "metadata": {},
   "outputs": [
    {
     "name": "stdout",
     "output_type": "stream",
     "text": [
      "[1, 2, 3, 4, 5, 6]\n"
     ]
    }
   ],
   "source": [
    "print(list)"
   ]
  },
  {
   "cell_type": "code",
   "execution_count": 29,
   "metadata": {},
   "outputs": [],
   "source": [
    "list.remove(1)"
   ]
  },
  {
   "cell_type": "code",
   "execution_count": 30,
   "metadata": {},
   "outputs": [
    {
     "name": "stdout",
     "output_type": "stream",
     "text": [
      "[2, 3, 4, 5, 6]\n"
     ]
    }
   ],
   "source": [
    "print(list)"
   ]
  },
  {
   "cell_type": "code",
   "execution_count": 39,
   "metadata": {},
   "outputs": [],
   "source": [
    "del list[3]"
   ]
  },
  {
   "cell_type": "code",
   "execution_count": 40,
   "metadata": {},
   "outputs": [
    {
     "name": "stdout",
     "output_type": "stream",
     "text": [
      "[2, 3, 4, 6]\n"
     ]
    }
   ],
   "source": [
    "print(list)"
   ]
  },
  {
   "cell_type": "code",
   "execution_count": 42,
   "metadata": {},
   "outputs": [
    {
     "data": {
      "text/plain": [
       "6"
      ]
     },
     "execution_count": 42,
     "metadata": {},
     "output_type": "execute_result"
    }
   ],
   "source": [
    "list.pop(3)"
   ]
  },
  {
   "cell_type": "code",
   "execution_count": 43,
   "metadata": {},
   "outputs": [
    {
     "name": "stdout",
     "output_type": "stream",
     "text": [
      "[2, 3, 4]\n"
     ]
    }
   ],
   "source": [
    "print(list)"
   ]
  },
  {
   "cell_type": "code",
   "execution_count": 44,
   "metadata": {},
   "outputs": [
    {
     "name": "stdout",
     "output_type": "stream",
     "text": [
      "2021-08-31 01:18:48.387520\n"
     ]
    }
   ],
   "source": [
    "import datetime\n",
    "x = datetime.datetime.now()\n",
    "print(x)"
   ]
  },
  {
   "cell_type": "code",
   "execution_count": 49,
   "metadata": {},
   "outputs": [
    {
     "name": "stdout",
     "output_type": "stream",
     "text": [
      "hello my name is niranjan\n"
     ]
    }
   ],
   "source": [
    "class person:\n",
    "    \n",
    "    def __init__(self,name):\n",
    "      self.name = name\n",
    "    \n",
    "    def hello(self):\n",
    "        print('hello my name is',self.name)\n",
    "    \n",
    "    \n",
    "p1 = person('niranjan')   \n",
    "\n",
    "p1.hello()"
   ]
  },
  {
   "cell_type": "code",
   "execution_count": 89,
   "metadata": {},
   "outputs": [
    {
     "name": "stdout",
     "output_type": "stream",
     "text": [
      "car model is 7\n",
      "car name is BMW\n",
      "20000000\n"
     ]
    },
    {
     "data": {
      "text/plain": [
       "<__main__.car at 0x1ad0dad2ca0>"
      ]
     },
     "execution_count": 89,
     "metadata": {},
     "output_type": "execute_result"
    }
   ],
   "source": [
    "class car:\n",
    "    def __init__(self,name,model,price):\n",
    "        self.name = name\n",
    "        self.model = model\n",
    "        self.price = price\n",
    "    def giveName(self):\n",
    "            print('car name is',self.name)\n",
    "            return self\n",
    "    def giveModel(self):\n",
    "            print('car model is',self.model)\n",
    "            return self\n",
    "    def givePrice(self):\n",
    "            print(self.price)\n",
    "            return self\n",
    "\n",
    "p1 = car(name=\"BMW\",model=7,price=20000000)\n",
    "p1.giveModel().giveName().givePrice()\n"
   ]
  },
  {
   "cell_type": "code",
   "execution_count": 81,
   "metadata": {},
   "outputs": [
    {
     "name": "stdout",
     "output_type": "stream",
     "text": [
      "yo\n",
      "15\n"
     ]
    },
    {
     "data": {
      "text/plain": [
       "<__main__.schema at 0x1ad0dad2760>"
      ]
     },
     "execution_count": 81,
     "metadata": {},
     "output_type": "execute_result"
    }
   ],
   "source": [
    "class schema:\n",
    "    def __init__(self,name,age):\n",
    "        self.name = name \n",
    "        self.age = age\n",
    "    def giveName(self):\n",
    "        print(self.name)\n",
    "        return self\n",
    "    def giveAge(self):\n",
    "        print(self.age)\n",
    "        return self\n",
    "\n",
    "obj = schema(name=\"yo\",age=15)\n",
    "obj.giveName().giveAge()"
   ]
  },
  {
   "cell_type": "code",
   "execution_count": null,
   "metadata": {},
   "outputs": [],
   "source": []
  }
 ],
 "metadata": {
  "colab": {
   "name": "Conditional_Statements.ipynb",
   "provenance": []
  },
  "kernelspec": {
   "display_name": "Python 3",
   "language": "python",
   "name": "python3"
  },
  "language_info": {
   "codemirror_mode": {
    "name": "ipython",
    "version": 3
   },
   "file_extension": ".py",
   "mimetype": "text/x-python",
   "name": "python",
   "nbconvert_exporter": "python",
   "pygments_lexer": "ipython3",
   "version": "3.8.8"
  }
 },
 "nbformat": 4,
 "nbformat_minor": 1
}
