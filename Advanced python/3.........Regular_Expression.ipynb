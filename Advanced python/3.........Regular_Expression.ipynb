{
 "cells": [
  {
   "cell_type": "markdown",
   "metadata": {
    "id": "seYFcGgdAEHL"
   },
   "source": [
    "# Regular Expression\n",
    "\n",
    "## What is Regular Expression?\n",
    "\n",
    "> ### A regular expression in a programming language is a special text string used for describing a search pattern. It is extremely useful for extracting information from text such as code, files, log, spreadsheets or even documents.\n",
    "\n",
    "### To use regexp, we need to import it.\n",
    "### >> import re\n",
    "* #### \"re\" module included with python primarily used for string searching and manupulation.\n",
    "* #### Also frequently for web page \"Scraping\" (extract large amount of data from websites).\n",
    "\n",
    "### Main important methods of regexp?\n",
    "* #### compile()\n",
    "* #### match()\n",
    "* #### search()\n",
    "* #### finditer()\n",
    "* #### findall()\n",
    "* #### sub()\n",
    "* #### split()\n",
    "\n",
    "\n",
    "### Syntax:\n",
    "### >> import re\n",
    "### >> re.match(pattern, string, flags=) - flag is optional"
   ]
  },
  {
   "cell_type": "code",
   "execution_count": null,
   "metadata": {
    "id": "Ze8BU4iC_qyg"
   },
   "outputs": [],
   "source": [
    "# import regexp\n",
    "\n",
    "import re"
   ]
  },
  {
   "cell_type": "code",
   "execution_count": null,
   "metadata": {
    "id": "34jePfqZBisP"
   },
   "outputs": [],
   "source": [
    "multiline_string = \"\"\"\n",
    "hello!\n",
    "hi, how are you?\n",
    "\n",
    "all fine, you say.\n",
    "\n",
    "abcdefghijklmnopqrstuvwxyz\n",
    "ABCDEFGHIJKLMNOPQRSTUVWXYZ\n",
    "0123456789\n",
    "\n",
    "meta characters\n",
    ". ^ + * ? ( ) [ ] { } / |\n",
    "\n",
    "email\n",
    "jaini@gmail.com\n",
    "kapil.jangid@tops-int.com\n",
    "\n",
    "urls\n",
    "https://www.tops-int.com/\n",
    "https://typhit.codweb.in/site\n",
    "\n",
    "numbers\n",
    "8987-89-1546\n",
    "6456.9879.6987.9875\n",
    "\"\"\"\n",
    "\n",
    "single_line = \"this is a simple single line string.\""
   ]
  },
  {
   "cell_type": "code",
   "execution_count": null,
   "metadata": {
    "colab": {
     "base_uri": "https://localhost:8080/"
    },
    "executionInfo": {
     "elapsed": 677,
     "status": "ok",
     "timestamp": 1619672988057,
     "user": {
      "displayName": "Demo Purpose",
      "photoUrl": "",
      "userId": "12724079362540459699"
     },
     "user_tz": -330
    },
    "id": "grRZVlSuCFeQ",
    "outputId": "681ad973-2ece-4fe9-d6ce-b0a0f6e321c5"
   },
   "outputs": [
    {
     "data": {
      "text/plain": [
       "['A',\n",
       " 'ASCII',\n",
       " 'DEBUG',\n",
       " 'DOTALL',\n",
       " 'I',\n",
       " 'IGNORECASE',\n",
       " 'L',\n",
       " 'LOCALE',\n",
       " 'M',\n",
       " 'MULTILINE',\n",
       " 'Match',\n",
       " 'Pattern',\n",
       " 'RegexFlag',\n",
       " 'S',\n",
       " 'Scanner',\n",
       " 'T',\n",
       " 'TEMPLATE',\n",
       " 'U',\n",
       " 'UNICODE',\n",
       " 'VERBOSE',\n",
       " 'X',\n",
       " '_MAXCACHE',\n",
       " '__all__',\n",
       " '__builtins__',\n",
       " '__cached__',\n",
       " '__doc__',\n",
       " '__file__',\n",
       " '__loader__',\n",
       " '__name__',\n",
       " '__package__',\n",
       " '__spec__',\n",
       " '__version__',\n",
       " '_cache',\n",
       " '_compile',\n",
       " '_compile_repl',\n",
       " '_expand',\n",
       " '_locale',\n",
       " '_pickle',\n",
       " '_special_chars_map',\n",
       " '_subx',\n",
       " 'compile',\n",
       " 'copyreg',\n",
       " 'enum',\n",
       " 'error',\n",
       " 'escape',\n",
       " 'findall',\n",
       " 'finditer',\n",
       " 'fullmatch',\n",
       " 'functools',\n",
       " 'match',\n",
       " 'purge',\n",
       " 'search',\n",
       " 'split',\n",
       " 'sre_compile',\n",
       " 'sre_parse',\n",
       " 'sub',\n",
       " 'subn',\n",
       " 'template']"
      ]
     },
     "execution_count": 3,
     "metadata": {
      "tags": []
     },
     "output_type": "execute_result"
    }
   ],
   "source": [
    "dir(re)"
   ]
  },
  {
   "cell_type": "code",
   "execution_count": null,
   "metadata": {
    "colab": {
     "base_uri": "https://localhost:8080/"
    },
    "executionInfo": {
     "elapsed": 1054,
     "status": "ok",
     "timestamp": 1619673100543,
     "user": {
      "displayName": "Demo Purpose",
      "photoUrl": "",
      "userId": "12724079362540459699"
     },
     "user_tz": -330
    },
    "id": "7XZxAbOKCHDo",
    "outputId": "935bc8c7-3018-426f-b74f-41938fa8dc78"
   },
   "outputs": [
    {
     "name": "stdout",
     "output_type": "stream",
     "text": [
      "Help on function compile in module re:\n",
      "\n",
      "compile(pattern, flags=0)\n",
      "    Compile a regular expression pattern, returning a Pattern object.\n",
      "\n"
     ]
    }
   ],
   "source": [
    "help(re.compile)"
   ]
  },
  {
   "cell_type": "code",
   "execution_count": null,
   "metadata": {
    "id": "7KotE9yeCiwd"
   },
   "outputs": [],
   "source": [
    "pattern = re.compile(r'you?')"
   ]
  },
  {
   "cell_type": "code",
   "execution_count": null,
   "metadata": {
    "colab": {
     "base_uri": "https://localhost:8080/"
    },
    "executionInfo": {
     "elapsed": 1051,
     "status": "ok",
     "timestamp": 1619673205922,
     "user": {
      "displayName": "Demo Purpose",
      "photoUrl": "",
      "userId": "12724079362540459699"
     },
     "user_tz": -330
    },
    "id": "ngY4XWS9C7ZF",
    "outputId": "30bb9729-8bd2-47e6-ec0e-6a234b245e52"
   },
   "outputs": [
    {
     "data": {
      "text/plain": [
       "re.compile(r'you?', re.UNICODE)"
      ]
     },
     "execution_count": 6,
     "metadata": {
      "tags": []
     },
     "output_type": "execute_result"
    }
   ],
   "source": [
    "pattern"
   ]
  },
  {
   "cell_type": "code",
   "execution_count": null,
   "metadata": {
    "colab": {
     "base_uri": "https://localhost:8080/"
    },
    "executionInfo": {
     "elapsed": 1161,
     "status": "ok",
     "timestamp": 1619673292098,
     "user": {
      "displayName": "Demo Purpose",
      "photoUrl": "",
      "userId": "12724079362540459699"
     },
     "user_tz": -330
    },
    "id": "3jG56hl3C8SJ",
    "outputId": "4612cb1b-0483-4db9-db2a-8edbd25a35a8"
   },
   "outputs": [
    {
     "name": "stdout",
     "output_type": "stream",
     "text": [
      "Help on built-in function finditer:\n",
      "\n",
      "finditer(string, pos=0, endpos=9223372036854775807) method of re.Pattern instance\n",
      "    Return an iterator over all non-overlapping matches for the RE pattern in string.\n",
      "    \n",
      "    For each match, the iterator returns a match object.\n",
      "\n"
     ]
    }
   ],
   "source": [
    "help(pattern.finditer)"
   ]
  },
  {
   "cell_type": "code",
   "execution_count": null,
   "metadata": {
    "id": "YqoZdEEdDRhC"
   },
   "outputs": [],
   "source": [
    "matched_str = pattern.finditer(multiline_string)"
   ]
  },
  {
   "cell_type": "code",
   "execution_count": null,
   "metadata": {
    "colab": {
     "base_uri": "https://localhost:8080/"
    },
    "executionInfo": {
     "elapsed": 1043,
     "status": "ok",
     "timestamp": 1619673394798,
     "user": {
      "displayName": "Demo Purpose",
      "photoUrl": "",
      "userId": "12724079362540459699"
     },
     "user_tz": -330
    },
    "id": "DF_yE0XwDpJW",
    "outputId": "a38aac1a-5fd4-4174-bed0-da968b80b685"
   },
   "outputs": [
    {
     "data": {
      "text/plain": [
       "<callable_iterator at 0x7f3fcc18d890>"
      ]
     },
     "execution_count": 9,
     "metadata": {
      "tags": []
     },
     "output_type": "execute_result"
    }
   ],
   "source": [
    "matched_str"
   ]
  },
  {
   "cell_type": "code",
   "execution_count": null,
   "metadata": {
    "colab": {
     "base_uri": "https://localhost:8080/"
    },
    "executionInfo": {
     "elapsed": 1013,
     "status": "ok",
     "timestamp": 1619673419444,
     "user": {
      "displayName": "Demo Purpose",
      "photoUrl": "",
      "userId": "12724079362540459699"
     },
     "user_tz": -330
    },
    "id": "0AS8812iDqiu",
    "outputId": "91896be2-9556-486c-b18d-1ddafcedcc44"
   },
   "outputs": [
    {
     "name": "stdout",
     "output_type": "stream",
     "text": [
      "<re.Match object; span=(20, 23), match='you'>\n",
      "<re.Match object; span=(36, 39), match='you'>\n"
     ]
    }
   ],
   "source": [
    "for i in matched_str:\n",
    "  print(i)"
   ]
  },
  {
   "cell_type": "code",
   "execution_count": null,
   "metadata": {
    "colab": {
     "base_uri": "https://localhost:8080/",
     "height": 36
    },
    "executionInfo": {
     "elapsed": 898,
     "status": "ok",
     "timestamp": 1619673452009,
     "user": {
      "displayName": "Demo Purpose",
      "photoUrl": "",
      "userId": "12724079362540459699"
     },
     "user_tz": -330
    },
    "id": "A0YMTaGMDwo8",
    "outputId": "30396b92-9ecf-4163-ed6e-c97e2f2d3d03"
   },
   "outputs": [
    {
     "data": {
      "application/vnd.google.colaboratory.intrinsic+json": {
       "type": "string"
      },
      "text/plain": [
       "'you'"
      ]
     },
     "execution_count": 11,
     "metadata": {
      "tags": []
     },
     "output_type": "execute_result"
    }
   ],
   "source": [
    "multiline_string[20:23]"
   ]
  },
  {
   "cell_type": "code",
   "execution_count": null,
   "metadata": {
    "colab": {
     "base_uri": "https://localhost:8080/",
     "height": 36
    },
    "executionInfo": {
     "elapsed": 1131,
     "status": "ok",
     "timestamp": 1619673466600,
     "user": {
      "displayName": "Demo Purpose",
      "photoUrl": "",
      "userId": "12724079362540459699"
     },
     "user_tz": -330
    },
    "id": "cpvcpubED4na",
    "outputId": "646847ae-c4e5-42cf-e68c-158ac4d25c50"
   },
   "outputs": [
    {
     "data": {
      "application/vnd.google.colaboratory.intrinsic+json": {
       "type": "string"
      },
      "text/plain": [
       "'you'"
      ]
     },
     "execution_count": 12,
     "metadata": {
      "tags": []
     },
     "output_type": "execute_result"
    }
   ],
   "source": [
    "multiline_string[36:39]"
   ]
  },
  {
   "cell_type": "code",
   "execution_count": null,
   "metadata": {
    "id": "MLzu4UPQD8ID"
   },
   "outputs": [],
   "source": [
    "# test method\n",
    "\n",
    "def test(st, src):\n",
    "  pattern = re.compile(f\"{st}\")\n",
    "  matched = pattern.finditer( src )\n",
    "\n",
    "  return [ i for i in matched ]"
   ]
  },
  {
   "cell_type": "code",
   "execution_count": null,
   "metadata": {
    "id": "pmHSKnXVEW9A"
   },
   "outputs": [],
   "source": [
    "result = test('hello', multiline_string)"
   ]
  },
  {
   "cell_type": "code",
   "execution_count": null,
   "metadata": {
    "colab": {
     "base_uri": "https://localhost:8080/"
    },
    "executionInfo": {
     "elapsed": 914,
     "status": "ok",
     "timestamp": 1619673605259,
     "user": {
      "displayName": "Demo Purpose",
      "photoUrl": "",
      "userId": "12724079362540459699"
     },
     "user_tz": -330
    },
    "id": "84hgpHOzEdIy",
    "outputId": "d8ac7e5a-f761-4113-f9ae-c5fc398ea0b7"
   },
   "outputs": [
    {
     "data": {
      "text/plain": [
       "[<re.Match object; span=(1, 6), match='hello'>]"
      ]
     },
     "execution_count": 15,
     "metadata": {
      "tags": []
     },
     "output_type": "execute_result"
    }
   ],
   "source": [
    "result"
   ]
  },
  {
   "cell_type": "code",
   "execution_count": null,
   "metadata": {
    "id": "ixT8bfVqEeCG"
   },
   "outputs": [],
   "source": [
    "result = test('h', multiline_string)"
   ]
  },
  {
   "cell_type": "code",
   "execution_count": null,
   "metadata": {
    "colab": {
     "base_uri": "https://localhost:8080/"
    },
    "executionInfo": {
     "elapsed": 1209,
     "status": "ok",
     "timestamp": 1619673654264,
     "user": {
      "displayName": "Demo Purpose",
      "photoUrl": "",
      "userId": "12724079362540459699"
     },
     "user_tz": -330
    },
    "id": "qL8ZDjXQEpGX",
    "outputId": "24a9e786-3dd0-47bd-94f8-c3c0320d6edc"
   },
   "outputs": [
    {
     "data": {
      "text/plain": [
       "[<re.Match object; span=(1, 2), match='h'>,\n",
       " <re.Match object; span=(8, 9), match='h'>,\n",
       " <re.Match object; span=(12, 13), match='h'>,\n",
       " <re.Match object; span=(53, 54), match='h'>,\n",
       " <re.Match object; span=(118, 119), match='h'>]"
      ]
     },
     "execution_count": 17,
     "metadata": {
      "tags": []
     },
     "output_type": "execute_result"
    }
   ],
   "source": [
    "result"
   ]
  },
  {
   "cell_type": "code",
   "execution_count": null,
   "metadata": {
    "colab": {
     "base_uri": "https://localhost:8080/"
    },
    "executionInfo": {
     "elapsed": 1116,
     "status": "ok",
     "timestamp": 1619673725063,
     "user": {
      "displayName": "Demo Purpose",
      "photoUrl": "",
      "userId": "12724079362540459699"
     },
     "user_tz": -330
    },
    "id": "2RATJFhxEp5M",
    "outputId": "56e42f81-b7c0-4d63-a2ef-e79531c4d4e5"
   },
   "outputs": [
    {
     "data": {
      "text/plain": [
       "[<re.Match object; span=(100, 101), match='0'>,\n",
       " <re.Match object; span=(101, 102), match='1'>,\n",
       " <re.Match object; span=(102, 103), match='2'>,\n",
       " <re.Match object; span=(103, 104), match='3'>,\n",
       " <re.Match object; span=(104, 105), match='4'>,\n",
       " <re.Match object; span=(105, 106), match='5'>,\n",
       " <re.Match object; span=(106, 107), match='6'>,\n",
       " <re.Match object; span=(107, 108), match='7'>,\n",
       " <re.Match object; span=(108, 109), match='8'>,\n",
       " <re.Match object; span=(109, 110), match='9'>,\n",
       " <re.Match object; span=(163, 164), match='8'>,\n",
       " <re.Match object; span=(164, 165), match='9'>,\n",
       " <re.Match object; span=(165, 166), match='8'>,\n",
       " <re.Match object; span=(166, 167), match='7'>,\n",
       " <re.Match object; span=(168, 169), match='8'>,\n",
       " <re.Match object; span=(169, 170), match='9'>,\n",
       " <re.Match object; span=(171, 172), match='1'>,\n",
       " <re.Match object; span=(172, 173), match='5'>,\n",
       " <re.Match object; span=(173, 174), match='4'>,\n",
       " <re.Match object; span=(174, 175), match='6'>,\n",
       " <re.Match object; span=(176, 177), match='6'>,\n",
       " <re.Match object; span=(177, 178), match='4'>,\n",
       " <re.Match object; span=(178, 179), match='5'>,\n",
       " <re.Match object; span=(179, 180), match='6'>,\n",
       " <re.Match object; span=(181, 182), match='9'>,\n",
       " <re.Match object; span=(182, 183), match='8'>,\n",
       " <re.Match object; span=(183, 184), match='7'>,\n",
       " <re.Match object; span=(184, 185), match='9'>,\n",
       " <re.Match object; span=(186, 187), match='6'>,\n",
       " <re.Match object; span=(187, 188), match='9'>,\n",
       " <re.Match object; span=(188, 189), match='8'>,\n",
       " <re.Match object; span=(189, 190), match='7'>,\n",
       " <re.Match object; span=(191, 192), match='9'>,\n",
       " <re.Match object; span=(192, 193), match='8'>,\n",
       " <re.Match object; span=(193, 194), match='7'>,\n",
       " <re.Match object; span=(194, 195), match='5'>]"
      ]
     },
     "execution_count": 18,
     "metadata": {
      "tags": []
     },
     "output_type": "execute_result"
    }
   ],
   "source": [
    "# for numbers\n",
    "\n",
    "test('\\d', multiline_string)"
   ]
  },
  {
   "cell_type": "code",
   "execution_count": null,
   "metadata": {
    "colab": {
     "base_uri": "https://localhost:8080/"
    },
    "executionInfo": {
     "elapsed": 981,
     "status": "ok",
     "timestamp": 1619673852896,
     "user": {
      "displayName": "Demo Purpose",
      "photoUrl": "",
      "userId": "12724079362540459699"
     },
     "user_tz": -330
    },
    "id": "1b-RuknaE7OY",
    "outputId": "099399da-749d-41c6-f384-61621b603c94"
   },
   "outputs": [
    {
     "data": {
      "text/plain": [
       "[<re.Match object; span=(0, 1), match='\\n'>,\n",
       " <re.Match object; span=(1, 2), match='h'>,\n",
       " <re.Match object; span=(2, 3), match='e'>,\n",
       " <re.Match object; span=(3, 4), match='l'>,\n",
       " <re.Match object; span=(4, 5), match='l'>,\n",
       " <re.Match object; span=(5, 6), match='o'>,\n",
       " <re.Match object; span=(6, 7), match='!'>,\n",
       " <re.Match object; span=(7, 8), match='\\n'>,\n",
       " <re.Match object; span=(8, 9), match='h'>,\n",
       " <re.Match object; span=(9, 10), match='i'>,\n",
       " <re.Match object; span=(10, 11), match=','>,\n",
       " <re.Match object; span=(11, 12), match=' '>,\n",
       " <re.Match object; span=(12, 13), match='h'>,\n",
       " <re.Match object; span=(13, 14), match='o'>,\n",
       " <re.Match object; span=(14, 15), match='w'>,\n",
       " <re.Match object; span=(15, 16), match=' '>,\n",
       " <re.Match object; span=(16, 17), match='a'>,\n",
       " <re.Match object; span=(17, 18), match='r'>,\n",
       " <re.Match object; span=(18, 19), match='e'>,\n",
       " <re.Match object; span=(19, 20), match=' '>,\n",
       " <re.Match object; span=(20, 21), match='y'>,\n",
       " <re.Match object; span=(21, 22), match='o'>,\n",
       " <re.Match object; span=(22, 23), match='u'>,\n",
       " <re.Match object; span=(23, 24), match='?'>,\n",
       " <re.Match object; span=(24, 25), match='\\n'>,\n",
       " <re.Match object; span=(25, 26), match='\\n'>,\n",
       " <re.Match object; span=(26, 27), match='a'>,\n",
       " <re.Match object; span=(27, 28), match='l'>,\n",
       " <re.Match object; span=(28, 29), match='l'>,\n",
       " <re.Match object; span=(29, 30), match=' '>,\n",
       " <re.Match object; span=(30, 31), match='f'>,\n",
       " <re.Match object; span=(31, 32), match='i'>,\n",
       " <re.Match object; span=(32, 33), match='n'>,\n",
       " <re.Match object; span=(33, 34), match='d'>,\n",
       " <re.Match object; span=(34, 35), match=','>,\n",
       " <re.Match object; span=(35, 36), match=' '>,\n",
       " <re.Match object; span=(36, 37), match='y'>,\n",
       " <re.Match object; span=(37, 38), match='o'>,\n",
       " <re.Match object; span=(38, 39), match='u'>,\n",
       " <re.Match object; span=(39, 40), match=' '>,\n",
       " <re.Match object; span=(40, 41), match='s'>,\n",
       " <re.Match object; span=(41, 42), match='a'>,\n",
       " <re.Match object; span=(42, 43), match='y'>,\n",
       " <re.Match object; span=(43, 44), match='.'>,\n",
       " <re.Match object; span=(44, 45), match='\\n'>,\n",
       " <re.Match object; span=(45, 46), match='\\n'>,\n",
       " <re.Match object; span=(46, 47), match='a'>,\n",
       " <re.Match object; span=(47, 48), match='b'>,\n",
       " <re.Match object; span=(48, 49), match='c'>,\n",
       " <re.Match object; span=(49, 50), match='d'>,\n",
       " <re.Match object; span=(50, 51), match='e'>,\n",
       " <re.Match object; span=(51, 52), match='f'>,\n",
       " <re.Match object; span=(52, 53), match='g'>,\n",
       " <re.Match object; span=(53, 54), match='h'>,\n",
       " <re.Match object; span=(54, 55), match='i'>,\n",
       " <re.Match object; span=(55, 56), match='j'>,\n",
       " <re.Match object; span=(56, 57), match='k'>,\n",
       " <re.Match object; span=(57, 58), match='l'>,\n",
       " <re.Match object; span=(58, 59), match='m'>,\n",
       " <re.Match object; span=(59, 60), match='n'>,\n",
       " <re.Match object; span=(60, 61), match='o'>,\n",
       " <re.Match object; span=(61, 62), match='p'>,\n",
       " <re.Match object; span=(62, 63), match='q'>,\n",
       " <re.Match object; span=(63, 64), match='r'>,\n",
       " <re.Match object; span=(64, 65), match='s'>,\n",
       " <re.Match object; span=(65, 66), match='t'>,\n",
       " <re.Match object; span=(66, 67), match='u'>,\n",
       " <re.Match object; span=(67, 68), match='v'>,\n",
       " <re.Match object; span=(68, 69), match='w'>,\n",
       " <re.Match object; span=(69, 70), match='x'>,\n",
       " <re.Match object; span=(70, 71), match='y'>,\n",
       " <re.Match object; span=(71, 72), match='z'>,\n",
       " <re.Match object; span=(72, 73), match='\\n'>,\n",
       " <re.Match object; span=(73, 74), match='A'>,\n",
       " <re.Match object; span=(74, 75), match='B'>,\n",
       " <re.Match object; span=(75, 76), match='C'>,\n",
       " <re.Match object; span=(76, 77), match='D'>,\n",
       " <re.Match object; span=(77, 78), match='E'>,\n",
       " <re.Match object; span=(78, 79), match='F'>,\n",
       " <re.Match object; span=(79, 80), match='G'>,\n",
       " <re.Match object; span=(80, 81), match='H'>,\n",
       " <re.Match object; span=(81, 82), match='I'>,\n",
       " <re.Match object; span=(82, 83), match='J'>,\n",
       " <re.Match object; span=(83, 84), match='K'>,\n",
       " <re.Match object; span=(84, 85), match='L'>,\n",
       " <re.Match object; span=(85, 86), match='M'>,\n",
       " <re.Match object; span=(86, 87), match='N'>,\n",
       " <re.Match object; span=(87, 88), match='O'>,\n",
       " <re.Match object; span=(88, 89), match='P'>,\n",
       " <re.Match object; span=(89, 90), match='Q'>,\n",
       " <re.Match object; span=(90, 91), match='R'>,\n",
       " <re.Match object; span=(91, 92), match='S'>,\n",
       " <re.Match object; span=(92, 93), match='T'>,\n",
       " <re.Match object; span=(93, 94), match='U'>,\n",
       " <re.Match object; span=(94, 95), match='V'>,\n",
       " <re.Match object; span=(95, 96), match='W'>,\n",
       " <re.Match object; span=(96, 97), match='X'>,\n",
       " <re.Match object; span=(97, 98), match='Y'>,\n",
       " <re.Match object; span=(98, 99), match='Z'>,\n",
       " <re.Match object; span=(99, 100), match='\\n'>,\n",
       " <re.Match object; span=(110, 111), match='\\n'>,\n",
       " <re.Match object; span=(111, 112), match='\\n'>,\n",
       " <re.Match object; span=(112, 113), match='m'>,\n",
       " <re.Match object; span=(113, 114), match='e'>,\n",
       " <re.Match object; span=(114, 115), match='t'>,\n",
       " <re.Match object; span=(115, 116), match='a'>,\n",
       " <re.Match object; span=(116, 117), match=' '>,\n",
       " <re.Match object; span=(117, 118), match='c'>,\n",
       " <re.Match object; span=(118, 119), match='h'>,\n",
       " <re.Match object; span=(119, 120), match='a'>,\n",
       " <re.Match object; span=(120, 121), match='r'>,\n",
       " <re.Match object; span=(121, 122), match='a'>,\n",
       " <re.Match object; span=(122, 123), match='c'>,\n",
       " <re.Match object; span=(123, 124), match='t'>,\n",
       " <re.Match object; span=(124, 125), match='e'>,\n",
       " <re.Match object; span=(125, 126), match='r'>,\n",
       " <re.Match object; span=(126, 127), match='s'>,\n",
       " <re.Match object; span=(127, 128), match='\\n'>,\n",
       " <re.Match object; span=(128, 129), match='.'>,\n",
       " <re.Match object; span=(129, 130), match=' '>,\n",
       " <re.Match object; span=(130, 131), match='^'>,\n",
       " <re.Match object; span=(131, 132), match=' '>,\n",
       " <re.Match object; span=(132, 133), match='+'>,\n",
       " <re.Match object; span=(133, 134), match=' '>,\n",
       " <re.Match object; span=(134, 135), match='*'>,\n",
       " <re.Match object; span=(135, 136), match=' '>,\n",
       " <re.Match object; span=(136, 137), match='?'>,\n",
       " <re.Match object; span=(137, 138), match=' '>,\n",
       " <re.Match object; span=(138, 139), match='('>,\n",
       " <re.Match object; span=(139, 140), match=' '>,\n",
       " <re.Match object; span=(140, 141), match=')'>,\n",
       " <re.Match object; span=(141, 142), match=' '>,\n",
       " <re.Match object; span=(142, 143), match='['>,\n",
       " <re.Match object; span=(143, 144), match=' '>,\n",
       " <re.Match object; span=(144, 145), match=']'>,\n",
       " <re.Match object; span=(145, 146), match=' '>,\n",
       " <re.Match object; span=(146, 147), match='{'>,\n",
       " <re.Match object; span=(147, 148), match=' '>,\n",
       " <re.Match object; span=(148, 149), match='}'>,\n",
       " <re.Match object; span=(149, 150), match=' '>,\n",
       " <re.Match object; span=(150, 151), match='/'>,\n",
       " <re.Match object; span=(151, 152), match=' '>,\n",
       " <re.Match object; span=(152, 153), match='|'>,\n",
       " <re.Match object; span=(153, 154), match='\\n'>,\n",
       " <re.Match object; span=(154, 155), match='\\n'>,\n",
       " <re.Match object; span=(155, 156), match='n'>,\n",
       " <re.Match object; span=(156, 157), match='u'>,\n",
       " <re.Match object; span=(157, 158), match='m'>,\n",
       " <re.Match object; span=(158, 159), match='b'>,\n",
       " <re.Match object; span=(159, 160), match='e'>,\n",
       " <re.Match object; span=(160, 161), match='r'>,\n",
       " <re.Match object; span=(161, 162), match='s'>,\n",
       " <re.Match object; span=(162, 163), match='\\n'>,\n",
       " <re.Match object; span=(167, 168), match='-'>,\n",
       " <re.Match object; span=(170, 171), match='-'>,\n",
       " <re.Match object; span=(175, 176), match='\\n'>,\n",
       " <re.Match object; span=(180, 181), match='.'>,\n",
       " <re.Match object; span=(185, 186), match='.'>,\n",
       " <re.Match object; span=(190, 191), match='.'>,\n",
       " <re.Match object; span=(195, 196), match='\\n'>]"
      ]
     },
     "execution_count": 19,
     "metadata": {
      "tags": []
     },
     "output_type": "execute_result"
    }
   ],
   "source": [
    "# except numbers\n",
    "\n",
    "test('\\D', multiline_string)"
   ]
  },
  {
   "cell_type": "code",
   "execution_count": null,
   "metadata": {},
   "outputs": [],
   "source": []
  },
  {
   "cell_type": "code",
   "execution_count": null,
   "metadata": {
    "colab": {
     "base_uri": "https://localhost:8080/"
    },
    "executionInfo": {
     "elapsed": 896,
     "status": "ok",
     "timestamp": 1619673910002,
     "user": {
      "displayName": "Demo Purpose",
      "photoUrl": "",
      "userId": "12724079362540459699"
     },
     "user_tz": -330
    },
    "id": "nCff5j3QFad4",
    "outputId": "d947a3c9-be55-440e-a2a0-2b4af155eae9"
   },
   "outputs": [
    {
     "data": {
      "text/plain": [
       "[<re.Match object; span=(1, 2), match='h'>,\n",
       " <re.Match object; span=(2, 3), match='e'>,\n",
       " <re.Match object; span=(3, 4), match='l'>,\n",
       " <re.Match object; span=(4, 5), match='l'>,\n",
       " <re.Match object; span=(5, 6), match='o'>,\n",
       " <re.Match object; span=(8, 9), match='h'>,\n",
       " <re.Match object; span=(9, 10), match='i'>,\n",
       " <re.Match object; span=(12, 13), match='h'>,\n",
       " <re.Match object; span=(13, 14), match='o'>,\n",
       " <re.Match object; span=(14, 15), match='w'>,\n",
       " <re.Match object; span=(16, 17), match='a'>,\n",
       " <re.Match object; span=(17, 18), match='r'>,\n",
       " <re.Match object; span=(18, 19), match='e'>,\n",
       " <re.Match object; span=(20, 21), match='y'>,\n",
       " <re.Match object; span=(21, 22), match='o'>,\n",
       " <re.Match object; span=(22, 23), match='u'>,\n",
       " <re.Match object; span=(26, 27), match='a'>,\n",
       " <re.Match object; span=(27, 28), match='l'>,\n",
       " <re.Match object; span=(28, 29), match='l'>,\n",
       " <re.Match object; span=(30, 31), match='f'>,\n",
       " <re.Match object; span=(31, 32), match='i'>,\n",
       " <re.Match object; span=(32, 33), match='n'>,\n",
       " <re.Match object; span=(33, 34), match='d'>,\n",
       " <re.Match object; span=(36, 37), match='y'>,\n",
       " <re.Match object; span=(37, 38), match='o'>,\n",
       " <re.Match object; span=(38, 39), match='u'>,\n",
       " <re.Match object; span=(40, 41), match='s'>,\n",
       " <re.Match object; span=(41, 42), match='a'>,\n",
       " <re.Match object; span=(42, 43), match='y'>,\n",
       " <re.Match object; span=(46, 47), match='a'>,\n",
       " <re.Match object; span=(47, 48), match='b'>,\n",
       " <re.Match object; span=(48, 49), match='c'>,\n",
       " <re.Match object; span=(49, 50), match='d'>,\n",
       " <re.Match object; span=(50, 51), match='e'>,\n",
       " <re.Match object; span=(51, 52), match='f'>,\n",
       " <re.Match object; span=(52, 53), match='g'>,\n",
       " <re.Match object; span=(53, 54), match='h'>,\n",
       " <re.Match object; span=(54, 55), match='i'>,\n",
       " <re.Match object; span=(55, 56), match='j'>,\n",
       " <re.Match object; span=(56, 57), match='k'>,\n",
       " <re.Match object; span=(57, 58), match='l'>,\n",
       " <re.Match object; span=(58, 59), match='m'>,\n",
       " <re.Match object; span=(59, 60), match='n'>,\n",
       " <re.Match object; span=(60, 61), match='o'>,\n",
       " <re.Match object; span=(61, 62), match='p'>,\n",
       " <re.Match object; span=(62, 63), match='q'>,\n",
       " <re.Match object; span=(63, 64), match='r'>,\n",
       " <re.Match object; span=(64, 65), match='s'>,\n",
       " <re.Match object; span=(65, 66), match='t'>,\n",
       " <re.Match object; span=(66, 67), match='u'>,\n",
       " <re.Match object; span=(67, 68), match='v'>,\n",
       " <re.Match object; span=(68, 69), match='w'>,\n",
       " <re.Match object; span=(69, 70), match='x'>,\n",
       " <re.Match object; span=(70, 71), match='y'>,\n",
       " <re.Match object; span=(71, 72), match='z'>,\n",
       " <re.Match object; span=(73, 74), match='A'>,\n",
       " <re.Match object; span=(74, 75), match='B'>,\n",
       " <re.Match object; span=(75, 76), match='C'>,\n",
       " <re.Match object; span=(76, 77), match='D'>,\n",
       " <re.Match object; span=(77, 78), match='E'>,\n",
       " <re.Match object; span=(78, 79), match='F'>,\n",
       " <re.Match object; span=(79, 80), match='G'>,\n",
       " <re.Match object; span=(80, 81), match='H'>,\n",
       " <re.Match object; span=(81, 82), match='I'>,\n",
       " <re.Match object; span=(82, 83), match='J'>,\n",
       " <re.Match object; span=(83, 84), match='K'>,\n",
       " <re.Match object; span=(84, 85), match='L'>,\n",
       " <re.Match object; span=(85, 86), match='M'>,\n",
       " <re.Match object; span=(86, 87), match='N'>,\n",
       " <re.Match object; span=(87, 88), match='O'>,\n",
       " <re.Match object; span=(88, 89), match='P'>,\n",
       " <re.Match object; span=(89, 90), match='Q'>,\n",
       " <re.Match object; span=(90, 91), match='R'>,\n",
       " <re.Match object; span=(91, 92), match='S'>,\n",
       " <re.Match object; span=(92, 93), match='T'>,\n",
       " <re.Match object; span=(93, 94), match='U'>,\n",
       " <re.Match object; span=(94, 95), match='V'>,\n",
       " <re.Match object; span=(95, 96), match='W'>,\n",
       " <re.Match object; span=(96, 97), match='X'>,\n",
       " <re.Match object; span=(97, 98), match='Y'>,\n",
       " <re.Match object; span=(98, 99), match='Z'>,\n",
       " <re.Match object; span=(100, 101), match='0'>,\n",
       " <re.Match object; span=(101, 102), match='1'>,\n",
       " <re.Match object; span=(102, 103), match='2'>,\n",
       " <re.Match object; span=(103, 104), match='3'>,\n",
       " <re.Match object; span=(104, 105), match='4'>,\n",
       " <re.Match object; span=(105, 106), match='5'>,\n",
       " <re.Match object; span=(106, 107), match='6'>,\n",
       " <re.Match object; span=(107, 108), match='7'>,\n",
       " <re.Match object; span=(108, 109), match='8'>,\n",
       " <re.Match object; span=(109, 110), match='9'>,\n",
       " <re.Match object; span=(112, 113), match='m'>,\n",
       " <re.Match object; span=(113, 114), match='e'>,\n",
       " <re.Match object; span=(114, 115), match='t'>,\n",
       " <re.Match object; span=(115, 116), match='a'>,\n",
       " <re.Match object; span=(117, 118), match='c'>,\n",
       " <re.Match object; span=(118, 119), match='h'>,\n",
       " <re.Match object; span=(119, 120), match='a'>,\n",
       " <re.Match object; span=(120, 121), match='r'>,\n",
       " <re.Match object; span=(121, 122), match='a'>,\n",
       " <re.Match object; span=(122, 123), match='c'>,\n",
       " <re.Match object; span=(123, 124), match='t'>,\n",
       " <re.Match object; span=(124, 125), match='e'>,\n",
       " <re.Match object; span=(125, 126), match='r'>,\n",
       " <re.Match object; span=(126, 127), match='s'>,\n",
       " <re.Match object; span=(155, 156), match='n'>,\n",
       " <re.Match object; span=(156, 157), match='u'>,\n",
       " <re.Match object; span=(157, 158), match='m'>,\n",
       " <re.Match object; span=(158, 159), match='b'>,\n",
       " <re.Match object; span=(159, 160), match='e'>,\n",
       " <re.Match object; span=(160, 161), match='r'>,\n",
       " <re.Match object; span=(161, 162), match='s'>,\n",
       " <re.Match object; span=(163, 164), match='8'>,\n",
       " <re.Match object; span=(164, 165), match='9'>,\n",
       " <re.Match object; span=(165, 166), match='8'>,\n",
       " <re.Match object; span=(166, 167), match='7'>,\n",
       " <re.Match object; span=(168, 169), match='8'>,\n",
       " <re.Match object; span=(169, 170), match='9'>,\n",
       " <re.Match object; span=(171, 172), match='1'>,\n",
       " <re.Match object; span=(172, 173), match='5'>,\n",
       " <re.Match object; span=(173, 174), match='4'>,\n",
       " <re.Match object; span=(174, 175), match='6'>,\n",
       " <re.Match object; span=(176, 177), match='6'>,\n",
       " <re.Match object; span=(177, 178), match='4'>,\n",
       " <re.Match object; span=(178, 179), match='5'>,\n",
       " <re.Match object; span=(179, 180), match='6'>,\n",
       " <re.Match object; span=(181, 182), match='9'>,\n",
       " <re.Match object; span=(182, 183), match='8'>,\n",
       " <re.Match object; span=(183, 184), match='7'>,\n",
       " <re.Match object; span=(184, 185), match='9'>,\n",
       " <re.Match object; span=(186, 187), match='6'>,\n",
       " <re.Match object; span=(187, 188), match='9'>,\n",
       " <re.Match object; span=(188, 189), match='8'>,\n",
       " <re.Match object; span=(189, 190), match='7'>,\n",
       " <re.Match object; span=(191, 192), match='9'>,\n",
       " <re.Match object; span=(192, 193), match='8'>,\n",
       " <re.Match object; span=(193, 194), match='7'>,\n",
       " <re.Match object; span=(194, 195), match='5'>]"
      ]
     },
     "execution_count": 20,
     "metadata": {
      "tags": []
     },
     "output_type": "execute_result"
    }
   ],
   "source": [
    "test('\\w', multiline_string)"
   ]
  },
  {
   "cell_type": "code",
   "execution_count": null,
   "metadata": {
    "colab": {
     "base_uri": "https://localhost:8080/"
    },
    "executionInfo": {
     "elapsed": 1140,
     "status": "ok",
     "timestamp": 1619673948745,
     "user": {
      "displayName": "Demo Purpose",
      "photoUrl": "",
      "userId": "12724079362540459699"
     },
     "user_tz": -330
    },
    "id": "h6NihS9HFobV",
    "outputId": "5c2c1a0f-87e1-4c9d-fb78-4c5b6a036ba7"
   },
   "outputs": [
    {
     "data": {
      "text/plain": [
       "[<re.Match object; span=(0, 1), match='\\n'>,\n",
       " <re.Match object; span=(6, 7), match='!'>,\n",
       " <re.Match object; span=(7, 8), match='\\n'>,\n",
       " <re.Match object; span=(10, 11), match=','>,\n",
       " <re.Match object; span=(11, 12), match=' '>,\n",
       " <re.Match object; span=(15, 16), match=' '>,\n",
       " <re.Match object; span=(19, 20), match=' '>,\n",
       " <re.Match object; span=(23, 24), match='?'>,\n",
       " <re.Match object; span=(24, 25), match='\\n'>,\n",
       " <re.Match object; span=(25, 26), match='\\n'>,\n",
       " <re.Match object; span=(29, 30), match=' '>,\n",
       " <re.Match object; span=(34, 35), match=','>,\n",
       " <re.Match object; span=(35, 36), match=' '>,\n",
       " <re.Match object; span=(39, 40), match=' '>,\n",
       " <re.Match object; span=(43, 44), match='.'>,\n",
       " <re.Match object; span=(44, 45), match='\\n'>,\n",
       " <re.Match object; span=(45, 46), match='\\n'>,\n",
       " <re.Match object; span=(72, 73), match='\\n'>,\n",
       " <re.Match object; span=(99, 100), match='\\n'>,\n",
       " <re.Match object; span=(110, 111), match='\\n'>,\n",
       " <re.Match object; span=(111, 112), match='\\n'>,\n",
       " <re.Match object; span=(116, 117), match=' '>,\n",
       " <re.Match object; span=(127, 128), match='\\n'>,\n",
       " <re.Match object; span=(128, 129), match='.'>,\n",
       " <re.Match object; span=(129, 130), match=' '>,\n",
       " <re.Match object; span=(130, 131), match='^'>,\n",
       " <re.Match object; span=(131, 132), match=' '>,\n",
       " <re.Match object; span=(132, 133), match='+'>,\n",
       " <re.Match object; span=(133, 134), match=' '>,\n",
       " <re.Match object; span=(134, 135), match='*'>,\n",
       " <re.Match object; span=(135, 136), match=' '>,\n",
       " <re.Match object; span=(136, 137), match='?'>,\n",
       " <re.Match object; span=(137, 138), match=' '>,\n",
       " <re.Match object; span=(138, 139), match='('>,\n",
       " <re.Match object; span=(139, 140), match=' '>,\n",
       " <re.Match object; span=(140, 141), match=')'>,\n",
       " <re.Match object; span=(141, 142), match=' '>,\n",
       " <re.Match object; span=(142, 143), match='['>,\n",
       " <re.Match object; span=(143, 144), match=' '>,\n",
       " <re.Match object; span=(144, 145), match=']'>,\n",
       " <re.Match object; span=(145, 146), match=' '>,\n",
       " <re.Match object; span=(146, 147), match='{'>,\n",
       " <re.Match object; span=(147, 148), match=' '>,\n",
       " <re.Match object; span=(148, 149), match='}'>,\n",
       " <re.Match object; span=(149, 150), match=' '>,\n",
       " <re.Match object; span=(150, 151), match='/'>,\n",
       " <re.Match object; span=(151, 152), match=' '>,\n",
       " <re.Match object; span=(152, 153), match='|'>,\n",
       " <re.Match object; span=(153, 154), match='\\n'>,\n",
       " <re.Match object; span=(154, 155), match='\\n'>,\n",
       " <re.Match object; span=(162, 163), match='\\n'>,\n",
       " <re.Match object; span=(167, 168), match='-'>,\n",
       " <re.Match object; span=(170, 171), match='-'>,\n",
       " <re.Match object; span=(175, 176), match='\\n'>,\n",
       " <re.Match object; span=(180, 181), match='.'>,\n",
       " <re.Match object; span=(185, 186), match='.'>,\n",
       " <re.Match object; span=(190, 191), match='.'>,\n",
       " <re.Match object; span=(195, 196), match='\\n'>]"
      ]
     },
     "execution_count": 21,
     "metadata": {
      "tags": []
     },
     "output_type": "execute_result"
    }
   ],
   "source": [
    "test('\\W', multiline_string)"
   ]
  },
  {
   "cell_type": "code",
   "execution_count": null,
   "metadata": {
    "colab": {
     "base_uri": "https://localhost:8080/"
    },
    "executionInfo": {
     "elapsed": 960,
     "status": "ok",
     "timestamp": 1619673992275,
     "user": {
      "displayName": "Demo Purpose",
      "photoUrl": "",
      "userId": "12724079362540459699"
     },
     "user_tz": -330
    },
    "id": "scFRX1ylFx1u",
    "outputId": "92060b82-7224-4aee-ddf1-ba1ae9964379"
   },
   "outputs": [
    {
     "data": {
      "text/plain": [
       "[<re.Match object; span=(2, 3), match='e'>,\n",
       " <re.Match object; span=(16, 17), match='a'>,\n",
       " <re.Match object; span=(18, 19), match='e'>,\n",
       " <re.Match object; span=(26, 27), match='a'>,\n",
       " <re.Match object; span=(30, 31), match='f'>,\n",
       " <re.Match object; span=(33, 34), match='d'>,\n",
       " <re.Match object; span=(41, 42), match='a'>,\n",
       " <re.Match object; span=(46, 47), match='a'>,\n",
       " <re.Match object; span=(47, 48), match='b'>,\n",
       " <re.Match object; span=(48, 49), match='c'>,\n",
       " <re.Match object; span=(49, 50), match='d'>,\n",
       " <re.Match object; span=(50, 51), match='e'>,\n",
       " <re.Match object; span=(51, 52), match='f'>,\n",
       " <re.Match object; span=(113, 114), match='e'>,\n",
       " <re.Match object; span=(115, 116), match='a'>,\n",
       " <re.Match object; span=(117, 118), match='c'>,\n",
       " <re.Match object; span=(119, 120), match='a'>,\n",
       " <re.Match object; span=(121, 122), match='a'>,\n",
       " <re.Match object; span=(122, 123), match='c'>,\n",
       " <re.Match object; span=(124, 125), match='e'>,\n",
       " <re.Match object; span=(158, 159), match='b'>,\n",
       " <re.Match object; span=(159, 160), match='e'>]"
      ]
     },
     "execution_count": 22,
     "metadata": {
      "tags": []
     },
     "output_type": "execute_result"
    }
   ],
   "source": [
    "test('[a-f]', multiline_string)"
   ]
  },
  {
   "cell_type": "code",
   "execution_count": null,
   "metadata": {
    "colab": {
     "base_uri": "https://localhost:8080/"
    },
    "executionInfo": {
     "elapsed": 882,
     "status": "ok",
     "timestamp": 1619674136457,
     "user": {
      "displayName": "Demo Purpose",
      "photoUrl": "",
      "userId": "12724079362540459699"
     },
     "user_tz": -330
    },
    "id": "rg16UVOVF8gZ",
    "outputId": "f5ebdfcc-02b5-4159-af38-f675b6e0934a"
   },
   "outputs": [
    {
     "data": {
      "text/plain": [
       "[<re.Match object; span=(73, 74), match='A'>,\n",
       " <re.Match object; span=(74, 75), match='B'>,\n",
       " <re.Match object; span=(75, 76), match='C'>,\n",
       " <re.Match object; span=(76, 77), match='D'>,\n",
       " <re.Match object; span=(77, 78), match='E'>,\n",
       " <re.Match object; span=(78, 79), match='F'>]"
      ]
     },
     "execution_count": 24,
     "metadata": {
      "tags": []
     },
     "output_type": "execute_result"
    }
   ],
   "source": [
    "test('[A-F]', multiline_string)"
   ]
  },
  {
   "cell_type": "code",
   "execution_count": null,
   "metadata": {
    "colab": {
     "base_uri": "https://localhost:8080/"
    },
    "executionInfo": {
     "elapsed": 1081,
     "status": "ok",
     "timestamp": 1619674154589,
     "user": {
      "displayName": "Demo Purpose",
      "photoUrl": "",
      "userId": "12724079362540459699"
     },
     "user_tz": -330
    },
    "id": "xb_LON4yGfsj",
    "outputId": "f6d4028e-83d3-4e6e-a3a5-e6e9b8c2c19f"
   },
   "outputs": [
    {
     "data": {
      "text/plain": [
       "[<re.Match object; span=(105, 106), match='5'>,\n",
       " <re.Match object; span=(106, 107), match='6'>,\n",
       " <re.Match object; span=(107, 108), match='7'>,\n",
       " <re.Match object; span=(108, 109), match='8'>,\n",
       " <re.Match object; span=(274, 275), match='8'>,\n",
       " <re.Match object; span=(276, 277), match='8'>,\n",
       " <re.Match object; span=(277, 278), match='7'>,\n",
       " <re.Match object; span=(279, 280), match='8'>,\n",
       " <re.Match object; span=(283, 284), match='5'>,\n",
       " <re.Match object; span=(285, 286), match='6'>,\n",
       " <re.Match object; span=(287, 288), match='6'>,\n",
       " <re.Match object; span=(289, 290), match='5'>,\n",
       " <re.Match object; span=(290, 291), match='6'>,\n",
       " <re.Match object; span=(293, 294), match='8'>,\n",
       " <re.Match object; span=(294, 295), match='7'>,\n",
       " <re.Match object; span=(297, 298), match='6'>,\n",
       " <re.Match object; span=(299, 300), match='8'>,\n",
       " <re.Match object; span=(300, 301), match='7'>,\n",
       " <re.Match object; span=(303, 304), match='8'>,\n",
       " <re.Match object; span=(304, 305), match='7'>,\n",
       " <re.Match object; span=(305, 306), match='5'>]"
      ]
     },
     "execution_count": 25,
     "metadata": {
      "tags": []
     },
     "output_type": "execute_result"
    }
   ],
   "source": [
    "test('[5-8]', multiline_string)"
   ]
  },
  {
   "cell_type": "markdown",
   "metadata": {
    "id": "G4xDe23nGvYa"
   },
   "source": [
    "## re functions\n",
    "\n",
    "* ## compile(r\"raw_string_pattern\", flags=0)\n",
    "> ### Compile a regular expression pattern, returning a pattern object.\n",
    "* ## finditer(r\"raw_string_pattern\", find_str, flags=0)\n",
    "> ### Return an iterator yielding MatchObject instances over all non-overlapping matchaes for the re patternin the string.\n",
    "* ## findall(r\"raw_string_pattern\", find_str, flags=0)\n",
    "> ### The expression re.findall() returns all the non-overlapping matches of patterns in a string as a list of strings.\n",
    "* ## search(r\"raw_string_pattern\", find_str, flags=0)\n",
    "> ### Searches the string for a match, and returns a MatchObject if there is a match.\n",
    "* ## split(r\"raw_string_pattern\", find_str, flags=0)\n",
    "> ### Returns a list where the string has been split at each match. (Split at each white-space character)\n",
    "* ## sub(r\"raw_string_pattern\", replace_with, find_str, flags=0)\n",
    "> ### Replaces the matches with the text of your choice.\n",
    "> ### sub(find_expression, replace_with, find_str, occurance_number_or_count, flags=0)\n",
    "> * ### We can control the number of replacements by specifying the count parameter, i.e.: if we want to replace the first 2 occurrances, see example below:\n",
    "> > re.sub('\\s', \"9\", txt, 2)\n",
    "\n",
    "## re Flags\n",
    "\n",
    "* ## re.IGNORECASE\n",
    "> ### It makes the pattern case insensitive so that it matches string of different capitalizations.\n",
    "* ## re.MULTILINE\n",
    "> ### It is necessary if your input string has newline characters (\\n), this flag allows the start and end meta-character (^ and $ respectively) to match at the beginning and end of each line instead of at the beginning and end of the whole input string.\n",
    "* ## re.DOTALL\n",
    "> ### It allows the dot (.) meta-character match all characters, including the newline characters (\\n).\n",
    "\n",
    "## The MatchObject has properties and methods used to retrieve information about the search, and the result.\n",
    "* ### .span()\n",
    "> #### Returns a tuple containing the start and end positions of the match.\n",
    "* ### .string\n",
    "> #### Returns the string passed into the functino.\n",
    "* ### .group()\n",
    "> #### Returns the part of the string where there was a match.\n",
    "\n",
    "## Quantifiers\n",
    "* ### [] - A set of characters - \"[a-z]\"\n",
    "* ### \\ - Signals a special sequence - \"\\d\"\n",
    "* ### . - Any character - \"ab..t\"\n",
    "* ### ^ - Starts with - \"^hello\"\n",
    "* ### $ - Ends with - \"world$\"\n",
    "* ### * - 0 or more occurrences - \"abo*\" \n",
    "* ### + - 1 or more occurrences - \"abo+\"\n",
    "* ### ? - 0 or one occurrences - \"abo?\"\n",
    "* ### {1} - exactly the specified number of occurrences - \"ab{2}\n",
    "* ### {1, 3} - range of numbers (min, max)\n",
    "* ### | Either or - \"falls|statys\"\n",
    "* ### () capture and group\n",
    "\n",
    "## Special Sequences\n",
    "* ### \\A - Returns a match if the specified characters are at the beginning of the string - \"\\AThe\"\n",
    "* ### \\b - Returns a match where the specified character are at the beginning or at the end of a word - r\"\\bain\", r\"ain\\b\"\n",
    "* ### \\B - Returns a match where the specified character are present, but Not at the beginning - \"r\\Bain\", r\"ain\\B\"\n",
    "* ### \\d - Returns a match where the string contains digits (0-9) - \"\\d\"\n",
    "* ### \\D - Returns a match where the string Does Not contain digits - \"\\D\"\n",
    "* ### \\s - Returns a match where the string contains a white space character - \"\\s\"\n",
    "* ### \\S - Returns a match where the string does not contain a white space character - \"\\S\"\n",
    "* ### - \\w - Returns a match where the string contains any word characters (a-zA-Z0-9_) - \"\\w\"\n",
    "* ### \\W - Returns a match where the string does not contain any word character - \"\\W\"\n",
    "* ### \\Z - Returns a match the specified characters are at the end of the string - \"Spain\\Z\"\n",
    "\n",
    "## Sets\n",
    "* ### [arn] - Returns a match where one of the specified character (a, r, n) are present.\n",
    "* ### [a-n] - Returns a match for any lower case character, alphabetically between 'a' an 'n'\n",
    "* ### [^arn] - Returns a match for any character Except a, r and n\n",
    "* ### [78945] - Returns a match where any of the specified digits (7,8,9,4,5) are present.\n",
    "* ### [0-9] - Returns a match for any digit between 0-9\n",
    "* ### [0-4][0-9] - Returns a match for any two-digit numbers from 00 - 49\n",
    "* ### [a-zA-Z] - Returns a match for any character alphabetically between a and z, lower case or upper case.\n",
    "* ### [+] - In sets, +, *, ., |, (), $, {} has no special meaning, so [+] means: return a match for any + character in the string.\n",
    "\n",
    "## Sample regex pattern for an email\n",
    "> ### emailPattern = [a-zA-Z0-9_.+]+@[a-zA-Z0-9-]+.[a-zA-Z0-9.]+\n",
    "\n",
    "## Sample regex pattern for an url\n",
    "> ### urlPattern = 'https?'://(www.)?(\\w+)(.\\w+)'\n",
    "> ### Here is some different groups\n",
    "> * #### .group(0) - returns entire domain\n",
    "> * #### .group(1) - returns www from (www\\.)\n",
    "> * #### .group(2) - returns domain name from (\\w+)\n",
    "> * #### .group(3) - returns domain extension (.com, .net, .org) from (\\.\\w+)\n"
   ]
  },
  {
   "cell_type": "code",
   "execution_count": null,
   "metadata": {
    "id": "V_g_WiqeGuHz"
   },
   "outputs": [],
   "source": [
    "# check email in string\n",
    "emailPattern = \"[a-zA-Z0-9_.+]+@[a-zA-Z0-9-]+.[a-zA-Z0-9.]+\""
   ]
  },
  {
   "cell_type": "code",
   "execution_count": null,
   "metadata": {
    "id": "PLrpeDN5GkG_"
   },
   "outputs": [],
   "source": [
    "result = re.match(emailPattern, multiline_string)"
   ]
  },
  {
   "cell_type": "code",
   "execution_count": null,
   "metadata": {
    "id": "DC2fuz9VN7yH"
   },
   "outputs": [],
   "source": [
    "result"
   ]
  },
  {
   "cell_type": "code",
   "execution_count": null,
   "metadata": {
    "id": "L1n4ygtgN8nP"
   },
   "outputs": [],
   "source": [
    "email_pattern = re.compile(emailPattern)"
   ]
  },
  {
   "cell_type": "code",
   "execution_count": null,
   "metadata": {
    "id": "vAVWjfDcOFzQ"
   },
   "outputs": [],
   "source": [
    "result = re.match(email_pattern, multiline_string)"
   ]
  },
  {
   "cell_type": "code",
   "execution_count": null,
   "metadata": {
    "id": "Si4udt0vOIg_"
   },
   "outputs": [],
   "source": [
    "result"
   ]
  },
  {
   "cell_type": "code",
   "execution_count": null,
   "metadata": {
    "colab": {
     "base_uri": "https://localhost:8080/"
    },
    "executionInfo": {
     "elapsed": 964,
     "status": "ok",
     "timestamp": 1619676149146,
     "user": {
      "displayName": "Demo Purpose",
      "photoUrl": "",
      "userId": "12724079362540459699"
     },
     "user_tz": -330
    },
    "id": "ySXL_3BPOJYu",
    "outputId": "47aaa80c-f642-4f4b-bd96-22716828140b"
   },
   "outputs": [
    {
     "data": {
      "text/plain": [
       "NoneType"
      ]
     },
     "execution_count": 33,
     "metadata": {
      "tags": []
     },
     "output_type": "execute_result"
    }
   ],
   "source": [
    "type(result)"
   ]
  },
  {
   "cell_type": "code",
   "execution_count": null,
   "metadata": {
    "colab": {
     "base_uri": "https://localhost:8080/"
    },
    "executionInfo": {
     "elapsed": 954,
     "status": "ok",
     "timestamp": 1619676334186,
     "user": {
      "displayName": "Demo Purpose",
      "photoUrl": "",
      "userId": "12724079362540459699"
     },
     "user_tz": -330
    },
    "id": "yWvhpxbtOK9H",
    "outputId": "b13022ab-def3-43f9-a45a-ed4dd4305642"
   },
   "outputs": [
    {
     "data": {
      "text/plain": [
       "[<re.Match object; span=(209, 225), match='https://www.tops'>,\n",
       " <re.Match object; span=(235, 259), match='https://typhit.codweb.in'>]"
      ]
     },
     "execution_count": 38,
     "metadata": {
      "tags": []
     },
     "output_type": "execute_result"
    }
   ],
   "source": [
    "test('https?://(www.)?(\\w+)(\\.\\w+)+', multiline_string)"
   ]
  },
  {
   "cell_type": "code",
   "execution_count": null,
   "metadata": {
    "id": "77Ye26q8OcEg"
   },
   "outputs": [],
   "source": [
    "url_pattern = re.compile(r\"((https?):((//)|(\\\\\\\\))+[\\w\\d:#@%/;$()~_?\\+-=\\\\\\.&]*)\", re.MULTILINE|re.UNICODE)"
   ]
  },
  {
   "cell_type": "code",
   "execution_count": null,
   "metadata": {
    "id": "zkL6GbQOPZBV"
   },
   "outputs": [],
   "source": [
    "re.match(url_pattern, multiline_string)"
   ]
  },
  {
   "cell_type": "code",
   "execution_count": null,
   "metadata": {
    "colab": {
     "base_uri": "https://localhost:8080/"
    },
    "executionInfo": {
     "elapsed": 1094,
     "status": "ok",
     "timestamp": 1619676518917,
     "user": {
      "displayName": "Demo Purpose",
      "photoUrl": "",
      "userId": "12724079362540459699"
     },
     "user_tz": -330
    },
    "id": "BvRCngT_Pe_o",
    "outputId": "ea372df5-560e-4e4c-c774-3bff53624fc5"
   },
   "outputs": [
    {
     "data": {
      "text/plain": [
       "[<re.Match object; span=(209, 234), match='https://www.tops-int.com/'>,\n",
       " <re.Match object; span=(235, 264), match='https://typhit.codweb.in/site'>]"
      ]
     },
     "execution_count": 41,
     "metadata": {
      "tags": []
     },
     "output_type": "execute_result"
    }
   ],
   "source": [
    "test(\"((https?):((//)|(\\\\\\\\))+[\\w\\d:#@%/;$()~_?\\+-=\\\\\\.&]*)\", multiline_string)"
   ]
  },
  {
   "cell_type": "code",
   "execution_count": null,
   "metadata": {
    "colab": {
     "base_uri": "https://localhost:8080/"
    },
    "executionInfo": {
     "elapsed": 764,
     "status": "ok",
     "timestamp": 1619676548518,
     "user": {
      "displayName": "Demo Purpose",
      "photoUrl": "",
      "userId": "12724079362540459699"
     },
     "user_tz": -330
    },
    "id": "kysMJYKIPlU3",
    "outputId": "b21c95b0-af11-475a-bbeb-ecb4367c95ff"
   },
   "outputs": [
    {
     "data": {
      "text/plain": [
       "[<re.Match object; span=(161, 176), match='jaini@gmail.com'>,\n",
       " <re.Match object; span=(177, 202), match='kapil.jangid@tops-int.com'>]"
      ]
     },
     "execution_count": 42,
     "metadata": {
      "tags": []
     },
     "output_type": "execute_result"
    }
   ],
   "source": [
    "test(emailPattern, multiline_string)"
   ]
  },
  {
   "cell_type": "code",
   "execution_count": null,
   "metadata": {
    "colab": {
     "base_uri": "https://localhost:8080/"
    },
    "executionInfo": {
     "elapsed": 953,
     "status": "ok",
     "timestamp": 1619676703111,
     "user": {
      "displayName": "Demo Purpose",
      "photoUrl": "",
      "userId": "12724079362540459699"
     },
     "user_tz": -330
    },
    "id": "vtVYjCmcPsnz",
    "outputId": "ed192300-e048-4910-f408-6447f9587e26"
   },
   "outputs": [
    {
     "data": {
      "text/plain": [
       "[<re.Match object; span=(287, 301), match='6456.9879.6987'>]"
      ]
     },
     "execution_count": 44,
     "metadata": {
      "tags": []
     },
     "output_type": "execute_result"
    }
   ],
   "source": [
    "test(r'\\d{4}.\\d{4}.\\d{4}', multiline_string)"
   ]
  },
  {
   "cell_type": "code",
   "execution_count": null,
   "metadata": {
    "colab": {
     "base_uri": "https://localhost:8080/"
    },
    "executionInfo": {
     "elapsed": 827,
     "status": "ok",
     "timestamp": 1619676734711,
     "user": {
      "displayName": "Demo Purpose",
      "photoUrl": "",
      "userId": "12724079362540459699"
     },
     "user_tz": -330
    },
    "id": "oU_T5GO3QDYX",
    "outputId": "f48b420c-e93a-492c-956e-bb9e7f9dfc27"
   },
   "outputs": [
    {
     "data": {
      "text/plain": [
       "[<re.Match object; span=(274, 286), match='8987-89-1546'>]"
      ]
     },
     "execution_count": 45,
     "metadata": {
      "tags": []
     },
     "output_type": "execute_result"
    }
   ],
   "source": [
    "test(r'\\d{4}.\\d{2}.\\d{4}', multiline_string)"
   ]
  },
  {
   "cell_type": "code",
   "execution_count": null,
   "metadata": {},
   "outputs": [],
   "source": []
  },
  {
   "cell_type": "code",
   "execution_count": null,
   "metadata": {},
   "outputs": [],
   "source": []
  },
  {
   "cell_type": "code",
   "execution_count": null,
   "metadata": {},
   "outputs": [],
   "source": []
  },
  {
   "cell_type": "code",
   "execution_count": null,
   "metadata": {},
   "outputs": [],
   "source": []
  },
  {
   "cell_type": "code",
   "execution_count": null,
   "metadata": {},
   "outputs": [],
   "source": []
  },
  {
   "cell_type": "code",
   "execution_count": null,
   "metadata": {},
   "outputs": [],
   "source": []
  },
  {
   "cell_type": "code",
   "execution_count": null,
   "metadata": {},
   "outputs": [],
   "source": []
  },
  {
   "cell_type": "code",
   "execution_count": null,
   "metadata": {},
   "outputs": [],
   "source": []
  },
  {
   "cell_type": "code",
   "execution_count": null,
   "metadata": {},
   "outputs": [],
   "source": []
  },
  {
   "cell_type": "code",
   "execution_count": null,
   "metadata": {},
   "outputs": [],
   "source": []
  },
  {
   "cell_type": "code",
   "execution_count": null,
   "metadata": {},
   "outputs": [],
   "source": []
  },
  {
   "cell_type": "code",
   "execution_count": null,
   "metadata": {},
   "outputs": [],
   "source": []
  },
  {
   "cell_type": "code",
   "execution_count": null,
   "metadata": {},
   "outputs": [],
   "source": []
  },
  {
   "cell_type": "code",
   "execution_count": null,
   "metadata": {},
   "outputs": [],
   "source": []
  },
  {
   "cell_type": "code",
   "execution_count": null,
   "metadata": {},
   "outputs": [],
   "source": []
  },
  {
   "cell_type": "code",
   "execution_count": null,
   "metadata": {},
   "outputs": [],
   "source": []
  },
  {
   "cell_type": "code",
   "execution_count": 1,
   "metadata": {},
   "outputs": [],
   "source": [
    "import re"
   ]
  },
  {
   "cell_type": "code",
   "execution_count": 19,
   "metadata": {
    "id": "8JoDmtoZQaEX"
   },
   "outputs": [],
   "source": [
    "multiline_string = \"\"\"\n",
    "hello!\n",
    "hi, how are you?\n",
    "niranjan\n",
    "\n",
    "all fine, you say.\n",
    "\n",
    "abcdefghijklmnopqrstuvwxyz\n",
    "ABCDEFGHIJKLMNOPQRSTUVWXYZ\n",
    "0123456789\n",
    "\n",
    "meta characters\n",
    ". ^ + * ? ( ) [ ] { } / |\n",
    "\n",
    "email\n",
    "jaini@gmail.com\n",
    "kapil.jangid@tops-int.com\n",
    "\n",
    "urls\n",
    "https://www.tops-int.com/\n",
    "https://typhit.codweb.in/site\n",
    "\n",
    "numbers\n",
    "8987-89-1546\n",
    "6456.9879.6987.9875\n",
    "\"\"\"\n",
    "\n",
    "single_line = \"this is a simple single line string.\""
   ]
  },
  {
   "cell_type": "code",
   "execution_count": 23,
   "metadata": {},
   "outputs": [],
   "source": [
    "pattern = re.compile(r'niranjan')"
   ]
  },
  {
   "cell_type": "code",
   "execution_count": 24,
   "metadata": {},
   "outputs": [
    {
     "data": {
      "text/plain": [
       "re.compile(r'niranjan', re.UNICODE)"
      ]
     },
     "execution_count": 24,
     "metadata": {},
     "output_type": "execute_result"
    }
   ],
   "source": [
    "pattern"
   ]
  },
  {
   "cell_type": "code",
   "execution_count": 25,
   "metadata": {},
   "outputs": [],
   "source": [
    "matched_str = pattern.finditer(multiline_string)"
   ]
  },
  {
   "cell_type": "code",
   "execution_count": 26,
   "metadata": {},
   "outputs": [
    {
     "data": {
      "text/plain": [
       "<callable_iterator at 0x26a468a4be0>"
      ]
     },
     "execution_count": 26,
     "metadata": {},
     "output_type": "execute_result"
    }
   ],
   "source": [
    "matched_str"
   ]
  },
  {
   "cell_type": "code",
   "execution_count": 27,
   "metadata": {},
   "outputs": [
    {
     "name": "stdout",
     "output_type": "stream",
     "text": [
      "<re.Match object; span=(25, 33), match='niranjan'>\n"
     ]
    }
   ],
   "source": [
    "for i in matched_str:\n",
    "     print(i)"
   ]
  },
  {
   "cell_type": "code",
   "execution_count": 28,
   "metadata": {},
   "outputs": [],
   "source": [
    "def test(st, src):\n",
    "  pattern = re.compile(f\"{st}\")\n",
    "  matched = pattern.finditer( src )\n",
    "\n",
    "  return [ i for i in matched ]"
   ]
  },
  {
   "cell_type": "code",
   "execution_count": 35,
   "metadata": {},
   "outputs": [],
   "source": [
    "result = test('n',multiline_string)"
   ]
  },
  {
   "cell_type": "code",
   "execution_count": 36,
   "metadata": {},
   "outputs": [
    {
     "data": {
      "text/plain": [
       "[<re.Match object; span=(25, 26), match='n'>,\n",
       " <re.Match object; span=(29, 30), match='n'>,\n",
       " <re.Match object; span=(32, 33), match='n'>,\n",
       " <re.Match object; span=(41, 42), match='n'>,\n",
       " <re.Match object; span=(68, 69), match='n'>,\n",
       " <re.Match object; span=(173, 174), match='n'>,\n",
       " <re.Match object; span=(194, 195), match='n'>,\n",
       " <re.Match object; span=(205, 206), match='n'>,\n",
       " <re.Match object; span=(236, 237), match='n'>,\n",
       " <re.Match object; span=(267, 268), match='n'>,\n",
       " <re.Match object; span=(275, 276), match='n'>]"
      ]
     },
     "execution_count": 36,
     "metadata": {},
     "output_type": "execute_result"
    }
   ],
   "source": [
    "result"
   ]
  },
  {
   "cell_type": "code",
   "execution_count": 37,
   "metadata": {},
   "outputs": [
    {
     "data": {
      "text/plain": [
       "[<re.Match object; span=(109, 110), match='0'>,\n",
       " <re.Match object; span=(110, 111), match='1'>,\n",
       " <re.Match object; span=(111, 112), match='2'>,\n",
       " <re.Match object; span=(112, 113), match='3'>,\n",
       " <re.Match object; span=(113, 114), match='4'>,\n",
       " <re.Match object; span=(114, 115), match='5'>,\n",
       " <re.Match object; span=(115, 116), match='6'>,\n",
       " <re.Match object; span=(116, 117), match='7'>,\n",
       " <re.Match object; span=(117, 118), match='8'>,\n",
       " <re.Match object; span=(118, 119), match='9'>,\n",
       " <re.Match object; span=(283, 284), match='8'>,\n",
       " <re.Match object; span=(284, 285), match='9'>,\n",
       " <re.Match object; span=(285, 286), match='8'>,\n",
       " <re.Match object; span=(286, 287), match='7'>,\n",
       " <re.Match object; span=(288, 289), match='8'>,\n",
       " <re.Match object; span=(289, 290), match='9'>,\n",
       " <re.Match object; span=(291, 292), match='1'>,\n",
       " <re.Match object; span=(292, 293), match='5'>,\n",
       " <re.Match object; span=(293, 294), match='4'>,\n",
       " <re.Match object; span=(294, 295), match='6'>,\n",
       " <re.Match object; span=(296, 297), match='6'>,\n",
       " <re.Match object; span=(297, 298), match='4'>,\n",
       " <re.Match object; span=(298, 299), match='5'>,\n",
       " <re.Match object; span=(299, 300), match='6'>,\n",
       " <re.Match object; span=(301, 302), match='9'>,\n",
       " <re.Match object; span=(302, 303), match='8'>,\n",
       " <re.Match object; span=(303, 304), match='7'>,\n",
       " <re.Match object; span=(304, 305), match='9'>,\n",
       " <re.Match object; span=(306, 307), match='6'>,\n",
       " <re.Match object; span=(307, 308), match='9'>,\n",
       " <re.Match object; span=(308, 309), match='8'>,\n",
       " <re.Match object; span=(309, 310), match='7'>,\n",
       " <re.Match object; span=(311, 312), match='9'>,\n",
       " <re.Match object; span=(312, 313), match='8'>,\n",
       " <re.Match object; span=(313, 314), match='7'>,\n",
       " <re.Match object; span=(314, 315), match='5'>]"
      ]
     },
     "execution_count": 37,
     "metadata": {},
     "output_type": "execute_result"
    }
   ],
   "source": [
    "test('\\d', multiline_string)"
   ]
  },
  {
   "cell_type": "code",
   "execution_count": 41,
   "metadata": {},
   "outputs": [
    {
     "data": {
      "text/plain": [
       "[<re.Match object; span=(0, 1), match='\\n'>,\n",
       " <re.Match object; span=(1, 2), match='h'>,\n",
       " <re.Match object; span=(2, 3), match='e'>,\n",
       " <re.Match object; span=(3, 4), match='l'>,\n",
       " <re.Match object; span=(4, 5), match='l'>,\n",
       " <re.Match object; span=(5, 6), match='o'>,\n",
       " <re.Match object; span=(6, 7), match='!'>,\n",
       " <re.Match object; span=(7, 8), match='\\n'>,\n",
       " <re.Match object; span=(8, 9), match='h'>,\n",
       " <re.Match object; span=(9, 10), match='i'>,\n",
       " <re.Match object; span=(10, 11), match=','>,\n",
       " <re.Match object; span=(11, 12), match=' '>,\n",
       " <re.Match object; span=(12, 13), match='h'>,\n",
       " <re.Match object; span=(13, 14), match='o'>,\n",
       " <re.Match object; span=(14, 15), match='w'>,\n",
       " <re.Match object; span=(15, 16), match=' '>,\n",
       " <re.Match object; span=(16, 17), match='a'>,\n",
       " <re.Match object; span=(17, 18), match='r'>,\n",
       " <re.Match object; span=(18, 19), match='e'>,\n",
       " <re.Match object; span=(19, 20), match=' '>,\n",
       " <re.Match object; span=(20, 21), match='y'>,\n",
       " <re.Match object; span=(21, 22), match='o'>,\n",
       " <re.Match object; span=(22, 23), match='u'>,\n",
       " <re.Match object; span=(23, 24), match='?'>,\n",
       " <re.Match object; span=(24, 25), match='\\n'>,\n",
       " <re.Match object; span=(25, 26), match='n'>,\n",
       " <re.Match object; span=(26, 27), match='i'>,\n",
       " <re.Match object; span=(27, 28), match='r'>,\n",
       " <re.Match object; span=(28, 29), match='a'>,\n",
       " <re.Match object; span=(29, 30), match='n'>,\n",
       " <re.Match object; span=(30, 31), match='j'>,\n",
       " <re.Match object; span=(31, 32), match='a'>,\n",
       " <re.Match object; span=(32, 33), match='n'>,\n",
       " <re.Match object; span=(33, 34), match='\\n'>,\n",
       " <re.Match object; span=(34, 35), match='\\n'>,\n",
       " <re.Match object; span=(35, 36), match='a'>,\n",
       " <re.Match object; span=(36, 37), match='l'>,\n",
       " <re.Match object; span=(37, 38), match='l'>,\n",
       " <re.Match object; span=(38, 39), match=' '>,\n",
       " <re.Match object; span=(39, 40), match='f'>,\n",
       " <re.Match object; span=(40, 41), match='i'>,\n",
       " <re.Match object; span=(41, 42), match='n'>,\n",
       " <re.Match object; span=(42, 43), match='e'>,\n",
       " <re.Match object; span=(43, 44), match=','>,\n",
       " <re.Match object; span=(44, 45), match=' '>,\n",
       " <re.Match object; span=(45, 46), match='y'>,\n",
       " <re.Match object; span=(46, 47), match='o'>,\n",
       " <re.Match object; span=(47, 48), match='u'>,\n",
       " <re.Match object; span=(48, 49), match=' '>,\n",
       " <re.Match object; span=(49, 50), match='s'>,\n",
       " <re.Match object; span=(50, 51), match='a'>,\n",
       " <re.Match object; span=(51, 52), match='y'>,\n",
       " <re.Match object; span=(52, 53), match='.'>,\n",
       " <re.Match object; span=(53, 54), match='\\n'>,\n",
       " <re.Match object; span=(54, 55), match='\\n'>,\n",
       " <re.Match object; span=(55, 56), match='a'>,\n",
       " <re.Match object; span=(56, 57), match='b'>,\n",
       " <re.Match object; span=(57, 58), match='c'>,\n",
       " <re.Match object; span=(58, 59), match='d'>,\n",
       " <re.Match object; span=(59, 60), match='e'>,\n",
       " <re.Match object; span=(60, 61), match='f'>,\n",
       " <re.Match object; span=(61, 62), match='g'>,\n",
       " <re.Match object; span=(62, 63), match='h'>,\n",
       " <re.Match object; span=(63, 64), match='i'>,\n",
       " <re.Match object; span=(64, 65), match='j'>,\n",
       " <re.Match object; span=(65, 66), match='k'>,\n",
       " <re.Match object; span=(66, 67), match='l'>,\n",
       " <re.Match object; span=(67, 68), match='m'>,\n",
       " <re.Match object; span=(68, 69), match='n'>,\n",
       " <re.Match object; span=(69, 70), match='o'>,\n",
       " <re.Match object; span=(70, 71), match='p'>,\n",
       " <re.Match object; span=(71, 72), match='q'>,\n",
       " <re.Match object; span=(72, 73), match='r'>,\n",
       " <re.Match object; span=(73, 74), match='s'>,\n",
       " <re.Match object; span=(74, 75), match='t'>,\n",
       " <re.Match object; span=(75, 76), match='u'>,\n",
       " <re.Match object; span=(76, 77), match='v'>,\n",
       " <re.Match object; span=(77, 78), match='w'>,\n",
       " <re.Match object; span=(78, 79), match='x'>,\n",
       " <re.Match object; span=(79, 80), match='y'>,\n",
       " <re.Match object; span=(80, 81), match='z'>,\n",
       " <re.Match object; span=(81, 82), match='\\n'>,\n",
       " <re.Match object; span=(82, 83), match='A'>,\n",
       " <re.Match object; span=(83, 84), match='B'>,\n",
       " <re.Match object; span=(84, 85), match='C'>,\n",
       " <re.Match object; span=(85, 86), match='D'>,\n",
       " <re.Match object; span=(86, 87), match='E'>,\n",
       " <re.Match object; span=(87, 88), match='F'>,\n",
       " <re.Match object; span=(88, 89), match='G'>,\n",
       " <re.Match object; span=(89, 90), match='H'>,\n",
       " <re.Match object; span=(90, 91), match='I'>,\n",
       " <re.Match object; span=(91, 92), match='J'>,\n",
       " <re.Match object; span=(92, 93), match='K'>,\n",
       " <re.Match object; span=(93, 94), match='L'>,\n",
       " <re.Match object; span=(94, 95), match='M'>,\n",
       " <re.Match object; span=(95, 96), match='N'>,\n",
       " <re.Match object; span=(96, 97), match='O'>,\n",
       " <re.Match object; span=(97, 98), match='P'>,\n",
       " <re.Match object; span=(98, 99), match='Q'>,\n",
       " <re.Match object; span=(99, 100), match='R'>,\n",
       " <re.Match object; span=(100, 101), match='S'>,\n",
       " <re.Match object; span=(101, 102), match='T'>,\n",
       " <re.Match object; span=(102, 103), match='U'>,\n",
       " <re.Match object; span=(103, 104), match='V'>,\n",
       " <re.Match object; span=(104, 105), match='W'>,\n",
       " <re.Match object; span=(105, 106), match='X'>,\n",
       " <re.Match object; span=(106, 107), match='Y'>,\n",
       " <re.Match object; span=(107, 108), match='Z'>,\n",
       " <re.Match object; span=(108, 109), match='\\n'>,\n",
       " <re.Match object; span=(119, 120), match='\\n'>,\n",
       " <re.Match object; span=(120, 121), match='\\n'>,\n",
       " <re.Match object; span=(121, 122), match='m'>,\n",
       " <re.Match object; span=(122, 123), match='e'>,\n",
       " <re.Match object; span=(123, 124), match='t'>,\n",
       " <re.Match object; span=(124, 125), match='a'>,\n",
       " <re.Match object; span=(125, 126), match=' '>,\n",
       " <re.Match object; span=(126, 127), match='c'>,\n",
       " <re.Match object; span=(127, 128), match='h'>,\n",
       " <re.Match object; span=(128, 129), match='a'>,\n",
       " <re.Match object; span=(129, 130), match='r'>,\n",
       " <re.Match object; span=(130, 131), match='a'>,\n",
       " <re.Match object; span=(131, 132), match='c'>,\n",
       " <re.Match object; span=(132, 133), match='t'>,\n",
       " <re.Match object; span=(133, 134), match='e'>,\n",
       " <re.Match object; span=(134, 135), match='r'>,\n",
       " <re.Match object; span=(135, 136), match='s'>,\n",
       " <re.Match object; span=(136, 137), match='\\n'>,\n",
       " <re.Match object; span=(137, 138), match='.'>,\n",
       " <re.Match object; span=(138, 139), match=' '>,\n",
       " <re.Match object; span=(139, 140), match='^'>,\n",
       " <re.Match object; span=(140, 141), match=' '>,\n",
       " <re.Match object; span=(141, 142), match='+'>,\n",
       " <re.Match object; span=(142, 143), match=' '>,\n",
       " <re.Match object; span=(143, 144), match='*'>,\n",
       " <re.Match object; span=(144, 145), match=' '>,\n",
       " <re.Match object; span=(145, 146), match='?'>,\n",
       " <re.Match object; span=(146, 147), match=' '>,\n",
       " <re.Match object; span=(147, 148), match='('>,\n",
       " <re.Match object; span=(148, 149), match=' '>,\n",
       " <re.Match object; span=(149, 150), match=')'>,\n",
       " <re.Match object; span=(150, 151), match=' '>,\n",
       " <re.Match object; span=(151, 152), match='['>,\n",
       " <re.Match object; span=(152, 153), match=' '>,\n",
       " <re.Match object; span=(153, 154), match=']'>,\n",
       " <re.Match object; span=(154, 155), match=' '>,\n",
       " <re.Match object; span=(155, 156), match='{'>,\n",
       " <re.Match object; span=(156, 157), match=' '>,\n",
       " <re.Match object; span=(157, 158), match='}'>,\n",
       " <re.Match object; span=(158, 159), match=' '>,\n",
       " <re.Match object; span=(159, 160), match='/'>,\n",
       " <re.Match object; span=(160, 161), match=' '>,\n",
       " <re.Match object; span=(161, 162), match='|'>,\n",
       " <re.Match object; span=(162, 163), match='\\n'>,\n",
       " <re.Match object; span=(163, 164), match='\\n'>,\n",
       " <re.Match object; span=(164, 165), match='e'>,\n",
       " <re.Match object; span=(165, 166), match='m'>,\n",
       " <re.Match object; span=(166, 167), match='a'>,\n",
       " <re.Match object; span=(167, 168), match='i'>,\n",
       " <re.Match object; span=(168, 169), match='l'>,\n",
       " <re.Match object; span=(169, 170), match='\\n'>,\n",
       " <re.Match object; span=(170, 171), match='j'>,\n",
       " <re.Match object; span=(171, 172), match='a'>,\n",
       " <re.Match object; span=(172, 173), match='i'>,\n",
       " <re.Match object; span=(173, 174), match='n'>,\n",
       " <re.Match object; span=(174, 175), match='i'>,\n",
       " <re.Match object; span=(175, 176), match='@'>,\n",
       " <re.Match object; span=(176, 177), match='g'>,\n",
       " <re.Match object; span=(177, 178), match='m'>,\n",
       " <re.Match object; span=(178, 179), match='a'>,\n",
       " <re.Match object; span=(179, 180), match='i'>,\n",
       " <re.Match object; span=(180, 181), match='l'>,\n",
       " <re.Match object; span=(181, 182), match='.'>,\n",
       " <re.Match object; span=(182, 183), match='c'>,\n",
       " <re.Match object; span=(183, 184), match='o'>,\n",
       " <re.Match object; span=(184, 185), match='m'>,\n",
       " <re.Match object; span=(185, 186), match='\\n'>,\n",
       " <re.Match object; span=(186, 187), match='k'>,\n",
       " <re.Match object; span=(187, 188), match='a'>,\n",
       " <re.Match object; span=(188, 189), match='p'>,\n",
       " <re.Match object; span=(189, 190), match='i'>,\n",
       " <re.Match object; span=(190, 191), match='l'>,\n",
       " <re.Match object; span=(191, 192), match='.'>,\n",
       " <re.Match object; span=(192, 193), match='j'>,\n",
       " <re.Match object; span=(193, 194), match='a'>,\n",
       " <re.Match object; span=(194, 195), match='n'>,\n",
       " <re.Match object; span=(195, 196), match='g'>,\n",
       " <re.Match object; span=(196, 197), match='i'>,\n",
       " <re.Match object; span=(197, 198), match='d'>,\n",
       " <re.Match object; span=(198, 199), match='@'>,\n",
       " <re.Match object; span=(199, 200), match='t'>,\n",
       " <re.Match object; span=(200, 201), match='o'>,\n",
       " <re.Match object; span=(201, 202), match='p'>,\n",
       " <re.Match object; span=(202, 203), match='s'>,\n",
       " <re.Match object; span=(203, 204), match='-'>,\n",
       " <re.Match object; span=(204, 205), match='i'>,\n",
       " <re.Match object; span=(205, 206), match='n'>,\n",
       " <re.Match object; span=(206, 207), match='t'>,\n",
       " <re.Match object; span=(207, 208), match='.'>,\n",
       " <re.Match object; span=(208, 209), match='c'>,\n",
       " <re.Match object; span=(209, 210), match='o'>,\n",
       " <re.Match object; span=(210, 211), match='m'>,\n",
       " <re.Match object; span=(211, 212), match='\\n'>,\n",
       " <re.Match object; span=(212, 213), match='\\n'>,\n",
       " <re.Match object; span=(213, 214), match='u'>,\n",
       " <re.Match object; span=(214, 215), match='r'>,\n",
       " <re.Match object; span=(215, 216), match='l'>,\n",
       " <re.Match object; span=(216, 217), match='s'>,\n",
       " <re.Match object; span=(217, 218), match='\\n'>,\n",
       " <re.Match object; span=(218, 219), match='h'>,\n",
       " <re.Match object; span=(219, 220), match='t'>,\n",
       " <re.Match object; span=(220, 221), match='t'>,\n",
       " <re.Match object; span=(221, 222), match='p'>,\n",
       " <re.Match object; span=(222, 223), match='s'>,\n",
       " <re.Match object; span=(223, 224), match=':'>,\n",
       " <re.Match object; span=(224, 225), match='/'>,\n",
       " <re.Match object; span=(225, 226), match='/'>,\n",
       " <re.Match object; span=(226, 227), match='w'>,\n",
       " <re.Match object; span=(227, 228), match='w'>,\n",
       " <re.Match object; span=(228, 229), match='w'>,\n",
       " <re.Match object; span=(229, 230), match='.'>,\n",
       " <re.Match object; span=(230, 231), match='t'>,\n",
       " <re.Match object; span=(231, 232), match='o'>,\n",
       " <re.Match object; span=(232, 233), match='p'>,\n",
       " <re.Match object; span=(233, 234), match='s'>,\n",
       " <re.Match object; span=(234, 235), match='-'>,\n",
       " <re.Match object; span=(235, 236), match='i'>,\n",
       " <re.Match object; span=(236, 237), match='n'>,\n",
       " <re.Match object; span=(237, 238), match='t'>,\n",
       " <re.Match object; span=(238, 239), match='.'>,\n",
       " <re.Match object; span=(239, 240), match='c'>,\n",
       " <re.Match object; span=(240, 241), match='o'>,\n",
       " <re.Match object; span=(241, 242), match='m'>,\n",
       " <re.Match object; span=(242, 243), match='/'>,\n",
       " <re.Match object; span=(243, 244), match='\\n'>,\n",
       " <re.Match object; span=(244, 245), match='h'>,\n",
       " <re.Match object; span=(245, 246), match='t'>,\n",
       " <re.Match object; span=(246, 247), match='t'>,\n",
       " <re.Match object; span=(247, 248), match='p'>,\n",
       " <re.Match object; span=(248, 249), match='s'>,\n",
       " <re.Match object; span=(249, 250), match=':'>,\n",
       " <re.Match object; span=(250, 251), match='/'>,\n",
       " <re.Match object; span=(251, 252), match='/'>,\n",
       " <re.Match object; span=(252, 253), match='t'>,\n",
       " <re.Match object; span=(253, 254), match='y'>,\n",
       " <re.Match object; span=(254, 255), match='p'>,\n",
       " <re.Match object; span=(255, 256), match='h'>,\n",
       " <re.Match object; span=(256, 257), match='i'>,\n",
       " <re.Match object; span=(257, 258), match='t'>,\n",
       " <re.Match object; span=(258, 259), match='.'>,\n",
       " <re.Match object; span=(259, 260), match='c'>,\n",
       " <re.Match object; span=(260, 261), match='o'>,\n",
       " <re.Match object; span=(261, 262), match='d'>,\n",
       " <re.Match object; span=(262, 263), match='w'>,\n",
       " <re.Match object; span=(263, 264), match='e'>,\n",
       " <re.Match object; span=(264, 265), match='b'>,\n",
       " <re.Match object; span=(265, 266), match='.'>,\n",
       " <re.Match object; span=(266, 267), match='i'>,\n",
       " <re.Match object; span=(267, 268), match='n'>,\n",
       " <re.Match object; span=(268, 269), match='/'>,\n",
       " <re.Match object; span=(269, 270), match='s'>,\n",
       " <re.Match object; span=(270, 271), match='i'>,\n",
       " <re.Match object; span=(271, 272), match='t'>,\n",
       " <re.Match object; span=(272, 273), match='e'>,\n",
       " <re.Match object; span=(273, 274), match='\\n'>,\n",
       " <re.Match object; span=(274, 275), match='\\n'>,\n",
       " <re.Match object; span=(275, 276), match='n'>,\n",
       " <re.Match object; span=(276, 277), match='u'>,\n",
       " <re.Match object; span=(277, 278), match='m'>,\n",
       " <re.Match object; span=(278, 279), match='b'>,\n",
       " <re.Match object; span=(279, 280), match='e'>,\n",
       " <re.Match object; span=(280, 281), match='r'>,\n",
       " <re.Match object; span=(281, 282), match='s'>,\n",
       " <re.Match object; span=(282, 283), match='\\n'>,\n",
       " <re.Match object; span=(287, 288), match='-'>,\n",
       " <re.Match object; span=(290, 291), match='-'>,\n",
       " <re.Match object; span=(295, 296), match='\\n'>,\n",
       " <re.Match object; span=(300, 301), match='.'>,\n",
       " <re.Match object; span=(305, 306), match='.'>,\n",
       " <re.Match object; span=(310, 311), match='.'>,\n",
       " <re.Match object; span=(315, 316), match='\\n'>]"
      ]
     },
     "execution_count": 41,
     "metadata": {},
     "output_type": "execute_result"
    }
   ],
   "source": [
    "test('\\D', multiline_string)"
   ]
  },
  {
   "cell_type": "code",
   "execution_count": 40,
   "metadata": {},
   "outputs": [
    {
     "data": {
      "text/plain": [
       "[<re.Match object; span=(1, 2), match='h'>,\n",
       " <re.Match object; span=(2, 3), match='e'>,\n",
       " <re.Match object; span=(3, 4), match='l'>,\n",
       " <re.Match object; span=(4, 5), match='l'>,\n",
       " <re.Match object; span=(5, 6), match='o'>,\n",
       " <re.Match object; span=(8, 9), match='h'>,\n",
       " <re.Match object; span=(9, 10), match='i'>,\n",
       " <re.Match object; span=(12, 13), match='h'>,\n",
       " <re.Match object; span=(13, 14), match='o'>,\n",
       " <re.Match object; span=(14, 15), match='w'>,\n",
       " <re.Match object; span=(16, 17), match='a'>,\n",
       " <re.Match object; span=(17, 18), match='r'>,\n",
       " <re.Match object; span=(18, 19), match='e'>,\n",
       " <re.Match object; span=(20, 21), match='y'>,\n",
       " <re.Match object; span=(21, 22), match='o'>,\n",
       " <re.Match object; span=(22, 23), match='u'>,\n",
       " <re.Match object; span=(25, 26), match='n'>,\n",
       " <re.Match object; span=(26, 27), match='i'>,\n",
       " <re.Match object; span=(27, 28), match='r'>,\n",
       " <re.Match object; span=(28, 29), match='a'>,\n",
       " <re.Match object; span=(29, 30), match='n'>,\n",
       " <re.Match object; span=(30, 31), match='j'>,\n",
       " <re.Match object; span=(31, 32), match='a'>,\n",
       " <re.Match object; span=(32, 33), match='n'>,\n",
       " <re.Match object; span=(35, 36), match='a'>,\n",
       " <re.Match object; span=(36, 37), match='l'>,\n",
       " <re.Match object; span=(37, 38), match='l'>,\n",
       " <re.Match object; span=(39, 40), match='f'>,\n",
       " <re.Match object; span=(40, 41), match='i'>,\n",
       " <re.Match object; span=(41, 42), match='n'>,\n",
       " <re.Match object; span=(42, 43), match='e'>,\n",
       " <re.Match object; span=(45, 46), match='y'>,\n",
       " <re.Match object; span=(46, 47), match='o'>,\n",
       " <re.Match object; span=(47, 48), match='u'>,\n",
       " <re.Match object; span=(49, 50), match='s'>,\n",
       " <re.Match object; span=(50, 51), match='a'>,\n",
       " <re.Match object; span=(51, 52), match='y'>,\n",
       " <re.Match object; span=(55, 56), match='a'>,\n",
       " <re.Match object; span=(56, 57), match='b'>,\n",
       " <re.Match object; span=(57, 58), match='c'>,\n",
       " <re.Match object; span=(58, 59), match='d'>,\n",
       " <re.Match object; span=(59, 60), match='e'>,\n",
       " <re.Match object; span=(60, 61), match='f'>,\n",
       " <re.Match object; span=(61, 62), match='g'>,\n",
       " <re.Match object; span=(62, 63), match='h'>,\n",
       " <re.Match object; span=(63, 64), match='i'>,\n",
       " <re.Match object; span=(64, 65), match='j'>,\n",
       " <re.Match object; span=(65, 66), match='k'>,\n",
       " <re.Match object; span=(66, 67), match='l'>,\n",
       " <re.Match object; span=(67, 68), match='m'>,\n",
       " <re.Match object; span=(68, 69), match='n'>,\n",
       " <re.Match object; span=(69, 70), match='o'>,\n",
       " <re.Match object; span=(70, 71), match='p'>,\n",
       " <re.Match object; span=(71, 72), match='q'>,\n",
       " <re.Match object; span=(72, 73), match='r'>,\n",
       " <re.Match object; span=(73, 74), match='s'>,\n",
       " <re.Match object; span=(74, 75), match='t'>,\n",
       " <re.Match object; span=(75, 76), match='u'>,\n",
       " <re.Match object; span=(76, 77), match='v'>,\n",
       " <re.Match object; span=(77, 78), match='w'>,\n",
       " <re.Match object; span=(78, 79), match='x'>,\n",
       " <re.Match object; span=(79, 80), match='y'>,\n",
       " <re.Match object; span=(80, 81), match='z'>,\n",
       " <re.Match object; span=(82, 83), match='A'>,\n",
       " <re.Match object; span=(83, 84), match='B'>,\n",
       " <re.Match object; span=(84, 85), match='C'>,\n",
       " <re.Match object; span=(85, 86), match='D'>,\n",
       " <re.Match object; span=(86, 87), match='E'>,\n",
       " <re.Match object; span=(87, 88), match='F'>,\n",
       " <re.Match object; span=(88, 89), match='G'>,\n",
       " <re.Match object; span=(89, 90), match='H'>,\n",
       " <re.Match object; span=(90, 91), match='I'>,\n",
       " <re.Match object; span=(91, 92), match='J'>,\n",
       " <re.Match object; span=(92, 93), match='K'>,\n",
       " <re.Match object; span=(93, 94), match='L'>,\n",
       " <re.Match object; span=(94, 95), match='M'>,\n",
       " <re.Match object; span=(95, 96), match='N'>,\n",
       " <re.Match object; span=(96, 97), match='O'>,\n",
       " <re.Match object; span=(97, 98), match='P'>,\n",
       " <re.Match object; span=(98, 99), match='Q'>,\n",
       " <re.Match object; span=(99, 100), match='R'>,\n",
       " <re.Match object; span=(100, 101), match='S'>,\n",
       " <re.Match object; span=(101, 102), match='T'>,\n",
       " <re.Match object; span=(102, 103), match='U'>,\n",
       " <re.Match object; span=(103, 104), match='V'>,\n",
       " <re.Match object; span=(104, 105), match='W'>,\n",
       " <re.Match object; span=(105, 106), match='X'>,\n",
       " <re.Match object; span=(106, 107), match='Y'>,\n",
       " <re.Match object; span=(107, 108), match='Z'>,\n",
       " <re.Match object; span=(109, 110), match='0'>,\n",
       " <re.Match object; span=(110, 111), match='1'>,\n",
       " <re.Match object; span=(111, 112), match='2'>,\n",
       " <re.Match object; span=(112, 113), match='3'>,\n",
       " <re.Match object; span=(113, 114), match='4'>,\n",
       " <re.Match object; span=(114, 115), match='5'>,\n",
       " <re.Match object; span=(115, 116), match='6'>,\n",
       " <re.Match object; span=(116, 117), match='7'>,\n",
       " <re.Match object; span=(117, 118), match='8'>,\n",
       " <re.Match object; span=(118, 119), match='9'>,\n",
       " <re.Match object; span=(121, 122), match='m'>,\n",
       " <re.Match object; span=(122, 123), match='e'>,\n",
       " <re.Match object; span=(123, 124), match='t'>,\n",
       " <re.Match object; span=(124, 125), match='a'>,\n",
       " <re.Match object; span=(126, 127), match='c'>,\n",
       " <re.Match object; span=(127, 128), match='h'>,\n",
       " <re.Match object; span=(128, 129), match='a'>,\n",
       " <re.Match object; span=(129, 130), match='r'>,\n",
       " <re.Match object; span=(130, 131), match='a'>,\n",
       " <re.Match object; span=(131, 132), match='c'>,\n",
       " <re.Match object; span=(132, 133), match='t'>,\n",
       " <re.Match object; span=(133, 134), match='e'>,\n",
       " <re.Match object; span=(134, 135), match='r'>,\n",
       " <re.Match object; span=(135, 136), match='s'>,\n",
       " <re.Match object; span=(164, 165), match='e'>,\n",
       " <re.Match object; span=(165, 166), match='m'>,\n",
       " <re.Match object; span=(166, 167), match='a'>,\n",
       " <re.Match object; span=(167, 168), match='i'>,\n",
       " <re.Match object; span=(168, 169), match='l'>,\n",
       " <re.Match object; span=(170, 171), match='j'>,\n",
       " <re.Match object; span=(171, 172), match='a'>,\n",
       " <re.Match object; span=(172, 173), match='i'>,\n",
       " <re.Match object; span=(173, 174), match='n'>,\n",
       " <re.Match object; span=(174, 175), match='i'>,\n",
       " <re.Match object; span=(176, 177), match='g'>,\n",
       " <re.Match object; span=(177, 178), match='m'>,\n",
       " <re.Match object; span=(178, 179), match='a'>,\n",
       " <re.Match object; span=(179, 180), match='i'>,\n",
       " <re.Match object; span=(180, 181), match='l'>,\n",
       " <re.Match object; span=(182, 183), match='c'>,\n",
       " <re.Match object; span=(183, 184), match='o'>,\n",
       " <re.Match object; span=(184, 185), match='m'>,\n",
       " <re.Match object; span=(186, 187), match='k'>,\n",
       " <re.Match object; span=(187, 188), match='a'>,\n",
       " <re.Match object; span=(188, 189), match='p'>,\n",
       " <re.Match object; span=(189, 190), match='i'>,\n",
       " <re.Match object; span=(190, 191), match='l'>,\n",
       " <re.Match object; span=(192, 193), match='j'>,\n",
       " <re.Match object; span=(193, 194), match='a'>,\n",
       " <re.Match object; span=(194, 195), match='n'>,\n",
       " <re.Match object; span=(195, 196), match='g'>,\n",
       " <re.Match object; span=(196, 197), match='i'>,\n",
       " <re.Match object; span=(197, 198), match='d'>,\n",
       " <re.Match object; span=(199, 200), match='t'>,\n",
       " <re.Match object; span=(200, 201), match='o'>,\n",
       " <re.Match object; span=(201, 202), match='p'>,\n",
       " <re.Match object; span=(202, 203), match='s'>,\n",
       " <re.Match object; span=(204, 205), match='i'>,\n",
       " <re.Match object; span=(205, 206), match='n'>,\n",
       " <re.Match object; span=(206, 207), match='t'>,\n",
       " <re.Match object; span=(208, 209), match='c'>,\n",
       " <re.Match object; span=(209, 210), match='o'>,\n",
       " <re.Match object; span=(210, 211), match='m'>,\n",
       " <re.Match object; span=(213, 214), match='u'>,\n",
       " <re.Match object; span=(214, 215), match='r'>,\n",
       " <re.Match object; span=(215, 216), match='l'>,\n",
       " <re.Match object; span=(216, 217), match='s'>,\n",
       " <re.Match object; span=(218, 219), match='h'>,\n",
       " <re.Match object; span=(219, 220), match='t'>,\n",
       " <re.Match object; span=(220, 221), match='t'>,\n",
       " <re.Match object; span=(221, 222), match='p'>,\n",
       " <re.Match object; span=(222, 223), match='s'>,\n",
       " <re.Match object; span=(226, 227), match='w'>,\n",
       " <re.Match object; span=(227, 228), match='w'>,\n",
       " <re.Match object; span=(228, 229), match='w'>,\n",
       " <re.Match object; span=(230, 231), match='t'>,\n",
       " <re.Match object; span=(231, 232), match='o'>,\n",
       " <re.Match object; span=(232, 233), match='p'>,\n",
       " <re.Match object; span=(233, 234), match='s'>,\n",
       " <re.Match object; span=(235, 236), match='i'>,\n",
       " <re.Match object; span=(236, 237), match='n'>,\n",
       " <re.Match object; span=(237, 238), match='t'>,\n",
       " <re.Match object; span=(239, 240), match='c'>,\n",
       " <re.Match object; span=(240, 241), match='o'>,\n",
       " <re.Match object; span=(241, 242), match='m'>,\n",
       " <re.Match object; span=(244, 245), match='h'>,\n",
       " <re.Match object; span=(245, 246), match='t'>,\n",
       " <re.Match object; span=(246, 247), match='t'>,\n",
       " <re.Match object; span=(247, 248), match='p'>,\n",
       " <re.Match object; span=(248, 249), match='s'>,\n",
       " <re.Match object; span=(252, 253), match='t'>,\n",
       " <re.Match object; span=(253, 254), match='y'>,\n",
       " <re.Match object; span=(254, 255), match='p'>,\n",
       " <re.Match object; span=(255, 256), match='h'>,\n",
       " <re.Match object; span=(256, 257), match='i'>,\n",
       " <re.Match object; span=(257, 258), match='t'>,\n",
       " <re.Match object; span=(259, 260), match='c'>,\n",
       " <re.Match object; span=(260, 261), match='o'>,\n",
       " <re.Match object; span=(261, 262), match='d'>,\n",
       " <re.Match object; span=(262, 263), match='w'>,\n",
       " <re.Match object; span=(263, 264), match='e'>,\n",
       " <re.Match object; span=(264, 265), match='b'>,\n",
       " <re.Match object; span=(266, 267), match='i'>,\n",
       " <re.Match object; span=(267, 268), match='n'>,\n",
       " <re.Match object; span=(269, 270), match='s'>,\n",
       " <re.Match object; span=(270, 271), match='i'>,\n",
       " <re.Match object; span=(271, 272), match='t'>,\n",
       " <re.Match object; span=(272, 273), match='e'>,\n",
       " <re.Match object; span=(275, 276), match='n'>,\n",
       " <re.Match object; span=(276, 277), match='u'>,\n",
       " <re.Match object; span=(277, 278), match='m'>,\n",
       " <re.Match object; span=(278, 279), match='b'>,\n",
       " <re.Match object; span=(279, 280), match='e'>,\n",
       " <re.Match object; span=(280, 281), match='r'>,\n",
       " <re.Match object; span=(281, 282), match='s'>,\n",
       " <re.Match object; span=(283, 284), match='8'>,\n",
       " <re.Match object; span=(284, 285), match='9'>,\n",
       " <re.Match object; span=(285, 286), match='8'>,\n",
       " <re.Match object; span=(286, 287), match='7'>,\n",
       " <re.Match object; span=(288, 289), match='8'>,\n",
       " <re.Match object; span=(289, 290), match='9'>,\n",
       " <re.Match object; span=(291, 292), match='1'>,\n",
       " <re.Match object; span=(292, 293), match='5'>,\n",
       " <re.Match object; span=(293, 294), match='4'>,\n",
       " <re.Match object; span=(294, 295), match='6'>,\n",
       " <re.Match object; span=(296, 297), match='6'>,\n",
       " <re.Match object; span=(297, 298), match='4'>,\n",
       " <re.Match object; span=(298, 299), match='5'>,\n",
       " <re.Match object; span=(299, 300), match='6'>,\n",
       " <re.Match object; span=(301, 302), match='9'>,\n",
       " <re.Match object; span=(302, 303), match='8'>,\n",
       " <re.Match object; span=(303, 304), match='7'>,\n",
       " <re.Match object; span=(304, 305), match='9'>,\n",
       " <re.Match object; span=(306, 307), match='6'>,\n",
       " <re.Match object; span=(307, 308), match='9'>,\n",
       " <re.Match object; span=(308, 309), match='8'>,\n",
       " <re.Match object; span=(309, 310), match='7'>,\n",
       " <re.Match object; span=(311, 312), match='9'>,\n",
       " <re.Match object; span=(312, 313), match='8'>,\n",
       " <re.Match object; span=(313, 314), match='7'>,\n",
       " <re.Match object; span=(314, 315), match='5'>]"
      ]
     },
     "execution_count": 40,
     "metadata": {},
     "output_type": "execute_result"
    }
   ],
   "source": [
    "test('\\w',multiline_string)"
   ]
  },
  {
   "cell_type": "code",
   "execution_count": 42,
   "metadata": {},
   "outputs": [
    {
     "data": {
      "text/plain": [
       "[<re.Match object; span=(0, 1), match='\\n'>,\n",
       " <re.Match object; span=(6, 7), match='!'>,\n",
       " <re.Match object; span=(7, 8), match='\\n'>,\n",
       " <re.Match object; span=(10, 11), match=','>,\n",
       " <re.Match object; span=(11, 12), match=' '>,\n",
       " <re.Match object; span=(15, 16), match=' '>,\n",
       " <re.Match object; span=(19, 20), match=' '>,\n",
       " <re.Match object; span=(23, 24), match='?'>,\n",
       " <re.Match object; span=(24, 25), match='\\n'>,\n",
       " <re.Match object; span=(33, 34), match='\\n'>,\n",
       " <re.Match object; span=(34, 35), match='\\n'>,\n",
       " <re.Match object; span=(38, 39), match=' '>,\n",
       " <re.Match object; span=(43, 44), match=','>,\n",
       " <re.Match object; span=(44, 45), match=' '>,\n",
       " <re.Match object; span=(48, 49), match=' '>,\n",
       " <re.Match object; span=(52, 53), match='.'>,\n",
       " <re.Match object; span=(53, 54), match='\\n'>,\n",
       " <re.Match object; span=(54, 55), match='\\n'>,\n",
       " <re.Match object; span=(81, 82), match='\\n'>,\n",
       " <re.Match object; span=(108, 109), match='\\n'>,\n",
       " <re.Match object; span=(119, 120), match='\\n'>,\n",
       " <re.Match object; span=(120, 121), match='\\n'>,\n",
       " <re.Match object; span=(125, 126), match=' '>,\n",
       " <re.Match object; span=(136, 137), match='\\n'>,\n",
       " <re.Match object; span=(137, 138), match='.'>,\n",
       " <re.Match object; span=(138, 139), match=' '>,\n",
       " <re.Match object; span=(139, 140), match='^'>,\n",
       " <re.Match object; span=(140, 141), match=' '>,\n",
       " <re.Match object; span=(141, 142), match='+'>,\n",
       " <re.Match object; span=(142, 143), match=' '>,\n",
       " <re.Match object; span=(143, 144), match='*'>,\n",
       " <re.Match object; span=(144, 145), match=' '>,\n",
       " <re.Match object; span=(145, 146), match='?'>,\n",
       " <re.Match object; span=(146, 147), match=' '>,\n",
       " <re.Match object; span=(147, 148), match='('>,\n",
       " <re.Match object; span=(148, 149), match=' '>,\n",
       " <re.Match object; span=(149, 150), match=')'>,\n",
       " <re.Match object; span=(150, 151), match=' '>,\n",
       " <re.Match object; span=(151, 152), match='['>,\n",
       " <re.Match object; span=(152, 153), match=' '>,\n",
       " <re.Match object; span=(153, 154), match=']'>,\n",
       " <re.Match object; span=(154, 155), match=' '>,\n",
       " <re.Match object; span=(155, 156), match='{'>,\n",
       " <re.Match object; span=(156, 157), match=' '>,\n",
       " <re.Match object; span=(157, 158), match='}'>,\n",
       " <re.Match object; span=(158, 159), match=' '>,\n",
       " <re.Match object; span=(159, 160), match='/'>,\n",
       " <re.Match object; span=(160, 161), match=' '>,\n",
       " <re.Match object; span=(161, 162), match='|'>,\n",
       " <re.Match object; span=(162, 163), match='\\n'>,\n",
       " <re.Match object; span=(163, 164), match='\\n'>,\n",
       " <re.Match object; span=(169, 170), match='\\n'>,\n",
       " <re.Match object; span=(175, 176), match='@'>,\n",
       " <re.Match object; span=(181, 182), match='.'>,\n",
       " <re.Match object; span=(185, 186), match='\\n'>,\n",
       " <re.Match object; span=(191, 192), match='.'>,\n",
       " <re.Match object; span=(198, 199), match='@'>,\n",
       " <re.Match object; span=(203, 204), match='-'>,\n",
       " <re.Match object; span=(207, 208), match='.'>,\n",
       " <re.Match object; span=(211, 212), match='\\n'>,\n",
       " <re.Match object; span=(212, 213), match='\\n'>,\n",
       " <re.Match object; span=(217, 218), match='\\n'>,\n",
       " <re.Match object; span=(223, 224), match=':'>,\n",
       " <re.Match object; span=(224, 225), match='/'>,\n",
       " <re.Match object; span=(225, 226), match='/'>,\n",
       " <re.Match object; span=(229, 230), match='.'>,\n",
       " <re.Match object; span=(234, 235), match='-'>,\n",
       " <re.Match object; span=(238, 239), match='.'>,\n",
       " <re.Match object; span=(242, 243), match='/'>,\n",
       " <re.Match object; span=(243, 244), match='\\n'>,\n",
       " <re.Match object; span=(249, 250), match=':'>,\n",
       " <re.Match object; span=(250, 251), match='/'>,\n",
       " <re.Match object; span=(251, 252), match='/'>,\n",
       " <re.Match object; span=(258, 259), match='.'>,\n",
       " <re.Match object; span=(265, 266), match='.'>,\n",
       " <re.Match object; span=(268, 269), match='/'>,\n",
       " <re.Match object; span=(273, 274), match='\\n'>,\n",
       " <re.Match object; span=(274, 275), match='\\n'>,\n",
       " <re.Match object; span=(282, 283), match='\\n'>,\n",
       " <re.Match object; span=(287, 288), match='-'>,\n",
       " <re.Match object; span=(290, 291), match='-'>,\n",
       " <re.Match object; span=(295, 296), match='\\n'>,\n",
       " <re.Match object; span=(300, 301), match='.'>,\n",
       " <re.Match object; span=(305, 306), match='.'>,\n",
       " <re.Match object; span=(310, 311), match='.'>,\n",
       " <re.Match object; span=(315, 316), match='\\n'>]"
      ]
     },
     "execution_count": 42,
     "metadata": {},
     "output_type": "execute_result"
    }
   ],
   "source": [
    "test('\\W', multiline_string)"
   ]
  },
  {
   "cell_type": "code",
   "execution_count": 43,
   "metadata": {},
   "outputs": [
    {
     "data": {
      "text/plain": [
       "[<re.Match object; span=(2, 3), match='e'>,\n",
       " <re.Match object; span=(16, 17), match='a'>,\n",
       " <re.Match object; span=(18, 19), match='e'>,\n",
       " <re.Match object; span=(28, 29), match='a'>,\n",
       " <re.Match object; span=(31, 32), match='a'>,\n",
       " <re.Match object; span=(35, 36), match='a'>,\n",
       " <re.Match object; span=(39, 40), match='f'>,\n",
       " <re.Match object; span=(42, 43), match='e'>,\n",
       " <re.Match object; span=(50, 51), match='a'>,\n",
       " <re.Match object; span=(55, 56), match='a'>,\n",
       " <re.Match object; span=(56, 57), match='b'>,\n",
       " <re.Match object; span=(57, 58), match='c'>,\n",
       " <re.Match object; span=(58, 59), match='d'>,\n",
       " <re.Match object; span=(59, 60), match='e'>,\n",
       " <re.Match object; span=(60, 61), match='f'>,\n",
       " <re.Match object; span=(122, 123), match='e'>,\n",
       " <re.Match object; span=(124, 125), match='a'>,\n",
       " <re.Match object; span=(126, 127), match='c'>,\n",
       " <re.Match object; span=(128, 129), match='a'>,\n",
       " <re.Match object; span=(130, 131), match='a'>,\n",
       " <re.Match object; span=(131, 132), match='c'>,\n",
       " <re.Match object; span=(133, 134), match='e'>,\n",
       " <re.Match object; span=(164, 165), match='e'>,\n",
       " <re.Match object; span=(166, 167), match='a'>,\n",
       " <re.Match object; span=(171, 172), match='a'>,\n",
       " <re.Match object; span=(178, 179), match='a'>,\n",
       " <re.Match object; span=(182, 183), match='c'>,\n",
       " <re.Match object; span=(187, 188), match='a'>,\n",
       " <re.Match object; span=(193, 194), match='a'>,\n",
       " <re.Match object; span=(197, 198), match='d'>,\n",
       " <re.Match object; span=(208, 209), match='c'>,\n",
       " <re.Match object; span=(239, 240), match='c'>,\n",
       " <re.Match object; span=(259, 260), match='c'>,\n",
       " <re.Match object; span=(261, 262), match='d'>,\n",
       " <re.Match object; span=(263, 264), match='e'>,\n",
       " <re.Match object; span=(264, 265), match='b'>,\n",
       " <re.Match object; span=(272, 273), match='e'>,\n",
       " <re.Match object; span=(278, 279), match='b'>,\n",
       " <re.Match object; span=(279, 280), match='e'>]"
      ]
     },
     "execution_count": 43,
     "metadata": {},
     "output_type": "execute_result"
    }
   ],
   "source": [
    "test(['a-f'], multiline_string)"
   ]
  },
  {
   "cell_type": "code",
   "execution_count": 44,
   "metadata": {},
   "outputs": [
    {
     "data": {
      "text/plain": [
       "[<re.Match object; span=(110, 111), match='1'>,\n",
       " <re.Match object; span=(111, 112), match='2'>,\n",
       " <re.Match object; span=(112, 113), match='3'>,\n",
       " <re.Match object; span=(113, 114), match='4'>,\n",
       " <re.Match object; span=(114, 115), match='5'>,\n",
       " <re.Match object; span=(115, 116), match='6'>,\n",
       " <re.Match object; span=(116, 117), match='7'>,\n",
       " <re.Match object; span=(117, 118), match='8'>,\n",
       " <re.Match object; span=(283, 284), match='8'>,\n",
       " <re.Match object; span=(285, 286), match='8'>,\n",
       " <re.Match object; span=(286, 287), match='7'>,\n",
       " <re.Match object; span=(288, 289), match='8'>,\n",
       " <re.Match object; span=(291, 292), match='1'>,\n",
       " <re.Match object; span=(292, 293), match='5'>,\n",
       " <re.Match object; span=(293, 294), match='4'>,\n",
       " <re.Match object; span=(294, 295), match='6'>,\n",
       " <re.Match object; span=(296, 297), match='6'>,\n",
       " <re.Match object; span=(297, 298), match='4'>,\n",
       " <re.Match object; span=(298, 299), match='5'>,\n",
       " <re.Match object; span=(299, 300), match='6'>,\n",
       " <re.Match object; span=(302, 303), match='8'>,\n",
       " <re.Match object; span=(303, 304), match='7'>,\n",
       " <re.Match object; span=(306, 307), match='6'>,\n",
       " <re.Match object; span=(308, 309), match='8'>,\n",
       " <re.Match object; span=(309, 310), match='7'>,\n",
       " <re.Match object; span=(312, 313), match='8'>,\n",
       " <re.Match object; span=(313, 314), match='7'>,\n",
       " <re.Match object; span=(314, 315), match='5'>]"
      ]
     },
     "execution_count": 44,
     "metadata": {},
     "output_type": "execute_result"
    }
   ],
   "source": [
    "test(['1-8'],multiline_string)"
   ]
  },
  {
   "cell_type": "code",
   "execution_count": 45,
   "metadata": {},
   "outputs": [],
   "source": [
    "emailPattern = \"[a-zA-Z0-9_.+]+@[a-zA-Z0-9-]+.[a-zA-Z0-9.]+\""
   ]
  },
  {
   "cell_type": "code",
   "execution_count": 46,
   "metadata": {},
   "outputs": [],
   "source": [
    "result = re.match(emailPattern, multiline_string)"
   ]
  },
  {
   "cell_type": "code",
   "execution_count": 47,
   "metadata": {},
   "outputs": [],
   "source": [
    "result"
   ]
  },
  {
   "cell_type": "code",
   "execution_count": 48,
   "metadata": {},
   "outputs": [],
   "source": [
    "email_pattern = re.compile(emailPattern)"
   ]
  },
  {
   "cell_type": "code",
   "execution_count": 49,
   "metadata": {},
   "outputs": [],
   "source": [
    "email_pattern = re.match(email_pattern,multiline_string)"
   ]
  },
  {
   "cell_type": "code",
   "execution_count": 50,
   "metadata": {},
   "outputs": [],
   "source": [
    "result"
   ]
  },
  {
   "cell_type": "code",
   "execution_count": 51,
   "metadata": {},
   "outputs": [
    {
     "data": {
      "text/plain": [
       "NoneType"
      ]
     },
     "execution_count": 51,
     "metadata": {},
     "output_type": "execute_result"
    }
   ],
   "source": [
    "type(result)"
   ]
  },
  {
   "cell_type": "code",
   "execution_count": 53,
   "metadata": {},
   "outputs": [
    {
     "data": {
      "text/plain": [
       "[]"
      ]
     },
     "execution_count": 53,
     "metadata": {},
     "output_type": "execute_result"
    }
   ],
   "source": [
    "test('email_pattern',multiline_string)"
   ]
  },
  {
   "cell_type": "code",
   "execution_count": null,
   "metadata": {},
   "outputs": [],
   "source": [
    "too sensetive   and self control                                                                                                                                                                                                                                                                                                                                                                                                                                                                                                                                                                                                                                                                                                                                                                                                                                                                                                                                                                                                                                                                                                                                                                                                                                                                                                                                                                                                                                                                                                                                                                                                                                                                                                                                                                                                                                                                                                                                                                                                                                                                                                                                                                                                                                                                                                                                                                                                                                                                                                                                                                                                                                                                                                                                                                                                                                                                                                                                                                                                                                                                                                                                                                                                                                                                                                                                                                                                                                                                                                                                                                                                                                                                                                                                                                                                                                                                                                                                                                                                                                                                                                                                                                                                                                                                                                                                                                                                                                                                                                                                                                                                                                                                                                                                                                                                                                                                                                                                                                                                                                                                                                                                       "
   ]
  },
  {
   "cell_type": "code",
   "execution_count": null,
   "metadata": {},
   "outputs": [],
   "source": []
  },
  {
   "cell_type": "code",
   "execution_count": null,
   "metadata": {},
   "outputs": [],
   "source": []
  },
  {
   "cell_type": "code",
   "execution_count": null,
   "metadata": {},
   "outputs": [],
   "source": []
  },
  {
   "cell_type": "code",
   "execution_count": null,
   "metadata": {},
   "outputs": [],
   "source": []
  },
  {
   "cell_type": "code",
   "execution_count": 11,
   "metadata": {},
   "outputs": [],
   "source": [
    "import re\n"
   ]
  },
  {
   "cell_type": "code",
   "execution_count": 55,
   "metadata": {},
   "outputs": [],
   "source": [
    "multiline_string = \"\"\"\"\n",
    "hello!\n",
    "hi, how are you?\n",
    "niranjan\n",
    "\n",
    "all fine, you say.\n",
    "\n",
    "abcdefghijklmnopqrstuvwxyz\n",
    "ABCDEFGHIJKLMNOPQRSTUVWXYZ\n",
    "0123456789\n",
    "\n",
    "meta characters\n",
    ". ^ + * ? ( ) [ ] { } / |\n",
    "\n",
    "email\n",
    "jaini@gmail.com\n",
    "kapil.jangid@tops-int.com\n",
    "\n",
    "urls\n",
    "https://www.tops-int.com/\n",
    "https://typhit.codweb.in/site\n",
    "\n",
    "numbers\n",
    "8987-89-1546\n",
    "6456.9879.6987.9875\n",
    " \"\"\"\n",
    "single_line = \"hello my name is niranjan kumar\""
   ]
  },
  {
   "cell_type": "code",
   "execution_count": 77,
   "metadata": {},
   "outputs": [],
   "source": [
    "pattern  = re.compile(r'niranjan')"
   ]
  },
  {
   "cell_type": "code",
   "execution_count": 78,
   "metadata": {},
   "outputs": [
    {
     "data": {
      "text/plain": [
       "re.compile(r'niranjan', re.UNICODE)"
      ]
     },
     "execution_count": 78,
     "metadata": {},
     "output_type": "execute_result"
    }
   ],
   "source": [
    "pattern"
   ]
  },
  {
   "cell_type": "code",
   "execution_count": 79,
   "metadata": {},
   "outputs": [],
   "source": [
    "matched_str = pattern.finditer(multiline_string)"
   ]
  },
  {
   "cell_type": "code",
   "execution_count": 80,
   "metadata": {},
   "outputs": [
    {
     "data": {
      "text/plain": [
       "<callable_iterator at 0x2200792f340>"
      ]
     },
     "execution_count": 80,
     "metadata": {},
     "output_type": "execute_result"
    }
   ],
   "source": [
    "matched_str"
   ]
  },
  {
   "cell_type": "code",
   "execution_count": 81,
   "metadata": {},
   "outputs": [
    {
     "name": "stdout",
     "output_type": "stream",
     "text": [
      "<re.Match object; span=(26, 34), match='niranjan'>\n"
     ]
    }
   ],
   "source": [
    "for i in  matched_str:\n",
    "    print(i)"
   ]
  },
  {
   "cell_type": "code",
   "execution_count": 82,
   "metadata": {},
   "outputs": [],
   "source": [
    "def test(st, src):\n",
    "  pattern = re.compile(f\"{st}\")\n",
    "  matched = pattern.finditer( src )\n",
    "\n",
    "  return [ i for i in matched ]"
   ]
  },
  {
   "cell_type": "code",
   "execution_count": 83,
   "metadata": {},
   "outputs": [],
   "source": [
    "result = test('n',multiline_string)"
   ]
  },
  {
   "cell_type": "code",
   "execution_count": 84,
   "metadata": {},
   "outputs": [
    {
     "data": {
      "text/plain": [
       "<function __main__.test(st, src)>"
      ]
     },
     "execution_count": 84,
     "metadata": {},
     "output_type": "execute_result"
    }
   ],
   "source": [
    "test"
   ]
  },
  {
   "cell_type": "code",
   "execution_count": 89,
   "metadata": {},
   "outputs": [
    {
     "data": {
      "text/plain": [
       "[<re.Match object; span=(26, 27), match='n'>,\n",
       " <re.Match object; span=(30, 31), match='n'>,\n",
       " <re.Match object; span=(33, 34), match='n'>,\n",
       " <re.Match object; span=(42, 43), match='n'>,\n",
       " <re.Match object; span=(69, 70), match='n'>,\n",
       " <re.Match object; span=(174, 175), match='n'>,\n",
       " <re.Match object; span=(195, 196), match='n'>,\n",
       " <re.Match object; span=(206, 207), match='n'>,\n",
       " <re.Match object; span=(237, 238), match='n'>,\n",
       " <re.Match object; span=(268, 269), match='n'>,\n",
       " <re.Match object; span=(276, 277), match='n'>]"
      ]
     },
     "execution_count": 89,
     "metadata": {},
     "output_type": "execute_result"
    }
   ],
   "source": [
    "result"
   ]
  },
  {
   "cell_type": "code",
   "execution_count": 91,
   "metadata": {},
   "outputs": [
    {
     "data": {
      "text/plain": [
       "[<re.Match object; span=(110, 111), match='0'>,\n",
       " <re.Match object; span=(111, 112), match='1'>,\n",
       " <re.Match object; span=(112, 113), match='2'>,\n",
       " <re.Match object; span=(113, 114), match='3'>,\n",
       " <re.Match object; span=(114, 115), match='4'>,\n",
       " <re.Match object; span=(115, 116), match='5'>,\n",
       " <re.Match object; span=(116, 117), match='6'>,\n",
       " <re.Match object; span=(117, 118), match='7'>,\n",
       " <re.Match object; span=(118, 119), match='8'>,\n",
       " <re.Match object; span=(119, 120), match='9'>,\n",
       " <re.Match object; span=(284, 285), match='8'>,\n",
       " <re.Match object; span=(285, 286), match='9'>,\n",
       " <re.Match object; span=(286, 287), match='8'>,\n",
       " <re.Match object; span=(287, 288), match='7'>,\n",
       " <re.Match object; span=(289, 290), match='8'>,\n",
       " <re.Match object; span=(290, 291), match='9'>,\n",
       " <re.Match object; span=(292, 293), match='1'>,\n",
       " <re.Match object; span=(293, 294), match='5'>,\n",
       " <re.Match object; span=(294, 295), match='4'>,\n",
       " <re.Match object; span=(295, 296), match='6'>,\n",
       " <re.Match object; span=(297, 298), match='6'>,\n",
       " <re.Match object; span=(298, 299), match='4'>,\n",
       " <re.Match object; span=(299, 300), match='5'>,\n",
       " <re.Match object; span=(300, 301), match='6'>,\n",
       " <re.Match object; span=(302, 303), match='9'>,\n",
       " <re.Match object; span=(303, 304), match='8'>,\n",
       " <re.Match object; span=(304, 305), match='7'>,\n",
       " <re.Match object; span=(305, 306), match='9'>,\n",
       " <re.Match object; span=(307, 308), match='6'>,\n",
       " <re.Match object; span=(308, 309), match='9'>,\n",
       " <re.Match object; span=(309, 310), match='8'>,\n",
       " <re.Match object; span=(310, 311), match='7'>,\n",
       " <re.Match object; span=(312, 313), match='9'>,\n",
       " <re.Match object; span=(313, 314), match='8'>,\n",
       " <re.Match object; span=(314, 315), match='7'>,\n",
       " <re.Match object; span=(315, 316), match='5'>]"
      ]
     },
     "execution_count": 91,
     "metadata": {},
     "output_type": "execute_result"
    }
   ],
   "source": [
    "test('\\d', multiline_string)"
   ]
  },
  {
   "cell_type": "code",
   "execution_count": 92,
   "metadata": {},
   "outputs": [
    {
     "data": {
      "text/plain": [
       "[<re.Match object; span=(2, 3), match='h'>,\n",
       " <re.Match object; span=(3, 4), match='e'>,\n",
       " <re.Match object; span=(4, 5), match='l'>,\n",
       " <re.Match object; span=(5, 6), match='l'>,\n",
       " <re.Match object; span=(6, 7), match='o'>,\n",
       " <re.Match object; span=(9, 10), match='h'>,\n",
       " <re.Match object; span=(10, 11), match='i'>,\n",
       " <re.Match object; span=(13, 14), match='h'>,\n",
       " <re.Match object; span=(14, 15), match='o'>,\n",
       " <re.Match object; span=(15, 16), match='w'>,\n",
       " <re.Match object; span=(17, 18), match='a'>,\n",
       " <re.Match object; span=(18, 19), match='r'>,\n",
       " <re.Match object; span=(19, 20), match='e'>,\n",
       " <re.Match object; span=(21, 22), match='y'>,\n",
       " <re.Match object; span=(22, 23), match='o'>,\n",
       " <re.Match object; span=(23, 24), match='u'>,\n",
       " <re.Match object; span=(26, 27), match='n'>,\n",
       " <re.Match object; span=(27, 28), match='i'>,\n",
       " <re.Match object; span=(28, 29), match='r'>,\n",
       " <re.Match object; span=(29, 30), match='a'>,\n",
       " <re.Match object; span=(30, 31), match='n'>,\n",
       " <re.Match object; span=(31, 32), match='j'>,\n",
       " <re.Match object; span=(32, 33), match='a'>,\n",
       " <re.Match object; span=(33, 34), match='n'>,\n",
       " <re.Match object; span=(36, 37), match='a'>,\n",
       " <re.Match object; span=(37, 38), match='l'>,\n",
       " <re.Match object; span=(38, 39), match='l'>,\n",
       " <re.Match object; span=(40, 41), match='f'>,\n",
       " <re.Match object; span=(41, 42), match='i'>,\n",
       " <re.Match object; span=(42, 43), match='n'>,\n",
       " <re.Match object; span=(43, 44), match='e'>,\n",
       " <re.Match object; span=(46, 47), match='y'>,\n",
       " <re.Match object; span=(47, 48), match='o'>,\n",
       " <re.Match object; span=(48, 49), match='u'>,\n",
       " <re.Match object; span=(50, 51), match='s'>,\n",
       " <re.Match object; span=(51, 52), match='a'>,\n",
       " <re.Match object; span=(52, 53), match='y'>,\n",
       " <re.Match object; span=(56, 57), match='a'>,\n",
       " <re.Match object; span=(57, 58), match='b'>,\n",
       " <re.Match object; span=(58, 59), match='c'>,\n",
       " <re.Match object; span=(59, 60), match='d'>,\n",
       " <re.Match object; span=(60, 61), match='e'>,\n",
       " <re.Match object; span=(61, 62), match='f'>,\n",
       " <re.Match object; span=(62, 63), match='g'>,\n",
       " <re.Match object; span=(63, 64), match='h'>,\n",
       " <re.Match object; span=(64, 65), match='i'>,\n",
       " <re.Match object; span=(65, 66), match='j'>,\n",
       " <re.Match object; span=(66, 67), match='k'>,\n",
       " <re.Match object; span=(67, 68), match='l'>,\n",
       " <re.Match object; span=(68, 69), match='m'>,\n",
       " <re.Match object; span=(69, 70), match='n'>,\n",
       " <re.Match object; span=(70, 71), match='o'>,\n",
       " <re.Match object; span=(71, 72), match='p'>,\n",
       " <re.Match object; span=(72, 73), match='q'>,\n",
       " <re.Match object; span=(73, 74), match='r'>,\n",
       " <re.Match object; span=(74, 75), match='s'>,\n",
       " <re.Match object; span=(75, 76), match='t'>,\n",
       " <re.Match object; span=(76, 77), match='u'>,\n",
       " <re.Match object; span=(77, 78), match='v'>,\n",
       " <re.Match object; span=(78, 79), match='w'>,\n",
       " <re.Match object; span=(79, 80), match='x'>,\n",
       " <re.Match object; span=(80, 81), match='y'>,\n",
       " <re.Match object; span=(81, 82), match='z'>,\n",
       " <re.Match object; span=(83, 84), match='A'>,\n",
       " <re.Match object; span=(84, 85), match='B'>,\n",
       " <re.Match object; span=(85, 86), match='C'>,\n",
       " <re.Match object; span=(86, 87), match='D'>,\n",
       " <re.Match object; span=(87, 88), match='E'>,\n",
       " <re.Match object; span=(88, 89), match='F'>,\n",
       " <re.Match object; span=(89, 90), match='G'>,\n",
       " <re.Match object; span=(90, 91), match='H'>,\n",
       " <re.Match object; span=(91, 92), match='I'>,\n",
       " <re.Match object; span=(92, 93), match='J'>,\n",
       " <re.Match object; span=(93, 94), match='K'>,\n",
       " <re.Match object; span=(94, 95), match='L'>,\n",
       " <re.Match object; span=(95, 96), match='M'>,\n",
       " <re.Match object; span=(96, 97), match='N'>,\n",
       " <re.Match object; span=(97, 98), match='O'>,\n",
       " <re.Match object; span=(98, 99), match='P'>,\n",
       " <re.Match object; span=(99, 100), match='Q'>,\n",
       " <re.Match object; span=(100, 101), match='R'>,\n",
       " <re.Match object; span=(101, 102), match='S'>,\n",
       " <re.Match object; span=(102, 103), match='T'>,\n",
       " <re.Match object; span=(103, 104), match='U'>,\n",
       " <re.Match object; span=(104, 105), match='V'>,\n",
       " <re.Match object; span=(105, 106), match='W'>,\n",
       " <re.Match object; span=(106, 107), match='X'>,\n",
       " <re.Match object; span=(107, 108), match='Y'>,\n",
       " <re.Match object; span=(108, 109), match='Z'>,\n",
       " <re.Match object; span=(110, 111), match='0'>,\n",
       " <re.Match object; span=(111, 112), match='1'>,\n",
       " <re.Match object; span=(112, 113), match='2'>,\n",
       " <re.Match object; span=(113, 114), match='3'>,\n",
       " <re.Match object; span=(114, 115), match='4'>,\n",
       " <re.Match object; span=(115, 116), match='5'>,\n",
       " <re.Match object; span=(116, 117), match='6'>,\n",
       " <re.Match object; span=(117, 118), match='7'>,\n",
       " <re.Match object; span=(118, 119), match='8'>,\n",
       " <re.Match object; span=(119, 120), match='9'>,\n",
       " <re.Match object; span=(122, 123), match='m'>,\n",
       " <re.Match object; span=(123, 124), match='e'>,\n",
       " <re.Match object; span=(124, 125), match='t'>,\n",
       " <re.Match object; span=(125, 126), match='a'>,\n",
       " <re.Match object; span=(127, 128), match='c'>,\n",
       " <re.Match object; span=(128, 129), match='h'>,\n",
       " <re.Match object; span=(129, 130), match='a'>,\n",
       " <re.Match object; span=(130, 131), match='r'>,\n",
       " <re.Match object; span=(131, 132), match='a'>,\n",
       " <re.Match object; span=(132, 133), match='c'>,\n",
       " <re.Match object; span=(133, 134), match='t'>,\n",
       " <re.Match object; span=(134, 135), match='e'>,\n",
       " <re.Match object; span=(135, 136), match='r'>,\n",
       " <re.Match object; span=(136, 137), match='s'>,\n",
       " <re.Match object; span=(165, 166), match='e'>,\n",
       " <re.Match object; span=(166, 167), match='m'>,\n",
       " <re.Match object; span=(167, 168), match='a'>,\n",
       " <re.Match object; span=(168, 169), match='i'>,\n",
       " <re.Match object; span=(169, 170), match='l'>,\n",
       " <re.Match object; span=(171, 172), match='j'>,\n",
       " <re.Match object; span=(172, 173), match='a'>,\n",
       " <re.Match object; span=(173, 174), match='i'>,\n",
       " <re.Match object; span=(174, 175), match='n'>,\n",
       " <re.Match object; span=(175, 176), match='i'>,\n",
       " <re.Match object; span=(177, 178), match='g'>,\n",
       " <re.Match object; span=(178, 179), match='m'>,\n",
       " <re.Match object; span=(179, 180), match='a'>,\n",
       " <re.Match object; span=(180, 181), match='i'>,\n",
       " <re.Match object; span=(181, 182), match='l'>,\n",
       " <re.Match object; span=(183, 184), match='c'>,\n",
       " <re.Match object; span=(184, 185), match='o'>,\n",
       " <re.Match object; span=(185, 186), match='m'>,\n",
       " <re.Match object; span=(187, 188), match='k'>,\n",
       " <re.Match object; span=(188, 189), match='a'>,\n",
       " <re.Match object; span=(189, 190), match='p'>,\n",
       " <re.Match object; span=(190, 191), match='i'>,\n",
       " <re.Match object; span=(191, 192), match='l'>,\n",
       " <re.Match object; span=(193, 194), match='j'>,\n",
       " <re.Match object; span=(194, 195), match='a'>,\n",
       " <re.Match object; span=(195, 196), match='n'>,\n",
       " <re.Match object; span=(196, 197), match='g'>,\n",
       " <re.Match object; span=(197, 198), match='i'>,\n",
       " <re.Match object; span=(198, 199), match='d'>,\n",
       " <re.Match object; span=(200, 201), match='t'>,\n",
       " <re.Match object; span=(201, 202), match='o'>,\n",
       " <re.Match object; span=(202, 203), match='p'>,\n",
       " <re.Match object; span=(203, 204), match='s'>,\n",
       " <re.Match object; span=(205, 206), match='i'>,\n",
       " <re.Match object; span=(206, 207), match='n'>,\n",
       " <re.Match object; span=(207, 208), match='t'>,\n",
       " <re.Match object; span=(209, 210), match='c'>,\n",
       " <re.Match object; span=(210, 211), match='o'>,\n",
       " <re.Match object; span=(211, 212), match='m'>,\n",
       " <re.Match object; span=(214, 215), match='u'>,\n",
       " <re.Match object; span=(215, 216), match='r'>,\n",
       " <re.Match object; span=(216, 217), match='l'>,\n",
       " <re.Match object; span=(217, 218), match='s'>,\n",
       " <re.Match object; span=(219, 220), match='h'>,\n",
       " <re.Match object; span=(220, 221), match='t'>,\n",
       " <re.Match object; span=(221, 222), match='t'>,\n",
       " <re.Match object; span=(222, 223), match='p'>,\n",
       " <re.Match object; span=(223, 224), match='s'>,\n",
       " <re.Match object; span=(227, 228), match='w'>,\n",
       " <re.Match object; span=(228, 229), match='w'>,\n",
       " <re.Match object; span=(229, 230), match='w'>,\n",
       " <re.Match object; span=(231, 232), match='t'>,\n",
       " <re.Match object; span=(232, 233), match='o'>,\n",
       " <re.Match object; span=(233, 234), match='p'>,\n",
       " <re.Match object; span=(234, 235), match='s'>,\n",
       " <re.Match object; span=(236, 237), match='i'>,\n",
       " <re.Match object; span=(237, 238), match='n'>,\n",
       " <re.Match object; span=(238, 239), match='t'>,\n",
       " <re.Match object; span=(240, 241), match='c'>,\n",
       " <re.Match object; span=(241, 242), match='o'>,\n",
       " <re.Match object; span=(242, 243), match='m'>,\n",
       " <re.Match object; span=(245, 246), match='h'>,\n",
       " <re.Match object; span=(246, 247), match='t'>,\n",
       " <re.Match object; span=(247, 248), match='t'>,\n",
       " <re.Match object; span=(248, 249), match='p'>,\n",
       " <re.Match object; span=(249, 250), match='s'>,\n",
       " <re.Match object; span=(253, 254), match='t'>,\n",
       " <re.Match object; span=(254, 255), match='y'>,\n",
       " <re.Match object; span=(255, 256), match='p'>,\n",
       " <re.Match object; span=(256, 257), match='h'>,\n",
       " <re.Match object; span=(257, 258), match='i'>,\n",
       " <re.Match object; span=(258, 259), match='t'>,\n",
       " <re.Match object; span=(260, 261), match='c'>,\n",
       " <re.Match object; span=(261, 262), match='o'>,\n",
       " <re.Match object; span=(262, 263), match='d'>,\n",
       " <re.Match object; span=(263, 264), match='w'>,\n",
       " <re.Match object; span=(264, 265), match='e'>,\n",
       " <re.Match object; span=(265, 266), match='b'>,\n",
       " <re.Match object; span=(267, 268), match='i'>,\n",
       " <re.Match object; span=(268, 269), match='n'>,\n",
       " <re.Match object; span=(270, 271), match='s'>,\n",
       " <re.Match object; span=(271, 272), match='i'>,\n",
       " <re.Match object; span=(272, 273), match='t'>,\n",
       " <re.Match object; span=(273, 274), match='e'>,\n",
       " <re.Match object; span=(276, 277), match='n'>,\n",
       " <re.Match object; span=(277, 278), match='u'>,\n",
       " <re.Match object; span=(278, 279), match='m'>,\n",
       " <re.Match object; span=(279, 280), match='b'>,\n",
       " <re.Match object; span=(280, 281), match='e'>,\n",
       " <re.Match object; span=(281, 282), match='r'>,\n",
       " <re.Match object; span=(282, 283), match='s'>,\n",
       " <re.Match object; span=(284, 285), match='8'>,\n",
       " <re.Match object; span=(285, 286), match='9'>,\n",
       " <re.Match object; span=(286, 287), match='8'>,\n",
       " <re.Match object; span=(287, 288), match='7'>,\n",
       " <re.Match object; span=(289, 290), match='8'>,\n",
       " <re.Match object; span=(290, 291), match='9'>,\n",
       " <re.Match object; span=(292, 293), match='1'>,\n",
       " <re.Match object; span=(293, 294), match='5'>,\n",
       " <re.Match object; span=(294, 295), match='4'>,\n",
       " <re.Match object; span=(295, 296), match='6'>,\n",
       " <re.Match object; span=(297, 298), match='6'>,\n",
       " <re.Match object; span=(298, 299), match='4'>,\n",
       " <re.Match object; span=(299, 300), match='5'>,\n",
       " <re.Match object; span=(300, 301), match='6'>,\n",
       " <re.Match object; span=(302, 303), match='9'>,\n",
       " <re.Match object; span=(303, 304), match='8'>,\n",
       " <re.Match object; span=(304, 305), match='7'>,\n",
       " <re.Match object; span=(305, 306), match='9'>,\n",
       " <re.Match object; span=(307, 308), match='6'>,\n",
       " <re.Match object; span=(308, 309), match='9'>,\n",
       " <re.Match object; span=(309, 310), match='8'>,\n",
       " <re.Match object; span=(310, 311), match='7'>,\n",
       " <re.Match object; span=(312, 313), match='9'>,\n",
       " <re.Match object; span=(313, 314), match='8'>,\n",
       " <re.Match object; span=(314, 315), match='7'>,\n",
       " <re.Match object; span=(315, 316), match='5'>]"
      ]
     },
     "execution_count": 92,
     "metadata": {},
     "output_type": "execute_result"
    }
   ],
   "source": [
    "test('\\w', multiline_string)"
   ]
  },
  {
   "cell_type": "code",
   "execution_count": 93,
   "metadata": {},
   "outputs": [
    {
     "data": {
      "text/plain": [
       "[<re.Match object; span=(18, 19), match='r'>,\n",
       " <re.Match object; span=(28, 29), match='r'>,\n",
       " <re.Match object; span=(73, 74), match='r'>,\n",
       " <re.Match object; span=(130, 131), match='r'>,\n",
       " <re.Match object; span=(135, 136), match='r'>,\n",
       " <re.Match object; span=(215, 216), match='r'>,\n",
       " <re.Match object; span=(281, 282), match='r'>]"
      ]
     },
     "execution_count": 93,
     "metadata": {},
     "output_type": "execute_result"
    }
   ],
   "source": [
    "test('r',multiline_string)"
   ]
  },
  {
   "cell_type": "code",
   "execution_count": 94,
   "metadata": {},
   "outputs": [
    {
     "data": {
      "text/plain": [
       "[<re.Match object; span=(105, 106), match='W'>]"
      ]
     },
     "execution_count": 94,
     "metadata": {},
     "output_type": "execute_result"
    }
   ],
   "source": [
    "test('W',multiline_string)"
   ]
  },
  {
   "cell_type": "code",
   "execution_count": 95,
   "metadata": {},
   "outputs": [
    {
     "data": {
      "text/plain": [
       "[<re.Match object; span=(50, 51), match='s'>,\n",
       " <re.Match object; span=(74, 75), match='s'>,\n",
       " <re.Match object; span=(136, 137), match='s'>,\n",
       " <re.Match object; span=(203, 204), match='s'>,\n",
       " <re.Match object; span=(217, 218), match='s'>,\n",
       " <re.Match object; span=(223, 224), match='s'>,\n",
       " <re.Match object; span=(234, 235), match='s'>,\n",
       " <re.Match object; span=(249, 250), match='s'>,\n",
       " <re.Match object; span=(270, 271), match='s'>,\n",
       " <re.Match object; span=(282, 283), match='s'>]"
      ]
     },
     "execution_count": 95,
     "metadata": {},
     "output_type": "execute_result"
    }
   ],
   "source": [
    "test('s',multiline_string)"
   ]
  },
  {
   "cell_type": "code",
   "execution_count": 96,
   "metadata": {},
   "outputs": [
    {
     "data": {
      "text/plain": [
       "[]"
      ]
     },
     "execution_count": 96,
     "metadata": {},
     "output_type": "execute_result"
    }
   ],
   "source": [
    "test('a-z',multiline_string)"
   ]
  },
  {
   "cell_type": "code",
   "execution_count": 97,
   "metadata": {},
   "outputs": [
    {
     "data": {
      "text/plain": [
       "[<re.Match object; span=(100, 101), match='R'>]"
      ]
     },
     "execution_count": 97,
     "metadata": {},
     "output_type": "execute_result"
    }
   ],
   "source": [
    "test('R',multiline_string)"
   ]
  },
  {
   "cell_type": "code",
   "execution_count": null,
   "metadata": {},
   "outputs": [],
   "source": []
  }
 ],
 "metadata": {
  "colab": {
   "authorship_tag": "ABX9TyO5tFYQi3X9B3oDxBUahNLS",
   "name": "Regular_Expression.ipynb",
   "provenance": []
  },
  "kernelspec": {
   "display_name": "Python 3",
   "language": "python",
   "name": "python3"
  },
  "language_info": {
   "codemirror_mode": {
    "name": "ipython",
    "version": 3
   },
   "file_extension": ".py",
   "mimetype": "text/x-python",
   "name": "python",
   "nbconvert_exporter": "python",
   "pygments_lexer": "ipython3",
   "version": "3.8.8"
  }
 },
 "nbformat": 4,
 "nbformat_minor": 1
}
