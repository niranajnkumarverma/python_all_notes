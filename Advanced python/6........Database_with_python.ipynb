{
 "cells": [
  {
   "cell_type": "markdown",
   "metadata": {
    "id": "WCcfO_AGRkDi"
   },
   "source": [
    "# Database and DBMS\n",
    "\n",
    "* ### A database is an organised collection of data. Database arrange information in such a way that any specific piece of information can be easily accessed.\n",
    "\n",
    "* ### Database Management System is software to store, retrieve, define and manage data in a database.\n",
    "\n",
    "# Types of Databases:\n",
    "\n",
    "* ### Centralised Database - Data stored at a centralised location and the users from different locations can access this data. Example: Google, facebook etc.\n",
    "\n",
    "* ### Distributed Database - Various portions of a database are stored in multiple different locations. It can be replicated and distributed among varous points in a network.\n",
    "\n",
    "* ### Personal Database - Stored on personal computers which are small and easily manageable.\n",
    "\n",
    "* ### Operational Database - Information related to operations of an enterprise is stored inside this database. Functional lines like marketing, employee relations, customer service etc.\n",
    "\n",
    "* ### Relational Database - It represents data sets from multiple tables which are stored different types of information of any things. For example: Facebook Use -> Likes, Comments, Posts.\n",
    "\n",
    "* ### Cloud Database - A cloud database has been built for such virtualized environment. There are various benefits of cloud databases, some of which are ability to pay for storage capacity and bandwidth (maximum data transfer rate of a network - Mbps) on a per user basis, and they provide scalability on demand, along with high avaialability.\n",
    "\n",
    "# Design/Structure based database:\n",
    "\n",
    "* ### SQL - Structure Query Language\n",
    "* ### NoSQL - Document Based Database\n",
    "\n",
    "## Difference between SQL and NoSQL\n",
    "* ### SQL databases use Structure Query Language and have pre-defined schema while NoSQL have no schema.\n",
    "* ### SQL databases are table based while NoSQL databases are document based data stores data in the form of key-value pair.\n",
    "\n",
    "# Operations of Databases:\n",
    "* ### Create \n",
    "* ### Retrieve\n",
    "* ### Update\n",
    "* ### Delete\n",
    "\n",
    "# CRUD Queries:\n",
    "* ### Create Database - create database database_name;\n",
    "* ### Select Database - use database_name;\n",
    "* ### Create Table - create table table_name (field_name data_type(size), ..);\n",
    "* ### Insert Record - insert into table_name (field_name, ...) values (field_value, ...);\n",
    "* ### Update Record - update table_name set field_name = field_value where condition;\n",
    "* ### Delete Record - delete from table_name where condition;\n",
    "* ### Drop Database - drop database database_name;\n",
    "\n",
    "# Table Operations:\n",
    "* ### Add New Field - alter table table_name add new_field_name data_type;\n",
    "* ### Delete Field - alter table table_name drop column field_name;\n",
    "* ### Modify Field:\n",
    "> ### 1. SQL Server - alter table table_name alter column field_name data_type;\n",
    "> ### 2. MySQL - alter table table_name modify column field_name data_type;\n",
    "> ### 3. Oracle 10G/later - alter table table_name modify field_name data_type;\n",
    "\n",
    "# Other Basic Queries:\n",
    "* ### Show all databases - show databases;\n",
    "* ### Show all tables - show tables;\n",
    "* ### Show table structure - describe table_name;\n",
    "\n",
    "# Pre-requesite for Database with python\n",
    "> ### PyMySQL or mysql-client\n",
    "> ### 1. mysql-client - pip install mysql-client\n",
    "> ### 2. pymysql - pip install pymysql\n",
    "> ### Note: PIP means - package installer for Python.\n",
    "\n",
    "# Some configurations for mysql\n",
    "> ### host - localhost\n",
    "> ### user - root\n",
    "> ### port - 3306\n",
    "\n",
    "# Components of Database System\n",
    "> ### Users- People who interact with the database:\n",
    "> * ### Application Programmers.\n",
    "> * ### End Users.\n",
    "> * ### Data Administrators.\n",
    "\n",
    "> ### Software- Lies between the stored data and the users:\n",
    "> * ### DBMS\n",
    "> * ### Application Software\n",
    "> * ### User Interface\n",
    "\n",
    "                              Users\n",
    "                               ||\n",
    "                               ||\n",
    "                    ___________||___________\n",
    "                   |                        |\n",
    "### Data ------------| COMPONENTS OF DATABASE |-----------| Software\n",
    "                   |___________  ___________|\n",
    "                               ||\n",
    "                               ||\n",
    "                               ||\n",
    "                            Hardware\n",
    "\n",
    "\n",
    "## Follow the steps to use SQLite3 database:\n",
    "- ### import sqlite3 as mydb\n",
    "- ### db = sql.connect(\"database_name.db\")\n",
    "- ### cmd = \"create table users(email varchar(300) primary key,fname varchar(300), sname varchar(300),password varchar(500))\"\n",
    "- ### cursor = db.cursor()\n",
    "- ### cursor.execute(cmd)\n",
    "\n",
    "## Follow the steps to use MySQL database:\n",
    "- ### import pymysql as sql\n",
    "- ### db = sql.connect(host='localhost', port=3306, user='root', password='', database='data')\n",
    "- ### c = db.cursor()\n",
    "- ### cmd = \"create table users(email varchar(300) primary key,fname varchar(300), sname varchar(300),password varchar(500))\"\n",
    "- ### c.execute(cmd)\n",
    "- ### db.commit()\n",
    "\n",
    "### Note: A Local Server called MySQL server is required to connect MySQL. Here, we are using XAMPP Server.\n",
    "\n",
    "# Some Meanings about DB\n",
    "## What is Cursor()?\n",
    "> ### A database cursor is a control structure that enables traversal over the records in a database. Cursors facilitate subsequent processing in conjunction with the traversal, such as retrieval, addition and removal of database records.\n",
    "\n",
    "## What is execute()?\n",
    "> ### Executes a command string or character string within a Transact-SQL batch, or one of the following modules: system stored procedure, user-defined stored procedure, CLR stored procedure, scalar-valued user-defined function, or extended stored procedure.\n",
    "\n",
    "## What is Commit()?\n",
    "> ### A commit is the updating of a record in a database. In the context of a database transaction, a commit refers to the saving of data permanently after a set of tentative changes. A commit ends a transaction within a relational database and allows all other users to see the changes."
   ]
  },
  {
   "cell_type": "code",
   "execution_count": 9,
   "metadata": {
    "executionInfo": {
     "elapsed": 4347,
     "status": "ok",
     "timestamp": 1620450340342,
     "user": {
      "displayName": "Demo Purpose",
      "photoUrl": "",
      "userId": "12724079362540459699"
     },
     "user_tz": -330
    },
    "id": "9uh2uu8KRkDp"
   },
   "outputs": [],
   "source": [
    "# connect sqlite3\n",
    "\n",
    "import sqlite3 as sql"
   ]
  },
  {
   "cell_type": "code",
   "execution_count": 10,
   "metadata": {
    "executionInfo": {
     "elapsed": 983,
     "status": "ok",
     "timestamp": 1620450488700,
     "user": {
      "displayName": "Demo Purpose",
      "photoUrl": "",
      "userId": "12724079362540459699"
     },
     "user_tz": -330
    },
    "id": "nsgnK2ahXaPx"
   },
   "outputs": [],
   "source": [
    "db = sql.connect(\"my_python_db.db\")"
   ]
  },
  {
   "cell_type": "code",
   "execution_count": 11,
   "metadata": {
    "executionInfo": {
     "elapsed": 873,
     "status": "ok",
     "timestamp": 1620450562138,
     "user": {
      "displayName": "Demo Purpose",
      "photoUrl": "",
      "userId": "12724079362540459699"
     },
     "user_tz": -330
    },
    "id": "ik7_jRrMYC1K"
   },
   "outputs": [],
   "source": [
    "cmd = \"create table students(name varchar(20), age int, city varchar(20));\""
   ]
  },
  {
   "cell_type": "code",
   "execution_count": 12,
   "metadata": {
    "colab": {
     "base_uri": "https://localhost:8080/",
     "height": 36
    },
    "executionInfo": {
     "elapsed": 1043,
     "status": "ok",
     "timestamp": 1620450565389,
     "user": {
      "displayName": "Demo Purpose",
      "photoUrl": "",
      "userId": "12724079362540459699"
     },
     "user_tz": -330
    },
    "id": "Xb2CfsHCYUyi",
    "outputId": "a70a272b-19be-4df3-9f77-b8f0849f13d6"
   },
   "outputs": [
    {
     "data": {
      "text/plain": [
       "'create table students(name varchar(20), age int, city varchar(20));'"
      ]
     },
     "execution_count": 12,
     "metadata": {},
     "output_type": "execute_result"
    }
   ],
   "source": [
    "cmd"
   ]
  },
  {
   "cell_type": "code",
   "execution_count": 13,
   "metadata": {
    "executionInfo": {
     "elapsed": 861,
     "status": "ok",
     "timestamp": 1620450687226,
     "user": {
      "displayName": "Demo Purpose",
      "photoUrl": "",
      "userId": "12724079362540459699"
     },
     "user_tz": -330
    },
    "id": "zZMcGHrTYVVg"
   },
   "outputs": [],
   "source": [
    "cur = db.cursor()"
   ]
  },
  {
   "cell_type": "code",
   "execution_count": 14,
   "metadata": {
    "colab": {
     "base_uri": "https://localhost:8080/"
    },
    "executionInfo": {
     "elapsed": 965,
     "status": "ok",
     "timestamp": 1620450707504,
     "user": {
      "displayName": "Demo Purpose",
      "photoUrl": "",
      "userId": "12724079362540459699"
     },
     "user_tz": -330
    },
    "id": "o-QUHOeuYzU9",
    "outputId": "ffd7aefc-c167-4b2d-9e6f-dc0ad2a964ec"
   },
   "outputs": [
    {
     "data": {
      "text/plain": [
       "<sqlite3.Cursor at 0x1ca2a6d9b20>"
      ]
     },
     "execution_count": 14,
     "metadata": {},
     "output_type": "execute_result"
    }
   ],
   "source": [
    "cur.execute(cmd)"
   ]
  },
  {
   "cell_type": "code",
   "execution_count": 15,
   "metadata": {
    "colab": {
     "base_uri": "https://localhost:8080/"
    },
    "executionInfo": {
     "elapsed": 932,
     "status": "ok",
     "timestamp": 1620450749888,
     "user": {
      "displayName": "Demo Purpose",
      "photoUrl": "",
      "userId": "12724079362540459699"
     },
     "user_tz": -330
    },
    "id": "f9VZjfd8Y4QS",
    "outputId": "6fc3b6c9-9a43-4755-ccee-a8bf399de5f0"
   },
   "outputs": [
    {
     "data": {
      "text/plain": [
       "[]"
      ]
     },
     "execution_count": 15,
     "metadata": {},
     "output_type": "execute_result"
    }
   ],
   "source": [
    "\n",
    "cur.fetchall()"
   ]
  },
  {
   "cell_type": "code",
   "execution_count": 16,
   "metadata": {
    "executionInfo": {
     "elapsed": 883,
     "status": "ok",
     "timestamp": 1620450766324,
     "user": {
      "displayName": "Demo Purpose",
      "photoUrl": "",
      "userId": "12724079362540459699"
     },
     "user_tz": -330
    },
    "id": "ILmcMtvyZCnY"
   },
   "outputs": [],
   "source": [
    "\n",
    "\n",
    "\n",
    "\n",
    "\n",
    "db.commit()"
   ]
  },
  {
   "cell_type": "code",
   "execution_count": 17,
   "metadata": {
    "colab": {
     "base_uri": "https://localhost:8080/"
    },
    "executionInfo": {
     "elapsed": 952,
     "status": "ok",
     "timestamp": 1620450773011,
     "user": {
      "displayName": "Demo Purpose",
      "photoUrl": "",
      "userId": "12724079362540459699"
     },
     "user_tz": -330
    },
    "id": "dueERw14ZGo5",
    "outputId": "3e46f784-9e55-45b5-9cd0-04b2777dc671"
   },
   "outputs": [
    {
     "data": {
      "text/plain": [
       "[]"
      ]
     },
     "execution_count": 17,
     "metadata": {},
     "output_type": "execute_result"
    }
   ],
   "source": [
    "cur.fetchall()"
   ]
  },
  {
   "cell_type": "code",
   "execution_count": 18,
   "metadata": {
    "colab": {
     "base_uri": "https://localhost:8080/"
    },
    "executionInfo": {
     "elapsed": 845,
     "status": "ok",
     "timestamp": 1620450836076,
     "user": {
      "displayName": "Demo Purpose",
      "photoUrl": "",
      "userId": "12724079362540459699"
     },
     "user_tz": -330
    },
    "id": "hBRDYzG-ZIPT",
    "outputId": "01e8fb8c-400f-4442-9413-9084ea751fb7"
   },
   "outputs": [
    {
     "data": {
      "text/plain": [
       "<sqlite3.Cursor at 0x1ca2a6d9b20>"
      ]
     },
     "execution_count": 18,
     "metadata": {},
     "output_type": "execute_result"
    }
   ],
   "source": [
    "cur.execute('select * from students;')"
   ]
  },
  {
   "cell_type": "code",
   "execution_count": 19,
   "metadata": {
    "colab": {
     "base_uri": "https://localhost:8080/"
    },
    "executionInfo": {
     "elapsed": 756,
     "status": "ok",
     "timestamp": 1620450837266,
     "user": {
      "displayName": "Demo Purpose",
      "photoUrl": "",
      "userId": "12724079362540459699"
     },
     "user_tz": -330
    },
    "id": "9byYcyoIZPdx",
    "outputId": "19a58565-80be-41fb-efd9-14808f2a9bab"
   },
   "outputs": [
    {
     "data": {
      "text/plain": [
       "[]"
      ]
     },
     "execution_count": 19,
     "metadata": {},
     "output_type": "execute_result"
    }
   ],
   "source": [
    "cur.fetchall()"
   ]
  },
  {
   "cell_type": "code",
   "execution_count": 20,
   "metadata": {
    "colab": {
     "base_uri": "https://localhost:8080/"
    },
    "executionInfo": {
     "elapsed": 1173,
     "status": "ok",
     "timestamp": 1620450989331,
     "user": {
      "displayName": "Demo Purpose",
      "photoUrl": "",
      "userId": "12724079362540459699"
     },
     "user_tz": -330
    },
    "id": "tax7XdLRZQue",
    "outputId": "4279280e-db11-4c0c-ee78-ee0079752551"
   },
   "outputs": [
    {
     "data": {
      "text/plain": [
       "<sqlite3.Cursor at 0x1ca2a6d9b20>"
      ]
     },
     "execution_count": 20,
     "metadata": {},
     "output_type": "execute_result"
    }
   ],
   "source": [
    "cur.execute('insert into students (name, age, city) values (\"neel\", 24, \"ahmedabad\")')"
   ]
  },
  {
   "cell_type": "code",
   "execution_count": 21,
   "metadata": {
    "executionInfo": {
     "elapsed": 1207,
     "status": "ok",
     "timestamp": 1620450997622,
     "user": {
      "displayName": "Demo Purpose",
      "photoUrl": "",
      "userId": "12724079362540459699"
     },
     "user_tz": -330
    },
    "id": "6cC2r9ryZe8B"
   },
   "outputs": [],
   "source": [
    "db.commit()"
   ]
  },
  {
   "cell_type": "code",
   "execution_count": 22,
   "metadata": {
    "colab": {
     "base_uri": "https://localhost:8080/"
    },
    "executionInfo": {
     "elapsed": 895,
     "status": "ok",
     "timestamp": 1620451017771,
     "user": {
      "displayName": "Demo Purpose",
      "photoUrl": "",
      "userId": "12724079362540459699"
     },
     "user_tz": -330
    },
    "id": "TwhpR5slZ-9G",
    "outputId": "2f8b3f05-86de-44c2-9d97-9df77131e422"
   },
   "outputs": [
    {
     "data": {
      "text/plain": [
       "[]"
      ]
     },
     "execution_count": 22,
     "metadata": {},
     "output_type": "execute_result"
    }
   ],
   "source": [
    "cur.fetchall()"
   ]
  },
  {
   "cell_type": "code",
   "execution_count": 23,
   "metadata": {
    "colab": {
     "base_uri": "https://localhost:8080/"
    },
    "executionInfo": {
     "elapsed": 771,
     "status": "ok",
     "timestamp": 1620451020729,
     "user": {
      "displayName": "Demo Purpose",
      "photoUrl": "",
      "userId": "12724079362540459699"
     },
     "user_tz": -330
    },
    "id": "hw_eLA_AaEBC",
    "outputId": "d2c520ab-7b01-49b1-dcd4-daefcd1be78b"
   },
   "outputs": [
    {
     "data": {
      "text/plain": [
       "<sqlite3.Cursor at 0x1ca2a6d9b20>"
      ]
     },
     "execution_count": 23,
     "metadata": {},
     "output_type": "execute_result"
    }
   ],
   "source": [
    "cur.execute('select * from students;')"
   ]
  },
  {
   "cell_type": "code",
   "execution_count": 24,
   "metadata": {
    "colab": {
     "base_uri": "https://localhost:8080/"
    },
    "executionInfo": {
     "elapsed": 936,
     "status": "ok",
     "timestamp": 1620451028201,
     "user": {
      "displayName": "Demo Purpose",
      "photoUrl": "",
      "userId": "12724079362540459699"
     },
     "user_tz": -330
    },
    "id": "xqDQ6zu4aEv0",
    "outputId": "61b9f85e-c3d5-4bb1-e1f4-f216cecb770c"
   },
   "outputs": [
    {
     "data": {
      "text/plain": [
       "[('neel', 24, 'ahmedabad')]"
      ]
     },
     "execution_count": 24,
     "metadata": {},
     "output_type": "execute_result"
    }
   ],
   "source": [
    "cur.fetchall()"
   ]
  },
  {
   "cell_type": "code",
   "execution_count": 25,
   "metadata": {
    "colab": {
     "base_uri": "https://localhost:8080/"
    },
    "executionInfo": {
     "elapsed": 963,
     "status": "ok",
     "timestamp": 1620451117474,
     "user": {
      "displayName": "Demo Purpose",
      "photoUrl": "",
      "userId": "12724079362540459699"
     },
     "user_tz": -330
    },
    "id": "Bo-i0zAeaGjZ",
    "outputId": "0b4fe97f-d6f9-49a6-f2b8-e619ca2c7644"
   },
   "outputs": [
    {
     "data": {
      "text/plain": [
       "<sqlite3.Cursor at 0x1ca2a6d9b20>"
      ]
     },
     "execution_count": 25,
     "metadata": {},
     "output_type": "execute_result"
    }
   ],
   "source": [
    "cur.execute('update students set age = 23 where name = \"neel\"')"
   ]
  },
  {
   "cell_type": "code",
   "execution_count": 26,
   "metadata": {
    "executionInfo": {
     "elapsed": 1066,
     "status": "ok",
     "timestamp": 1620451128539,
     "user": {
      "displayName": "Demo Purpose",
      "photoUrl": "",
      "userId": "12724079362540459699"
     },
     "user_tz": -330
    },
    "id": "FcDY0N7EacWN"
   },
   "outputs": [],
   "source": [
    "db.commit()"
   ]
  },
  {
   "cell_type": "code",
   "execution_count": 27,
   "metadata": {
    "colab": {
     "base_uri": "https://localhost:8080/"
    },
    "executionInfo": {
     "elapsed": 844,
     "status": "ok",
     "timestamp": 1620451135069,
     "user": {
      "displayName": "Demo Purpose",
      "photoUrl": "",
      "userId": "12724079362540459699"
     },
     "user_tz": -330
    },
    "id": "QtKkOos1afBk",
    "outputId": "c88a14e2-8168-4f97-d10f-509a32723052"
   },
   "outputs": [
    {
     "data": {
      "text/plain": [
       "[]"
      ]
     },
     "execution_count": 27,
     "metadata": {},
     "output_type": "execute_result"
    }
   ],
   "source": [
    "cur.fetchall()"
   ]
  },
  {
   "cell_type": "code",
   "execution_count": 28,
   "metadata": {
    "colab": {
     "base_uri": "https://localhost:8080/"
    },
    "executionInfo": {
     "elapsed": 865,
     "status": "ok",
     "timestamp": 1620451139469,
     "user": {
      "displayName": "Demo Purpose",
      "photoUrl": "",
      "userId": "12724079362540459699"
     },
     "user_tz": -330
    },
    "id": "5wAl5Jivagqo",
    "outputId": "151ca389-bb33-4ec9-cba9-5ef3799d85d7"
   },
   "outputs": [
    {
     "data": {
      "text/plain": [
       "<sqlite3.Cursor at 0x1ca2a6d9b20>"
      ]
     },
     "execution_count": 28,
     "metadata": {},
     "output_type": "execute_result"
    }
   ],
   "source": [
    "cur.execute('select * from students;')"
   ]
  },
  {
   "cell_type": "code",
   "execution_count": 26,
   "metadata": {
    "colab": {
     "base_uri": "https://localhost:8080/"
    },
    "executionInfo": {
     "elapsed": 853,
     "status": "ok",
     "timestamp": 1620451145517,
     "user": {
      "displayName": "Demo Purpose",
      "photoUrl": "",
      "userId": "12724079362540459699"
     },
     "user_tz": -330
    },
    "id": "8SZFhPe0ahvO",
    "outputId": "a49ace3b-1cad-4c60-996a-856f9816a7c1"
   },
   "outputs": [
    {
     "data": {
      "text/plain": [
       "[('neel', 23, 'ahmedabad')]"
      ]
     },
     "execution_count": 26,
     "metadata": {
      "tags": []
     },
     "output_type": "execute_result"
    }
   ],
   "source": [
    "cur.fetchall()"
   ]
  },
  {
   "cell_type": "code",
   "execution_count": 29,
   "metadata": {
    "colab": {
     "base_uri": "https://localhost:8080/",
     "height": 350
    },
    "executionInfo": {
     "elapsed": 958,
     "status": "error",
     "timestamp": 1620451514332,
     "user": {
      "displayName": "Demo Purpose",
      "photoUrl": "",
      "userId": "12724079362540459699"
     },
     "user_tz": -330
    },
    "id": "EUt1Bf1YajOD",
    "outputId": "0de180c1-ffb8-4b71-9668-2963cd9c47d7"
   },
   "outputs": [
    {
     "ename": "ModuleNotFoundError",
     "evalue": "No module named 'pymysql'",
     "output_type": "error",
     "traceback": [
      "\u001b[1;31m---------------------------------------------------------------------------\u001b[0m",
      "\u001b[1;31mModuleNotFoundError\u001b[0m                       Traceback (most recent call last)",
      "\u001b[1;32m<ipython-input-29-d9592776618f>\u001b[0m in \u001b[0;36m<module>\u001b[1;34m\u001b[0m\n\u001b[0;32m      1\u001b[0m \u001b[1;31m# database with pymysql\u001b[0m\u001b[1;33m\u001b[0m\u001b[1;33m\u001b[0m\u001b[1;33m\u001b[0m\u001b[0m\n\u001b[0;32m      2\u001b[0m \u001b[1;33m\u001b[0m\u001b[0m\n\u001b[1;32m----> 3\u001b[1;33m \u001b[1;32mimport\u001b[0m \u001b[0mpymysql\u001b[0m\u001b[1;33m\u001b[0m\u001b[1;33m\u001b[0m\u001b[0m\n\u001b[0m",
      "\u001b[1;31mModuleNotFoundError\u001b[0m: No module named 'pymysql'"
     ]
    }
   ],
   "source": [
    "# database with pymysql\n",
    "\n",
    "import pymysql"
   ]
  },
  {
   "cell_type": "code",
   "execution_count": 36,
   "metadata": {
    "colab": {
     "base_uri": "https://localhost:8080/"
    },
    "executionInfo": {
     "elapsed": 4288,
     "status": "ok",
     "timestamp": 1620451532123,
     "user": {
      "displayName": "Demo Purpose",
      "photoUrl": "",
      "userId": "12724079362540459699"
     },
     "user_tz": -330
    },
    "id": "MpbfX3mxb9Gz",
    "outputId": "3bf555f1-564e-4ce4-bd43-b5a12bdba710"
   },
   "outputs": [
    {
     "name": "stdout",
     "output_type": "stream",
     "text": [
      "Requirement already satisfied: pymysql in c:\\users\\niranjan kumar\\appdata\\local\\programs\\python\\python39\\lib\\site-packages (1.0.2)\n"
     ]
    },
    {
     "name": "stderr",
     "output_type": "stream",
     "text": [
      "WARNING: You are using pip version 21.1.3; however, version 21.2.4 is available.\n",
      "You should consider upgrading via the 'c:\\users\\niranjan kumar\\appdata\\local\\programs\\python\\python39\\python.exe -m pip install --upgrade pip' command.\n"
     ]
    }
   ],
   "source": [
    "!pip install pymysql"
   ]
  },
  {
   "cell_type": "code",
   "execution_count": 37,
   "metadata": {
    "executionInfo": {
     "elapsed": 861,
     "status": "ok",
     "timestamp": 1620451550831,
     "user": {
      "displayName": "Demo Purpose",
      "photoUrl": "",
      "userId": "12724079362540459699"
     },
     "user_tz": -330
    },
    "id": "V6I_cxdacAxE"
   },
   "outputs": [],
   "source": [
    "import pymysql as sql"
   ]
  },
  {
   "cell_type": "code",
   "execution_count": 38,
   "metadata": {
    "colab": {
     "base_uri": "https://localhost:8080/",
     "height": 446
    },
    "executionInfo": {
     "elapsed": 894,
     "status": "error",
     "timestamp": 1620451910742,
     "user": {
      "displayName": "Demo Purpose",
      "photoUrl": "",
      "userId": "12724079362540459699"
     },
     "user_tz": -330
    },
    "id": "4wow8zX9cGLA",
    "outputId": "9dc9eac2-4f1e-4e28-99a2-fedc04a1e5d6"
   },
   "outputs": [
    {
     "ename": "OperationalError",
     "evalue": "(2003, \"Can't connect to MySQL server on 'localhost' ([WinError 10061] No connection could be made because the target machine actively refused it)\")",
     "output_type": "error",
     "traceback": [
      "\u001b[1;31m---------------------------------------------------------------------------\u001b[0m",
      "\u001b[1;31mConnectionRefusedError\u001b[0m                    Traceback (most recent call last)",
      "\u001b[1;32mC:\\Anaconda\\lib\\site-packages\\pymysql\\connections.py\u001b[0m in \u001b[0;36mconnect\u001b[1;34m(self, sock)\u001b[0m\n\u001b[0;32m    612\u001b[0m                         \u001b[1;32mtry\u001b[0m\u001b[1;33m:\u001b[0m\u001b[1;33m\u001b[0m\u001b[1;33m\u001b[0m\u001b[0m\n\u001b[1;32m--> 613\u001b[1;33m                             sock = socket.create_connection(\n\u001b[0m\u001b[0;32m    614\u001b[0m                                 \u001b[1;33m(\u001b[0m\u001b[0mself\u001b[0m\u001b[1;33m.\u001b[0m\u001b[0mhost\u001b[0m\u001b[1;33m,\u001b[0m \u001b[0mself\u001b[0m\u001b[1;33m.\u001b[0m\u001b[0mport\u001b[0m\u001b[1;33m)\u001b[0m\u001b[1;33m,\u001b[0m \u001b[0mself\u001b[0m\u001b[1;33m.\u001b[0m\u001b[0mconnect_timeout\u001b[0m\u001b[1;33m,\u001b[0m \u001b[1;33m**\u001b[0m\u001b[0mkwargs\u001b[0m\u001b[1;33m\u001b[0m\u001b[1;33m\u001b[0m\u001b[0m\n",
      "\u001b[1;32mC:\\Anaconda\\lib\\socket.py\u001b[0m in \u001b[0;36mcreate_connection\u001b[1;34m(address, timeout, source_address)\u001b[0m\n\u001b[0;32m    807\u001b[0m         \u001b[1;32mtry\u001b[0m\u001b[1;33m:\u001b[0m\u001b[1;33m\u001b[0m\u001b[1;33m\u001b[0m\u001b[0m\n\u001b[1;32m--> 808\u001b[1;33m             \u001b[1;32mraise\u001b[0m \u001b[0merr\u001b[0m\u001b[1;33m\u001b[0m\u001b[1;33m\u001b[0m\u001b[0m\n\u001b[0m\u001b[0;32m    809\u001b[0m         \u001b[1;32mfinally\u001b[0m\u001b[1;33m:\u001b[0m\u001b[1;33m\u001b[0m\u001b[1;33m\u001b[0m\u001b[0m\n",
      "\u001b[1;32mC:\\Anaconda\\lib\\socket.py\u001b[0m in \u001b[0;36mcreate_connection\u001b[1;34m(address, timeout, source_address)\u001b[0m\n\u001b[0;32m    795\u001b[0m                 \u001b[0msock\u001b[0m\u001b[1;33m.\u001b[0m\u001b[0mbind\u001b[0m\u001b[1;33m(\u001b[0m\u001b[0msource_address\u001b[0m\u001b[1;33m)\u001b[0m\u001b[1;33m\u001b[0m\u001b[1;33m\u001b[0m\u001b[0m\n\u001b[1;32m--> 796\u001b[1;33m             \u001b[0msock\u001b[0m\u001b[1;33m.\u001b[0m\u001b[0mconnect\u001b[0m\u001b[1;33m(\u001b[0m\u001b[0msa\u001b[0m\u001b[1;33m)\u001b[0m\u001b[1;33m\u001b[0m\u001b[1;33m\u001b[0m\u001b[0m\n\u001b[0m\u001b[0;32m    797\u001b[0m             \u001b[1;31m# Break explicitly a reference cycle\u001b[0m\u001b[1;33m\u001b[0m\u001b[1;33m\u001b[0m\u001b[1;33m\u001b[0m\u001b[0m\n",
      "\u001b[1;31mConnectionRefusedError\u001b[0m: [WinError 10061] No connection could be made because the target machine actively refused it",
      "\nDuring handling of the above exception, another exception occurred:\n",
      "\u001b[1;31mOperationalError\u001b[0m                          Traceback (most recent call last)",
      "\u001b[1;32m<ipython-input-38-6942c2515d12>\u001b[0m in \u001b[0;36m<module>\u001b[1;34m\u001b[0m\n\u001b[1;32m----> 1\u001b[1;33m \u001b[0mdb\u001b[0m \u001b[1;33m=\u001b[0m \u001b[0msql\u001b[0m\u001b[1;33m.\u001b[0m\u001b[0mconnect\u001b[0m\u001b[1;33m(\u001b[0m\u001b[0mhost\u001b[0m\u001b[1;33m=\u001b[0m\u001b[1;34m'localhost'\u001b[0m\u001b[1;33m,\u001b[0m \u001b[0mport\u001b[0m\u001b[1;33m=\u001b[0m\u001b[1;36m3306\u001b[0m\u001b[1;33m,\u001b[0m \u001b[0muser\u001b[0m\u001b[1;33m=\u001b[0m\u001b[1;34m'root'\u001b[0m\u001b[1;33m)\u001b[0m\u001b[1;33m\u001b[0m\u001b[1;33m\u001b[0m\u001b[0m\n\u001b[0m",
      "\u001b[1;32mC:\\Anaconda\\lib\\site-packages\\pymysql\\connections.py\u001b[0m in \u001b[0;36m__init__\u001b[1;34m(self, user, password, host, database, unix_socket, port, charset, sql_mode, read_default_file, conv, use_unicode, client_flag, cursorclass, init_command, connect_timeout, read_default_group, autocommit, local_infile, max_allowed_packet, defer_connect, auth_plugin_map, read_timeout, write_timeout, bind_address, binary_prefix, program_name, server_public_key, ssl, ssl_ca, ssl_cert, ssl_disabled, ssl_key, ssl_verify_cert, ssl_verify_identity, compress, named_pipe, passwd, db)\u001b[0m\n\u001b[0;32m    351\u001b[0m             \u001b[0mself\u001b[0m\u001b[1;33m.\u001b[0m\u001b[0m_sock\u001b[0m \u001b[1;33m=\u001b[0m \u001b[1;32mNone\u001b[0m\u001b[1;33m\u001b[0m\u001b[1;33m\u001b[0m\u001b[0m\n\u001b[0;32m    352\u001b[0m         \u001b[1;32melse\u001b[0m\u001b[1;33m:\u001b[0m\u001b[1;33m\u001b[0m\u001b[1;33m\u001b[0m\u001b[0m\n\u001b[1;32m--> 353\u001b[1;33m             \u001b[0mself\u001b[0m\u001b[1;33m.\u001b[0m\u001b[0mconnect\u001b[0m\u001b[1;33m(\u001b[0m\u001b[1;33m)\u001b[0m\u001b[1;33m\u001b[0m\u001b[1;33m\u001b[0m\u001b[0m\n\u001b[0m\u001b[0;32m    354\u001b[0m \u001b[1;33m\u001b[0m\u001b[0m\n\u001b[0;32m    355\u001b[0m     \u001b[1;32mdef\u001b[0m \u001b[0m__enter__\u001b[0m\u001b[1;33m(\u001b[0m\u001b[0mself\u001b[0m\u001b[1;33m)\u001b[0m\u001b[1;33m:\u001b[0m\u001b[1;33m\u001b[0m\u001b[1;33m\u001b[0m\u001b[0m\n",
      "\u001b[1;32mC:\\Anaconda\\lib\\site-packages\\pymysql\\connections.py\u001b[0m in \u001b[0;36mconnect\u001b[1;34m(self, sock)\u001b[0m\n\u001b[0;32m    662\u001b[0m                 \u001b[1;32mif\u001b[0m \u001b[0mDEBUG\u001b[0m\u001b[1;33m:\u001b[0m\u001b[1;33m\u001b[0m\u001b[1;33m\u001b[0m\u001b[0m\n\u001b[0;32m    663\u001b[0m                     \u001b[0mprint\u001b[0m\u001b[1;33m(\u001b[0m\u001b[0mexc\u001b[0m\u001b[1;33m.\u001b[0m\u001b[0mtraceback\u001b[0m\u001b[1;33m)\u001b[0m\u001b[1;33m\u001b[0m\u001b[1;33m\u001b[0m\u001b[0m\n\u001b[1;32m--> 664\u001b[1;33m                 \u001b[1;32mraise\u001b[0m \u001b[0mexc\u001b[0m\u001b[1;33m\u001b[0m\u001b[1;33m\u001b[0m\u001b[0m\n\u001b[0m\u001b[0;32m    665\u001b[0m \u001b[1;33m\u001b[0m\u001b[0m\n\u001b[0;32m    666\u001b[0m             \u001b[1;31m# If e is neither DatabaseError or IOError, It's a bug.\u001b[0m\u001b[1;33m\u001b[0m\u001b[1;33m\u001b[0m\u001b[1;33m\u001b[0m\u001b[0m\n",
      "\u001b[1;31mOperationalError\u001b[0m: (2003, \"Can't connect to MySQL server on 'localhost' ([WinError 10061] No connection could be made because the target machine actively refused it)\")"
     ]
    }
   ],
   "source": [
    "db = sql.connect(host='localhost', port=3306, user='root')"
   ]
  },
  {
   "cell_type": "code",
   "execution_count": null,
   "metadata": {
    "id": "5PjbeW79cOrd"
   },
   "outputs": [],
   "source": [
    "mysql -u root\n",
    "then create database table"
   ]
  }
 ],
 "metadata": {
  "colab": {
   "name": "Database_with_python.ipynb",
   "provenance": []
  },
  "kernelspec": {
   "display_name": "Python 3",
   "language": "python",
   "name": "python3"
  },
  "language_info": {
   "codemirror_mode": {
    "name": "ipython",
    "version": 3
   },
   "file_extension": ".py",
   "mimetype": "text/x-python",
   "name": "python",
   "nbconvert_exporter": "python",
   "pygments_lexer": "ipython3",
   "version": "3.8.8"
  }
 },
 "nbformat": 4,
 "nbformat_minor": 1
}
