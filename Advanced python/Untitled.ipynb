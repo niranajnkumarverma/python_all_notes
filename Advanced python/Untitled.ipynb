{
 "cells": [
  {
   "cell_type": "code",
   "execution_count": 3,
   "metadata": {},
   "outputs": [],
   "source": [
    "from tkinter import *\n",
    "from tkinter import ttk\n",
    "import tkinter.messagebox as msgbox\n",
    "\n",
    "def myApp():\n",
    "    root = Tk()\n",
    "    root.geometry(\"400x250\")\n",
    "    root.title('My first app')\n",
    "    root.resizable(False, False)\n",
    "\n",
    "    mainframe = ttk.Frame(root, padding=\"5 5 10 10\")\n",
    "\n",
    "    name = ttk.Label(root, text=\"Enter your name\", font=('bold', 12)) # set the label for name\n",
    "    name.place(x=150,y=50)\n",
    "    \n",
    "    name_input = Entry() # input field for name\n",
    "    name_input.place(x=150,y=80)\n",
    "\n",
    "    def btnCmd():\n",
    "        msgbox.showinfo('My Message', f'Welcome {name_input.get()}')\n",
    "        \n",
    "    btn = Button( root, text=\"Submit\", font=('bold', 10), command=btnCmd )\n",
    "    btn.place(x=180,y=120)\n",
    "    \n",
    "    root.mainloop()"
   ]
  },
  {
   "cell_type": "code",
   "execution_count": 2,
   "metadata": {},
   "outputs": [
    {
     "ename": "NameError",
     "evalue": "name 'myApp' is not defined",
     "output_type": "error",
     "traceback": [
      "\u001b[1;31m---------------------------------------------------------------------------\u001b[0m",
      "\u001b[1;31mNameError\u001b[0m                                 Traceback (most recent call last)",
      "\u001b[1;32m<ipython-input-2-6747626505a4>\u001b[0m in \u001b[0;36m<module>\u001b[1;34m\u001b[0m\n\u001b[1;32m----> 1\u001b[1;33m \u001b[0mmyApp\u001b[0m\u001b[1;33m(\u001b[0m\u001b[1;33m)\u001b[0m\u001b[1;33m\u001b[0m\u001b[1;33m\u001b[0m\u001b[0m\n\u001b[0m",
      "\u001b[1;31mNameError\u001b[0m: name 'myApp' is not defined"
     ]
    }
   ],
   "source": [
    "myApp()"
   ]
  },
  {
   "cell_type": "code",
   "execution_count": null,
   "metadata": {},
   "outputs": [],
   "source": []
  }
 ],
 "metadata": {
  "kernelspec": {
   "display_name": "Python 3",
   "language": "python",
   "name": "python3"
  },
  "language_info": {
   "codemirror_mode": {
    "name": "ipython",
    "version": 3
   },
   "file_extension": ".py",
   "mimetype": "text/x-python",
   "name": "python",
   "nbconvert_exporter": "python",
   "pygments_lexer": "ipython3",
   "version": "3.8.5"
  }
 },
 "nbformat": 4,
 "nbformat_minor": 4
}
