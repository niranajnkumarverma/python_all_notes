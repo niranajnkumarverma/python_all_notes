{
 "cells": [
  {
   "cell_type": "markdown",
   "metadata": {
    "id": "8emiGyqUZjzD"
   },
   "source": [
    "# GUI - Graphical User Interface\n",
    "\n",
    "## What is GUI?\n",
    "### GUI stands for Graphical User Interface. This is a type of user interface where user interacts with the computer graphics.\n",
    "\n",
    "### GUI Objects:\n",
    "> * Icons\n",
    "> * Images\n",
    "> * Navigations or navigation bars\n",
    "> * Buttons\n",
    "> * Dropdown list\n",
    "> * Checkboxes\n",
    "> * Radio Buttons\n",
    "> * Input boxes and text boxes\n",
    "> * Hyperlink\n",
    "\n",
    "## GUI Plateforms\n",
    "> * Operating System - Windows, macOS, linux.\n",
    "> * Web Applications\n",
    "\n",
    "## GUI with Python\n",
    "### Python provides a gui library called tkinter also known as tk interface.\n",
    "\n",
    "### >>> import tkinter\n",
    "### >>> print(dir(tkinter))"
   ]
  },
  {
   "cell_type": "code",
   "execution_count": 2,
   "metadata": {
    "executionInfo": {
     "elapsed": 1093,
     "status": "ok",
     "timestamp": 1619847657903,
     "user": {
      "displayName": "Demo Purpose",
      "photoUrl": "",
      "userId": "12724079362540459699"
     },
     "user_tz": -330
    },
    "id": "0rHhKOIHZVdL"
   },
   "outputs": [],
   "source": [
    "import tkinter"
   ]
  },
  {
   "cell_type": "code",
   "execution_count": 3,
   "metadata": {
    "colab": {
     "base_uri": "https://localhost:8080/"
    },
    "executionInfo": {
     "elapsed": 1087,
     "status": "ok",
     "timestamp": 1619847663872,
     "user": {
      "displayName": "Demo Purpose",
      "photoUrl": "",
      "userId": "12724079362540459699"
     },
     "user_tz": -330
    },
    "id": "lZLs6MIacbIq",
    "outputId": "a5a57c51-026a-460a-a244-93491af196b0"
   },
   "outputs": [
    {
     "name": "stdout",
     "output_type": "stream",
     "text": [
      "['ACTIVE', 'ALL', 'ANCHOR', 'ARC', 'BASELINE', 'BEVEL', 'BOTH', 'BOTTOM', 'BROWSE', 'BUTT', 'BaseWidget', 'BitmapImage', 'BooleanVar', 'Button', 'CASCADE', 'CENTER', 'CHAR', 'CHECKBUTTON', 'CHORD', 'COMMAND', 'CURRENT', 'CallWrapper', 'Canvas', 'Checkbutton', 'DISABLED', 'DOTBOX', 'DoubleVar', 'E', 'END', 'EW', 'EXCEPTION', 'EXTENDED', 'Entry', 'Event', 'EventType', 'FALSE', 'FIRST', 'FLAT', 'Frame', 'GROOVE', 'Grid', 'HIDDEN', 'HORIZONTAL', 'INSERT', 'INSIDE', 'Image', 'IntVar', 'LAST', 'LEFT', 'Label', 'LabelFrame', 'Listbox', 'MITER', 'MOVETO', 'MULTIPLE', 'Menu', 'Menubutton', 'Message', 'Misc', 'N', 'NE', 'NO', 'NONE', 'NORMAL', 'NS', 'NSEW', 'NUMERIC', 'NW', 'NoDefaultRoot', 'OFF', 'ON', 'OUTSIDE', 'OptionMenu', 'PAGES', 'PIESLICE', 'PROJECTING', 'Pack', 'PanedWindow', 'PhotoImage', 'Place', 'RADIOBUTTON', 'RAISED', 'READABLE', 'RIDGE', 'RIGHT', 'ROUND', 'Radiobutton', 'S', 'SCROLL', 'SE', 'SEL', 'SEL_FIRST', 'SEL_LAST', 'SEPARATOR', 'SINGLE', 'SOLID', 'SUNKEN', 'SW', 'Scale', 'Scrollbar', 'Spinbox', 'StringVar', 'TOP', 'TRUE', 'Tcl', 'TclError', 'TclVersion', 'Text', 'Tk', 'TkVersion', 'Toplevel', 'UNDERLINE', 'UNITS', 'VERTICAL', 'Variable', 'W', 'WORD', 'WRITABLE', 'Widget', 'Wm', 'X', 'XView', 'Y', 'YES', 'YView', '__builtins__', '__cached__', '__doc__', '__file__', '__loader__', '__name__', '__package__', '__path__', '__spec__', '_cnfmerge', '_default_root', '_exit', '_flatten', '_get_default_root', '_join', '_magic_re', '_setit', '_space_re', '_splitdict', '_stringify', '_support_default_root', '_test', '_tkerror', '_tkinter', '_varnum', 'commondialog', 'constants', 'enum', 'getboolean', 'getdouble', 'getint', 'image_names', 'image_types', 'mainloop', 'messagebox', 're', 'sys', 'ttk', 'wantobjects']\n"
     ]
    }
   ],
   "source": [
    "print(dir(tkinter))"
   ]
  },
  {
   "cell_type": "code",
   "execution_count": 6,
   "metadata": {
    "executionInfo": {
     "elapsed": 993,
     "status": "ok",
     "timestamp": 1619848696414,
     "user": {
      "displayName": "Demo Purpose",
      "photoUrl": "",
      "userId": "12724079362540459699"
     },
     "user_tz": -330
    },
    "id": "l_bO1295ccgP"
   },
   "outputs": [],
   "source": [
    "from tkinter import *\n",
    "from tkinter import ttk\n",
    "import tkinter.messagebox as msgbox\n",
    "\n",
    "def myApp():\n",
    "    root = Tk()\n",
    "    root.geometry(\"400x250\")\n",
    "    root.title('My first app')\n",
    "    root.resizable(False, False)\n",
    "\n",
    "    mainframe = ttk.Frame(root, padding=\"5 5 10 10\")\n",
    "\n",
    "    name = ttk.Label(root, text=\"Enter your name\", font=('bold', 12)) # set the label for name\n",
    "    name.place(x=150,y=50)\n",
    "    \n",
    "    name_input = Entry() # input field for name\n",
    "    name_input.place(x=150,y=80)\n",
    "\n",
    "    def btnCmd():\n",
    "        msgbox.showinfo('My Message', f'Welcome {name_input.get()}')\n",
    "        \n",
    "    btn = Button( root, text=\"Submit\", font=('bold', 10), command=btnCmd )\n",
    "    btn.place(x=180,y=120)\n",
    "    \n",
    "    root.mainloop()"
   ]
  },
  {
   "cell_type": "code",
   "execution_count": 7,
   "metadata": {
    "colab": {
     "base_uri": "https://localhost:8080/",
     "height": 320
    },
    "executionInfo": {
     "elapsed": 1152,
     "status": "error",
     "timestamp": 1619848122053,
     "user": {
      "displayName": "Demo Purpose",
      "photoUrl": "",
      "userId": "12724079362540459699"
     },
     "user_tz": -330
    },
    "id": "gGeAnOxPd-1-",
    "outputId": "dcf8ebd0-ae1b-40f6-a66a-e69931c9718d"
   },
   "outputs": [],
   "source": [
    "myApp()"
   ]
  },
  {
   "cell_type": "code",
   "execution_count": null,
   "metadata": {
    "id": "KlD5MezAeBvd"
   },
   "outputs": [],
   "source": []
  },
  {
   "cell_type": "code",
   "execution_count": null,
   "metadata": {},
   "outputs": [],
   "source": []
  }
 ],
 "metadata": {
  "colab": {
   "authorship_tag": "ABX9TyOatHGhQQFNyooTwKlgaQaJ",
   "name": "Tkinter_GUI_in_Python.ipynb",
   "provenance": []
  },
  "kernelspec": {
   "display_name": "Python 3",
   "language": "python",
   "name": "python3"
  },
  "language_info": {
   "codemirror_mode": {
    "name": "ipython",
    "version": 3
   },
   "file_extension": ".py",
   "mimetype": "text/x-python",
   "name": "python",
   "nbconvert_exporter": "python",
   "pygments_lexer": "ipython3",
   "version": "3.8.8"
  }
 },
 "nbformat": 4,
 "nbformat_minor": 1
}
