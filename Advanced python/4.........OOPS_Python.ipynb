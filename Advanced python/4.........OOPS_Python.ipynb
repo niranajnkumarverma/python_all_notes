{
 "cells": [
  {
   "cell_type": "markdown",
   "metadata": {
    "id": "1CNAN2gdsFju"
   },
   "source": [
    "# OBJECT-ORIENTED PROGRAMMING\n",
    "## Object oriented programming is a technique or style which is associated with a object and class.\n",
    "\n",
    "## What is Class?\n",
    "### Class is a collection of member variables and member methods. A Class just like a template, design or blueprint.\n",
    "\n",
    "### Example:\n",
    "- ### Class ->> Human Beings ->> Male and Female\n",
    "- ### Varibales ->> Hands, Legs, Eyes, Ears and Heart.\n",
    "- ### Functions ->> Walk, See, Talk, and Hear.\n",
    "\n",
    "## What is Object?\n",
    "### Object is a instance of a Class that holds a reference or address of member variables and member methods of class.\n",
    "\n",
    "### Example:\n",
    "- ### Kapil ->> OBJECT <<- Class Male\n",
    "\n",
    "## Features of OOP\n",
    "- ### Inheritance - It's allow to transmit data members one class to another class.\n",
    "### Example:\n",
    "\n",
    "- ### Class HumanBeings ->> Inherit in both ->> Class Male and Class Female\n",
    "- ### Encapsulation - It is called data hiding. It's a way to prevent accidental changes and unauthorised access to data members of a class. It's refer to binding the member variables and functions in single unit.\n",
    "### Example:\n",
    "- ### Class Male ->> Human voices can't be changed. Blood flow etc.\n",
    "\n",
    "- ### Polymorphism - Means many forms. It allows us to define more than one way to do something.\n",
    "- ### 1. Method Overloading ->> Compile time Polymorphism ->> Same name within same class and different number of arguments.\n",
    "- ### 2. Method Overriding ->> Runtime Polymorphism ->> Same name, different class and same arguments, possible with Inheritance only.\n",
    "### Example:\n",
    "- ### Class HumanBeings ->> (hands) <<- walk ->> (legs) -- its called overloading\n",
    "- ### Class HumanBeings ->> walk forward and walk backward -- changed the machenism of function, its called overriding.\n",
    "\n",
    "#### --> __init__ - (It is reserved method in python classes known as  constructor. It is called when object created.)\n",
    "#### --> self - (self parameter is a reference to the current object of a class. It's used to access variables that belongs to the class.)"
   ]
  },
  {
   "cell_type": "code",
   "execution_count": null,
   "metadata": {
    "id": "bZ9nc68Rq8cj"
   },
   "outputs": [],
   "source": [
    "# simple class syntax\n",
    "# method name should be in camelCase - like this--> userInfo\n",
    "# class name should be starts with capital letter\n",
    "\n",
    "class UserInfo:\n",
    "  name = 'neel'"
   ]
  },
  {
   "cell_type": "code",
   "execution_count": null,
   "metadata": {
    "id": "drzsoyUWwbLE"
   },
   "outputs": [],
   "source": [
    "# creating a class object\n",
    "\n",
    "obj = UserInfo()"
   ]
  },
  {
   "cell_type": "code",
   "execution_count": null,
   "metadata": {
    "colab": {
     "base_uri": "https://localhost:8080/"
    },
    "executionInfo": {
     "elapsed": 946,
     "status": "ok",
     "timestamp": 1618896645158,
     "user": {
      "displayName": "Demo Purpose",
      "photoUrl": "",
      "userId": "12724079362540459699"
     },
     "user_tz": -330
    },
    "id": "DTqPUMc2wlaC",
    "outputId": "d75007b6-b2d5-4b1d-9fe9-3d08d8b235bf"
   },
   "outputs": [
    {
     "data": {
      "text/plain": [
       "<__main__.UserInfo at 0x7f70a9f5fed0>"
      ]
     },
     "execution_count": 3,
     "metadata": {
      "tags": []
     },
     "output_type": "execute_result"
    }
   ],
   "source": [
    "obj"
   ]
  },
  {
   "cell_type": "code",
   "execution_count": null,
   "metadata": {
    "colab": {
     "base_uri": "https://localhost:8080/",
     "height": 36
    },
    "executionInfo": {
     "elapsed": 833,
     "status": "ok",
     "timestamp": 1618896663771,
     "user": {
      "displayName": "Demo Purpose",
      "photoUrl": "",
      "userId": "12724079362540459699"
     },
     "user_tz": -330
    },
    "id": "7a9ejEIEwmgD",
    "outputId": "c63ea7a2-e47b-4887-b53e-ac51d6d29763"
   },
   "outputs": [
    {
     "data": {
      "application/vnd.google.colaboratory.intrinsic+json": {
       "type": "string"
      },
      "text/plain": [
       "'neel'"
      ]
     },
     "execution_count": 4,
     "metadata": {
      "tags": []
     },
     "output_type": "execute_result"
    }
   ],
   "source": [
    "obj.name"
   ]
  },
  {
   "cell_type": "code",
   "execution_count": null,
   "metadata": {
    "id": "HPQrbI9cwrE6"
   },
   "outputs": [],
   "source": [
    "# change class member variale value\n",
    "\n",
    "obj.name = 'Jaini'"
   ]
  },
  {
   "cell_type": "code",
   "execution_count": null,
   "metadata": {
    "colab": {
     "base_uri": "https://localhost:8080/",
     "height": 36
    },
    "executionInfo": {
     "elapsed": 694,
     "status": "ok",
     "timestamp": 1618896709167,
     "user": {
      "displayName": "Demo Purpose",
      "photoUrl": "",
      "userId": "12724079362540459699"
     },
     "user_tz": -330
    },
    "id": "UEVZwfQXw1Nx",
    "outputId": "ecd652d7-3c21-447a-e15d-8a64f5eeddcb"
   },
   "outputs": [
    {
     "data": {
      "application/vnd.google.colaboratory.intrinsic+json": {
       "type": "string"
      },
      "text/plain": [
       "'Jaini'"
      ]
     },
     "execution_count": 6,
     "metadata": {
      "tags": []
     },
     "output_type": "execute_result"
    }
   ],
   "source": [
    "obj.name"
   ]
  },
  {
   "cell_type": "code",
   "execution_count": null,
   "metadata": {
    "colab": {
     "base_uri": "https://localhost:8080/"
    },
    "executionInfo": {
     "elapsed": 1003,
     "status": "ok",
     "timestamp": 1618896766221,
     "user": {
      "displayName": "Demo Purpose",
      "photoUrl": "",
      "userId": "12724079362540459699"
     },
     "user_tz": -330
    },
    "id": "N1YE-Ts2w2Gh",
    "outputId": "225e2cbf-5eb9-4533-e1fc-7a3ae3b8f0aa"
   },
   "outputs": [
    {
     "data": {
      "text/plain": [
       "['__class__',\n",
       " '__delattr__',\n",
       " '__dict__',\n",
       " '__dir__',\n",
       " '__doc__',\n",
       " '__eq__',\n",
       " '__format__',\n",
       " '__ge__',\n",
       " '__getattribute__',\n",
       " '__gt__',\n",
       " '__hash__',\n",
       " '__init__',\n",
       " '__init_subclass__',\n",
       " '__le__',\n",
       " '__lt__',\n",
       " '__module__',\n",
       " '__ne__',\n",
       " '__new__',\n",
       " '__reduce__',\n",
       " '__reduce_ex__',\n",
       " '__repr__',\n",
       " '__setattr__',\n",
       " '__sizeof__',\n",
       " '__str__',\n",
       " '__subclasshook__',\n",
       " '__weakref__',\n",
       " 'name']"
      ]
     },
     "execution_count": 7,
     "metadata": {
      "tags": []
     },
     "output_type": "execute_result"
    }
   ],
   "source": [
    "dir(obj)"
   ]
  },
  {
   "cell_type": "code",
   "execution_count": null,
   "metadata": {
    "colab": {
     "base_uri": "https://localhost:8080/"
    },
    "executionInfo": {
     "elapsed": 829,
     "status": "ok",
     "timestamp": 1618896801082,
     "user": {
      "displayName": "Demo Purpose",
      "photoUrl": "",
      "userId": "12724079362540459699"
     },
     "user_tz": -330
    },
    "id": "xRnYV4HqxEB8",
    "outputId": "e22ac4b5-a323-4b83-ea76-d6c2c68fdfe7"
   },
   "outputs": [
    {
     "data": {
      "text/plain": [
       "{'name': 'Jaini'}"
      ]
     },
     "execution_count": 8,
     "metadata": {
      "tags": []
     },
     "output_type": "execute_result"
    }
   ],
   "source": [
    "obj.__dict__"
   ]
  },
  {
   "cell_type": "code",
   "execution_count": 1,
   "metadata": {
    "id": "_G5iPFC9xMmz"
   },
   "outputs": [],
   "source": [
    "# __init__(self)\n",
    "\n",
    "class UserInfo:\n",
    "  \"\"\"this class is cointained user information\"\"\"\n",
    "  \n",
    "  def __init__(self):\n",
    "    print('this is a constructor of current class.')\n",
    "    self.name = 'neel'\n",
    "    self.city = 'ahmedabad'\n",
    "    self.country = 'india'"
   ]
  },
  {
   "cell_type": "code",
   "execution_count": 2,
   "metadata": {
    "colab": {
     "base_uri": "https://localhost:8080/"
    },
    "executionInfo": {
     "elapsed": 819,
     "status": "ok",
     "timestamp": 1618896999703,
     "user": {
      "displayName": "Demo Purpose",
      "photoUrl": "",
      "userId": "12724079362540459699"
     },
     "user_tz": -330
    },
    "id": "obW0w-b9x63u",
    "outputId": "352ae267-d102-43e0-eadb-77659c6ba07a"
   },
   "outputs": [
    {
     "name": "stdout",
     "output_type": "stream",
     "text": [
      "this is a constructor of current class.\n"
     ]
    }
   ],
   "source": [
    "obj = UserInfo()"
   ]
  },
  {
   "cell_type": "code",
   "execution_count": null,
   "metadata": {
    "colab": {
     "base_uri": "https://localhost:8080/",
     "height": 36
    },
    "executionInfo": {
     "elapsed": 810,
     "status": "ok",
     "timestamp": 1618897023099,
     "user": {
      "displayName": "Demo Purpose",
      "photoUrl": "",
      "userId": "12724079362540459699"
     },
     "user_tz": -330
    },
    "id": "T4kBf_lLx9GF",
    "outputId": "a26acb68-0046-422f-d0df-9020278ff12c"
   },
   "outputs": [
    {
     "data": {
      "application/vnd.google.colaboratory.intrinsic+json": {
       "type": "string"
      },
      "text/plain": [
       "'neel'"
      ]
     },
     "execution_count": 11,
     "metadata": {
      "tags": []
     },
     "output_type": "execute_result"
    }
   ],
   "source": [
    "obj.name"
   ]
  },
  {
   "cell_type": "code",
   "execution_count": null,
   "metadata": {
    "colab": {
     "base_uri": "https://localhost:8080/"
    },
    "executionInfo": {
     "elapsed": 829,
     "status": "ok",
     "timestamp": 1618897028905,
     "user": {
      "displayName": "Demo Purpose",
      "photoUrl": "",
      "userId": "12724079362540459699"
     },
     "user_tz": -330
    },
    "id": "6LrMLf-wyCz9",
    "outputId": "d7bca375-880a-4921-e332-023046f32211"
   },
   "outputs": [
    {
     "data": {
      "text/plain": [
       "{'city': 'ahmedabad', 'country': 'india', 'name': 'neel'}"
      ]
     },
     "execution_count": 12,
     "metadata": {
      "tags": []
     },
     "output_type": "execute_result"
    }
   ],
   "source": [
    "obj.__dict__"
   ]
  },
  {
   "cell_type": "code",
   "execution_count": null,
   "metadata": {
    "id": "iFzz6f9ByEOW"
   },
   "outputs": [],
   "source": [
    "# get values from user as an argument in class\n",
    "\n",
    "class UserInfo:\n",
    "  \"\"\"this class is cointained user information\"\"\"\n",
    "  \n",
    "  def __init__(self, name, city, country):\n",
    "    print('this is a constructor of current class.')\n",
    "    self.name = name\n",
    "    self.city = city\n",
    "    self.country = country"
   ]
  },
  {
   "cell_type": "code",
   "execution_count": null,
   "metadata": {
    "colab": {
     "base_uri": "https://localhost:8080/",
     "height": 170
    },
    "executionInfo": {
     "elapsed": 855,
     "status": "error",
     "timestamp": 1618897217068,
     "user": {
      "displayName": "Demo Purpose",
      "photoUrl": "",
      "userId": "12724079362540459699"
     },
     "user_tz": -330
    },
    "id": "z5_jq6QQymgy",
    "outputId": "496f8631-a8d9-4cec-b4af-c5ecbf2b4f16"
   },
   "outputs": [
    {
     "ename": "TypeError",
     "evalue": "ignored",
     "output_type": "error",
     "traceback": [
      "\u001b[0;31m---------------------------------------------------------------------------\u001b[0m",
      "\u001b[0;31mTypeError\u001b[0m                                 Traceback (most recent call last)",
      "\u001b[0;32m<ipython-input-14-432fd3733169>\u001b[0m in \u001b[0;36m<module>\u001b[0;34m()\u001b[0m\n\u001b[0;32m----> 1\u001b[0;31m \u001b[0mobj\u001b[0m \u001b[0;34m=\u001b[0m \u001b[0mUserInfo\u001b[0m\u001b[0;34m(\u001b[0m\u001b[0;34m)\u001b[0m \u001b[0;31m# this will raised an error because required class arguemnts were not given\u001b[0m\u001b[0;34m\u001b[0m\u001b[0;34m\u001b[0m\u001b[0m\n\u001b[0m",
      "\u001b[0;31mTypeError\u001b[0m: __init__() missing 3 required positional arguments: 'name', 'city', and 'country'"
     ]
    }
   ],
   "source": [
    "obj = UserInfo() # this will raised an error because required class arguemnts were not given"
   ]
  },
  {
   "cell_type": "code",
   "execution_count": null,
   "metadata": {
    "colab": {
     "base_uri": "https://localhost:8080/"
    },
    "executionInfo": {
     "elapsed": 755,
     "status": "ok",
     "timestamp": 1618897262189,
     "user": {
      "displayName": "Demo Purpose",
      "photoUrl": "",
      "userId": "12724079362540459699"
     },
     "user_tz": -330
    },
    "id": "SgckLKouyyKF",
    "outputId": "9eb17107-ac3a-48e8-9e1a-d74155fdae31"
   },
   "outputs": [
    {
     "name": "stdout",
     "output_type": "stream",
     "text": [
      "this is a constructor of current class.\n"
     ]
    }
   ],
   "source": [
    "obj = UserInfo('jaini', 'ahmedabad', 'IN')"
   ]
  },
  {
   "cell_type": "code",
   "execution_count": null,
   "metadata": {
    "colab": {
     "base_uri": "https://localhost:8080/",
     "height": 36
    },
    "executionInfo": {
     "elapsed": 918,
     "status": "ok",
     "timestamp": 1618897272491,
     "user": {
      "displayName": "Demo Purpose",
      "photoUrl": "",
      "userId": "12724079362540459699"
     },
     "user_tz": -330
    },
    "id": "cEpzVdbty9Ki",
    "outputId": "2f8126b1-0ded-42b2-f49f-9d87075bd3cb"
   },
   "outputs": [
    {
     "data": {
      "application/vnd.google.colaboratory.intrinsic+json": {
       "type": "string"
      },
      "text/plain": [
       "'jaini'"
      ]
     },
     "execution_count": 16,
     "metadata": {
      "tags": []
     },
     "output_type": "execute_result"
    }
   ],
   "source": [
    "obj.name"
   ]
  },
  {
   "cell_type": "code",
   "execution_count": null,
   "metadata": {
    "colab": {
     "base_uri": "https://localhost:8080/",
     "height": 36
    },
    "executionInfo": {
     "elapsed": 1062,
     "status": "ok",
     "timestamp": 1618897277904,
     "user": {
      "displayName": "Demo Purpose",
      "photoUrl": "",
      "userId": "12724079362540459699"
     },
     "user_tz": -330
    },
    "id": "aMHDZCc4y_p-",
    "outputId": "9b3aad05-1cb9-47ae-d92e-08f4255c45ac"
   },
   "outputs": [
    {
     "data": {
      "application/vnd.google.colaboratory.intrinsic+json": {
       "type": "string"
      },
      "text/plain": [
       "'ahmedabad'"
      ]
     },
     "execution_count": 17,
     "metadata": {
      "tags": []
     },
     "output_type": "execute_result"
    }
   ],
   "source": [
    "obj.city"
   ]
  },
  {
   "cell_type": "code",
   "execution_count": null,
   "metadata": {
    "colab": {
     "base_uri": "https://localhost:8080/",
     "height": 36
    },
    "executionInfo": {
     "elapsed": 899,
     "status": "ok",
     "timestamp": 1618897282936,
     "user": {
      "displayName": "Demo Purpose",
      "photoUrl": "",
      "userId": "12724079362540459699"
     },
     "user_tz": -330
    },
    "id": "y6B9ZQ0XzAw3",
    "outputId": "0be09186-05d1-460a-de2d-ce9e8e0c2186"
   },
   "outputs": [
    {
     "data": {
      "application/vnd.google.colaboratory.intrinsic+json": {
       "type": "string"
      },
      "text/plain": [
       "'IN'"
      ]
     },
     "execution_count": 18,
     "metadata": {
      "tags": []
     },
     "output_type": "execute_result"
    }
   ],
   "source": [
    "obj.country"
   ]
  },
  {
   "cell_type": "code",
   "execution_count": null,
   "metadata": {
    "id": "JUdtYUPxzCGy"
   },
   "outputs": [],
   "source": [
    "obj.name = 'Jaini Bhavsar'"
   ]
  },
  {
   "cell_type": "code",
   "execution_count": null,
   "metadata": {
    "colab": {
     "base_uri": "https://localhost:8080/",
     "height": 36
    },
    "executionInfo": {
     "elapsed": 999,
     "status": "ok",
     "timestamp": 1618897303469,
     "user": {
      "displayName": "Demo Purpose",
      "photoUrl": "",
      "userId": "12724079362540459699"
     },
     "user_tz": -330
    },
    "id": "KdbgOVkDzGkh",
    "outputId": "7c410af6-24a9-4b7c-e962-ceeeb010302d"
   },
   "outputs": [
    {
     "data": {
      "application/vnd.google.colaboratory.intrinsic+json": {
       "type": "string"
      },
      "text/plain": [
       "'Jaini Bhavsar'"
      ]
     },
     "execution_count": 20,
     "metadata": {
      "tags": []
     },
     "output_type": "execute_result"
    }
   ],
   "source": [
    "obj.name"
   ]
  },
  {
   "cell_type": "code",
   "execution_count": null,
   "metadata": {
    "colab": {
     "base_uri": "https://localhost:8080/"
    },
    "executionInfo": {
     "elapsed": 828,
     "status": "ok",
     "timestamp": 1618897310254,
     "user": {
      "displayName": "Demo Purpose",
      "photoUrl": "",
      "userId": "12724079362540459699"
     },
     "user_tz": -330
    },
    "id": "p0mZw0jxzHMf",
    "outputId": "9219f842-dc9e-48a1-cf33-bfc5bd87419e"
   },
   "outputs": [
    {
     "data": {
      "text/plain": [
       "{'city': 'ahmedabad', 'country': 'IN', 'name': 'Jaini Bhavsar'}"
      ]
     },
     "execution_count": 21,
     "metadata": {
      "tags": []
     },
     "output_type": "execute_result"
    }
   ],
   "source": [
    "obj.__dict__"
   ]
  },
  {
   "cell_type": "code",
   "execution_count": null,
   "metadata": {
    "id": "vYAzfgdezI6B"
   },
   "outputs": [],
   "source": [
    "# creating a member method of a class\n",
    "\n",
    "class UserInfo:\n",
    "  \"\"\"this class is cointained user information\"\"\"\n",
    "  \n",
    "  def __init__(self, name, city, country):\n",
    "    print('this is a constructor of current class.')\n",
    "    self.name = name\n",
    "    self.city = city\n",
    "    self.country = country\n",
    "\n",
    "  def get_name(self):\n",
    "    return self.name\n",
    "\n",
    "  def get_city(self):\n",
    "    return self.city\n",
    "\n",
    "  def get_country(self):\n",
    "    return self.country"
   ]
  },
  {
   "cell_type": "code",
   "execution_count": null,
   "metadata": {
    "colab": {
     "base_uri": "https://localhost:8080/"
    },
    "executionInfo": {
     "elapsed": 910,
     "status": "ok",
     "timestamp": 1618897504280,
     "user": {
      "displayName": "Demo Purpose",
      "photoUrl": "",
      "userId": "12724079362540459699"
     },
     "user_tz": -330
    },
    "id": "RkfPsgnFzx7i",
    "outputId": "1e705035-7aea-475c-de02-95255f1801ef"
   },
   "outputs": [
    {
     "name": "stdout",
     "output_type": "stream",
     "text": [
      "this is a constructor of current class.\n"
     ]
    }
   ],
   "source": [
    "obj = UserInfo('Neel', 'Ahmedabad', 'IN')"
   ]
  },
  {
   "cell_type": "code",
   "execution_count": null,
   "metadata": {
    "colab": {
     "base_uri": "https://localhost:8080/",
     "height": 36
    },
    "executionInfo": {
     "elapsed": 864,
     "status": "ok",
     "timestamp": 1618897541162,
     "user": {
      "displayName": "Demo Purpose",
      "photoUrl": "",
      "userId": "12724079362540459699"
     },
     "user_tz": -330
    },
    "id": "Sq_CqJGoz4Qr",
    "outputId": "4a5850e6-1e73-4437-8f3e-6269425f5f52"
   },
   "outputs": [
    {
     "data": {
      "application/vnd.google.colaboratory.intrinsic+json": {
       "type": "string"
      },
      "text/plain": [
       "'Ahmedabad'"
      ]
     },
     "execution_count": 25,
     "metadata": {
      "tags": []
     },
     "output_type": "execute_result"
    }
   ],
   "source": [
    "# call a member method of a class\n",
    "\n",
    "obj.get_city()"
   ]
  },
  {
   "cell_type": "code",
   "execution_count": null,
   "metadata": {
    "colab": {
     "base_uri": "https://localhost:8080/",
     "height": 36
    },
    "executionInfo": {
     "elapsed": 880,
     "status": "ok",
     "timestamp": 1618897557746,
     "user": {
      "displayName": "Demo Purpose",
      "photoUrl": "",
      "userId": "12724079362540459699"
     },
     "user_tz": -330
    },
    "id": "XPRsv-SYz_XA",
    "outputId": "025e0288-b864-47b8-d619-d7abc7f21c41"
   },
   "outputs": [
    {
     "data": {
      "application/vnd.google.colaboratory.intrinsic+json": {
       "type": "string"
      },
      "text/plain": [
       "'IN'"
      ]
     },
     "execution_count": 26,
     "metadata": {
      "tags": []
     },
     "output_type": "execute_result"
    }
   ],
   "source": [
    "obj.get_country()"
   ]
  },
  {
   "cell_type": "code",
   "execution_count": null,
   "metadata": {
    "id": "HIKzmtu00FUv"
   },
   "outputs": [],
   "source": [
    "# TASK 1 - Create a calculator - add, multiply, substract, divide - pending"
   ]
  },
  {
   "cell_type": "markdown",
   "metadata": {
    "id": "FHwyUzdr7Qrs"
   },
   "source": [
    "# Features\n",
    "\n",
    "## Inheritance\n",
    "## Types of inheritance\n",
    "### 1. Single level\n",
    "### 2. Multi-level\n",
    "### 3. Multiple\n",
    "### 4. Hierarchical\n",
    "### 5. Hybrid"
   ]
  },
  {
   "cell_type": "code",
   "execution_count": null,
   "metadata": {
    "colab": {
     "base_uri": "https://localhost:8080/"
    },
    "executionInfo": {
     "elapsed": 767,
     "status": "ok",
     "timestamp": 1619067504330,
     "user": {
      "displayName": "Demo Purpose",
      "photoUrl": "",
      "userId": "12724079362540459699"
     },
     "user_tz": -330
    },
    "id": "_hiR3bl57JlC",
    "outputId": "cf1b22a6-aaaf-46e8-bad7-41b17deea5f7"
   },
   "outputs": [
    {
     "name": "stdout",
     "output_type": "stream",
     "text": [
      "class a\n",
      "class B\n"
     ]
    }
   ],
   "source": [
    "# 1. Single level - one base class and one child class\n",
    "\n",
    "class A:\n",
    "  print('class a')\n",
    "\n",
    "class B:\n",
    "  print('class B')"
   ]
  },
  {
   "cell_type": "code",
   "execution_count": null,
   "metadata": {
    "id": "EZ3Inubl8YMo"
   },
   "outputs": [],
   "source": [
    "class A:\n",
    "  def __init__(self):\n",
    "    print('class A is called')\n",
    "\n",
    "class B:\n",
    "  def fun_b(self):\n",
    "    print('fun_b of class B is called')"
   ]
  },
  {
   "cell_type": "code",
   "execution_count": null,
   "metadata": {
    "id": "Y6pyVE-79Olg"
   },
   "outputs": [],
   "source": [
    "class A:\n",
    "  def __init__(self):\n",
    "    print('class A is called')\n",
    "\n",
    "class B(A):\n",
    "  def fun_b(self):\n",
    "    print('fun_b of class B is called')"
   ]
  },
  {
   "cell_type": "code",
   "execution_count": null,
   "metadata": {
    "colab": {
     "base_uri": "https://localhost:8080/"
    },
    "executionInfo": {
     "elapsed": 787,
     "status": "ok",
     "timestamp": 1619067790542,
     "user": {
      "displayName": "Demo Purpose",
      "photoUrl": "",
      "userId": "12724079362540459699"
     },
     "user_tz": -330
    },
    "id": "LOZPjg6Z9U7y",
    "outputId": "3c7cd496-d398-4e7e-ab3f-35aab472e3c1"
   },
   "outputs": [
    {
     "name": "stdout",
     "output_type": "stream",
     "text": [
      "class A is called\n",
      "class A is called\n"
     ]
    }
   ],
   "source": [
    "obj_a = A()\n",
    "obj_b = B()"
   ]
  },
  {
   "cell_type": "code",
   "execution_count": null,
   "metadata": {
    "colab": {
     "base_uri": "https://localhost:8080/"
    },
    "executionInfo": {
     "elapsed": 1123,
     "status": "ok",
     "timestamp": 1619067852159,
     "user": {
      "displayName": "Demo Purpose",
      "photoUrl": "",
      "userId": "12724079362540459699"
     },
     "user_tz": -330
    },
    "id": "E02bfu9K9Wqp",
    "outputId": "68041070-2fd3-477c-fbf7-6f02f18971ff"
   },
   "outputs": [
    {
     "data": {
      "text/plain": [
       "['__class__',\n",
       " '__delattr__',\n",
       " '__dict__',\n",
       " '__dir__',\n",
       " '__doc__',\n",
       " '__eq__',\n",
       " '__format__',\n",
       " '__ge__',\n",
       " '__getattribute__',\n",
       " '__gt__',\n",
       " '__hash__',\n",
       " '__init__',\n",
       " '__init_subclass__',\n",
       " '__le__',\n",
       " '__lt__',\n",
       " '__module__',\n",
       " '__ne__',\n",
       " '__new__',\n",
       " '__reduce__',\n",
       " '__reduce_ex__',\n",
       " '__repr__',\n",
       " '__setattr__',\n",
       " '__sizeof__',\n",
       " '__str__',\n",
       " '__subclasshook__',\n",
       " '__weakref__']"
      ]
     },
     "execution_count": 7,
     "metadata": {
      "tags": []
     },
     "output_type": "execute_result"
    }
   ],
   "source": [
    "dir(obj_a)"
   ]
  },
  {
   "cell_type": "code",
   "execution_count": null,
   "metadata": {
    "colab": {
     "base_uri": "https://localhost:8080/"
    },
    "executionInfo": {
     "elapsed": 914,
     "status": "ok",
     "timestamp": 1619067880103,
     "user": {
      "displayName": "Demo Purpose",
      "photoUrl": "",
      "userId": "12724079362540459699"
     },
     "user_tz": -330
    },
    "id": "2OxoSnNT9s7B",
    "outputId": "a7e73457-37cc-4936-af0d-b6b7e0ee4110"
   },
   "outputs": [
    {
     "data": {
      "text/plain": [
       "['__class__',\n",
       " '__delattr__',\n",
       " '__dict__',\n",
       " '__dir__',\n",
       " '__doc__',\n",
       " '__eq__',\n",
       " '__format__',\n",
       " '__ge__',\n",
       " '__getattribute__',\n",
       " '__gt__',\n",
       " '__hash__',\n",
       " '__init__',\n",
       " '__init_subclass__',\n",
       " '__le__',\n",
       " '__lt__',\n",
       " '__module__',\n",
       " '__ne__',\n",
       " '__new__',\n",
       " '__reduce__',\n",
       " '__reduce_ex__',\n",
       " '__repr__',\n",
       " '__setattr__',\n",
       " '__sizeof__',\n",
       " '__str__',\n",
       " '__subclasshook__',\n",
       " '__weakref__',\n",
       " 'fun_b']"
      ]
     },
     "execution_count": 8,
     "metadata": {
      "tags": []
     },
     "output_type": "execute_result"
    }
   ],
   "source": [
    "dir(obj_b)"
   ]
  },
  {
   "cell_type": "code",
   "execution_count": null,
   "metadata": {
    "id": "mvjaD7p09z4I"
   },
   "outputs": [],
   "source": [
    "class A:\n",
    "  def hello(self):\n",
    "    print('hello method')\n",
    "\n",
    "  def world():\n",
    "    print('world method')"
   ]
  },
  {
   "cell_type": "code",
   "execution_count": null,
   "metadata": {
    "id": "FlEvpzrr-F0D"
   },
   "outputs": [],
   "source": [
    "o = A()"
   ]
  },
  {
   "cell_type": "code",
   "execution_count": null,
   "metadata": {
    "colab": {
     "base_uri": "https://localhost:8080/"
    },
    "executionInfo": {
     "elapsed": 900,
     "status": "ok",
     "timestamp": 1619067969477,
     "user": {
      "displayName": "Demo Purpose",
      "photoUrl": "",
      "userId": "12724079362540459699"
     },
     "user_tz": -330
    },
    "id": "2cuCKx7x-Hda",
    "outputId": "44fcb205-4c51-46da-a4fc-12ad63cb1ddf"
   },
   "outputs": [
    {
     "data": {
      "text/plain": [
       "['__class__',\n",
       " '__delattr__',\n",
       " '__dict__',\n",
       " '__dir__',\n",
       " '__doc__',\n",
       " '__eq__',\n",
       " '__format__',\n",
       " '__ge__',\n",
       " '__getattribute__',\n",
       " '__gt__',\n",
       " '__hash__',\n",
       " '__init__',\n",
       " '__init_subclass__',\n",
       " '__le__',\n",
       " '__lt__',\n",
       " '__module__',\n",
       " '__ne__',\n",
       " '__new__',\n",
       " '__reduce__',\n",
       " '__reduce_ex__',\n",
       " '__repr__',\n",
       " '__setattr__',\n",
       " '__sizeof__',\n",
       " '__str__',\n",
       " '__subclasshook__',\n",
       " '__weakref__',\n",
       " 'hello',\n",
       " 'world']"
      ]
     },
     "execution_count": 11,
     "metadata": {
      "tags": []
     },
     "output_type": "execute_result"
    }
   ],
   "source": [
    "dir(o)"
   ]
  },
  {
   "cell_type": "code",
   "execution_count": null,
   "metadata": {
    "colab": {
     "base_uri": "https://localhost:8080/"
    },
    "executionInfo": {
     "elapsed": 930,
     "status": "ok",
     "timestamp": 1619067979513,
     "user": {
      "displayName": "Demo Purpose",
      "photoUrl": "",
      "userId": "12724079362540459699"
     },
     "user_tz": -330
    },
    "id": "c0RM1u69-Jj7",
    "outputId": "fd7dbf09-71b6-481f-dd02-6d6b87f0a1ff"
   },
   "outputs": [
    {
     "name": "stdout",
     "output_type": "stream",
     "text": [
      "hello method\n"
     ]
    }
   ],
   "source": [
    "o.hello()"
   ]
  },
  {
   "cell_type": "code",
   "execution_count": null,
   "metadata": {
    "colab": {
     "base_uri": "https://localhost:8080/",
     "height": 170
    },
    "executionInfo": {
     "elapsed": 847,
     "status": "error",
     "timestamp": 1619067990328,
     "user": {
      "displayName": "Demo Purpose",
      "photoUrl": "",
      "userId": "12724079362540459699"
     },
     "user_tz": -330
    },
    "id": "RXGBm6SA-MJR",
    "outputId": "1c6a0e0e-3e46-42dd-d1e6-0a971c967856"
   },
   "outputs": [
    {
     "ename": "TypeError",
     "evalue": "ignored",
     "output_type": "error",
     "traceback": [
      "\u001b[0;31m---------------------------------------------------------------------------\u001b[0m",
      "\u001b[0;31mTypeError\u001b[0m                                 Traceback (most recent call last)",
      "\u001b[0;32m<ipython-input-13-c13d0cd6ea14>\u001b[0m in \u001b[0;36m<module>\u001b[0;34m()\u001b[0m\n\u001b[0;32m----> 1\u001b[0;31m \u001b[0mo\u001b[0m\u001b[0;34m.\u001b[0m\u001b[0mworld\u001b[0m\u001b[0;34m(\u001b[0m\u001b[0;34m)\u001b[0m\u001b[0;34m\u001b[0m\u001b[0;34m\u001b[0m\u001b[0m\n\u001b[0m",
      "\u001b[0;31mTypeError\u001b[0m: world() takes 0 positional arguments but 1 was given"
     ]
    }
   ],
   "source": [
    "o.world()"
   ]
  },
  {
   "cell_type": "code",
   "execution_count": null,
   "metadata": {
    "id": "nvsr1Noy-O05"
   },
   "outputs": [],
   "source": [
    "class A:\n",
    "  def hello(x):\n",
    "    print('hello method')"
   ]
  },
  {
   "cell_type": "code",
   "execution_count": null,
   "metadata": {
    "id": "WX9_evHU-ks4"
   },
   "outputs": [],
   "source": [
    "o = A()"
   ]
  },
  {
   "cell_type": "code",
   "execution_count": null,
   "metadata": {
    "colab": {
     "base_uri": "https://localhost:8080/"
    },
    "executionInfo": {
     "elapsed": 765,
     "status": "ok",
     "timestamp": 1619068150107,
     "user": {
      "displayName": "Demo Purpose",
      "photoUrl": "",
      "userId": "12724079362540459699"
     },
     "user_tz": -330
    },
    "id": "9iGpEWlQ-mDy",
    "outputId": "842c2d56-bcd2-464e-a266-9a82677f9110"
   },
   "outputs": [
    {
     "name": "stdout",
     "output_type": "stream",
     "text": [
      "hello method\n"
     ]
    }
   ],
   "source": [
    "o.hello()"
   ]
  },
  {
   "cell_type": "code",
   "execution_count": null,
   "metadata": {
    "id": "1Vp9MIx8-13e"
   },
   "outputs": [],
   "source": [
    "class A:\n",
    "  def __init__(self):\n",
    "    self.name = 'kapil'\n",
    "    print(self.name)\n",
    "\n",
    "class B(A):\n",
    "  def __init__(self):\n",
    "    self.name = 'Neel'\n",
    "    print(self.name)"
   ]
  },
  {
   "cell_type": "code",
   "execution_count": null,
   "metadata": {
    "colab": {
     "base_uri": "https://localhost:8080/"
    },
    "executionInfo": {
     "elapsed": 877,
     "status": "ok",
     "timestamp": 1619068290756,
     "user": {
      "displayName": "Demo Purpose",
      "photoUrl": "",
      "userId": "12724079362540459699"
     },
     "user_tz": -330
    },
    "id": "TwB9v4Hv_WIM",
    "outputId": "45d5f2ef-89d0-42b2-edda-4eff146de841"
   },
   "outputs": [
    {
     "name": "stdout",
     "output_type": "stream",
     "text": [
      "Neel\n"
     ]
    }
   ],
   "source": [
    "o = B()"
   ]
  },
  {
   "cell_type": "code",
   "execution_count": null,
   "metadata": {
    "id": "Ur9DuzXB_YLS"
   },
   "outputs": [],
   "source": [
    "class A:\n",
    "  def __init__(self):\n",
    "    self.name = 'kapil'\n",
    "    print(self.name)\n",
    "\n",
    "class B(A):\n",
    "  def __init__(self):\n",
    "    A.__init__(self)\n",
    "    self.name = 'Neel'\n",
    "    print(self.name)"
   ]
  },
  {
   "cell_type": "code",
   "execution_count": null,
   "metadata": {
    "colab": {
     "base_uri": "https://localhost:8080/"
    },
    "executionInfo": {
     "elapsed": 1135,
     "status": "ok",
     "timestamp": 1619068495447,
     "user": {
      "displayName": "Demo Purpose",
      "photoUrl": "",
      "userId": "12724079362540459699"
     },
     "user_tz": -330
    },
    "id": "bS4Za1Uf_9-5",
    "outputId": "cd68b8c1-1677-414b-f063-af433362033b"
   },
   "outputs": [
    {
     "name": "stdout",
     "output_type": "stream",
     "text": [
      "kapil\n",
      "Neel\n"
     ]
    }
   ],
   "source": [
    "o = B()"
   ]
  },
  {
   "cell_type": "code",
   "execution_count": null,
   "metadata": {
    "id": "Ovjd5_ktBAss"
   },
   "outputs": [],
   "source": []
  },
  {
   "cell_type": "code",
   "execution_count": null,
   "metadata": {
    "id": "nMr2xw7VAGhq"
   },
   "outputs": [],
   "source": [
    "class A:\n",
    "  def __init__(self):\n",
    "    self.name = 'kapil'\n",
    "    print(self.name)\n",
    "\n",
    "class B(A):\n",
    "  def __init__(self):\n",
    "    super().__init__()\n",
    "    self.name = 'Neel'\n",
    "    print(self.name)"
   ]
  },
  {
   "cell_type": "code",
   "execution_count": null,
   "metadata": {
    "colab": {
     "base_uri": "https://localhost:8080/"
    },
    "executionInfo": {
     "elapsed": 920,
     "status": "ok",
     "timestamp": 1619068678506,
     "user": {
      "displayName": "Demo Purpose",
      "photoUrl": "",
      "userId": "12724079362540459699"
     },
     "user_tz": -330
    },
    "id": "uatV-FzPAnwO",
    "outputId": "e8b57939-549b-4b1a-bda5-3a203636cc68"
   },
   "outputs": [
    {
     "name": "stdout",
     "output_type": "stream",
     "text": [
      "kapil\n",
      "Neel\n"
     ]
    }
   ],
   "source": [
    "o = B()"
   ]
  },
  {
   "cell_type": "code",
   "execution_count": null,
   "metadata": {
    "id": "EDsIWm-BApHh"
   },
   "outputs": [],
   "source": [
    "# multi-level\n",
    "\n",
    "class A:\n",
    "  def __init__(self):\n",
    "    self.name = 'kapil'\n",
    "    print(self.name)\n",
    "\n",
    "class B(A):\n",
    "  def __init__(self):\n",
    "    self.name = 'Neel'\n",
    "    print(self.name)\n",
    "\n",
    "class C(B):\n",
    "  pass"
   ]
  },
  {
   "cell_type": "code",
   "execution_count": null,
   "metadata": {
    "colab": {
     "base_uri": "https://localhost:8080/"
    },
    "executionInfo": {
     "elapsed": 848,
     "status": "ok",
     "timestamp": 1619068774968,
     "user": {
      "displayName": "Demo Purpose",
      "photoUrl": "",
      "userId": "12724079362540459699"
     },
     "user_tz": -330
    },
    "id": "gxrnuwGLBMZ9",
    "outputId": "c37fdc7f-f92e-4df7-d3d9-d0be4a7b3688"
   },
   "outputs": [
    {
     "name": "stdout",
     "output_type": "stream",
     "text": [
      "Neel\n"
     ]
    }
   ],
   "source": [
    "o = C()"
   ]
  },
  {
   "cell_type": "code",
   "execution_count": null,
   "metadata": {
    "id": "yxPg8_FrBOZT"
   },
   "outputs": [],
   "source": [
    "# multi-level\n",
    "\n",
    "class A:\n",
    "  def __init__(self):\n",
    "    self.name = 'kapil'\n",
    "    print(self.name)\n",
    "\n",
    "class B(A):\n",
    "  def __init__(self):\n",
    "    super().__init__()\n",
    "    self.name = 'Neel'\n",
    "    print(self.name)\n",
    "\n",
    "class C(B):\n",
    "  def __init__(self):\n",
    "    B.__init__(self)"
   ]
  },
  {
   "cell_type": "code",
   "execution_count": null,
   "metadata": {
    "colab": {
     "base_uri": "https://localhost:8080/"
    },
    "executionInfo": {
     "elapsed": 800,
     "status": "ok",
     "timestamp": 1619068972845,
     "user": {
      "displayName": "Demo Purpose",
      "photoUrl": "",
      "userId": "12724079362540459699"
     },
     "user_tz": -330
    },
    "id": "e4tg36xtBYXf",
    "outputId": "4ebd6c9a-1efd-48aa-fe84-897bfb7255c7"
   },
   "outputs": [
    {
     "name": "stdout",
     "output_type": "stream",
     "text": [
      "kapil\n",
      "Neel\n"
     ]
    }
   ],
   "source": [
    "o = C()"
   ]
  },
  {
   "cell_type": "code",
   "execution_count": null,
   "metadata": {
    "id": "KgyY3znkBeH-"
   },
   "outputs": [],
   "source": [
    "# multiple inheritance\n",
    "\n",
    "class A:\n",
    "  def __init__(self):\n",
    "    self.name = 'class A'\n",
    "\n",
    "class B:\n",
    "  def __init__(self):\n",
    "    self.name = 'class B'\n",
    "\n",
    "class C(A, B):\n",
    "  def __init__(self):\n",
    "    self.name = 'Class C'\n",
    "\n",
    "  def all_names(self):\n",
    "    A.__init__(self)\n",
    "    B.__init__(self)\n",
    "    return self.name#, B.name"
   ]
  },
  {
   "cell_type": "code",
   "execution_count": null,
   "metadata": {
    "id": "VbSLQpSbQovB"
   },
   "outputs": [],
   "source": [
    "o = C()"
   ]
  },
  {
   "cell_type": "code",
   "execution_count": null,
   "metadata": {
    "colab": {
     "base_uri": "https://localhost:8080/",
     "height": 36
    },
    "executionInfo": {
     "elapsed": 1106,
     "status": "ok",
     "timestamp": 1619241083128,
     "user": {
      "displayName": "Demo Purpose",
      "photoUrl": "",
      "userId": "12724079362540459699"
     },
     "user_tz": -330
    },
    "id": "9T0c7fB2Qu8V",
    "outputId": "5233dd17-8268-493b-a153-ede44df2deff"
   },
   "outputs": [
    {
     "data": {
      "application/vnd.google.colaboratory.intrinsic+json": {
       "type": "string"
      },
      "text/plain": [
       "'Class C'"
      ]
     },
     "execution_count": 18,
     "metadata": {
      "tags": []
     },
     "output_type": "execute_result"
    }
   ],
   "source": [
    "o.name"
   ]
  },
  {
   "cell_type": "code",
   "execution_count": null,
   "metadata": {
    "colab": {
     "base_uri": "https://localhost:8080/",
     "height": 36
    },
    "executionInfo": {
     "elapsed": 1328,
     "status": "ok",
     "timestamp": 1619241085777,
     "user": {
      "displayName": "Demo Purpose",
      "photoUrl": "",
      "userId": "12724079362540459699"
     },
     "user_tz": -330
    },
    "id": "z68T1_UoQ5dR",
    "outputId": "656055e8-ff75-4333-edb1-fcb4b3e5f53c"
   },
   "outputs": [
    {
     "data": {
      "application/vnd.google.colaboratory.intrinsic+json": {
       "type": "string"
      },
      "text/plain": [
       "'class B'"
      ]
     },
     "execution_count": 19,
     "metadata": {
      "tags": []
     },
     "output_type": "execute_result"
    }
   ],
   "source": [
    "o.all_names()"
   ]
  },
  {
   "cell_type": "code",
   "execution_count": null,
   "metadata": {
    "id": "jzO5GycTRy5i"
   },
   "outputs": [],
   "source": [
    "# Hierarchical Inheritance\n",
    "\n",
    "class A:\n",
    "  def setName(self):\n",
    "    self.name = 'Neel'\n",
    "\n",
    "class B(A):\n",
    "  def setCity(self):\n",
    "    self.city = 'Ahmedabad'\n",
    "\n",
    "class C(A):\n",
    "  def setAddr(self):\n",
    "    self.address = 'Ahmedabad, Gujarat'"
   ]
  },
  {
   "cell_type": "code",
   "execution_count": null,
   "metadata": {
    "id": "Fe3jVZoZT0md"
   },
   "outputs": [],
   "source": [
    "obj_b = B()\n",
    "\n",
    "obj_c = C()"
   ]
  },
  {
   "cell_type": "code",
   "execution_count": null,
   "metadata": {
    "id": "rmUbzwV-US1I"
   },
   "outputs": [],
   "source": [
    "obj_b.setName()"
   ]
  },
  {
   "cell_type": "code",
   "execution_count": null,
   "metadata": {
    "colab": {
     "base_uri": "https://localhost:8080/",
     "height": 36
    },
    "executionInfo": {
     "elapsed": 1166,
     "status": "ok",
     "timestamp": 1619241590846,
     "user": {
      "displayName": "Demo Purpose",
      "photoUrl": "",
      "userId": "12724079362540459699"
     },
     "user_tz": -330
    },
    "id": "L9dPBMYgUX5U",
    "outputId": "a0f6bbb6-ac0b-4921-93c0-ba5335e92832"
   },
   "outputs": [
    {
     "data": {
      "application/vnd.google.colaboratory.intrinsic+json": {
       "type": "string"
      },
      "text/plain": [
       "'Neel'"
      ]
     },
     "execution_count": 25,
     "metadata": {
      "tags": []
     },
     "output_type": "execute_result"
    }
   ],
   "source": [
    "obj_b.name"
   ]
  },
  {
   "cell_type": "code",
   "execution_count": null,
   "metadata": {
    "colab": {
     "base_uri": "https://localhost:8080/",
     "height": 170
    },
    "executionInfo": {
     "elapsed": 918,
     "status": "error",
     "timestamp": 1619241607054,
     "user": {
      "displayName": "Demo Purpose",
      "photoUrl": "",
      "userId": "12724079362540459699"
     },
     "user_tz": -330
    },
    "id": "lDIK73dCUcPl",
    "outputId": "a04b5e07-e366-4077-adc6-5cad64431df1"
   },
   "outputs": [
    {
     "ename": "AttributeError",
     "evalue": "ignored",
     "output_type": "error",
     "traceback": [
      "\u001b[0;31m---------------------------------------------------------------------------\u001b[0m",
      "\u001b[0;31mAttributeError\u001b[0m                            Traceback (most recent call last)",
      "\u001b[0;32m<ipython-input-26-ca38e8b4c7d2>\u001b[0m in \u001b[0;36m<module>\u001b[0;34m()\u001b[0m\n\u001b[0;32m----> 1\u001b[0;31m \u001b[0mobj_c\u001b[0m\u001b[0;34m.\u001b[0m\u001b[0mname\u001b[0m\u001b[0;34m\u001b[0m\u001b[0;34m\u001b[0m\u001b[0m\n\u001b[0m",
      "\u001b[0;31mAttributeError\u001b[0m: 'C' object has no attribute 'name'"
     ]
    }
   ],
   "source": [
    "obj_c.name"
   ]
  },
  {
   "cell_type": "code",
   "execution_count": null,
   "metadata": {
    "id": "LbdryW2xUhtO"
   },
   "outputs": [],
   "source": [
    "obj_c.setName()"
   ]
  },
  {
   "cell_type": "code",
   "execution_count": null,
   "metadata": {
    "colab": {
     "base_uri": "https://localhost:8080/",
     "height": 36
    },
    "executionInfo": {
     "elapsed": 1226,
     "status": "ok",
     "timestamp": 1619241633538,
     "user": {
      "displayName": "Demo Purpose",
      "photoUrl": "",
      "userId": "12724079362540459699"
     },
     "user_tz": -330
    },
    "id": "opJbuMoEUmkS",
    "outputId": "5d1a6e0d-4357-4da2-f0e7-453474c2ee32"
   },
   "outputs": [
    {
     "data": {
      "application/vnd.google.colaboratory.intrinsic+json": {
       "type": "string"
      },
      "text/plain": [
       "'Neel'"
      ]
     },
     "execution_count": 28,
     "metadata": {
      "tags": []
     },
     "output_type": "execute_result"
    }
   ],
   "source": [
    "obj_c.name"
   ]
  },
  {
   "cell_type": "code",
   "execution_count": null,
   "metadata": {
    "id": "rxp9ow6eUn73"
   },
   "outputs": [],
   "source": [
    "obj_c.setAddr()"
   ]
  },
  {
   "cell_type": "code",
   "execution_count": null,
   "metadata": {
    "colab": {
     "base_uri": "https://localhost:8080/",
     "height": 36
    },
    "executionInfo": {
     "elapsed": 948,
     "status": "ok",
     "timestamp": 1619241701634,
     "user": {
      "displayName": "Demo Purpose",
      "photoUrl": "",
      "userId": "12724079362540459699"
     },
     "user_tz": -330
    },
    "id": "1e5F20g-U1V0",
    "outputId": "77c21cd7-dd93-4bd7-f1eb-b87d3acc5278"
   },
   "outputs": [
    {
     "data": {
      "application/vnd.google.colaboratory.intrinsic+json": {
       "type": "string"
      },
      "text/plain": [
       "'Ahmedabad, Gujarat'"
      ]
     },
     "execution_count": 30,
     "metadata": {
      "tags": []
     },
     "output_type": "execute_result"
    }
   ],
   "source": [
    "obj_c.address"
   ]
  },
  {
   "cell_type": "code",
   "execution_count": null,
   "metadata": {
    "id": "Q9gEPLLEU4zE"
   },
   "outputs": [],
   "source": [
    "obj_b.setCity()"
   ]
  },
  {
   "cell_type": "code",
   "execution_count": null,
   "metadata": {
    "colab": {
     "base_uri": "https://localhost:8080/",
     "height": 36
    },
    "executionInfo": {
     "elapsed": 1187,
     "status": "ok",
     "timestamp": 1619241747793,
     "user": {
      "displayName": "Demo Purpose",
      "photoUrl": "",
      "userId": "12724079362540459699"
     },
     "user_tz": -330
    },
    "id": "-K05TdD3VBSJ",
    "outputId": "8fd633d3-01a5-407a-dfe7-20695031c488"
   },
   "outputs": [
    {
     "data": {
      "application/vnd.google.colaboratory.intrinsic+json": {
       "type": "string"
      },
      "text/plain": [
       "'Ahmedabad'"
      ]
     },
     "execution_count": 32,
     "metadata": {
      "tags": []
     },
     "output_type": "execute_result"
    }
   ],
   "source": [
    "obj_b.city"
   ]
  },
  {
   "cell_type": "code",
   "execution_count": 1,
   "metadata": {
    "executionInfo": {
     "elapsed": 1120,
     "status": "ok",
     "timestamp": 1619499707298,
     "user": {
      "displayName": "Demo Purpose",
      "photoUrl": "",
      "userId": "12724079362540459699"
     },
     "user_tz": -330
    },
    "id": "idYJg_tgVEAP"
   },
   "outputs": [],
   "source": [
    "#     A\n",
    "#     |\n",
    "# B -<->- C\n",
    "#     |\n",
    "#     D\n",
    "#\n",
    "#------------\n",
    "#\n",
    "# A -<->- B\n",
    "#     |\n",
    "#     C\n",
    "#     |\n",
    "# D -<->- E\n",
    "\n",
    "# Hybrid = Multiple + Hierarchical\n",
    "\n",
    "class A:\n",
    "  def __init__(self):\n",
    "    self.default = 'I am super base class B, C and D'\n",
    "\n",
    "class B(A):\n",
    "  def __init__(self):\n",
    "    self.default = 'I am base class B of D'\n",
    "\n",
    "class C(A):\n",
    "  def __init__(self):\n",
    "    self.default = 'I am base class C of D'\n",
    "\n",
    "class D(B, C):\n",
    "  def __init__(self):\n",
    "    self.default = 'I am a child class D of A, B, C'"
   ]
  },
  {
   "cell_type": "code",
   "execution_count": 2,
   "metadata": {
    "executionInfo": {
     "elapsed": 1159,
     "status": "ok",
     "timestamp": 1619499735951,
     "user": {
      "displayName": "Demo Purpose",
      "photoUrl": "",
      "userId": "12724079362540459699"
     },
     "user_tz": -330
    },
    "id": "j5tKEMOitGYz"
   },
   "outputs": [],
   "source": [
    "o = D()"
   ]
  },
  {
   "cell_type": "code",
   "execution_count": 3,
   "metadata": {
    "colab": {
     "base_uri": "https://localhost:8080/",
     "height": 36
    },
    "executionInfo": {
     "elapsed": 1350,
     "status": "ok",
     "timestamp": 1619499769833,
     "user": {
      "displayName": "Demo Purpose",
      "photoUrl": "",
      "userId": "12724079362540459699"
     },
     "user_tz": -330
    },
    "id": "qsB4AsmntNaN",
    "outputId": "b554719e-2cad-448b-88e8-9b023e81218a"
   },
   "outputs": [
    {
     "data": {
      "application/vnd.google.colaboratory.intrinsic+json": {
       "type": "string"
      },
      "text/plain": [
       "'I am a child class D of A, B, C'"
      ]
     },
     "execution_count": 3,
     "metadata": {
      "tags": []
     },
     "output_type": "execute_result"
    }
   ],
   "source": [
    "o.default"
   ]
  },
  {
   "cell_type": "code",
   "execution_count": 5,
   "metadata": {
    "executionInfo": {
     "elapsed": 1123,
     "status": "ok",
     "timestamp": 1619500127242,
     "user": {
      "displayName": "Demo Purpose",
      "photoUrl": "",
      "userId": "12724079362540459699"
     },
     "user_tz": -330
    },
    "id": "dulMrPrdtVm7"
   },
   "outputs": [],
   "source": [
    "class A:\n",
    "  def __init__(self):\n",
    "    self.default = 'I am super base class B, C and D'\n",
    "\n",
    "class B(A):\n",
    "  def __init__(self):\n",
    "    self.default = 'I am base class B of D'\n",
    "\n",
    "  def showBase(self):\n",
    "    super().__init__()\n",
    "    return self.default\n",
    "\n",
    "class C(A):\n",
    "  def __init__(self):\n",
    "    self.default = 'I am base class C of D'\n",
    "\n",
    "  def showBase(self):\n",
    "    super().__init__()\n",
    "    return self.default\n",
    "\n",
    "class D(B, C):\n",
    "  def __init__(self):\n",
    "    self.default = 'I am a child class D of A, B, C'\n",
    "\n",
    "  def showBase(self):\n",
    "    super().__init__()\n",
    "    return self.default"
   ]
  },
  {
   "cell_type": "code",
   "execution_count": 6,
   "metadata": {
    "executionInfo": {
     "elapsed": 1225,
     "status": "ok",
     "timestamp": 1619500135461,
     "user": {
      "displayName": "Demo Purpose",
      "photoUrl": "",
      "userId": "12724079362540459699"
     },
     "user_tz": -330
    },
    "id": "dapi-moouiJQ"
   },
   "outputs": [],
   "source": [
    "o = D()"
   ]
  },
  {
   "cell_type": "code",
   "execution_count": 7,
   "metadata": {
    "colab": {
     "base_uri": "https://localhost:8080/",
     "height": 36
    },
    "executionInfo": {
     "elapsed": 1218,
     "status": "ok",
     "timestamp": 1619500142077,
     "user": {
      "displayName": "Demo Purpose",
      "photoUrl": "",
      "userId": "12724079362540459699"
     },
     "user_tz": -330
    },
    "id": "olAs4th2uu6o",
    "outputId": "4697780b-b3cf-47b1-f102-8cf16f64dbfa"
   },
   "outputs": [
    {
     "data": {
      "application/vnd.google.colaboratory.intrinsic+json": {
       "type": "string"
      },
      "text/plain": [
       "'I am a child class D of A, B, C'"
      ]
     },
     "execution_count": 7,
     "metadata": {
      "tags": []
     },
     "output_type": "execute_result"
    }
   ],
   "source": [
    "o.default"
   ]
  },
  {
   "cell_type": "code",
   "execution_count": 8,
   "metadata": {
    "colab": {
     "base_uri": "https://localhost:8080/",
     "height": 36
    },
    "executionInfo": {
     "elapsed": 1825,
     "status": "ok",
     "timestamp": 1619500195110,
     "user": {
      "displayName": "Demo Purpose",
      "photoUrl": "",
      "userId": "12724079362540459699"
     },
     "user_tz": -330
    },
    "id": "3vKSmLk1uwiA",
    "outputId": "dd7711b6-c4b9-4c7c-e472-e188e0ac6cdb"
   },
   "outputs": [
    {
     "data": {
      "application/vnd.google.colaboratory.intrinsic+json": {
       "type": "string"
      },
      "text/plain": [
       "'I am base class B of D'"
      ]
     },
     "execution_count": 8,
     "metadata": {
      "tags": []
     },
     "output_type": "execute_result"
    }
   ],
   "source": [
    "o.showBase()"
   ]
  },
  {
   "cell_type": "code",
   "execution_count": 9,
   "metadata": {
    "executionInfo": {
     "elapsed": 1062,
     "status": "ok",
     "timestamp": 1619500838442,
     "user": {
      "displayName": "Demo Purpose",
      "photoUrl": "",
      "userId": "12724079362540459699"
     },
     "user_tz": -330
    },
    "id": "0poXxcIWu9Vd"
   },
   "outputs": [],
   "source": [
    "# app - > app_name\n",
    "# user - > app.app_name, id, user_name, email\n",
    "# product - > app.app_name, id, p_name, p_price\n",
    "# order(qty) -> (user.id, product.id, p_name, p_price) | qty = qty, grand_total = qty * p_price"
   ]
  },
  {
   "cell_type": "code",
   "execution_count": 77,
   "metadata": {
    "executionInfo": {
     "elapsed": 1141,
     "status": "ok",
     "timestamp": 1619501160623,
     "user": {
      "displayName": "Demo Purpose",
      "photoUrl": "",
      "userId": "12724079362540459699"
     },
     "user_tz": -330
    },
    "id": "GCFN350sxajU"
   },
   "outputs": [],
   "source": [
    "# addition program using class\n",
    "\n",
    "class Add:\n",
    "  def add(self, a, b, *c):\n",
    "    self.d = a + b\n",
    "\n",
    "    if c:\n",
    "      for i in c:\n",
    "        self.d += i\n",
    "\n",
    "    return self.d"
   ]
  },
  {
   "cell_type": "code",
   "execution_count": 78,
   "metadata": {
    "executionInfo": {
     "elapsed": 1508,
     "status": "ok",
     "timestamp": 1619501176192,
     "user": {
      "displayName": "Demo Purpose",
      "photoUrl": "",
      "userId": "12724079362540459699"
     },
     "user_tz": -330
    },
    "id": "B3Lb6axeypMX"
   },
   "outputs": [],
   "source": [
    "o = Add()"
   ]
  },
  {
   "cell_type": "code",
   "execution_count": 80,
   "metadata": {
    "colab": {
     "base_uri": "https://localhost:8080/"
    },
    "executionInfo": {
     "elapsed": 1202,
     "status": "ok",
     "timestamp": 1619501190912,
     "user": {
      "displayName": "Demo Purpose",
      "photoUrl": "",
      "userId": "12724079362540459699"
     },
     "user_tz": -330
    },
    "id": "pxY7HBPBys6_",
    "outputId": "4c4bab57-88b8-4037-94f0-ce5c654f9291"
   },
   "outputs": [
    {
     "data": {
      "text/plain": [
       "8"
      ]
     },
     "execution_count": 80,
     "metadata": {},
     "output_type": "execute_result"
    }
   ],
   "source": [
    "o.add(4, 4)"
   ]
  },
  {
   "cell_type": "code",
   "execution_count": 13,
   "metadata": {
    "colab": {
     "base_uri": "https://localhost:8080/"
    },
    "executionInfo": {
     "elapsed": 1236,
     "status": "ok",
     "timestamp": 1619501231421,
     "user": {
      "displayName": "Demo Purpose",
      "photoUrl": "",
      "userId": "12724079362540459699"
     },
     "user_tz": -330
    },
    "id": "sgzanw3Pywmj",
    "outputId": "96732e13-8b6f-418a-c655-c66bd76f2c95"
   },
   "outputs": [
    {
     "data": {
      "text/plain": [
       "129"
      ]
     },
     "execution_count": 13,
     "metadata": {
      "tags": []
     },
     "output_type": "execute_result"
    }
   ],
   "source": [
    "o.add(5,4,7,8,9,7,5,6,5,4,1,6,55,7)"
   ]
  },
  {
   "cell_type": "code",
   "execution_count": 14,
   "metadata": {
    "executionInfo": {
     "elapsed": 1092,
     "status": "ok",
     "timestamp": 1619501473342,
     "user": {
      "displayName": "Demo Purpose",
      "photoUrl": "",
      "userId": "12724079362540459699"
     },
     "user_tz": -330
    },
    "id": "Uc9Pf-Ejy6fR"
   },
   "outputs": [],
   "source": [
    "# public, private and protected members in class\n",
    "\n",
    "class Person:\n",
    "  def __init__(self):\n",
    "    # public member\n",
    "    self.name = 'Jaini'\n",
    "\n",
    "    # protected member\n",
    "    self._email = 'jaini@mail.com'\n",
    "\n",
    "    # private member\n",
    "    self.__password = '4a6dfa54df6'"
   ]
  },
  {
   "cell_type": "code",
   "execution_count": 15,
   "metadata": {
    "executionInfo": {
     "elapsed": 1118,
     "status": "ok",
     "timestamp": 1619501485852,
     "user": {
      "displayName": "Demo Purpose",
      "photoUrl": "",
      "userId": "12724079362540459699"
     },
     "user_tz": -330
    },
    "id": "4U1KaoVOz1kR"
   },
   "outputs": [],
   "source": [
    "o = Person()"
   ]
  },
  {
   "cell_type": "code",
   "execution_count": 16,
   "metadata": {
    "colab": {
     "base_uri": "https://localhost:8080/"
    },
    "executionInfo": {
     "elapsed": 1371,
     "status": "ok",
     "timestamp": 1619501495297,
     "user": {
      "displayName": "Demo Purpose",
      "photoUrl": "",
      "userId": "12724079362540459699"
     },
     "user_tz": -330
    },
    "id": "3UP1IFRWz4oe",
    "outputId": "8a2013a5-86db-419e-ce66-bc04dfb8e607"
   },
   "outputs": [
    {
     "data": {
      "text/plain": [
       "{'_Person__password': '4a6dfa54df6',\n",
       " '_email': 'jaini@mail.com',\n",
       " 'name': 'Jaini'}"
      ]
     },
     "execution_count": 16,
     "metadata": {
      "tags": []
     },
     "output_type": "execute_result"
    }
   ],
   "source": [
    "o.__dict__"
   ]
  },
  {
   "cell_type": "code",
   "execution_count": 17,
   "metadata": {
    "colab": {
     "base_uri": "https://localhost:8080/"
    },
    "executionInfo": {
     "elapsed": 1302,
     "status": "ok",
     "timestamp": 1619501641266,
     "user": {
      "displayName": "Demo Purpose",
      "photoUrl": "",
      "userId": "12724079362540459699"
     },
     "user_tz": -330
    },
    "id": "vSIpTldzz64P",
    "outputId": "8679639e-1e8e-49fa-d07d-dbd53ec6c06f"
   },
   "outputs": [
    {
     "data": {
      "text/plain": [
       "['_Person__password',\n",
       " '__class__',\n",
       " '__delattr__',\n",
       " '__dict__',\n",
       " '__dir__',\n",
       " '__doc__',\n",
       " '__eq__',\n",
       " '__format__',\n",
       " '__ge__',\n",
       " '__getattribute__',\n",
       " '__gt__',\n",
       " '__hash__',\n",
       " '__init__',\n",
       " '__init_subclass__',\n",
       " '__le__',\n",
       " '__lt__',\n",
       " '__module__',\n",
       " '__ne__',\n",
       " '__new__',\n",
       " '__reduce__',\n",
       " '__reduce_ex__',\n",
       " '__repr__',\n",
       " '__setattr__',\n",
       " '__sizeof__',\n",
       " '__str__',\n",
       " '__subclasshook__',\n",
       " '__weakref__',\n",
       " '_email',\n",
       " 'name']"
      ]
     },
     "execution_count": 17,
     "metadata": {
      "tags": []
     },
     "output_type": "execute_result"
    }
   ],
   "source": [
    "dir(o)"
   ]
  },
  {
   "cell_type": "code",
   "execution_count": 18,
   "metadata": {
    "colab": {
     "base_uri": "https://localhost:8080/",
     "height": 36
    },
    "executionInfo": {
     "elapsed": 1319,
     "status": "ok",
     "timestamp": 1619501679315,
     "user": {
      "displayName": "Demo Purpose",
      "photoUrl": "",
      "userId": "12724079362540459699"
     },
     "user_tz": -330
    },
    "id": "2thhJSVh0eY7",
    "outputId": "4b6a695e-c754-438c-b07c-c188383784af"
   },
   "outputs": [
    {
     "data": {
      "application/vnd.google.colaboratory.intrinsic+json": {
       "type": "string"
      },
      "text/plain": [
       "'Jaini'"
      ]
     },
     "execution_count": 18,
     "metadata": {
      "tags": []
     },
     "output_type": "execute_result"
    }
   ],
   "source": [
    "o.name"
   ]
  },
  {
   "cell_type": "code",
   "execution_count": 19,
   "metadata": {
    "colab": {
     "base_uri": "https://localhost:8080/",
     "height": 36
    },
    "executionInfo": {
     "elapsed": 947,
     "status": "ok",
     "timestamp": 1619501688028,
     "user": {
      "displayName": "Demo Purpose",
      "photoUrl": "",
      "userId": "12724079362540459699"
     },
     "user_tz": -330
    },
    "id": "P2kpsK3Y0nl2",
    "outputId": "b4a48fbc-3d1c-42cf-9df3-3e790876f8d8"
   },
   "outputs": [
    {
     "data": {
      "application/vnd.google.colaboratory.intrinsic+json": {
       "type": "string"
      },
      "text/plain": [
       "'jaini@mail.com'"
      ]
     },
     "execution_count": 19,
     "metadata": {
      "tags": []
     },
     "output_type": "execute_result"
    }
   ],
   "source": [
    "o._email"
   ]
  },
  {
   "cell_type": "code",
   "execution_count": 20,
   "metadata": {
    "colab": {
     "base_uri": "https://localhost:8080/",
     "height": 170
    },
    "executionInfo": {
     "elapsed": 1459,
     "status": "error",
     "timestamp": 1619501705711,
     "user": {
      "displayName": "Demo Purpose",
      "photoUrl": "",
      "userId": "12724079362540459699"
     },
     "user_tz": -330
    },
    "id": "ucgapUw50p9F",
    "outputId": "f6bb02ed-6ff9-4bdd-bed3-f57762c9b5ad"
   },
   "outputs": [
    {
     "ename": "AttributeError",
     "evalue": "ignored",
     "output_type": "error",
     "traceback": [
      "\u001b[0;31m---------------------------------------------------------------------------\u001b[0m",
      "\u001b[0;31mAttributeError\u001b[0m                            Traceback (most recent call last)",
      "\u001b[0;32m<ipython-input-20-b36f090747bb>\u001b[0m in \u001b[0;36m<module>\u001b[0;34m()\u001b[0m\n\u001b[0;32m----> 1\u001b[0;31m \u001b[0mo\u001b[0m\u001b[0;34m.\u001b[0m\u001b[0m__password\u001b[0m\u001b[0;34m\u001b[0m\u001b[0;34m\u001b[0m\u001b[0m\n\u001b[0m",
      "\u001b[0;31mAttributeError\u001b[0m: 'Person' object has no attribute '__password'"
     ]
    }
   ],
   "source": [
    "o.__password"
   ]
  },
  {
   "cell_type": "code",
   "execution_count": 24,
   "metadata": {
    "executionInfo": {
     "elapsed": 1128,
     "status": "ok",
     "timestamp": 1619501881864,
     "user": {
      "displayName": "Demo Purpose",
      "photoUrl": "",
      "userId": "12724079362540459699"
     },
     "user_tz": -330
    },
    "id": "CN2Jpevu0uMb"
   },
   "outputs": [],
   "source": [
    "class Person:\n",
    "  def __init__(self):\n",
    "    # public member\n",
    "    self.name = 'Jaini'\n",
    "\n",
    "    # protected member\n",
    "    self._email = 'jaini@mail.com'\n",
    "\n",
    "    # private member\n",
    "    self.__password = '4a6dfa54df6'\n",
    "\n",
    "  def showAll(self):\n",
    "    return self.name, self._email, self.__password"
   ]
  },
  {
   "cell_type": "code",
   "execution_count": 25,
   "metadata": {
    "executionInfo": {
     "elapsed": 1157,
     "status": "ok",
     "timestamp": 1619501883495,
     "user": {
      "displayName": "Demo Purpose",
      "photoUrl": "",
      "userId": "12724079362540459699"
     },
     "user_tz": -330
    },
    "id": "8tqR9F861P_H"
   },
   "outputs": [],
   "source": [
    "o = Person()"
   ]
  },
  {
   "cell_type": "code",
   "execution_count": 26,
   "metadata": {
    "colab": {
     "base_uri": "https://localhost:8080/"
    },
    "executionInfo": {
     "elapsed": 1265,
     "status": "ok",
     "timestamp": 1619501885405,
     "user": {
      "displayName": "Demo Purpose",
      "photoUrl": "",
      "userId": "12724079362540459699"
     },
     "user_tz": -330
    },
    "id": "v4cUCOpo1RnY",
    "outputId": "b2746e96-68b7-49c0-e286-2a4927ee2ace"
   },
   "outputs": [
    {
     "data": {
      "text/plain": [
       "('Jaini', 'jaini@mail.com', '4a6dfa54df6')"
      ]
     },
     "execution_count": 26,
     "metadata": {
      "tags": []
     },
     "output_type": "execute_result"
    }
   ],
   "source": [
    "o.showAll()"
   ]
  },
  {
   "cell_type": "code",
   "execution_count": 27,
   "metadata": {
    "executionInfo": {
     "elapsed": 1090,
     "status": "ok",
     "timestamp": 1619502105260,
     "user": {
      "displayName": "Demo Purpose",
      "photoUrl": "",
      "userId": "12724079362540459699"
     },
     "user_tz": -330
    },
    "id": "fO_4bjRq1T7B"
   },
   "outputs": [],
   "source": [
    "# operator overloading\n",
    "\n",
    "class Calc:\n",
    "  def __init__(self, a, b):\n",
    "    self.a = a\n",
    "    self.b = b\n",
    "\n",
    "  def __add__(self, other):\n",
    "    self.a = self.a + other.a\n",
    "    self.b = self.b + other.b\n",
    "\n",
    "    return self.a, self.b\n",
    "\n",
    "  def __str__(self):\n",
    "    return f\"{self.a}, {self.b}\""
   ]
  },
  {
   "cell_type": "code",
   "execution_count": 28,
   "metadata": {
    "executionInfo": {
     "elapsed": 1154,
     "status": "ok",
     "timestamp": 1619502120061,
     "user": {
      "displayName": "Demo Purpose",
      "photoUrl": "",
      "userId": "12724079362540459699"
     },
     "user_tz": -330
    },
    "id": "K2hw4nXn2P1I"
   },
   "outputs": [],
   "source": [
    "o = Calc(5, 2)"
   ]
  },
  {
   "cell_type": "code",
   "execution_count": 29,
   "metadata": {
    "colab": {
     "base_uri": "https://localhost:8080/"
    },
    "executionInfo": {
     "elapsed": 1355,
     "status": "ok",
     "timestamp": 1619502124983,
     "user": {
      "displayName": "Demo Purpose",
      "photoUrl": "",
      "userId": "12724079362540459699"
     },
     "user_tz": -330
    },
    "id": "_SL9eJPc2Tdf",
    "outputId": "1198149e-90fa-44dd-e5ed-70b7574bb067"
   },
   "outputs": [
    {
     "data": {
      "text/plain": [
       "5"
      ]
     },
     "execution_count": 29,
     "metadata": {
      "tags": []
     },
     "output_type": "execute_result"
    }
   ],
   "source": [
    "o.a"
   ]
  },
  {
   "cell_type": "code",
   "execution_count": 30,
   "metadata": {
    "colab": {
     "base_uri": "https://localhost:8080/"
    },
    "executionInfo": {
     "elapsed": 1400,
     "status": "ok",
     "timestamp": 1619502129695,
     "user": {
      "displayName": "Demo Purpose",
      "photoUrl": "",
      "userId": "12724079362540459699"
     },
     "user_tz": -330
    },
    "id": "NFPfIUTS2Uk-",
    "outputId": "4c858430-1cef-491f-84c4-670564e51daf"
   },
   "outputs": [
    {
     "data": {
      "text/plain": [
       "2"
      ]
     },
     "execution_count": 30,
     "metadata": {
      "tags": []
     },
     "output_type": "execute_result"
    }
   ],
   "source": [
    "o.b"
   ]
  },
  {
   "cell_type": "code",
   "execution_count": 31,
   "metadata": {
    "executionInfo": {
     "elapsed": 1160,
     "status": "ok",
     "timestamp": 1619502174103,
     "user": {
      "displayName": "Demo Purpose",
      "photoUrl": "",
      "userId": "12724079362540459699"
     },
     "user_tz": -330
    },
    "id": "BPXMzOOP2VtH"
   },
   "outputs": [],
   "source": [
    "o2 = Calc(6, 3)"
   ]
  },
  {
   "cell_type": "code",
   "execution_count": 32,
   "metadata": {
    "colab": {
     "base_uri": "https://localhost:8080/"
    },
    "executionInfo": {
     "elapsed": 1554,
     "status": "ok",
     "timestamp": 1619502180078,
     "user": {
      "displayName": "Demo Purpose",
      "photoUrl": "",
      "userId": "12724079362540459699"
     },
     "user_tz": -330
    },
    "id": "U1Z0q7J62gqN",
    "outputId": "f1a55e72-3cf1-4cae-e0f2-7660e5d5a856"
   },
   "outputs": [
    {
     "data": {
      "text/plain": [
       "6"
      ]
     },
     "execution_count": 32,
     "metadata": {
      "tags": []
     },
     "output_type": "execute_result"
    }
   ],
   "source": [
    "o2.a"
   ]
  },
  {
   "cell_type": "code",
   "execution_count": 33,
   "metadata": {
    "colab": {
     "base_uri": "https://localhost:8080/"
    },
    "executionInfo": {
     "elapsed": 1453,
     "status": "ok",
     "timestamp": 1619502182480,
     "user": {
      "displayName": "Demo Purpose",
      "photoUrl": "",
      "userId": "12724079362540459699"
     },
     "user_tz": -330
    },
    "id": "H5ugFOfe2hzE",
    "outputId": "b9d1f4ca-f1a6-4775-96da-927f8f7087a2"
   },
   "outputs": [
    {
     "data": {
      "text/plain": [
       "3"
      ]
     },
     "execution_count": 33,
     "metadata": {
      "tags": []
     },
     "output_type": "execute_result"
    }
   ],
   "source": [
    "o2.b"
   ]
  },
  {
   "cell_type": "code",
   "execution_count": 34,
   "metadata": {
    "colab": {
     "base_uri": "https://localhost:8080/"
    },
    "executionInfo": {
     "elapsed": 1180,
     "status": "ok",
     "timestamp": 1619502193389,
     "user": {
      "displayName": "Demo Purpose",
      "photoUrl": "",
      "userId": "12724079362540459699"
     },
     "user_tz": -330
    },
    "id": "zbQ_9UEm2ilt",
    "outputId": "b80d8d1f-7bc0-4bf4-91b5-24ed734c71de"
   },
   "outputs": [
    {
     "data": {
      "text/plain": [
       "(11, 5)"
      ]
     },
     "execution_count": 34,
     "metadata": {
      "tags": []
     },
     "output_type": "execute_result"
    }
   ],
   "source": [
    "o + o2"
   ]
  },
  {
   "cell_type": "code",
   "execution_count": 35,
   "metadata": {
    "colab": {
     "base_uri": "https://localhost:8080/"
    },
    "executionInfo": {
     "elapsed": 1504,
     "status": "ok",
     "timestamp": 1619502262937,
     "user": {
      "displayName": "Demo Purpose",
      "photoUrl": "",
      "userId": "12724079362540459699"
     },
     "user_tz": -330
    },
    "id": "PbtDsDtX2lW7",
    "outputId": "95eb66e8-e343-4787-cfab-2ea7a6423306"
   },
   "outputs": [
    {
     "name": "stdout",
     "output_type": "stream",
     "text": [
      "(17, 8)\n"
     ]
    }
   ],
   "source": [
    "print(o + o2)"
   ]
  },
  {
   "cell_type": "code",
   "execution_count": 36,
   "metadata": {
    "colab": {
     "base_uri": "https://localhost:8080/",
     "height": 36
    },
    "executionInfo": {
     "elapsed": 1341,
     "status": "ok",
     "timestamp": 1619502285889,
     "user": {
      "displayName": "Demo Purpose",
      "photoUrl": "",
      "userId": "12724079362540459699"
     },
     "user_tz": -330
    },
    "id": "JAuBgBpS22KC",
    "outputId": "5b5b38d2-9817-4696-ebfa-2f8008861a01"
   },
   "outputs": [
    {
     "data": {
      "application/vnd.google.colaboratory.intrinsic+json": {
       "type": "string"
      },
      "text/plain": [
       "'(23, 11)'"
      ]
     },
     "execution_count": 36,
     "metadata": {
      "tags": []
     },
     "output_type": "execute_result"
    }
   ],
   "source": [
    "str(o + o2)"
   ]
  },
  {
   "cell_type": "code",
   "execution_count": 18,
   "metadata": {},
   "outputs": [],
   "source": [
    "class mahadev:\n",
    "    def __init__(self):\n",
    "        print(\"this is current class of object\")\n",
    "        self.name = 'niranjan'\n",
    "        self.city = 'ahmedabad'\n",
    "        "
   ]
  },
  {
   "cell_type": "code",
   "execution_count": 19,
   "metadata": {},
   "outputs": [
    {
     "name": "stdout",
     "output_type": "stream",
     "text": [
      "this is current class of object\n"
     ]
    }
   ],
   "source": [
    "obj =mahadev()"
   ]
  },
  {
   "cell_type": "code",
   "execution_count": 20,
   "metadata": {},
   "outputs": [
    {
     "data": {
      "text/plain": [
       "'niranjan'"
      ]
     },
     "execution_count": 20,
     "metadata": {},
     "output_type": "execute_result"
    }
   ],
   "source": [
    "obj.name"
   ]
  },
  {
   "cell_type": "code",
   "execution_count": 21,
   "metadata": {},
   "outputs": [
    {
     "data": {
      "text/plain": [
       "'ahmedabad'"
      ]
     },
     "execution_count": 21,
     "metadata": {},
     "output_type": "execute_result"
    }
   ],
   "source": [
    "obj.city"
   ]
  },
  {
   "cell_type": "code",
   "execution_count": 22,
   "metadata": {},
   "outputs": [
    {
     "data": {
      "text/plain": [
       "{'name': 'niranjan', 'city': 'ahmedabad'}"
      ]
     },
     "execution_count": 22,
     "metadata": {},
     "output_type": "execute_result"
    }
   ],
   "source": [
    "obj.__dict__"
   ]
  },
  {
   "cell_type": "code",
   "execution_count": 32,
   "metadata": {},
   "outputs": [],
   "source": [
    "class jaibholenath:\n",
    "    def __init__(self,name,age,year):\n",
    "      print('hello yhis is constructor')\n",
    "      self.name = name\n",
    "      self.age = age\n",
    "      self.year = year\n",
    "    \n",
    "    def get_name(self):\n",
    "        return self.name\n",
    "    def get_age(self):\n",
    "        return self.age\n",
    "    def get_year(self):\n",
    "        return self.year\n",
    " "
   ]
  },
  {
   "cell_type": "code",
   "execution_count": 35,
   "metadata": {},
   "outputs": [
    {
     "name": "stdout",
     "output_type": "stream",
     "text": [
      "hello yhis is constructor\n"
     ]
    }
   ],
   "source": [
    "obj = jaibholenath('niranjan','34','2023')"
   ]
  },
  {
   "cell_type": "code",
   "execution_count": 37,
   "metadata": {},
   "outputs": [
    {
     "data": {
      "text/plain": [
       "'2023'"
      ]
     },
     "execution_count": 37,
     "metadata": {},
     "output_type": "execute_result"
    }
   ],
   "source": [
    "obj.get_year()"
   ]
  },
  {
   "cell_type": "code",
   "execution_count": 38,
   "metadata": {},
   "outputs": [
    {
     "data": {
      "text/plain": [
       "'niranjan'"
      ]
     },
     "execution_count": 38,
     "metadata": {},
     "output_type": "execute_result"
    }
   ],
   "source": [
    "obj.get_name()"
   ]
  },
  {
   "cell_type": "code",
   "execution_count": 39,
   "metadata": {},
   "outputs": [],
   "source": [
    "class A:\n",
    "    def __init__(self):\n",
    "        self.name = 'niranjan'\n",
    "        print(self.name)\n",
    "class B(A):        \n",
    "    def __init__(self):\n",
    "        self.age = '34'\n",
    "        print(self.age)"
   ]
  },
  {
   "cell_type": "code",
   "execution_count": 44,
   "metadata": {},
   "outputs": [
    {
     "name": "stdout",
     "output_type": "stream",
     "text": [
      "niranjan\n"
     ]
    }
   ],
   "source": [
    "o = A()"
   ]
  },
  {
   "cell_type": "code",
   "execution_count": 45,
   "metadata": {},
   "outputs": [
    {
     "name": "stdout",
     "output_type": "stream",
     "text": [
      "34\n"
     ]
    }
   ],
   "source": [
    "o = B()"
   ]
  },
  {
   "cell_type": "code",
   "execution_count": 50,
   "metadata": {},
   "outputs": [
    {
     "data": {
      "text/plain": [
       "{'age': '34'}"
      ]
     },
     "execution_count": 50,
     "metadata": {},
     "output_type": "execute_result"
    }
   ],
   "source": [
    "o.__dict__"
   ]
  },
  {
   "cell_type": "code",
   "execution_count": 133,
   "metadata": {},
   "outputs": [],
   "source": [
    "class Add:\n",
    "    def add(self,a,b, *c):\n",
    "        self.d = a + b\n",
    "        #self.d = a * b\n",
    "        \n",
    "        if c:\n",
    "         for i in c:\n",
    "          self.d += i\n",
    "          \n",
    "\n",
    "        return self.d  \n",
    "    "
   ]
  },
  {
   "cell_type": "code",
   "execution_count": 134,
   "metadata": {},
   "outputs": [],
   "source": [
    "o = Add()"
   ]
  },
  {
   "cell_type": "code",
   "execution_count": 135,
   "metadata": {},
   "outputs": [
    {
     "data": {
      "text/plain": [
       "15"
      ]
     },
     "execution_count": 135,
     "metadata": {},
     "output_type": "execute_result"
    }
   ],
   "source": [
    "o.add(4,3,8)"
   ]
  },
  {
   "cell_type": "code",
   "execution_count": 136,
   "metadata": {},
   "outputs": [
    {
     "data": {
      "text/plain": [
       "7"
      ]
     },
     "execution_count": 136,
     "metadata": {},
     "output_type": "execute_result"
    }
   ],
   "source": [
    "o.add(4,3)"
   ]
  },
  {
   "cell_type": "code",
   "execution_count": 138,
   "metadata": {},
   "outputs": [
    {
     "data": {
      "text/plain": [
       "91457700"
      ]
     },
     "execution_count": 138,
     "metadata": {},
     "output_type": "execute_result"
    }
   ],
   "source": [
    "o.add(23,1,343534,3455465,6565765,77657567,3435345)"
   ]
  },
  {
   "cell_type": "code",
   "execution_count": null,
   "metadata": {},
   "outputs": [],
   "source": []
  },
  {
   "cell_type": "code",
   "execution_count": null,
   "metadata": {},
   "outputs": [],
   "source": []
  }
 ],
 "metadata": {
  "colab": {
   "authorship_tag": "ABX9TyOsGPdWTNtnnYSgRS4D4GvZ",
   "collapsed_sections": [],
   "name": "OOPS_Python.ipynb",
   "provenance": []
  },
  "kernelspec": {
   "display_name": "Python 3",
   "language": "python",
   "name": "python3"
  },
  "language_info": {
   "codemirror_mode": {
    "name": "ipython",
    "version": 3
   },
   "file_extension": ".py",
   "mimetype": "text/x-python",
   "name": "python",
   "nbconvert_exporter": "python",
   "pygments_lexer": "ipython3",
   "version": "3.8.8"
  }
 },
 "nbformat": 4,
 "nbformat_minor": 1
}
