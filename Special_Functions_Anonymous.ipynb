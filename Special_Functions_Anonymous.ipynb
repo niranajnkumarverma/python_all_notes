{
 "cells": [
  {
   "cell_type": "markdown",
   "metadata": {
    "id": "JCgc5Zdc0faR"
   },
   "source": [
    "# Anonymous functions\n",
    "- ## In Python, anonymous function is a function that is defined without a name.\n",
    "- ## While normal functions are defined using the def keyword, in Python anonymous functions are defined using the lambda keyword.\n",
    "- ## Hence, anonymous functions are also called lambda functions.\n",
    "- ## A lambda function has the following syntax.\n",
    "\n",
    "## syntax\n",
    "- ## lambda arguments: expression\n"
   ]
  },
  {
   "cell_type": "code",
   "execution_count": 28,
   "metadata": {
    "executionInfo": {
     "elapsed": 4901,
     "status": "ok",
     "timestamp": 1617253668904,
     "user": {
      "displayName": "Demo Purpose",
      "photoUrl": "",
      "userId": "12724079362540459699"
     },
     "user_tz": -330
    },
    "id": "jq-C-G7gzMXQ"
   },
   "outputs": [],
   "source": [
    "# normal function\n",
    "\n",
    "def multi(x, y, z):\n",
    "  return x * y * z"
   ]
  },
  {
   "cell_type": "code",
   "execution_count": 29,
   "metadata": {
    "colab": {
     "base_uri": "https://localhost:8080/"
    },
    "executionInfo": {
     "elapsed": 2142,
     "status": "ok",
     "timestamp": 1617253683344,
     "user": {
      "displayName": "Demo Purpose",
      "photoUrl": "",
      "userId": "12724079362540459699"
     },
     "user_tz": -330
    },
    "id": "VgtHkpFA1EhO",
    "outputId": "a4a696da-8f3b-4b36-ea6c-a5417a7172f8"
   },
   "outputs": [
    {
     "data": {
      "text/plain": [
       "30"
      ]
     },
     "execution_count": 29,
     "metadata": {},
     "output_type": "execute_result"
    }
   ],
   "source": [
    "multi(5, 3, 2)"
   ]
  },
  {
   "cell_type": "code",
   "execution_count": 30,
   "metadata": {},
   "outputs": [],
   "source": [
    "def add(x, y, z):\n",
    "  return x + y + z"
   ]
  },
  {
   "cell_type": "code",
   "execution_count": 31,
   "metadata": {},
   "outputs": [
    {
     "data": {
      "text/plain": [
       "15"
      ]
     },
     "execution_count": 31,
     "metadata": {},
     "output_type": "execute_result"
    }
   ],
   "source": [
    "add(4,5,6)"
   ]
  },
  {
   "cell_type": "code",
   "execution_count": 33,
   "metadata": {},
   "outputs": [],
   "source": [
    "def divide(x, y, z):\n",
    "  return x / y / z"
   ]
  },
  {
   "cell_type": "code",
   "execution_count": 34,
   "metadata": {},
   "outputs": [
    {
     "data": {
      "text/plain": [
       "0.041666666666666664"
      ]
     },
     "execution_count": 34,
     "metadata": {},
     "output_type": "execute_result"
    }
   ],
   "source": [
    "divide(3,6,12)"
   ]
  },
  {
   "cell_type": "code",
   "execution_count": 35,
   "metadata": {},
   "outputs": [
    {
     "data": {
      "text/plain": [
       "function"
      ]
     },
     "execution_count": 35,
     "metadata": {},
     "output_type": "execute_result"
    }
   ],
   "source": [
    "type(divide)"
   ]
  },
  {
   "cell_type": "code",
   "execution_count": 3,
   "metadata": {
    "colab": {
     "base_uri": "https://localhost:8080/"
    },
    "executionInfo": {
     "elapsed": 1002,
     "status": "ok",
     "timestamp": 1617253711359,
     "user": {
      "displayName": "Demo Purpose",
      "photoUrl": "",
      "userId": "12724079362540459699"
     },
     "user_tz": -330
    },
    "id": "ccCrEqFi1MgP",
    "outputId": "4ef016ab-8e51-48c4-9c88-4f8fae434514"
   },
   "outputs": [
    {
     "data": {
      "text/plain": [
       "function"
      ]
     },
     "execution_count": 3,
     "metadata": {
      "tags": []
     },
     "output_type": "execute_result"
    }
   ],
   "source": [
    "type(multi)"
   ]
  },
  {
   "cell_type": "code",
   "execution_count": 4,
   "metadata": {
    "executionInfo": {
     "elapsed": 945,
     "status": "ok",
     "timestamp": 1617253754402,
     "user": {
      "displayName": "Demo Purpose",
      "photoUrl": "",
      "userId": "12724079362540459699"
     },
     "user_tz": -330
    },
    "id": "F_hDPvgI1Teu"
   },
   "outputs": [],
   "source": [
    "# lambda\n",
    "\n",
    "multi = lambda x, y: x * y"
   ]
  },
  {
   "cell_type": "code",
   "execution_count": 5,
   "metadata": {
    "colab": {
     "base_uri": "https://localhost:8080/"
    },
    "executionInfo": {
     "elapsed": 1043,
     "status": "ok",
     "timestamp": 1617253761577,
     "user": {
      "displayName": "Demo Purpose",
      "photoUrl": "",
      "userId": "12724079362540459699"
     },
     "user_tz": -330
    },
    "id": "HDg5DDEi1eJA",
    "outputId": "822c53e1-e0a0-4ad0-bba4-feb8a2b6bfa1"
   },
   "outputs": [
    {
     "data": {
      "text/plain": [
       "function"
      ]
     },
     "execution_count": 5,
     "metadata": {
      "tags": []
     },
     "output_type": "execute_result"
    }
   ],
   "source": [
    "type(multi)"
   ]
  },
  {
   "cell_type": "code",
   "execution_count": 6,
   "metadata": {
    "colab": {
     "base_uri": "https://localhost:8080/"
    },
    "executionInfo": {
     "elapsed": 944,
     "status": "ok",
     "timestamp": 1617253778697,
     "user": {
      "displayName": "Demo Purpose",
      "photoUrl": "",
      "userId": "12724079362540459699"
     },
     "user_tz": -330
    },
    "id": "5pX3XkMq1fz5",
    "outputId": "530c7f06-dfba-42ec-9da7-87aad3134a06"
   },
   "outputs": [
    {
     "data": {
      "text/plain": [
       "<function __main__.<lambda>>"
      ]
     },
     "execution_count": 6,
     "metadata": {
      "tags": []
     },
     "output_type": "execute_result"
    }
   ],
   "source": [
    "multi"
   ]
  },
  {
   "cell_type": "code",
   "execution_count": 7,
   "metadata": {
    "colab": {
     "base_uri": "https://localhost:8080/",
     "height": 163
    },
    "executionInfo": {
     "elapsed": 958,
     "status": "error",
     "timestamp": 1617253802081,
     "user": {
      "displayName": "Demo Purpose",
      "photoUrl": "",
      "userId": "12724079362540459699"
     },
     "user_tz": -330
    },
    "id": "kOva1hX01kE4",
    "outputId": "9df41f7e-f776-4536-9317-36db3e77367a"
   },
   "outputs": [
    {
     "ename": "TypeError",
     "evalue": "ignored",
     "output_type": "error",
     "traceback": [
      "\u001b[0;31m---------------------------------------------------------------------------\u001b[0m",
      "\u001b[0;31mTypeError\u001b[0m                                 Traceback (most recent call last)",
      "\u001b[0;32m<ipython-input-7-8d4e53a28979>\u001b[0m in \u001b[0;36m<module>\u001b[0;34m()\u001b[0m\n\u001b[0;32m----> 1\u001b[0;31m \u001b[0mmulti\u001b[0m\u001b[0;34m(\u001b[0m\u001b[0;34m)\u001b[0m\u001b[0;34m\u001b[0m\u001b[0;34m\u001b[0m\u001b[0m\n\u001b[0m",
      "\u001b[0;31mTypeError\u001b[0m: <lambda>() missing 2 required positional arguments: 'x' and 'y'"
     ]
    }
   ],
   "source": [
    "multi()"
   ]
  },
  {
   "cell_type": "code",
   "execution_count": 41,
   "metadata": {},
   "outputs": [],
   "source": [
    "add = lambda x, y, z: x+y+z\n"
   ]
  },
  {
   "cell_type": "code",
   "execution_count": 42,
   "metadata": {},
   "outputs": [
    {
     "data": {
      "text/plain": [
       "9"
      ]
     },
     "execution_count": 42,
     "metadata": {},
     "output_type": "execute_result"
    }
   ],
   "source": [
    "add(4,3,2)"
   ]
  },
  {
   "cell_type": "code",
   "execution_count": 8,
   "metadata": {
    "colab": {
     "base_uri": "https://localhost:8080/"
    },
    "executionInfo": {
     "elapsed": 947,
     "status": "ok",
     "timestamp": 1617253818668,
     "user": {
      "displayName": "Demo Purpose",
      "photoUrl": "",
      "userId": "12724079362540459699"
     },
     "user_tz": -330
    },
    "id": "Wd8bCgg41ppZ",
    "outputId": "f6256e5e-c356-417c-efd9-c0c6f1069719"
   },
   "outputs": [
    {
     "data": {
      "text/plain": [
       "8"
      ]
     },
     "execution_count": 8,
     "metadata": {
      "tags": []
     },
     "output_type": "execute_result"
    }
   ],
   "source": [
    "multi(2, 4)"
   ]
  },
  {
   "cell_type": "code",
   "execution_count": 94,
   "metadata": {
    "executionInfo": {
     "elapsed": 918,
     "status": "ok",
     "timestamp": 1617254056472,
     "user": {
      "displayName": "Demo Purpose",
      "photoUrl": "",
      "userId": "12724079362540459699"
     },
     "user_tz": -330
    },
    "id": "hmtDoH9H1tj-"
   },
   "outputs": [],
   "source": [
    "# filter - built-in special method\n",
    "\n",
    "def isEven(n):\n",
    "  if n % 2 == 0:\n",
    "    print(n)"
   ]
  },
  {
   "cell_type": "code",
   "execution_count": 95,
   "metadata": {
    "executionInfo": {
     "elapsed": 918,
     "status": "ok",
     "timestamp": 1617254062769,
     "user": {
      "displayName": "Demo Purpose",
      "photoUrl": "",
      "userId": "12724079362540459699"
     },
     "user_tz": -330
    },
    "id": "rEyPfdNu2n5W"
   },
   "outputs": [],
   "source": [
    "isEven(5)"
   ]
  },
  {
   "cell_type": "code",
   "execution_count": 96,
   "metadata": {
    "colab": {
     "base_uri": "https://localhost:8080/"
    },
    "executionInfo": {
     "elapsed": 922,
     "status": "ok",
     "timestamp": 1617254069605,
     "user": {
      "displayName": "Demo Purpose",
      "photoUrl": "",
      "userId": "12724079362540459699"
     },
     "user_tz": -330
    },
    "id": "-_9VhLYs2pb2",
    "outputId": "e2222b13-6e3f-420c-f67e-78f76ff415f0"
   },
   "outputs": [
    {
     "name": "stdout",
     "output_type": "stream",
     "text": [
      "4\n"
     ]
    }
   ],
   "source": [
    "isEven(4)"
   ]
  },
  {
   "cell_type": "code",
   "execution_count": 97,
   "metadata": {
    "executionInfo": {
     "elapsed": 915,
     "status": "ok",
     "timestamp": 1617254115060,
     "user": {
      "displayName": "Demo Purpose",
      "photoUrl": "",
      "userId": "12724079362540459699"
     },
     "user_tz": -330
    },
    "id": "naEry8YA2rGm"
   },
   "outputs": [],
   "source": [
    "def isEven(n):\n",
    "  return n % 2 == 0"
   ]
  },
  {
   "cell_type": "code",
   "execution_count": 98,
   "metadata": {
    "colab": {
     "base_uri": "https://localhost:8080/"
    },
    "executionInfo": {
     "elapsed": 923,
     "status": "ok",
     "timestamp": 1617254123302,
     "user": {
      "displayName": "Demo Purpose",
      "photoUrl": "",
      "userId": "12724079362540459699"
     },
     "user_tz": -330
    },
    "id": "3P8ExibJ22M2",
    "outputId": "deaecaf1-566c-4bb2-dea3-ea04cc8fc5f9"
   },
   "outputs": [
    {
     "data": {
      "text/plain": [
       "False"
      ]
     },
     "execution_count": 98,
     "metadata": {},
     "output_type": "execute_result"
    }
   ],
   "source": [
    "isEven(5)"
   ]
  },
  {
   "cell_type": "code",
   "execution_count": 99,
   "metadata": {},
   "outputs": [],
   "source": [
    "def isodd(n):\n",
    " return n % 2 != 0"
   ]
  },
  {
   "cell_type": "code",
   "execution_count": 100,
   "metadata": {},
   "outputs": [
    {
     "data": {
      "text/plain": [
       "False"
      ]
     },
     "execution_count": 100,
     "metadata": {},
     "output_type": "execute_result"
    }
   ],
   "source": [
    "isodd(10)"
   ]
  },
  {
   "cell_type": "code",
   "execution_count": 119,
   "metadata": {
    "executionInfo": {
     "elapsed": 937,
     "status": "ok",
     "timestamp": 1617254149561,
     "user": {
      "displayName": "Demo Purpose",
      "photoUrl": "",
      "userId": "12724079362540459699"
     },
     "user_tz": -330
    },
    "id": "q2JCKvL024Nm"
   },
   "outputs": [],
   "source": [
    "l = [ 5,3,6,7,8,92,2,3,4,5 ]"
   ]
  },
  {
   "cell_type": "code",
   "execution_count": 120,
   "metadata": {
    "colab": {
     "base_uri": "https://localhost:8080/"
    },
    "executionInfo": {
     "elapsed": 913,
     "status": "ok",
     "timestamp": 1617254169507,
     "user": {
      "displayName": "Demo Purpose",
      "photoUrl": "",
      "userId": "12724079362540459699"
     },
     "user_tz": -330
    },
    "id": "i5IbxDLc2-nu",
    "outputId": "713bef2d-9a81-440f-d9a9-16daa0f3471b"
   },
   "outputs": [
    {
     "name": "stdout",
     "output_type": "stream",
     "text": [
      "False\n",
      "False\n",
      "True\n",
      "False\n",
      "True\n",
      "True\n",
      "True\n",
      "False\n",
      "True\n",
      "False\n"
     ]
    }
   ],
   "source": [
    "for i in l:\n",
    "  print(isEven(i))"
   ]
  },
  {
   "cell_type": "code",
   "execution_count": 103,
   "metadata": {},
   "outputs": [],
   "source": [
    "k1 = [2,3,4,5,6,7,8,9,10,11,12,13,14,15,16] "
   ]
  },
  {
   "cell_type": "code",
   "execution_count": 104,
   "metadata": {},
   "outputs": [
    {
     "name": "stdout",
     "output_type": "stream",
     "text": [
      "False\n",
      "True\n",
      "False\n",
      "True\n",
      "False\n",
      "True\n",
      "False\n",
      "True\n",
      "False\n",
      "True\n",
      "False\n",
      "True\n",
      "False\n",
      "True\n",
      "False\n"
     ]
    }
   ],
   "source": [
    "for i in k1:\n",
    "    print(isodd(i))"
   ]
  },
  {
   "cell_type": "code",
   "execution_count": 109,
   "metadata": {
    "executionInfo": {
     "elapsed": 944,
     "status": "ok",
     "timestamp": 1617254271961,
     "user": {
      "displayName": "Demo Purpose",
      "photoUrl": "",
      "userId": "12724079362540459699"
     },
     "user_tz": -330
    },
    "id": "ycOihbw-3Dfu"
   },
   "outputs": [],
   "source": [
    "# filter\n",
    "\n",
    "even_numbers = filter(isEven, l)"
   ]
  },
  {
   "cell_type": "code",
   "execution_count": 110,
   "metadata": {
    "colab": {
     "base_uri": "https://localhost:8080/"
    },
    "executionInfo": {
     "elapsed": 1087,
     "status": "ok",
     "timestamp": 1617254278853,
     "user": {
      "displayName": "Demo Purpose",
      "photoUrl": "",
      "userId": "12724079362540459699"
     },
     "user_tz": -330
    },
    "id": "Asg5SqfW3cf9",
    "outputId": "f1a0bdc0-8998-4b0a-b1a0-c19fec2f68d7"
   },
   "outputs": [
    {
     "data": {
      "text/plain": [
       "filter"
      ]
     },
     "execution_count": 110,
     "metadata": {},
     "output_type": "execute_result"
    }
   ],
   "source": [
    "type(even_numbers)"
   ]
  },
  {
   "cell_type": "code",
   "execution_count": 111,
   "metadata": {
    "colab": {
     "base_uri": "https://localhost:8080/"
    },
    "executionInfo": {
     "elapsed": 913,
     "status": "ok",
     "timestamp": 1617254288931,
     "user": {
      "displayName": "Demo Purpose",
      "photoUrl": "",
      "userId": "12724079362540459699"
     },
     "user_tz": -330
    },
    "id": "h1Dp2BRZ3eIF",
    "outputId": "6f241d7e-c19f-41b3-b244-f4000f9dbdc8"
   },
   "outputs": [
    {
     "data": {
      "text/plain": [
       "<filter at 0x2ceb591f7c0>"
      ]
     },
     "execution_count": 111,
     "metadata": {},
     "output_type": "execute_result"
    }
   ],
   "source": [
    "even_numbers"
   ]
  },
  {
   "cell_type": "code",
   "execution_count": 20,
   "metadata": {
    "colab": {
     "base_uri": "https://localhost:8080/",
     "height": 163
    },
    "executionInfo": {
     "elapsed": 1050,
     "status": "error",
     "timestamp": 1617254314146,
     "user": {
      "displayName": "Demo Purpose",
      "photoUrl": "",
      "userId": "12724079362540459699"
     },
     "user_tz": -330
    },
    "id": "dF075rKz3gpt",
    "outputId": "b7439a08-3bc0-4370-e681-ecbdd67966f2"
   },
   "outputs": [
    {
     "ename": "TypeError",
     "evalue": "ignored",
     "output_type": "error",
     "traceback": [
      "\u001b[0;31m---------------------------------------------------------------------------\u001b[0m",
      "\u001b[0;31mTypeError\u001b[0m                                 Traceback (most recent call last)",
      "\u001b[0;32m<ipython-input-20-9d7fccdf36b1>\u001b[0m in \u001b[0;36m<module>\u001b[0;34m()\u001b[0m\n\u001b[0;32m----> 1\u001b[0;31m \u001b[0mlen\u001b[0m\u001b[0;34m(\u001b[0m\u001b[0meven_numbers\u001b[0m\u001b[0;34m)\u001b[0m\u001b[0;34m\u001b[0m\u001b[0;34m\u001b[0m\u001b[0m\n\u001b[0m",
      "\u001b[0;31mTypeError\u001b[0m: object of type 'filter' has no len()"
     ]
    }
   ],
   "source": [
    "len(even_numbers)"
   ]
  },
  {
   "cell_type": "code",
   "execution_count": 122,
   "metadata": {
    "colab": {
     "base_uri": "https://localhost:8080/"
    },
    "executionInfo": {
     "elapsed": 975,
     "status": "ok",
     "timestamp": 1617254525682,
     "user": {
      "displayName": "Demo Purpose",
      "photoUrl": "",
      "userId": "12724079362540459699"
     },
     "user_tz": -330
    },
    "id": "E_cV6Oxd3kPl",
    "outputId": "c53f0d4d-101a-4389-cd4d-41959665b922"
   },
   "outputs": [],
   "source": [
    "for i in even_numbers:\n",
    "  print(i)"
   ]
  },
  {
   "cell_type": "code",
   "execution_count": 123,
   "metadata": {
    "executionInfo": {
     "elapsed": 1552,
     "status": "ok",
     "timestamp": 1617254532469,
     "user": {
      "displayName": "Demo Purpose",
      "photoUrl": "",
      "userId": "12724079362540459699"
     },
     "user_tz": -330
    },
    "id": "A19HZFbf4abl"
   },
   "outputs": [],
   "source": [
    "for i in even_numbers:\n",
    "  print(i)"
   ]
  },
  {
   "cell_type": "code",
   "execution_count": 138,
   "metadata": {
    "executionInfo": {
     "elapsed": 1022,
     "status": "ok",
     "timestamp": 1617254553896,
     "user": {
      "displayName": "Demo Purpose",
      "photoUrl": "",
      "userId": "12724079362540459699"
     },
     "user_tz": -330
    },
    "id": "5eRboffz4b8-"
   },
   "outputs": [],
   "source": [
    "even_numbers = filter(isEven, l)"
   ]
  },
  {
   "cell_type": "code",
   "execution_count": 140,
   "metadata": {
    "colab": {
     "base_uri": "https://localhost:8080/"
    },
    "executionInfo": {
     "elapsed": 1098,
     "status": "ok",
     "timestamp": 1617254610104,
     "user": {
      "displayName": "Demo Purpose",
      "photoUrl": "",
      "userId": "12724079362540459699"
     },
     "user_tz": -330
    },
    "id": "HDJRjlch4hT-",
    "outputId": "3b9a46af-ac61-4dfc-8fa1-4a537dde076f"
   },
   "outputs": [
    {
     "data": {
      "text/plain": [
       "8"
      ]
     },
     "execution_count": 140,
     "metadata": {},
     "output_type": "execute_result"
    }
   ],
   "source": [
    "next(even_numbers)"
   ]
  },
  {
   "cell_type": "code",
   "execution_count": 136,
   "metadata": {
    "colab": {
     "base_uri": "https://localhost:8080/"
    },
    "executionInfo": {
     "elapsed": 917,
     "status": "ok",
     "timestamp": 1617254618034,
     "user": {
      "displayName": "Demo Purpose",
      "photoUrl": "",
      "userId": "12724079362540459699"
     },
     "user_tz": -330
    },
    "id": "HDeyIEvb4vA-",
    "outputId": "d40a50ca-ad0e-45c9-d84d-66195a15ab61"
   },
   "outputs": [
    {
     "ename": "StopIteration",
     "evalue": "",
     "output_type": "error",
     "traceback": [
      "\u001b[1;31m---------------------------------------------------------------------------\u001b[0m",
      "\u001b[1;31mStopIteration\u001b[0m                             Traceback (most recent call last)",
      "\u001b[1;32m<ipython-input-136-5fe2a8618cb6>\u001b[0m in \u001b[0;36m<module>\u001b[1;34m\u001b[0m\n\u001b[1;32m----> 1\u001b[1;33m \u001b[0mnext\u001b[0m\u001b[1;33m(\u001b[0m\u001b[0meven_numbers\u001b[0m\u001b[1;33m)\u001b[0m\u001b[1;33m\u001b[0m\u001b[1;33m\u001b[0m\u001b[0m\n\u001b[0m",
      "\u001b[1;31mStopIteration\u001b[0m: "
     ]
    }
   ],
   "source": [
    "next(even_numbers)"
   ]
  },
  {
   "cell_type": "code",
   "execution_count": 135,
   "metadata": {
    "colab": {
     "base_uri": "https://localhost:8080/"
    },
    "executionInfo": {
     "elapsed": 951,
     "status": "ok",
     "timestamp": 1617254629680,
     "user": {
      "displayName": "Demo Purpose",
      "photoUrl": "",
      "userId": "12724079362540459699"
     },
     "user_tz": -330
    },
    "id": "DuPw1r494w_2",
    "outputId": "6c466fb9-8055-4d0a-f821-5a4bb0b69381"
   },
   "outputs": [],
   "source": [
    "for i in even_numbers:\n",
    "  print(i)"
   ]
  },
  {
   "cell_type": "code",
   "execution_count": 133,
   "metadata": {
    "colab": {
     "base_uri": "https://localhost:8080/",
     "height": 163
    },
    "executionInfo": {
     "elapsed": 899,
     "status": "error",
     "timestamp": 1617254639646,
     "user": {
      "displayName": "Demo Purpose",
      "photoUrl": "",
      "userId": "12724079362540459699"
     },
     "user_tz": -330
    },
    "id": "VHmb5ZRo4z1O",
    "outputId": "988cb221-94f8-4dc2-81e2-fd6ad8066bfb"
   },
   "outputs": [
    {
     "ename": "StopIteration",
     "evalue": "",
     "output_type": "error",
     "traceback": [
      "\u001b[1;31m---------------------------------------------------------------------------\u001b[0m",
      "\u001b[1;31mStopIteration\u001b[0m                             Traceback (most recent call last)",
      "\u001b[1;32m<ipython-input-133-5fe2a8618cb6>\u001b[0m in \u001b[0;36m<module>\u001b[1;34m\u001b[0m\n\u001b[1;32m----> 1\u001b[1;33m \u001b[0mnext\u001b[0m\u001b[1;33m(\u001b[0m\u001b[0meven_numbers\u001b[0m\u001b[1;33m)\u001b[0m\u001b[1;33m\u001b[0m\u001b[1;33m\u001b[0m\u001b[0m\n\u001b[0m",
      "\u001b[1;31mStopIteration\u001b[0m: "
     ]
    }
   ],
   "source": [
    "next(even_numbers)"
   ]
  },
  {
   "cell_type": "code",
   "execution_count": 28,
   "metadata": {
    "colab": {
     "base_uri": "https://localhost:8080/"
    },
    "executionInfo": {
     "elapsed": 955,
     "status": "ok",
     "timestamp": 1617254727234,
     "user": {
      "displayName": "Demo Purpose",
      "photoUrl": "",
      "userId": "12724079362540459699"
     },
     "user_tz": -330
    },
    "id": "sjUB2rm642Re",
    "outputId": "cf677d37-a6be-4f8f-89ba-eaa854b3d4b4"
   },
   "outputs": [
    {
     "name": "stdout",
     "output_type": "stream",
     "text": [
      "Help on class filter in module builtins:\n",
      "\n",
      "class filter(object)\n",
      " |  filter(function or None, iterable) --> filter object\n",
      " |  \n",
      " |  Return an iterator yielding those items of iterable for which function(item)\n",
      " |  is true. If function is None, return the items that are true.\n",
      " |  \n",
      " |  Methods defined here:\n",
      " |  \n",
      " |  __getattribute__(self, name, /)\n",
      " |      Return getattr(self, name).\n",
      " |  \n",
      " |  __iter__(self, /)\n",
      " |      Implement iter(self).\n",
      " |  \n",
      " |  __next__(self, /)\n",
      " |      Implement next(self).\n",
      " |  \n",
      " |  __reduce__(...)\n",
      " |      Return state information for pickling.\n",
      " |  \n",
      " |  ----------------------------------------------------------------------\n",
      " |  Static methods defined here:\n",
      " |  \n",
      " |  __new__(*args, **kwargs) from builtins.type\n",
      " |      Create and return a new object.  See help(type) for accurate signature.\n",
      "\n"
     ]
    }
   ],
   "source": [
    "help(filter)"
   ]
  },
  {
   "cell_type": "code",
   "execution_count": 141,
   "metadata": {
    "executionInfo": {
     "elapsed": 1007,
     "status": "ok",
     "timestamp": 1617254832933,
     "user": {
      "displayName": "Demo Purpose",
      "photoUrl": "",
      "userId": "12724079362540459699"
     },
     "user_tz": -330
    },
    "id": "rBk9XBot5Lcm"
   },
   "outputs": [],
   "source": [
    "# lambda with filter\n",
    "\n",
    "is_even = lambda n: n % 2 == 0"
   ]
  },
  {
   "cell_type": "code",
   "execution_count": 142,
   "metadata": {
    "executionInfo": {
     "elapsed": 938,
     "status": "ok",
     "timestamp": 1617254878076,
     "user": {
      "displayName": "Demo Purpose",
      "photoUrl": "",
      "userId": "12724079362540459699"
     },
     "user_tz": -330
    },
    "id": "CH850WLO5lcF"
   },
   "outputs": [],
   "source": [
    "extract_even = filter(is_even, l)"
   ]
  },
  {
   "cell_type": "code",
   "execution_count": 143,
   "metadata": {
    "colab": {
     "base_uri": "https://localhost:8080/"
    },
    "executionInfo": {
     "elapsed": 909,
     "status": "ok",
     "timestamp": 1617254896160,
     "user": {
      "displayName": "Demo Purpose",
      "photoUrl": "",
      "userId": "12724079362540459699"
     },
     "user_tz": -330
    },
    "id": "Edi3dlKy5wet",
    "outputId": "f7e1ea4f-e67a-458f-d71a-0782373398de"
   },
   "outputs": [
    {
     "name": "stdout",
     "output_type": "stream",
     "text": [
      "6 8 92 2 4\n"
     ]
    }
   ],
   "source": [
    "print(*extract_even)"
   ]
  },
  {
   "cell_type": "code",
   "execution_count": 152,
   "metadata": {
    "colab": {
     "base_uri": "https://localhost:8080/",
     "height": 129
    },
    "executionInfo": {
     "elapsed": 915,
     "status": "error",
     "timestamp": 1617255064053,
     "user": {
      "displayName": "Demo Purpose",
      "photoUrl": "",
      "userId": "12724079362540459699"
     },
     "user_tz": -330
    },
    "id": "5jxfkxFl505t",
    "outputId": "038a393c-06aa-4bb7-92dd-41536ba2fde3"
   },
   "outputs": [
    {
     "ename": "SyntaxError",
     "evalue": "invalid syntax (<ipython-input-152-75aadd57d1e0>, line 1)",
     "output_type": "error",
     "traceback": [
      "\u001b[1;36m  File \u001b[1;32m\"<ipython-input-152-75aadd57d1e0>\"\u001b[1;36m, line \u001b[1;32m1\u001b[0m\n\u001b[1;33m    a = lambda n: n  if n % 2 == 0\u001b[0m\n\u001b[1;37m                                  ^\u001b[0m\n\u001b[1;31mSyntaxError\u001b[0m\u001b[1;31m:\u001b[0m invalid syntax\n"
     ]
    }
   ],
   "source": [
    "a = lambda n: n  if n % 2 == 0"
   ]
  },
  {
   "cell_type": "code",
   "execution_count": 149,
   "metadata": {
    "colab": {
     "base_uri": "https://localhost:8080/"
    },
    "executionInfo": {
     "elapsed": 1082,
     "status": "ok",
     "timestamp": 1617255131622,
     "user": {
      "displayName": "Demo Purpose",
      "photoUrl": "",
      "userId": "12724079362540459699"
     },
     "user_tz": -330
    },
    "id": "8WECPFQ16d41",
    "outputId": "4acdd008-2d4d-4bb2-e4f8-fe7fabc0d0a0"
   },
   "outputs": [
    {
     "data": {
      "text/plain": [
       "True"
      ]
     },
     "execution_count": 149,
     "metadata": {},
     "output_type": "execute_result"
    }
   ],
   "source": [
    "True if 5 == 5 else False"
   ]
  },
  {
   "cell_type": "code",
   "execution_count": 153,
   "metadata": {
    "executionInfo": {
     "elapsed": 917,
     "status": "ok",
     "timestamp": 1617255238745,
     "user": {
      "displayName": "Demo Purpose",
      "photoUrl": "",
      "userId": "12724079362540459699"
     },
     "user_tz": -330
    },
    "id": "lCbkcROJ6sQV"
   },
   "outputs": [],
   "source": [
    "a = lambda n: True if n % 2 == 0 else False"
   ]
  },
  {
   "cell_type": "code",
   "execution_count": 155,
   "metadata": {
    "colab": {
     "base_uri": "https://localhost:8080/"
    },
    "executionInfo": {
     "elapsed": 1153,
     "status": "ok",
     "timestamp": 1617255254577,
     "user": {
      "displayName": "Demo Purpose",
      "photoUrl": "",
      "userId": "12724079362540459699"
     },
     "user_tz": -330
    },
    "id": "UR7GugRi7Iie",
    "outputId": "0b773265-4597-4e50-d817-890e48c372b9"
   },
   "outputs": [
    {
     "data": {
      "text/plain": [
       "False"
      ]
     },
     "execution_count": 155,
     "metadata": {},
     "output_type": "execute_result"
    }
   ],
   "source": [
    "a(7)"
   ]
  },
  {
   "cell_type": "code",
   "execution_count": 37,
   "metadata": {
    "colab": {
     "base_uri": "https://localhost:8080/"
    },
    "executionInfo": {
     "elapsed": 938,
     "status": "ok",
     "timestamp": 1617255259582,
     "user": {
      "displayName": "Demo Purpose",
      "photoUrl": "",
      "userId": "12724079362540459699"
     },
     "user_tz": -330
    },
    "id": "D_iS-oJE7MWF",
    "outputId": "cf0747fe-cc9d-45f2-f4d0-41ff6e4cc92c"
   },
   "outputs": [
    {
     "data": {
      "text/plain": [
       "True"
      ]
     },
     "execution_count": 37,
     "metadata": {
      "tags": []
     },
     "output_type": "execute_result"
    }
   ],
   "source": [
    "a(122)"
   ]
  },
  {
   "cell_type": "code",
   "execution_count": 156,
   "metadata": {},
   "outputs": [],
   "source": [
    "a = lambda n: True if n % 2 != 0 else False"
   ]
  },
  {
   "cell_type": "code",
   "execution_count": 160,
   "metadata": {},
   "outputs": [
    {
     "data": {
      "text/plain": [
       "True"
      ]
     },
     "execution_count": 160,
     "metadata": {},
     "output_type": "execute_result"
    }
   ],
   "source": [
    "a(7)"
   ]
  },
  {
   "cell_type": "code",
   "execution_count": 2,
   "metadata": {
    "id": "IjwLlwuU7Nnt"
   },
   "outputs": [
    {
     "ename": "NameError",
     "evalue": "name 'is_even' is not defined",
     "output_type": "error",
     "traceback": [
      "\u001b[1;31m---------------------------------------------------------------------------\u001b[0m",
      "\u001b[1;31mNameError\u001b[0m                                 Traceback (most recent call last)",
      "\u001b[1;32m<ipython-input-2-e0eadb925cae>\u001b[0m in \u001b[0;36m<module>\u001b[1;34m\u001b[0m\n\u001b[1;32m----> 1\u001b[1;33m \u001b[0mdir\u001b[0m\u001b[1;33m(\u001b[0m\u001b[0mis_even\u001b[0m\u001b[1;33m(\u001b[0m\u001b[1;33m)\u001b[0m\u001b[1;33m)\u001b[0m\u001b[1;33m\u001b[0m\u001b[1;33m\u001b[0m\u001b[0m\n\u001b[0m",
      "\u001b[1;31mNameError\u001b[0m: name 'is_even' is not defined"
     ]
    }
   ],
   "source": [
    "dir(is_even()) "
   ]
  },
  {
   "cell_type": "code",
   "execution_count": 4,
   "metadata": {},
   "outputs": [
    {
     "ename": "NameError",
     "evalue": "name 'is_even' is not defined",
     "output_type": "error",
     "traceback": [
      "\u001b[1;31m---------------------------------------------------------------------------\u001b[0m",
      "\u001b[1;31mNameError\u001b[0m                                 Traceback (most recent call last)",
      "\u001b[1;32m<ipython-input-4-8f69cf6458c6>\u001b[0m in \u001b[0;36m<module>\u001b[1;34m\u001b[0m\n\u001b[1;32m----> 1\u001b[1;33m \u001b[0mhelp\u001b[0m\u001b[1;33m(\u001b[0m\u001b[0mis_even\u001b[0m\u001b[1;33m)\u001b[0m\u001b[1;33m\u001b[0m\u001b[1;33m\u001b[0m\u001b[0m\n\u001b[0m",
      "\u001b[1;31mNameError\u001b[0m: name 'is_even' is not defined"
     ]
    }
   ],
   "source": [
    "help(is_even)"
   ]
  },
  {
   "cell_type": "code",
   "execution_count": 6,
   "metadata": {},
   "outputs": [
    {
     "name": "stdout",
     "output_type": "stream",
     "text": [
      "Help on class filter in module builtins:\n",
      "\n",
      "class filter(object)\n",
      " |  filter(function or None, iterable) --> filter object\n",
      " |  \n",
      " |  Return an iterator yielding those items of iterable for which function(item)\n",
      " |  is true. If function is None, return the items that are true.\n",
      " |  \n",
      " |  Methods defined here:\n",
      " |  \n",
      " |  __getattribute__(self, name, /)\n",
      " |      Return getattr(self, name).\n",
      " |  \n",
      " |  __iter__(self, /)\n",
      " |      Implement iter(self).\n",
      " |  \n",
      " |  __next__(self, /)\n",
      " |      Implement next(self).\n",
      " |  \n",
      " |  __reduce__(...)\n",
      " |      Return state information for pickling.\n",
      " |  \n",
      " |  ----------------------------------------------------------------------\n",
      " |  Static methods defined here:\n",
      " |  \n",
      " |  __new__(*args, **kwargs) from builtins.type\n",
      " |      Create and return a new object.  See help(type) for accurate signature.\n",
      "\n"
     ]
    }
   ],
   "source": [
    "help(filter)"
   ]
  },
  {
   "cell_type": "code",
   "execution_count": null,
   "metadata": {},
   "outputs": [],
   "source": []
  }
 ],
 "metadata": {
  "colab": {
   "authorship_tag": "ABX9TyNfQdSY48HvA83Fmv9/YOsm",
   "name": "Special_Functions_Anonymous.ipynb",
   "provenance": []
  },
  "kernelspec": {
   "display_name": "Python 3",
   "language": "python",
   "name": "python3"
  },
  "language_info": {
   "codemirror_mode": {
    "name": "ipython",
    "version": 3
   },
   "file_extension": ".py",
   "mimetype": "text/x-python",
   "name": "python",
   "nbconvert_exporter": "python",
   "pygments_lexer": "ipython3",
   "version": "3.8.8"
  }
 },
 "nbformat": 4,
 "nbformat_minor": 1
}
