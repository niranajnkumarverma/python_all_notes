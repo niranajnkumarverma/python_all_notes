{
 "cells": [
  {
   "cell_type": "markdown",
   "metadata": {
    "id": "vRMvreeZTSK2"
   },
   "source": [
    "# Python Decorators\n",
    "\n",
    "## 1. Decorators allows you to make simple modification to callable objects like functions, methods or classes.\n",
    "## 2. Decorators are functions which modify the functionality of other functions."
   ]
  },
  {
   "cell_type": "code",
   "execution_count": 1,
   "metadata": {
    "executionInfo": {
     "elapsed": 1180,
     "status": "ok",
     "timestamp": 1618637462068,
     "user": {
      "displayName": "Demo Purpose",
      "photoUrl": "",
      "userId": "12724079362540459699"
     },
     "user_tz": -330
    },
    "id": "ncgNSZvMTO_3"
   },
   "outputs": [],
   "source": [
    "def fun_one(name):\n",
    "  return f\"Hello {name}\"\n",
    "\n",
    "def fun_two(name):\n",
    "  return f\"Hello {name}, how are you?\"\n",
    "\n",
    "def show(fun_both):\n",
    "  return fun_both(\"Jaini\")"
   ]
  },
  {
   "cell_type": "code",
   "execution_count": 2,
   "metadata": {
    "colab": {
     "base_uri": "https://localhost:8080/",
     "height": 36
    },
    "executionInfo": {
     "elapsed": 885,
     "status": "ok",
     "timestamp": 1618637494623,
     "user": {
      "displayName": "Demo Purpose",
      "photoUrl": "",
      "userId": "12724079362540459699"
     },
     "user_tz": -330
    },
    "id": "HX7Nn1qxT3ma",
    "outputId": "82138bb2-ea54-4f7c-d847-f3f1505844fa"
   },
   "outputs": [
    {
     "data": {
      "application/vnd.google.colaboratory.intrinsic+json": {
       "type": "string"
      },
      "text/plain": [
       "'Hello xyz'"
      ]
     },
     "execution_count": 2,
     "metadata": {
      "tags": []
     },
     "output_type": "execute_result"
    }
   ],
   "source": [
    "# calling methods\n",
    "\n",
    "fun_one('xyz')"
   ]
  },
  {
   "cell_type": "code",
   "execution_count": 3,
   "metadata": {
    "colab": {
     "base_uri": "https://localhost:8080/",
     "height": 36
    },
    "executionInfo": {
     "elapsed": 844,
     "status": "ok",
     "timestamp": 1618637503211,
     "user": {
      "displayName": "Demo Purpose",
      "photoUrl": "",
      "userId": "12724079362540459699"
     },
     "user_tz": -330
    },
    "id": "0KP-PLGYUBV6",
    "outputId": "be6c3170-cdb7-4652-a8ae-295e3308bd26"
   },
   "outputs": [
    {
     "data": {
      "application/vnd.google.colaboratory.intrinsic+json": {
       "type": "string"
      },
      "text/plain": [
       "'Hello abc, how are you?'"
      ]
     },
     "execution_count": 3,
     "metadata": {
      "tags": []
     },
     "output_type": "execute_result"
    }
   ],
   "source": [
    "fun_two('abc')"
   ]
  },
  {
   "cell_type": "code",
   "execution_count": 2,
   "metadata": {
    "colab": {
     "base_uri": "https://localhost:8080/",
     "height": 170
    },
    "executionInfo": {
     "elapsed": 1011,
     "status": "error",
     "timestamp": 1618637522800,
     "user": {
      "displayName": "Demo Purpose",
      "photoUrl": "",
      "userId": "12724079362540459699"
     },
     "user_tz": -330
    },
    "id": "I9Sh4UclUDck",
    "outputId": "bede71dd-a733-4ca6-b2ae-89d7a11e1dd3"
   },
   "outputs": [
    {
     "ename": "NameError",
     "evalue": "name 'fun_both' is not defined",
     "output_type": "error",
     "traceback": [
      "\u001b[1;31m---------------------------------------------------------------------------\u001b[0m",
      "\u001b[1;31mNameError\u001b[0m                                 Traceback (most recent call last)",
      "\u001b[1;32m<ipython-input-2-8beb6d808dd4>\u001b[0m in \u001b[0;36m<module>\u001b[1;34m\u001b[0m\n\u001b[1;32m----> 1\u001b[1;33m \u001b[0mfun_both\u001b[0m\u001b[1;33m(\u001b[0m\u001b[1;34m'hello'\u001b[0m\u001b[1;33m)\u001b[0m\u001b[1;33m\u001b[0m\u001b[1;33m\u001b[0m\u001b[0m\n\u001b[0m",
      "\u001b[1;31mNameError\u001b[0m: name 'fun_both' is not defined"
     ]
    }
   ],
   "source": [
    "fun_both('hello')"
   ]
  },
  {
   "cell_type": "code",
   "execution_count": 5,
   "metadata": {
    "colab": {
     "base_uri": "https://localhost:8080/",
     "height": 260
    },
    "executionInfo": {
     "elapsed": 944,
     "status": "error",
     "timestamp": 1618637552782,
     "user": {
      "displayName": "Demo Purpose",
      "photoUrl": "",
      "userId": "12724079362540459699"
     },
     "user_tz": -330
    },
    "id": "0fIulFSoUIMm",
    "outputId": "5647b1b6-50bf-4a9a-a4e5-1239e83ff59f"
   },
   "outputs": [
    {
     "ename": "TypeError",
     "evalue": "ignored",
     "output_type": "error",
     "traceback": [
      "\u001b[0;31m---------------------------------------------------------------------------\u001b[0m",
      "\u001b[0;31mTypeError\u001b[0m                                 Traceback (most recent call last)",
      "\u001b[0;32m<ipython-input-5-3dccc144d9ed>\u001b[0m in \u001b[0;36m<module>\u001b[0;34m()\u001b[0m\n\u001b[0;32m----> 1\u001b[0;31m \u001b[0mshow\u001b[0m\u001b[0;34m(\u001b[0m\u001b[0;34m'hello'\u001b[0m\u001b[0;34m)\u001b[0m\u001b[0;34m\u001b[0m\u001b[0;34m\u001b[0m\u001b[0m\n\u001b[0m",
      "\u001b[0;32m<ipython-input-1-1424e0785149>\u001b[0m in \u001b[0;36mshow\u001b[0;34m(fun_both)\u001b[0m\n\u001b[1;32m      6\u001b[0m \u001b[0;34m\u001b[0m\u001b[0m\n\u001b[1;32m      7\u001b[0m \u001b[0;32mdef\u001b[0m \u001b[0mshow\u001b[0m\u001b[0;34m(\u001b[0m\u001b[0mfun_both\u001b[0m\u001b[0;34m)\u001b[0m\u001b[0;34m:\u001b[0m\u001b[0;34m\u001b[0m\u001b[0;34m\u001b[0m\u001b[0m\n\u001b[0;32m----> 8\u001b[0;31m   \u001b[0;32mreturn\u001b[0m \u001b[0mfun_both\u001b[0m\u001b[0;34m(\u001b[0m\u001b[0;34m\"Jaini\"\u001b[0m\u001b[0;34m)\u001b[0m\u001b[0;34m\u001b[0m\u001b[0;34m\u001b[0m\u001b[0m\n\u001b[0m",
      "\u001b[0;31mTypeError\u001b[0m: 'str' object is not callable"
     ]
    }
   ],
   "source": [
    "show('hello')"
   ]
  },
  {
   "cell_type": "code",
   "execution_count": 6,
   "metadata": {
    "colab": {
     "base_uri": "https://localhost:8080/",
     "height": 36
    },
    "executionInfo": {
     "elapsed": 796,
     "status": "ok",
     "timestamp": 1618637747974,
     "user": {
      "displayName": "Demo Purpose",
      "photoUrl": "",
      "userId": "12724079362540459699"
     },
     "user_tz": -330
    },
    "id": "cFGWnPc7UPh1",
    "outputId": "d9dd751e-4a07-4b4b-9873-9f19393430f3"
   },
   "outputs": [
    {
     "data": {
      "application/vnd.google.colaboratory.intrinsic+json": {
       "type": "string"
      },
      "text/plain": [
       "'Hello Jaini'"
      ]
     },
     "execution_count": 6,
     "metadata": {
      "tags": []
     },
     "output_type": "execute_result"
    }
   ],
   "source": [
    "# calling show() and pass a method as an argument\n",
    "show( fun_one )"
   ]
  },
  {
   "cell_type": "code",
   "execution_count": 7,
   "metadata": {
    "colab": {
     "base_uri": "https://localhost:8080/",
     "height": 36
    },
    "executionInfo": {
     "elapsed": 959,
     "status": "ok",
     "timestamp": 1618637802117,
     "user": {
      "displayName": "Demo Purpose",
      "photoUrl": "",
      "userId": "12724079362540459699"
     },
     "user_tz": -330
    },
    "id": "CSZT7jlwU_Nt",
    "outputId": "3dcbfd9d-df12-40eb-f1a4-2caf9fdd01f3"
   },
   "outputs": [
    {
     "data": {
      "application/vnd.google.colaboratory.intrinsic+json": {
       "type": "string"
      },
      "text/plain": [
       "'Hello Jaini, how are you?'"
      ]
     },
     "execution_count": 7,
     "metadata": {
      "tags": []
     },
     "output_type": "execute_result"
    }
   ],
   "source": [
    "show(fun_two)"
   ]
  },
  {
   "cell_type": "code",
   "execution_count": 9,
   "metadata": {
    "executionInfo": {
     "elapsed": 820,
     "status": "ok",
     "timestamp": 1618637975784,
     "user": {
      "displayName": "Demo Purpose",
      "photoUrl": "",
      "userId": "12724079362540459699"
     },
     "user_tz": -330
    },
    "id": "zg_v8HplVMWH"
   },
   "outputs": [],
   "source": [
    "# decorator design\n",
    "\n",
    "def decorator_one(func_as_arg):\n",
    "  # creating a method inside this\n",
    "  def fun_in_decorator():\n",
    "    print('Output before the function is called.')\n",
    "    func_as_arg()\n",
    "    print('Output after the function is called.')\n",
    "  return fun_in_decorator\n",
    "\n",
    "def fun_show():\n",
    "  print('hello')"
   ]
  },
  {
   "cell_type": "code",
   "execution_count": 10,
   "metadata": {
    "colab": {
     "base_uri": "https://localhost:8080/"
    },
    "executionInfo": {
     "elapsed": 793,
     "status": "ok",
     "timestamp": 1618637985412,
     "user": {
      "displayName": "Demo Purpose",
      "photoUrl": "",
      "userId": "12724079362540459699"
     },
     "user_tz": -330
    },
    "id": "k7qzbiNlVvJ7",
    "outputId": "91107357-570d-46a1-f7e3-42d3caa144a4"
   },
   "outputs": [
    {
     "data": {
      "text/plain": [
       "<function __main__.decorator_one.<locals>.fun_in_decorator>"
      ]
     },
     "execution_count": 10,
     "metadata": {
      "tags": []
     },
     "output_type": "execute_result"
    }
   ],
   "source": [
    "decorator_one('hello')"
   ]
  },
  {
   "cell_type": "code",
   "execution_count": 11,
   "metadata": {
    "colab": {
     "base_uri": "https://localhost:8080/"
    },
    "executionInfo": {
     "elapsed": 939,
     "status": "ok",
     "timestamp": 1618638005770,
     "user": {
      "displayName": "Demo Purpose",
      "photoUrl": "",
      "userId": "12724079362540459699"
     },
     "user_tz": -330
    },
    "id": "z7i7wGKrV5Lu",
    "outputId": "64021cff-8839-40be-cdd0-fa6edaaaf66f"
   },
   "outputs": [
    {
     "name": "stdout",
     "output_type": "stream",
     "text": [
      "hello\n"
     ]
    }
   ],
   "source": [
    "fun_show()"
   ]
  },
  {
   "cell_type": "code",
   "execution_count": 12,
   "metadata": {
    "executionInfo": {
     "elapsed": 801,
     "status": "ok",
     "timestamp": 1618638067064,
     "user": {
      "displayName": "Demo Purpose",
      "photoUrl": "",
      "userId": "12724079362540459699"
     },
     "user_tz": -330
    },
    "id": "ywqMvZmnV9_4"
   },
   "outputs": [],
   "source": [
    "new_fun = decorator_one( fun_show )"
   ]
  },
  {
   "cell_type": "code",
   "execution_count": 13,
   "metadata": {
    "colab": {
     "base_uri": "https://localhost:8080/"
    },
    "executionInfo": {
     "elapsed": 837,
     "status": "ok",
     "timestamp": 1618638071532,
     "user": {
      "displayName": "Demo Purpose",
      "photoUrl": "",
      "userId": "12724079362540459699"
     },
     "user_tz": -330
    },
    "id": "7t5ZzL3AWNHc",
    "outputId": "5530ef88-8478-4455-e383-00105c8d1038"
   },
   "outputs": [
    {
     "data": {
      "text/plain": [
       "<function __main__.decorator_one.<locals>.fun_in_decorator>"
      ]
     },
     "execution_count": 13,
     "metadata": {
      "tags": []
     },
     "output_type": "execute_result"
    }
   ],
   "source": [
    "new_fun"
   ]
  },
  {
   "cell_type": "code",
   "execution_count": 14,
   "metadata": {
    "colab": {
     "base_uri": "https://localhost:8080/"
    },
    "executionInfo": {
     "elapsed": 930,
     "status": "ok",
     "timestamp": 1618638078742,
     "user": {
      "displayName": "Demo Purpose",
      "photoUrl": "",
      "userId": "12724079362540459699"
     },
     "user_tz": -330
    },
    "id": "hEOzaY9JWOMn",
    "outputId": "d1bbcc56-8484-409b-d31f-7fedfc336f5e"
   },
   "outputs": [
    {
     "name": "stdout",
     "output_type": "stream",
     "text": [
      "Output before the function is called.\n",
      "hello\n",
      "Output after the function is called.\n"
     ]
    }
   ],
   "source": [
    "new_fun()"
   ]
  },
  {
   "cell_type": "code",
   "execution_count": 12,
   "metadata": {
    "executionInfo": {
     "elapsed": 800,
     "status": "ok",
     "timestamp": 1618638200536,
     "user": {
      "displayName": "Demo Purpose",
      "photoUrl": "",
      "userId": "12724079362540459699"
     },
     "user_tz": -330
    },
    "id": "g8aPXikNWP8J"
   },
   "outputs": [],
   "source": [
    "# adding two values\n",
    "\n",
    "def mainFun(fun_as_arg):\n",
    "  def mainChild(x, y):\n",
    "    print(\"x: \", x)\n",
    "    print(\"y: \", y)\n",
    "\n",
    "    fun_as_arg(x, y)\n",
    "  return mainChild"
   ]
  },
  {
   "cell_type": "code",
   "execution_count": 16,
   "metadata": {
    "executionInfo": {
     "elapsed": 749,
     "status": "ok",
     "timestamp": 1618638249730,
     "user": {
      "displayName": "Demo Purpose",
      "photoUrl": "",
      "userId": "12724079362540459699"
     },
     "user_tz": -330
    },
    "id": "nyDonN5mWtsj"
   },
   "outputs": [],
   "source": [
    "def addFun(a, b):\n",
    "  print(\"{} + {} = {}\".format(a, b, a+b))"
   ]
  },
  {
   "cell_type": "code",
   "execution_count": 13,
   "metadata": {
    "colab": {
     "base_uri": "https://localhost:8080/"
    },
    "executionInfo": {
     "elapsed": 850,
     "status": "ok",
     "timestamp": 1618638260665,
     "user": {
      "displayName": "Demo Purpose",
      "photoUrl": "",
      "userId": "12724079362540459699"
     },
     "user_tz": -330
    },
    "id": "nrKUEXBjW5t0",
    "outputId": "8182898c-69ff-4b89-db5a-fd899c74c4e6"
   },
   "outputs": [
    {
     "ename": "NameError",
     "evalue": "name 'addFun' is not defined",
     "output_type": "error",
     "traceback": [
      "\u001b[1;31m---------------------------------------------------------------------------\u001b[0m",
      "\u001b[1;31mNameError\u001b[0m                                 Traceback (most recent call last)",
      "\u001b[1;32m<ipython-input-13-17dc28ab41af>\u001b[0m in \u001b[0;36m<module>\u001b[1;34m\u001b[0m\n\u001b[1;32m----> 1\u001b[1;33m \u001b[0maddFun\u001b[0m\u001b[1;33m(\u001b[0m\u001b[1;36m4\u001b[0m\u001b[1;33m,\u001b[0m\u001b[1;36m5\u001b[0m\u001b[1;33m)\u001b[0m\u001b[1;33m\u001b[0m\u001b[1;33m\u001b[0m\u001b[0m\n\u001b[0m",
      "\u001b[1;31mNameError\u001b[0m: name 'addFun' is not defined"
     ]
    }
   ],
   "source": [
    "addFun(4,5)"
   ]
  },
  {
   "cell_type": "code",
   "execution_count": 9,
   "metadata": {
    "executionInfo": {
     "elapsed": 955,
     "status": "ok",
     "timestamp": 1618638293291,
     "user": {
      "displayName": "Demo Purpose",
      "photoUrl": "",
      "userId": "12724079362540459699"
     },
     "user_tz": -330
    },
    "id": "-kjcOIaiW8YF"
   },
   "outputs": [
    {
     "ename": "NameError",
     "evalue": "name 'mainFun' is not defined",
     "output_type": "error",
     "traceback": [
      "\u001b[1;31m---------------------------------------------------------------------------\u001b[0m",
      "\u001b[1;31mNameError\u001b[0m                                 Traceback (most recent call last)",
      "\u001b[1;32m<ipython-input-9-86079ffc7622>\u001b[0m in \u001b[0;36m<module>\u001b[1;34m\u001b[0m\n\u001b[1;32m----> 1\u001b[1;33m \u001b[0mnewFun\u001b[0m \u001b[1;33m=\u001b[0m \u001b[0mmainFun\u001b[0m\u001b[1;33m(\u001b[0m \u001b[0maddFun\u001b[0m \u001b[1;33m)\u001b[0m\u001b[1;33m\u001b[0m\u001b[1;33m\u001b[0m\u001b[0m\n\u001b[0m",
      "\u001b[1;31mNameError\u001b[0m: name 'mainFun' is not defined"
     ]
    }
   ],
   "source": [
    "newFun = mainFun( addFun )"
   ]
  },
  {
   "cell_type": "code",
   "execution_count": 14,
   "metadata": {
    "colab": {
     "base_uri": "https://localhost:8080/"
    },
    "executionInfo": {
     "elapsed": 856,
     "status": "ok",
     "timestamp": 1618638307836,
     "user": {
      "displayName": "Demo Purpose",
      "photoUrl": "",
      "userId": "12724079362540459699"
     },
     "user_tz": -330
    },
    "id": "dac__AbHXETz",
    "outputId": "94bc88e0-c826-4833-faab-7530547c434a"
   },
   "outputs": [
    {
     "ename": "NameError",
     "evalue": "name 'newFun' is not defined",
     "output_type": "error",
     "traceback": [
      "\u001b[1;31m---------------------------------------------------------------------------\u001b[0m",
      "\u001b[1;31mNameError\u001b[0m                                 Traceback (most recent call last)",
      "\u001b[1;32m<ipython-input-14-6585d270ea78>\u001b[0m in \u001b[0;36m<module>\u001b[1;34m\u001b[0m\n\u001b[1;32m----> 1\u001b[1;33m \u001b[0mnewFun\u001b[0m\u001b[1;33m(\u001b[0m\u001b[1;34m'hello'\u001b[0m\u001b[1;33m,\u001b[0m \u001b[1;34m'world'\u001b[0m\u001b[1;33m)\u001b[0m\u001b[1;33m\u001b[0m\u001b[1;33m\u001b[0m\u001b[0m\n\u001b[0m",
      "\u001b[1;31mNameError\u001b[0m: name 'newFun' is not defined"
     ]
    }
   ],
   "source": [
    "newFun('hello', 'world')"
   ]
  },
  {
   "cell_type": "code",
   "execution_count": 15,
   "metadata": {
    "executionInfo": {
     "elapsed": 833,
     "status": "ok",
     "timestamp": 1618638385160,
     "user": {
      "displayName": "Demo Purpose",
      "photoUrl": "",
      "userId": "12724079362540459699"
     },
     "user_tz": -330
    },
    "id": "mDo6vIFUXH41"
   },
   "outputs": [],
   "source": [
    "# using @ symbol\n",
    "\n",
    "def decorat(i, j):\n",
    "  print(i + j)"
   ]
  },
  {
   "cell_type": "code",
   "execution_count": 16,
   "metadata": {
    "colab": {
     "base_uri": "https://localhost:8080/"
    },
    "executionInfo": {
     "elapsed": 875,
     "status": "ok",
     "timestamp": 1618638396171,
     "user": {
      "displayName": "Demo Purpose",
      "photoUrl": "",
      "userId": "12724079362540459699"
     },
     "user_tz": -330
    },
    "id": "zDOh9X2dXaxS",
    "outputId": "aa1820ce-93be-4390-9cbd-d64803d69771"
   },
   "outputs": [
    {
     "name": "stdout",
     "output_type": "stream",
     "text": [
      "3\n"
     ]
    }
   ],
   "source": [
    "decorat(1, 2)"
   ]
  },
  {
   "cell_type": "code",
   "execution_count": 17,
   "metadata": {
    "executionInfo": {
     "elapsed": 774,
     "status": "ok",
     "timestamp": 1618638416516,
     "user": {
      "displayName": "Demo Purpose",
      "photoUrl": "",
      "userId": "12724079362540459699"
     },
     "user_tz": -330
    },
    "id": "tSVgpQWtXdcb"
   },
   "outputs": [],
   "source": [
    "def decorat(i, j):\n",
    "  print(i + j)"
   ]
  },
  {
   "cell_type": "code",
   "execution_count": 23,
   "metadata": {
    "colab": {
     "base_uri": "https://localhost:8080/"
    },
    "executionInfo": {
     "elapsed": 834,
     "status": "ok",
     "timestamp": 1618638430169,
     "user": {
      "displayName": "Demo Purpose",
      "photoUrl": "",
      "userId": "12724079362540459699"
     },
     "user_tz": -330
    },
    "id": "yP1pJg1DXibe",
    "outputId": "441a4114-891d-48f1-a7a1-e781b7d06e4b"
   },
   "outputs": [
    {
     "name": "stdout",
     "output_type": "stream",
     "text": [
      "x:  4\n",
      "y:  6\n",
      "10\n"
     ]
    }
   ],
   "source": [
    "decorat(4, 6)"
   ]
  },
  {
   "cell_type": "code",
   "execution_count": 24,
   "metadata": {
    "executionInfo": {
     "elapsed": 827,
     "status": "ok",
     "timestamp": 1618638483370,
     "user": {
      "displayName": "Demo Purpose",
      "photoUrl": "",
      "userId": "12724079362540459699"
     },
     "user_tz": -330
    },
    "id": "ea9HfMBdXlwK"
   },
   "outputs": [],
   "source": [
    "def hello(a):\n",
    "  return a"
   ]
  },
  {
   "cell_type": "code",
   "execution_count": 30,
   "metadata": {
    "executionInfo": {
     "elapsed": 956,
     "status": "ok",
     "timestamp": 1618638543040,
     "user": {
      "displayName": "Demo Purpose",
      "photoUrl": "",
      "userId": "12724079362540459699"
     },
     "user_tz": -330
    },
    "id": "fV7FUWrHXywM"
   },
   "outputs": [],
   "source": [
    "def xyz(b):\n",
    "  print(b)"
   ]
  },
  {
   "cell_type": "code",
   "execution_count": 31,
   "metadata": {
    "colab": {
     "base_uri": "https://localhost:8080/"
    },
    "executionInfo": {
     "elapsed": 1110,
     "status": "ok",
     "timestamp": 1618638544647,
     "user": {
      "displayName": "Demo Purpose",
      "photoUrl": "",
      "userId": "12724079362540459699"
     },
     "user_tz": -330
    },
    "id": "NDXRdnojX4iL",
    "outputId": "ce402b14-cfb8-4773-fcca-a14348390e1f"
   },
   "outputs": [
    {
     "name": "stdout",
     "output_type": "stream",
     "text": [
      "5\n"
     ]
    }
   ],
   "source": [
    "a = xyz(5)"
   ]
  },
  {
   "cell_type": "code",
   "execution_count": 28,
   "metadata": {
    "executionInfo": {
     "elapsed": 895,
     "status": "ok",
     "timestamp": 1618638526784,
     "user": {
      "displayName": "Demo Purpose",
      "photoUrl": "",
      "userId": "12724079362540459699"
     },
     "user_tz": -330
    },
    "id": "Ra7_bMRDX6ZF"
   },
   "outputs": [],
   "source": []
  }
 ],
 "metadata": {
  "colab": {
   "authorship_tag": "ABX9TyPm9NHeRNbtrk/5O5E6t9g8",
   "name": "Decorators.ipynb",
   "provenance": []
  },
  "kernelspec": {
   "display_name": "Python 3",
   "language": "python",
   "name": "python3"
  },
  "language_info": {
   "codemirror_mode": {
    "name": "ipython",
    "version": 3
   },
   "file_extension": ".py",
   "mimetype": "text/x-python",
   "name": "python",
   "nbconvert_exporter": "python",
   "pygments_lexer": "ipython3",
   "version": "3.8.8"
  }
 },
 "nbformat": 4,
 "nbformat_minor": 1
}
