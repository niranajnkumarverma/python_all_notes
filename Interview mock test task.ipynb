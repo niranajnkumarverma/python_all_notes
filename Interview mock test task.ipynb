{
 "cells": [
  {
   "cell_type": "code",
   "execution_count": 1,
   "id": "b43898a9",
   "metadata": {},
   "outputs": [],
   "source": [
    "## task1 \n",
    "# create a list named multi_data having multiple items including number and string\n",
    "# divide created multi_data list in two different lists based on item available inside multi_data list\n",
    "multi_data =[\"hello\",12,\"niranjan\",\"hii\",2,3,23,324,\"go\"]\n",
    "for i in multi_data:\n",
    "    if i ==str:\n",
    "        \n",
    "        print(i)\n",
    "    \n",
    "\n"
   ]
  },
  {
   "cell_type": "code",
   "execution_count": 4,
   "id": "6a39c6bc",
   "metadata": {},
   "outputs": [
    {
     "name": "stdout",
     "output_type": "stream",
     "text": [
      "[1, 2, 3, 4, 5, 'hello', 'hii']\n"
     ]
    }
   ],
   "source": [
    "lit = [1,2,3,4,5]\n",
    "lit1 = [\"hello\",\"hii\"]\n",
    "lit.extend(lit1) \n",
    "print(lit)"
   ]
  },
  {
   "cell_type": "code",
   "execution_count": 9,
   "id": "469a6d88",
   "metadata": {},
   "outputs": [
    {
     "data": {
      "text/plain": [
       "['my', 'name', 'is', 'niranjan', 'kumar']"
      ]
     },
     "execution_count": 9,
     "metadata": {},
     "output_type": "execute_result"
    }
   ],
   "source": [
    "x = \"my name is niranjan kumar\"\n",
    "x.split()"
   ]
  },
  {
   "cell_type": "code",
   "execution_count": 14,
   "id": "b2a148d1",
   "metadata": {},
   "outputs": [
    {
     "ename": "SyntaxError",
     "evalue": "invalid syntax (<ipython-input-14-8821cbc31b7f>, line 4)",
     "output_type": "error",
     "traceback": [
      "\u001b[1;36m  File \u001b[1;32m\"<ipython-input-14-8821cbc31b7f>\"\u001b[1;36m, line \u001b[1;32m4\u001b[0m\n\u001b[1;33m    except:\u001b[0m\n\u001b[1;37m    ^\u001b[0m\n\u001b[1;31mSyntaxError\u001b[0m\u001b[1;31m:\u001b[0m invalid syntax\n"
     ]
    }
   ],
   "source": [
    "def fun(num):\n",
    "    try:\n",
    "        r = 1/num\n",
    "        except:\n",
    "            print('exception raise')\n",
    "            return r\n",
    "        print(fun(10))\n",
    "        print(fun(0))"
   ]
  },
  {
   "cell_type": "code",
   "execution_count": 4,
   "id": "742c34fd",
   "metadata": {},
   "outputs": [
    {
     "name": "stdout",
     "output_type": "stream",
     "text": [
      "('hello', 'hii', 5)\n"
     ]
    }
   ],
   "source": [
    "## task 2 create a function named create_info_dict() hving arbitrary keyword argument\n",
    "## function create_info_dict() should return a dictionary\n",
    "#create_info_dict(\"hello\",\"hii\",\"going\")\n",
    "class cal():\n",
    "    def create_info_dict(self,*args):\n",
    "        print(args)\n",
    "obj = cal()\n",
    "obj.create_info_dict('hello','hii',5)\n",
    "\n",
    "\n",
    "    "
   ]
  },
  {
   "cell_type": "code",
   "execution_count": 1,
   "id": "a93eb8b8",
   "metadata": {},
   "outputs": [
    {
     "name": "stdout",
     "output_type": "stream",
     "text": [
      "arg1: Geeks\n",
      "arg2: for\n",
      "arg3: Geeks\n",
      "arg1: Geeks\n",
      "arg2: for\n",
      "arg3: Geeks\n"
     ]
    }
   ],
   "source": [
    "def myFun(arg1, arg2, arg3):\n",
    "    print(\"arg1:\", arg1)\n",
    "    print(\"arg2:\", arg2)\n",
    "    print(\"arg3:\", arg3)\n",
    "\n",
    "# Now we can use *args or **kwargs to\n",
    "# pass arguments to this function :\n",
    "args = (\"Geeks\", \"for\", \"Geeks\")\n",
    "myFun(*args)\n",
    "\n",
    "kwargs = {\"arg1\" : \"Geeks\", \"arg2\" : \"for\", \"arg3\" : \"Geeks\"}\n",
    "myFun(**kwargs)\n"
   ]
  },
  {
   "cell_type": "code",
   "execution_count": 20,
   "id": "ef552fce",
   "metadata": {},
   "outputs": [],
   "source": [
    "##task3 \n",
    "# create a list,tuple and dictionary having multiple item\n",
    "# print list tuple, tuple and dictionary without for loop and withou slicing\n",
    "\n",
    "list = [\"hello\",12,\"hii\",\"name\",12,]\n",
    "tuple = (\"hii\",12,13,\"hello\")\n",
    "dictionary = {\"hii\":12}\n"
   ]
  },
  {
   "cell_type": "code",
   "execution_count": 11,
   "id": "5d144185",
   "metadata": {},
   "outputs": [
    {
     "ename": "TypeError",
     "evalue": "print() argument after * must be an iterable, not type",
     "output_type": "error",
     "traceback": [
      "\u001b[1;31m---------------------------------------------------------------------------\u001b[0m",
      "\u001b[1;31mTypeError\u001b[0m                                 Traceback (most recent call last)",
      "\u001b[1;32m<ipython-input-11-d40a34ccc9e1>\u001b[0m in \u001b[0;36m<module>\u001b[1;34m\u001b[0m\n\u001b[1;32m----> 1\u001b[1;33m \u001b[0mprint\u001b[0m\u001b[1;33m(\u001b[0m\u001b[1;33m*\u001b[0m\u001b[0mlist\u001b[0m\u001b[1;33m)\u001b[0m\u001b[1;33m\u001b[0m\u001b[1;33m\u001b[0m\u001b[0m\n\u001b[0m",
      "\u001b[1;31mTypeError\u001b[0m: print() argument after * must be an iterable, not type"
     ]
    }
   ],
   "source": [
    "print(*\n",
    "      \n",
    "      \n",
    "      \n",
    "      \n",
    "      \n",
    "      \n",
    "      \n",
    "      \n",
    "      \n",
    "      \n",
    "      \n",
    "      \n",
    "      \n",
    "      \n",
    "      \n",
    "      \n",
    "      \n",
    "      \n",
    "      \n",
    "      \n",
    "      \n",
    "      \n",
    "      \n",
    "      \n",
    "      \n",
    "      \n",
    "      \n",
    "      \n",
    "      \n",
    "      \n",
    "      \n",
    "      \n",
    "      \n",
    "      \n",
    "      \n",
    "      \n",
    "      \n",
    "      \n",
    "      \n",
    "      \n",
    "      \n",
    "      \n",
    "      \n",
    "      \n",
    "      \n",
    "      \n",
    "      \n",
    "      \n",
    "      \n",
    "      \n",
    "      \n",
    "      \n",
    "      \n",
    "      \n",
    "      \n",
    "      \n",
    "      \n",
    "      \n",
    "      \n",
    "      \n",
    "      \n",
    "      \n",
    "      \n",
    "      \n",
    "      \n",
    "      \n",
    "      \n",
    "      \n",
    "      \n",
    "      \n",
    "      \n",
    "      \n",
    "      \n",
    "      \n",
    "      \n",
    "      \n",
    "      \n",
    "      \n",
    "      \n",
    "      \n",
    "      00000000000000000000000000000000000000000000000000000000000000000000000000000000000000000000000000000000000000000000000000000000000000000000000000000000000000000000000000000000000000000000000000000000000000000000000000000000000000000000000000000000000000000000000000000000000000000000000000000000000000000000003333333333333333333333333333333333333333333333333333333333333333333333333333333333333333333333333333333333333333333333333333333333333333333333333333333333333333333333333333333333333333333333333333333333333333333333333333333333333333333333333333333333333333333333333333333333333333333333333333333333333333333333333333333333333333333333333333333333333333333333333333333333333333333333333333333333333333333333333333333333333333333333333333333333333333333333333333333333333333333333333333333333333333333333333333333333333333333list)"
   ]
  },
  {
   "cell_type": "code",
   "execution_count": 6,
   "id": "d67a9c52",
   "metadata": {},
   "outputs": [
    {
     "name": "stdout",
     "output_type": "stream",
     "text": [
      "<class 'int'>\n"
     ]
    }
   ],
   "source": [
    "\n",
    "\n",
    "\n",
    "\n",
    "list = (1)\n",
    "\n",
    "\n",
    "print(type(list))"
   ]
  },
  {
   "cell_type": "code",
   "execution_count": 23,
   "id": "adb18423",
   "metadata": {},
   "outputs": [
    {
     "name": "stdout",
     "output_type": "stream",
     "text": [
      "{'hii': 12}\n"
     ]
    }
   ],
   "source": [
    "print(dictionary)"
   ]
  },
  {
   "cell_type": "code",
   "execution_count": 24,
   "id": "7a71d2e0",
   "metadata": {},
   "outputs": [
    {
     "name": "stdout",
     "output_type": "stream",
     "text": [
      "['hello', 12, 'hii', 'name', 12]\n",
      "('hii', 12, 13, 'hello')\n",
      "{'hii': 12}\n"
     ]
    }
   ],
   "source": [
    "print(list)\n",
    "print(tuple)\n",
    "print(dictionary)"
   ]
  },
  {
   "cell_type": "code",
   "execution_count": 18,
   "id": "2fde7464",
   "metadata": {},
   "outputs": [],
   "source": [
    "#  task 4\n",
    "# create a class named calculator having a constructor having a print statement to display your name\n",
    "# create method name add having an arbitrary arguments list inside calculator class passed arguments\n",
    "#hint: use for loop\n",
    "class calculator():\n",
    "    def __init__(self):\n",
    "        print('niranjan')\n",
    "    def add(a,b):\n",
    "        c = a+b\n",
    "        return c\n",
    "      \n",
    "     \n",
    "        "
   ]
  },
  {
   "cell_type": "code",
   "execution_count": 19,
   "id": "3b70646b",
   "metadata": {},
   "outputs": [
    {
     "name": "stdout",
     "output_type": "stream",
     "text": [
      "niranjan\n"
     ]
    }
   ],
   "source": [
    "add   = calculator()\n"
   ]
  },
  {
   "cell_type": "code",
   "execution_count": 13,
   "id": "dafcba52",
   "metadata": {},
   "outputs": [
    {
     "name": "stdout",
     "output_type": "stream",
     "text": [
      "18\n"
     ]
    }
   ],
   "source": [
    "## task 5 create a lambda function to multiply  3 number\n",
    "x = lambda a,b,c:a*b*c;\n",
    "\n",
    "print(x(3,2,3))"
   ]
  },
  {
   "cell_type": "code",
   "execution_count": 38,
   "id": "f9b452fa",
   "metadata": {},
   "outputs": [
    {
     "name": "stdout",
     "output_type": "stream",
     "text": [
      "Enter string: hello my name is niranjan\n",
      " \n",
      " \n",
      " \n",
      " \n",
      "4\n"
     ]
    }
   ],
   "source": [
    "count_word = input(\"Enter string: \")\n",
    "wd = 0\n",
    "for i in count_word:\n",
    "    if (i==' '):\n",
    "        print(i)\n",
    "        wd+=1\n",
    "print(wd)        "
   ]
  },
  {
   "cell_type": "code",
   "execution_count": 44,
   "id": "c7b38a0f",
   "metadata": {},
   "outputs": [],
   "source": [
    "def inc(x):\n",
    "    print(x)\n",
    "    if x < 20:\n",
    "        x += 1\n",
    "        inc(x)\n",
    "        "
   ]
  },
  {
   "cell_type": "code",
   "execution_count": 45,
   "id": "a20204d2",
   "metadata": {},
   "outputs": [
    {
     "name": "stdout",
     "output_type": "stream",
     "text": [
      "1\n",
      "2\n",
      "3\n",
      "4\n",
      "5\n",
      "6\n",
      "7\n",
      "8\n",
      "9\n",
      "10\n",
      "11\n",
      "12\n",
      "13\n",
      "14\n",
      "15\n",
      "16\n",
      "17\n",
      "18\n",
      "19\n",
      "20\n"
     ]
    }
   ],
   "source": [
    "inc(1)"
   ]
  },
  {
   "cell_type": "code",
   "execution_count": 9,
   "id": "9d101b83",
   "metadata": {},
   "outputs": [
    {
     "name": "stdout",
     "output_type": "stream",
     "text": [
      "John\n",
      "36\n"
     ]
    }
   ],
   "source": [
    "class Person:\n",
    "  def __init__(self, name, age):\n",
    "    self.name = name\n",
    "    self.age = age\n",
    "\n",
    "p1 = Person(\"John\", 36)\n",
    "\n",
    "print(p1.name)\n",
    "print(p1.age)"
   ]
  },
  {
   "cell_type": "code",
   "execution_count": 11,
   "id": "32b13bd3",
   "metadata": {},
   "outputs": [
    {
     "name": "stdout",
     "output_type": "stream",
     "text": [
      "name\n",
      "roll\n"
     ]
    }
   ],
   "source": [
    "class god():\n",
    "    def __init__(self,name,roll):\n",
    "        self.name = 'name'\n",
    "        self.roll = 'roll'\n",
    "p1 = god('hello',12345)\n",
    "print(p1.name)\n",
    "print(p1.roll)"
   ]
  },
  {
   "cell_type": "code",
   "execution_count": 14,
   "id": "3ad9cd2e",
   "metadata": {},
   "outputs": [],
   "source": [
    "## fabonicci sequence\n",
    "\n",
    "def faboncii(n):\n",
    "    a = 0\n",
    "    b = 1\n",
    "    \n",
    "    if n == 1:\n",
    "        print(a)\n",
    "    else:\n",
    "        print(a)\n",
    "        print(b)\n",
    "        \n",
    "        \n",
    "        for i in range(2,n):\n",
    "            c= a+b\n",
    "            a = b\n",
    "            b = c\n",
    "                \n",
    "            print(c)\n",
    "\n",
    "        \n",
    "        "
   ]
  },
  {
   "cell_type": "code",
   "execution_count": 14,
   "id": "f490e405",
   "metadata": {},
   "outputs": [
    {
     "name": "stdout",
     "output_type": "stream",
     "text": [
      "0\n",
      "1\n",
      "1\n",
      "2\n",
      "3\n",
      "5\n",
      "8\n",
      "13\n",
      "21\n",
      "34\n"
     ]
    }
   ],
   "source": [
    "faboncii(10)"
   ]
  },
  {
   "cell_type": "code",
   "execution_count": 17,
   "id": "dc146062",
   "metadata": {},
   "outputs": [
    {
     "name": "stdout",
     "output_type": "stream",
     "text": [
      "enter the value121\n",
      "It is palidrome\n"
     ]
    }
   ],
   "source": [
    "## polidrome number ex_   MADAM reverse MADAM 121--121 it is palidrome\n",
    "s = input(\"enter the value\")\n",
    "reverse = s[::-1]\n",
    "if (s == reverse):\n",
    "    print(\"It is palidrome\")\n",
    "else:\n",
    "    print(\"It is not palidrome\")"
   ]
  },
  {
   "cell_type": "code",
   "execution_count": 17,
   "id": "57087b5c",
   "metadata": {},
   "outputs": [
    {
     "name": "stdout",
     "output_type": "stream",
     "text": [
      "enter any value121\n",
      "it is pallidrome no\n"
     ]
    }
   ],
   "source": [
    "s = input(\"enter any value\")\n",
    "reverse = s[::-1]\n",
    "if (s==reverse):\n",
    "    print(\"it is pallidrome no\")\n",
    "else:\n",
    "    print(\"it is not pallidrome no\")"
   ]
  },
  {
   "cell_type": "code",
   "execution_count": 18,
   "id": "9fe14dbf",
   "metadata": {},
   "outputs": [
    {
     "name": "stdout",
     "output_type": "stream",
     "text": [
      "[(0, 'apple'), (1, 'mango'), (2, 'banana')]\n"
     ]
    }
   ],
   "source": [
    "## Enumerator function    function adds and  counter  enumerate object.\n",
    "x = ['apple','mango','banana']\n",
    "y = enumerate(x)\n",
    "print(list(y))"
   ]
  },
  {
   "cell_type": "code",
   "execution_count": 21,
   "id": "0abba6ab",
   "metadata": {},
   "outputs": [
    {
     "name": "stdout",
     "output_type": "stream",
     "text": [
      "[(0, 'hello'), (1, 'hii'), (2, 'god')]\n"
     ]
    }
   ],
   "source": [
    "enum = [\"hello\",\"hii\",\"god\"]\n",
    "y = enumerate(enum)\n",
    "print(list(y))"
   ]
  },
  {
   "cell_type": "code",
   "execution_count": 24,
   "id": "9fbcb72a",
   "metadata": {},
   "outputs": [
    {
     "name": "stdout",
     "output_type": "stream",
     "text": [
      "[(0, 'hello'), (1, 'hiii'), (2, 'helloq'), (3, 'hhfsdf')]\n"
     ]
    }
   ],
   "source": [
    "x = [\"hello\",\"hiii\",\"helloq\",\"hhfsdf\"]\n",
    "y = enumerate(x)\n",
    "print(list(y))"
   ]
  },
  {
   "cell_type": "code",
   "execution_count": 6,
   "id": "b568ed5d",
   "metadata": {},
   "outputs": [
    {
     "name": "stdout",
     "output_type": "stream",
     "text": [
      "Enter any number4\n",
      "Not prime\n",
      " prime\n"
     ]
    }
   ],
   "source": [
    "## Check prime or not prime\n",
    "num = int(input(\"Enter any number\")) ## num = 10\n",
    "\n",
    "for i in range(2,num):\n",
    "    if (num%i) ==0:\n",
    "        print(\"Not prime\")\n",
    "        \n",
    "    else:\n",
    "        print(\" prime\")"
   ]
  },
  {
   "cell_type": "code",
   "execution_count": 36,
   "id": "29019e9c",
   "metadata": {},
   "outputs": [
    {
     "name": "stdout",
     "output_type": "stream",
     "text": [
      "any number3\n",
      "prime\n"
     ]
    }
   ],
   "source": [
    "num = int(input(\"any number\"))\n",
    "for i in range(2,num):\n",
    "    if (num%i)==0:\n",
    "        print(\"not prime\")\n",
    "    else:\n",
    "        print(\"prime\")"
   ]
  },
  {
   "cell_type": "code",
   "execution_count": 32,
   "id": "fdf00a36",
   "metadata": {},
   "outputs": [
    {
     "name": "stdout",
     "output_type": "stream",
     "text": [
      "<class 'int'>\n",
      "<class 'str'>\n",
      "25\n"
     ]
    }
   ],
   "source": [
    "## convert number into string\n",
    "n =25\n",
    "print(type(n))\n",
    "convert = str(n)\n",
    "print(type(convert))\n",
    "print(convert)"
   ]
  },
  {
   "cell_type": "code",
   "execution_count": 166,
   "id": "12dca3d5",
   "metadata": {},
   "outputs": [
    {
     "ename": "TypeError",
     "evalue": "'list' object is not callable",
     "output_type": "error",
     "traceback": [
      "\u001b[1;31m---------------------------------------------------------------------------\u001b[0m",
      "\u001b[1;31mTypeError\u001b[0m                                 Traceback (most recent call last)",
      "\u001b[1;32m<ipython-input-166-3c7d3ba5435c>\u001b[0m in \u001b[0;36m<module>\u001b[1;34m\u001b[0m\n\u001b[0;32m      2\u001b[0m \u001b[0mletter\u001b[0m \u001b[1;33m=\u001b[0m \u001b[1;33m[\u001b[0m\u001b[1;34m\"A\"\u001b[0m\u001b[1;33m,\u001b[0m\u001b[1;34m\"B\"\u001b[0m\u001b[1;33m,\u001b[0m\u001b[1;34m\"C\"\u001b[0m\u001b[1;33m]\u001b[0m\u001b[1;33m\u001b[0m\u001b[1;33m\u001b[0m\u001b[0m\n\u001b[0;32m      3\u001b[0m \u001b[0mmap_object\u001b[0m \u001b[1;33m=\u001b[0m \u001b[0mmap\u001b[0m\u001b[1;33m(\u001b[0m\u001b[0mstr\u001b[0m\u001b[1;33m.\u001b[0m\u001b[0mlower\u001b[0m\u001b[1;33m,\u001b[0m\u001b[0mletter\u001b[0m\u001b[1;33m)\u001b[0m\u001b[1;33m\u001b[0m\u001b[1;33m\u001b[0m\u001b[0m\n\u001b[1;32m----> 4\u001b[1;33m \u001b[0mconvert_list\u001b[0m \u001b[1;33m=\u001b[0m \u001b[0mlist\u001b[0m\u001b[1;33m(\u001b[0m\u001b[0mmap_object\u001b[0m\u001b[1;33m)\u001b[0m\u001b[1;33m\u001b[0m\u001b[1;33m\u001b[0m\u001b[0m\n\u001b[0m\u001b[0;32m      5\u001b[0m \u001b[0mprint\u001b[0m\u001b[1;33m(\u001b[0m\u001b[0mconvert_list\u001b[0m\u001b[1;33m)\u001b[0m\u001b[1;33m\u001b[0m\u001b[1;33m\u001b[0m\u001b[0m\n",
      "\u001b[1;31mTypeError\u001b[0m: 'list' object is not callable"
     ]
    }
   ],
   "source": [
    "### how to convert object into list\n",
    "letter = [\"A\",\"B\",\"C\"]\n",
    "map_object = map(str.lower,letter)\n",
    "convert_list = list(map_object)\n",
    "print(convert_list)"
   ]
  },
  {
   "cell_type": "code",
   "execution_count": 33,
   "id": "85fe9590",
   "metadata": {},
   "outputs": [
    {
     "name": "stdout",
     "output_type": "stream",
     "text": [
      "1\n",
      "2\n",
      "3\n",
      "4\n",
      "5\n",
      "6\n",
      "7\n",
      "8\n",
      "9\n"
     ]
    }
   ],
   "source": [
    "for i in range(1,10):\n",
    "    print(i)"
   ]
  },
  {
   "cell_type": "code",
   "execution_count": 52,
   "id": "d6177009",
   "metadata": {},
   "outputs": [
    {
     "name": "stdout",
     "output_type": "stream",
     "text": [
      "-10\n",
      "-9\n",
      "-8\n",
      "-7\n",
      "-6\n",
      "-5\n",
      "-4\n",
      "-3\n",
      "-2\n",
      "-1\n",
      "0\n"
     ]
    }
   ],
   "source": [
    "for i in range(-10,1):\n",
    "    print(i)"
   ]
  },
  {
   "cell_type": "code",
   "execution_count": null,
   "id": "ed90698e",
   "metadata": {},
   "outputs": [],
   "source": []
  },
  {
   "cell_type": "code",
   "execution_count": null,
   "id": "033c1f7d",
   "metadata": {},
   "outputs": [],
   "source": []
  },
  {
   "cell_type": "code",
   "execution_count": null,
   "id": "73ab3b40",
   "metadata": {},
   "outputs": [],
   "source": []
  },
  {
   "cell_type": "code",
   "execution_count": null,
   "id": "658ca4e3",
   "metadata": {},
   "outputs": [],
   "source": []
  },
  {
   "cell_type": "code",
   "execution_count": null,
   "id": "cde399ba",
   "metadata": {},
   "outputs": [],
   "source": []
  },
  {
   "cell_type": "code",
   "execution_count": null,
   "id": "594a9c18",
   "metadata": {},
   "outputs": [],
   "source": [
    "###  <<<<<<<<<<<<<<<<<<<<<<<<<<<<<<<<<    list area ,,,,,,,,,,,,,,,,,,,,,,,,,,,,,,,,,,........................................///////////////////////////////////\n",
    "\n",
    "\n",
    "\n",
    "\n",
    "Lists are used to store multiple items in a single variable.[]\n",
    "Lists are created using square brackets:[]\n",
    "## 'append',\n",
    " 'clear',\n",
    " 'copy',\n",
    " 'count',\n",
    " 'extend',\n",
    " 'index',\n",
    " 'insert',\n",
    " 'pop',\n",
    " 'remove',\n",
    " 'reverse',\n",
    " 'sort']"
   ]
  },
  {
   "cell_type": "code",
   "execution_count": 40,
   "id": "12c38901",
   "metadata": {},
   "outputs": [
    {
     "name": "stdout",
     "output_type": "stream",
     "text": [
      "banana\n"
     ]
    }
   ],
   "source": [
    "## Acess list\n",
    "thislist = [\"apple\", \"banana\", \"cherry\"]\n",
    "print(thislist[1])"
   ]
  },
  {
   "cell_type": "code",
   "execution_count": 3,
   "id": "edf79f5d",
   "metadata": {},
   "outputs": [
    {
     "name": "stdout",
     "output_type": "stream",
     "text": [
      "cherry\n"
     ]
    }
   ],
   "source": [
    "thislist = [\"apple\", \"banana\", \"cherry\"]\n",
    "print(thislist[-1])"
   ]
  },
  {
   "cell_type": "code",
   "execution_count": 18,
   "id": "59716bcc",
   "metadata": {},
   "outputs": [
    {
     "name": "stdout",
     "output_type": "stream",
     "text": [
      "['cherry', 'orange', 'kiwi']\n"
     ]
    }
   ],
   "source": [
    "## Return the third, fourth, and fifth item:\n",
    "\n",
    "thislist = [\"apple\", \"banana\", \"cherry\", \"orange\", \"kiwi\", \"melon\", \"mango\"]\n",
    "print(thislist[2:5])"
   ]
  },
  {
   "cell_type": "code",
   "execution_count": 42,
   "id": "bda27ad9",
   "metadata": {},
   "outputs": [
    {
     "name": "stdout",
     "output_type": "stream",
     "text": [
      "['apple', 'banana', 'cherry', 'orange', 'kiwi']\n"
     ]
    }
   ],
   "source": [
    "thislist = [\"apple\", \"banana\", \"cherry\", \"orange\", \"kiwi\", \"melon\", \"mango\"]\n",
    "print(thislist[:5])"
   ]
  },
  {
   "cell_type": "code",
   "execution_count": 6,
   "id": "e8eef4c8",
   "metadata": {},
   "outputs": [
    {
     "name": "stdout",
     "output_type": "stream",
     "text": [
      "['kiwi', 'melon', 'mango']\n"
     ]
    }
   ],
   "source": [
    "thislist = [\"apple\", \"banana\", \"cherry\", \"orange\", \"kiwi\", \"melon\", \"mango\"]\n",
    "print(thislist[4:])"
   ]
  },
  {
   "cell_type": "code",
   "execution_count": 7,
   "id": "28bc4308",
   "metadata": {},
   "outputs": [
    {
     "name": "stdout",
     "output_type": "stream",
     "text": [
      "['orange', 'kiwi', 'melon']\n"
     ]
    }
   ],
   "source": [
    "## Range of Negative Indexes\n",
    "\n",
    "## This example returns the items from \"orange\" (-4) to, but NOT including \"mango\" (-1):\n",
    "\n",
    "thislist = [\"apple\", \"banana\", \"cherry\", \"orange\", \"kiwi\", \"melon\", \"mango\"]\n",
    "print(thislist[-4:-1])"
   ]
  },
  {
   "cell_type": "code",
   "execution_count": 45,
   "id": "f369c71e",
   "metadata": {},
   "outputs": [
    {
     "name": "stdout",
     "output_type": "stream",
     "text": [
      "Yes, 'apple' is in the fruits list\n"
     ]
    }
   ],
   "source": [
    "thislist = [\"apple\", \"banana\", \"cherry\"]\n",
    "if \"apple\" in thislist:\n",
    "  print(\"Yes, 'apple' is in the fruits list\")\n"
   ]
  },
  {
   "cell_type": "code",
   "execution_count": 61,
   "id": "fa39f34b",
   "metadata": {},
   "outputs": [
    {
     "name": "stdout",
     "output_type": "stream",
     "text": [
      "['apple', 'banana', 'cherry', 'orange']\n"
     ]
    }
   ],
   "source": [
    "## Using the append() method to append an item:\n",
    "\n",
    "thislist = [\"apple\", \"banana\", \"cherry\"]\n",
    "thislist.append(\"orange\")\n",
    "print(thislist)"
   ]
  },
  {
   "cell_type": "code",
   "execution_count": 10,
   "id": "e0510a59",
   "metadata": {},
   "outputs": [
    {
     "name": "stdout",
     "output_type": "stream",
     "text": [
      "['apple', 'orange', 'banana', 'cherry']\n"
     ]
    }
   ],
   "source": [
    "## Insert an item as the second position:\n",
    "\n",
    "thislist = [\"apple\", \"banana\", \"cherry\"]\n",
    "thislist.insert(1, \"orange\")\n",
    "print(thislist)"
   ]
  },
  {
   "cell_type": "code",
   "execution_count": 49,
   "id": "c5dfe324",
   "metadata": {},
   "outputs": [
    {
     "name": "stdout",
     "output_type": "stream",
     "text": [
      "['123', 'hello', 'hii', 'hello', 123]\n"
     ]
    }
   ],
   "source": [
    "lo = [\"123\",\"hello\",\"hii\",123]\n",
    "lo.insert(3,\"hello\")\n",
    "print(lo)"
   ]
  },
  {
   "cell_type": "code",
   "execution_count": 22,
   "id": "af75a5b5",
   "metadata": {},
   "outputs": [
    {
     "name": "stdout",
     "output_type": "stream",
     "text": [
      "['apple', 'banana', 'cherry', 'mango', 'pineapple', 'papaya']\n"
     ]
    }
   ],
   "source": [
    "##  Extend()\n",
    "thislist = [\"apple\", \"banana\", \"cherry\"]\n",
    "tropical = [\"mango\", \"pineapple\", \"papaya\"]\n",
    "thislist.extend(tropical)\n",
    "print(thislist)"
   ]
  },
  {
   "cell_type": "code",
   "execution_count": 12,
   "id": "070aeff8",
   "metadata": {},
   "outputs": [
    {
     "name": "stdout",
     "output_type": "stream",
     "text": [
      "['apple', 'cherry']\n"
     ]
    }
   ],
   "source": [
    "## Remove() \"banana\":\n",
    "\n",
    "thislist = [\"apple\", \"banana\", \"cherry\"]\n",
    "thislist.remove(\"banana\")\n",
    "print(thislist)"
   ]
  },
  {
   "cell_type": "code",
   "execution_count": 63,
   "id": "c44be99e",
   "metadata": {},
   "outputs": [
    {
     "name": "stdout",
     "output_type": "stream",
     "text": [
      "['apple', 'banana']\n"
     ]
    }
   ],
   "source": [
    "## Pop()\n",
    "thislist = [\"apple\", \"banana\", \"cherry\"]\n",
    "thislist.pop(2)\n",
    "print(thislist)"
   ]
  },
  {
   "cell_type": "code",
   "execution_count": 38,
   "id": "2443e6d3",
   "metadata": {},
   "outputs": [
    {
     "name": "stdout",
     "output_type": "stream",
     "text": [
      "['apple', 'cherry']\n"
     ]
    }
   ],
   "source": [
    "## DEl()\n",
    "thislist = [\"apple\", \"banana\", \"cherry\"]\n",
    "del thislist[1]\n",
    "print(thislist)"
   ]
  },
  {
   "cell_type": "code",
   "execution_count": 81,
   "id": "8818f397",
   "metadata": {},
   "outputs": [
    {
     "name": "stdout",
     "output_type": "stream",
     "text": [
      "['apple', 'banana', 'mango']\n"
     ]
    }
   ],
   "source": [
    "## list comperhension\n",
    "fruits = [\"apple\", \"banana\", \"cherry\", \"kiwi\", \"mango\"]\n",
    "newlist = []\n",
    "\n",
    "for x in fruits:\n",
    "  if \"a\" in x:\n",
    "    newlist.append(x)\n",
    "\n",
    "print(newlist)"
   ]
  },
  {
   "cell_type": "code",
   "execution_count": 42,
   "id": "9c1628f4",
   "metadata": {},
   "outputs": [
    {
     "name": "stdout",
     "output_type": "stream",
     "text": [
      "['banana', 'kiwi', 'mango', 'orange', 'pineapple']\n"
     ]
    }
   ],
   "source": [
    "## Sort()\n",
    "thislist = [\"orange\", \"mango\", \"kiwi\", \"pineapple\", \"banana\"]\n",
    "thislist.sort()\n",
    "print(thislist)"
   ]
  },
  {
   "cell_type": "code",
   "execution_count": 44,
   "id": "82d68b52",
   "metadata": {},
   "outputs": [
    {
     "name": "stdout",
     "output_type": "stream",
     "text": [
      "[0, 2, 3, 4, 4, 4, 7, 9, 65, 90]\n"
     ]
    }
   ],
   "source": [
    "li = [9,4,7,2,4,3,90,65,4,0]\n",
    "li.sort()\n",
    "print(li)"
   ]
  },
  {
   "cell_type": "code",
   "execution_count": 43,
   "id": "aff405c8",
   "metadata": {},
   "outputs": [
    {
     "name": "stdout",
     "output_type": "stream",
     "text": [
      "['cherry', 'Kiwi', 'Orange', 'banana']\n"
     ]
    }
   ],
   "source": [
    "## Reverse()\n",
    "thislist = [\"banana\", \"Orange\", \"Kiwi\", \"cherry\"]\n",
    "thislist.reverse()\n",
    "print(thislist)"
   ]
  },
  {
   "cell_type": "code",
   "execution_count": 48,
   "id": "6b1e005a",
   "metadata": {},
   "outputs": [
    {
     "name": "stdout",
     "output_type": "stream",
     "text": [
      "[12, 'ho', 45, 23, 'hello']\n"
     ]
    }
   ],
   "source": [
    "lg = [\"hello\",23,45,\"ho\",12]\n",
    "lg.reverse()\n",
    "print(lg)"
   ]
  },
  {
   "cell_type": "code",
   "execution_count": 21,
   "id": "dd621fb9",
   "metadata": {},
   "outputs": [
    {
     "name": "stdout",
     "output_type": "stream",
     "text": [
      "['apple', 'banana', 'cherry']\n"
     ]
    }
   ],
   "source": [
    "## Copy()\n",
    "thislist = [\"apple\", \"banana\", \"cherry\"]\n",
    "mylist = thislist.copy()\n",
    "print(mylist)"
   ]
  },
  {
   "cell_type": "code",
   "execution_count": 22,
   "id": "e2a9256d",
   "metadata": {},
   "outputs": [
    {
     "data": {
      "text/plain": [
       "['apple', 'banana', 'cherry']"
      ]
     },
     "execution_count": 22,
     "metadata": {},
     "output_type": "execute_result"
    }
   ],
   "source": [
    "mylist"
   ]
  },
  {
   "cell_type": "code",
   "execution_count": 23,
   "id": "e6e63f3f",
   "metadata": {},
   "outputs": [
    {
     "name": "stdout",
     "output_type": "stream",
     "text": [
      "['a', 'b', 'c', 1, 2, 3]\n"
     ]
    }
   ],
   "source": [
    "## Join()\n",
    "list1 = [\"a\", \"b\", \"c\"]\n",
    "list2 = [1, 2, 3]\n",
    "\n",
    "list3 = list1 + list2\n",
    "print(list3)"
   ]
  },
  {
   "cell_type": "code",
   "execution_count": 58,
   "id": "6ed0bf3f",
   "metadata": {},
   "outputs": [],
   "source": [
    "## Count()\n",
    "fruits = ['apple', 'banana', 'cherry','cherry']\n",
    "\n",
    "x = fruits.count(\"cherry\")"
   ]
  },
  {
   "cell_type": "code",
   "execution_count": 28,
   "id": "53e09f4c",
   "metadata": {},
   "outputs": [
    {
     "data": {
      "text/plain": [
       "2"
      ]
     },
     "execution_count": 28,
     "metadata": {},
     "output_type": "execute_result"
    }
   ],
   "source": [
    "x"
   ]
  },
  {
   "cell_type": "code",
   "execution_count": null,
   "id": "f4723ee0",
   "metadata": {},
   "outputs": [],
   "source": [
    "## Tuple ,,,,,,,,,,,,,,,,,,,,,,,,,,,,,,,,,,,,,,,,,,,,,,,,,,,,,,,,,,,,,,,,,,,,,,,,,,,,,,,,,,,,,,,,,,,,,,,,,,,,>>>>>>>>>>\n",
    "Tuples are used to store multiple items in a single variable.\n",
    "A tuple is a collection which is ordered and unchangeable.\n",
    "Tuple items are ordered, unchangeable, and allow duplicate values.\n",
    "\n",
    "Tuples are written with round brackets.()\n",
    "\n",
    "count() method\n",
    "Index()  ''\n"
   ]
  },
  {
   "cell_type": "code",
   "execution_count": 43,
   "id": "9561eaa6",
   "metadata": {},
   "outputs": [
    {
     "name": "stdout",
     "output_type": "stream",
     "text": [
      "2\n"
     ]
    }
   ],
   "source": [
    "thistuple = (1, 3, 7, 8, 7, 5, 4, 6, 8, 5)\n",
    "\n",
    "x = thistuple.count(5)\n",
    "\n",
    "print(x)"
   ]
  },
  {
   "cell_type": "code",
   "execution_count": 29,
   "id": "0af7c462",
   "metadata": {},
   "outputs": [
    {
     "name": "stdout",
     "output_type": "stream",
     "text": [
      "('apple', 'banana', 'cherry')\n"
     ]
    }
   ],
   "source": [
    "thistuple = (\"apple\", \"banana\", \"cherry\")\n",
    "print(thistuple)"
   ]
  },
  {
   "cell_type": "code",
   "execution_count": 80,
   "id": "78ddcc3d",
   "metadata": {},
   "outputs": [
    {
     "name": "stdout",
     "output_type": "stream",
     "text": [
      "7\n"
     ]
    }
   ],
   "source": [
    "thistuple = (1, 3, 7, 7, 5, 4, 6, 8, 5)\n",
    "\n",
    "x = thistuple.index(8)\n",
    "\n",
    "print(x)"
   ]
  },
  {
   "cell_type": "code",
   "execution_count": 31,
   "id": "974af2f2",
   "metadata": {},
   "outputs": [
    {
     "name": "stdout",
     "output_type": "stream",
     "text": [
      "banana\n"
     ]
    }
   ],
   "source": [
    "##Access Tuple Items\n",
    "#You can access tuple items by referring to the index number, inside square brackets:\n",
    "\n",
    "#Example\n",
    "#Print the second item in the tuple:\n",
    "\n",
    "thistuple = (\"apple\", \"banana\", \"cherry\")\n",
    "print(thistuple[1])"
   ]
  },
  {
   "cell_type": "code",
   "execution_count": 32,
   "id": "453d16e4",
   "metadata": {},
   "outputs": [
    {
     "name": "stdout",
     "output_type": "stream",
     "text": [
      "cherry\n"
     ]
    }
   ],
   "source": [
    "## Print the last item of the tuple:\n",
    "\n",
    "thistuple = (\"apple\", \"banana\", \"cherry\")\n",
    "print(thistuple[-1])"
   ]
  },
  {
   "cell_type": "code",
   "execution_count": 33,
   "id": "8e7ebf80",
   "metadata": {},
   "outputs": [
    {
     "name": "stdout",
     "output_type": "stream",
     "text": [
      "('cherry', 'orange', 'kiwi')\n"
     ]
    }
   ],
   "source": [
    "## Range of Indexes\n",
    "thistuple = (\"apple\", \"banana\", \"cherry\", \"orange\", \"kiwi\", \"melon\", \"mango\")\n",
    "print(thistuple[2:5])"
   ]
  },
  {
   "cell_type": "code",
   "execution_count": 34,
   "id": "61f21423",
   "metadata": {},
   "outputs": [
    {
     "name": "stdout",
     "output_type": "stream",
     "text": [
      "('cherry', 'orange', 'kiwi', 'melon', 'mango')\n"
     ]
    }
   ],
   "source": [
    "thistuple = (\"apple\", \"banana\", \"cherry\", \"orange\", \"kiwi\", \"melon\", \"mango\")\n",
    "print(thistuple[2:])"
   ]
  },
  {
   "cell_type": "code",
   "execution_count": 35,
   "id": "32bdcdb0",
   "metadata": {},
   "outputs": [],
   "source": [
    "## Convert the tuple into a list, add \"orange\", and convert it back into a tuple:\n",
    "\n",
    "thistuple = (\"apple\", \"banana\", \"cherry\")\n",
    "y = list(thistuple)\n",
    "y.append(\"orange\")\n",
    "thistuple = tuple(y)"
   ]
  },
  {
   "cell_type": "code",
   "execution_count": 36,
   "id": "a551f6c2",
   "metadata": {},
   "outputs": [
    {
     "data": {
      "text/plain": [
       "['apple', 'banana', 'cherry', 'orange']"
      ]
     },
     "execution_count": 36,
     "metadata": {},
     "output_type": "execute_result"
    }
   ],
   "source": [
    "y"
   ]
  },
  {
   "cell_type": "code",
   "execution_count": 40,
   "id": "91336de8",
   "metadata": {},
   "outputs": [
    {
     "name": "stdout",
     "output_type": "stream",
     "text": [
      "[0]\n",
      "[1]\n",
      "[2]\n"
     ]
    }
   ],
   "source": [
    "## Print all items, using a For loop to go through all the index numbers:\n",
    "thistuple = (\"apple\", \"banana\", \"cherry\")\n",
    "for i in range(len(thistuple)):\n",
    "  print([i])"
   ]
  },
  {
   "cell_type": "code",
   "execution_count": 41,
   "id": "f8039f8e",
   "metadata": {},
   "outputs": [
    {
     "name": "stdout",
     "output_type": "stream",
     "text": [
      "apple\n",
      "banana\n",
      "cherry\n"
     ]
    }
   ],
   "source": [
    "## Print all items, using a while loop to go through all the index numbers:\n",
    "\n",
    "thistuple = (\"apple\", \"banana\", \"cherry\")\n",
    "i = 0\n",
    "while i < len(thistuple):\n",
    "  print(thistuple[i])\n",
    "  i = i + 1"
   ]
  },
  {
   "cell_type": "code",
   "execution_count": 42,
   "id": "f68741d1",
   "metadata": {},
   "outputs": [
    {
     "name": "stdout",
     "output_type": "stream",
     "text": [
      "('apple', 'banana', 'cherry', 'apple', 'banana', 'cherry')\n"
     ]
    }
   ],
   "source": [
    "## Multiply the fruits tuple by 2:\n",
    "\n",
    "fruits = (\"apple\", \"banana\", \"cherry\")\n",
    "mytuple = fruits * 2\n",
    "\n",
    "print(mytuple)"
   ]
  },
  {
   "cell_type": "code",
   "execution_count": null,
   "id": "e68eb987",
   "metadata": {},
   "outputs": [],
   "source": []
  },
  {
   "cell_type": "code",
   "execution_count": null,
   "id": "87db5e3a",
   "metadata": {},
   "outputs": [],
   "source": []
  },
  {
   "cell_type": "code",
   "execution_count": null,
   "id": "1d4390f7",
   "metadata": {},
   "outputs": [],
   "source": []
  },
  {
   "cell_type": "code",
   "execution_count": null,
   "id": "f137f870",
   "metadata": {},
   "outputs": [],
   "source": []
  },
  {
   "cell_type": "code",
   "execution_count": null,
   "id": "88530dc3",
   "metadata": {},
   "outputs": [],
   "source": []
  },
  {
   "cell_type": "code",
   "execution_count": null,
   "id": "a7621d04",
   "metadata": {},
   "outputs": [],
   "source": []
  },
  {
   "cell_type": "code",
   "execution_count": null,
   "id": "be089587",
   "metadata": {},
   "outputs": [],
   "source": [
    "<<<<<<<<<<<<<<<<<<<<<<<<<<<<<<<<<<<<<<<<  String >>>>>>>>>>>>>>>>>>>>>>>>>>>>>>>>>>>>>>>>>>>>>>>>>>>>>>>>>>>>\n",
    "## Strings in python are surrounded by either single quotation marks, or double quotation marks.\n",
    "\n",
    "'hello' is the same as \"hello\".\n",
    "\n",
    "You can display a string literal with the print() function:\n",
    "    \n",
    "    string method\n",
    "    \n",
    "capitalize()\tConverts the first character to upper case\n",
    "casefold()\tConverts string into lower case\n",
    "center()\tReturns a centered string\n",
    "count()\tReturns the number of times a specified value occurs in a string\n",
    "encode()\tReturns an encoded version of the string\n",
    "endswith()\tReturns true if the string ends with the specified value\n",
    "expandtabs()\tSets the tab size of the string\n",
    "find()\tSearches the string for a specified value and returns the position of where it was found\n",
    "format()\tFormats specified values in a string\n",
    "format_map()\tFormats specified values in a string\n",
    "index()\tSearches the string for a specified value and returns the position of where it was found\n",
    "isalnum()\tReturns True if all characters in the string are alphanumeric\n",
    "isalpha()\tReturns True if all characters in the string are in the alphabet\n",
    "isdecimal()\tReturns True if all characters in the string are decimals\n",
    "isdigit()\tReturns True if all characters in the string are digits\n",
    "isidentifier()\tReturns True if the string is an identifier\n",
    "islower()\tReturns True if all characters in the string are lower case\n",
    "isnumeric()\tReturns True if all characters in the string are numeric\n",
    "isprintable()\tReturns True if all characters in the string are printable\n",
    "isspace()\tReturns True if all characters in the string are whitespaces\n",
    "istitle()\tReturns True if the string follows the rules of a title\n",
    "isupper()\tReturns True if all characters in the string are upper case\n",
    "join()\tJoins the elements of an iterable to the end of the string\n",
    "ljust()\tReturns a left justified version of the string\n",
    "lower()\tConverts a string into lower case\n",
    "lstrip()\tReturns a left trim version of the string\n",
    "maketrans()\tReturns a translation table to be used in translations\n",
    "partition()\tReturns a tuple where the string is parted into three parts\n",
    "replace()\tReturns a string where a specified value is replaced with a specified value\n",
    "rfind()\tSearches the string for a specified value and returns the last position of where it was found\n",
    "rindex()\tSearches the string for a specified value and returns the last position of where it was found\n",
    "rjust()\tReturns a right justified version of the string\n",
    "rpartition()\tReturns a tuple where the string is parted into three parts\n",
    "rsplit()\tSplits the string at the specified separator, and returns a list\n",
    "rstrip()\tReturns a right trim version of the string\n",
    "split()\tSplits the string at the specified separator, and returns a list\n",
    "splitlines()\tSplits the string at line breaks and returns a list\n",
    "startswith()\tReturns true if the string starts with the specified value\n",
    "strip()\tReturns a trimmed version of the string\n",
    "swapcase()\tSwaps cases, lower case becomes upper case and vice versa\n",
    "title()\tConverts the first character of each word to upper case\n",
    "translate()\tReturns a translated string\n",
    "upper()\tConverts a string into upper case\n",
    "zfill()"
   ]
  },
  {
   "cell_type": "code",
   "execution_count": 96,
   "id": "431ff32b",
   "metadata": {},
   "outputs": [
    {
     "name": "stdout",
     "output_type": "stream",
     "text": [
      "Lorem ipsum dolor sit amet,\n",
      "consectetur adipiscing elit,\n",
      "sed do eiusmod tempor incididunt\n",
      "ut labore et dolore magna aliqua.\n"
     ]
    }
   ],
   "source": [
    "# Multiline Strings\n",
    "## You can assign a multiline string to a variable by using three quotes:\n",
    "\n",
    "#Example\n",
    "# You can use three double quotes:\n",
    "\n",
    "a = \"\"\"Lorem ipsum dolor sit amet,\n",
    "consectetur adipiscing elit,\n",
    "sed do eiusmod tempor incididunt\n",
    "ut labore et dolore magna aliqua.\"\"\"\n",
    "print(a)"
   ]
  },
  {
   "cell_type": "code",
   "execution_count": 97,
   "id": "3174436b",
   "metadata": {},
   "outputs": [
    {
     "name": "stdout",
     "output_type": "stream",
     "text": [
      "Lorem ipsum dolor sit amet,\n",
      "consectetur adipiscing elit,\n",
      "sed do eiusmod tempor incididunt\n",
      "ut labore et dolore magna aliqua.\n"
     ]
    }
   ],
   "source": [
    "## Or three single quotes:\n",
    "\n",
    "## Example\n",
    "a = '''Lorem ipsum dolor sit amet,\n",
    "consectetur adipiscing elit,\n",
    "sed do eiusmod tempor incididunt\n",
    "ut labore et dolore magna aliqua.'''\n",
    "print(a)"
   ]
  },
  {
   "cell_type": "code",
   "execution_count": 98,
   "id": "e86f0c21",
   "metadata": {},
   "outputs": [
    {
     "name": "stdout",
     "output_type": "stream",
     "text": [
      "True\n"
     ]
    }
   ],
   "source": [
    "## Check if \"free\" is present in the following text:\n",
    "\n",
    "txt = \"The best things in life are free!\"\n",
    "print(\"free\" in txt)\n"
   ]
  },
  {
   "cell_type": "code",
   "execution_count": 100,
   "id": "ffc86506",
   "metadata": {},
   "outputs": [
    {
     "name": "stdout",
     "output_type": "stream",
     "text": [
      "Yes, 'free' is present.\n"
     ]
    }
   ],
   "source": [
    "## Print only if \"free\" is present:\n",
    "\n",
    "txt = \"The best things in life are free!\"\n",
    "if \"free\" in txt:\n",
    "  print(\"Yes, 'free' is present.\")"
   ]
  },
  {
   "cell_type": "code",
   "execution_count": 101,
   "id": "632992c8",
   "metadata": {},
   "outputs": [
    {
     "name": "stdout",
     "output_type": "stream",
     "text": [
      "True\n"
     ]
    }
   ],
   "source": [
    "## Check if NOT\n",
    "#To check if a certain phrase or character is NOT present in a string, we can use the keyword not in.\n",
    "\n",
    "#Example\n",
    "#Check if \"expensive\" is NOT present in the following text:\n",
    "\n",
    "txt = \"The best things in life are free!\"\n",
    "print(\"expensive\" not in txt)"
   ]
  },
  {
   "cell_type": "code",
   "execution_count": 102,
   "id": "fa8fd44a",
   "metadata": {},
   "outputs": [
    {
     "name": "stdout",
     "output_type": "stream",
     "text": [
      "Hello\n"
     ]
    }
   ],
   "source": [
    "## Using slice\n",
    "## Get the characters from the start to position 5 (not included):\n",
    "\n",
    "b = \"Hello, World!\"\n",
    "print(b[:5])"
   ]
  },
  {
   "cell_type": "code",
   "execution_count": 103,
   "id": "71e59cff",
   "metadata": {},
   "outputs": [
    {
     "name": "stdout",
     "output_type": "stream",
     "text": [
      "llo, World!\n"
     ]
    }
   ],
   "source": [
    "## Get the characters from position 2, and all the way to the end:\n",
    "\n",
    "b = \"Hello, World!\"\n",
    "print(b[2:])"
   ]
  },
  {
   "cell_type": "code",
   "execution_count": 104,
   "id": "030fdde1",
   "metadata": {},
   "outputs": [
    {
     "name": "stdout",
     "output_type": "stream",
     "text": [
      "orl\n"
     ]
    }
   ],
   "source": [
    "b = \"Hello, World!\"\n",
    "print(b[-5:-2])"
   ]
  },
  {
   "cell_type": "code",
   "execution_count": 106,
   "id": "d2f49aa5",
   "metadata": {},
   "outputs": [
    {
     "name": "stdout",
     "output_type": "stream",
     "text": [
      "HELLO, WORLD!\n"
     ]
    }
   ],
   "source": [
    "## he upper() method \n",
    "\n",
    "a = \"Hello, World!\"\n",
    "print(a.upper())"
   ]
  },
  {
   "cell_type": "code",
   "execution_count": 66,
   "id": "c803762b",
   "metadata": {},
   "outputs": [
    {
     "name": "stdout",
     "output_type": "stream",
     "text": [
      "hello!\n"
     ]
    }
   ],
   "source": [
    "## The lower()\n",
    "\n",
    "a = \"HELLO!\"\n",
    "print(a.lower())"
   ]
  },
  {
   "cell_type": "code",
   "execution_count": 70,
   "id": "bd020bbe",
   "metadata": {},
   "outputs": [
    {
     "name": "stdout",
     "output_type": "stream",
     "text": [
      "Hello,World!\n"
     ]
    }
   ],
   "source": [
    "## The strip() method removes any whitespace from the beginning or the end:\n",
    "\n",
    "a = \"Hello,World!\"\n",
    "print(a.strip()) # returns \"Hello, World!\"\n"
   ]
  },
  {
   "cell_type": "code",
   "execution_count": 109,
   "id": "1003c23f",
   "metadata": {},
   "outputs": [
    {
     "name": "stdout",
     "output_type": "stream",
     "text": [
      "Jello, World!\n"
     ]
    }
   ],
   "source": [
    "## The replace() method \n",
    "\n",
    "a = \"Hello, World!\"\n",
    "print(a.replace(\"H\", \"J\"))"
   ]
  },
  {
   "cell_type": "code",
   "execution_count": 111,
   "id": "5ad51e2d",
   "metadata": {},
   "outputs": [
    {
     "name": "stdout",
     "output_type": "stream",
     "text": [
      "['Hello,', 'World!']\n"
     ]
    }
   ],
   "source": [
    "## The split() method splits the string into substrings \n",
    "\n",
    "a = \"Hello, World!\"\n",
    "print(a.split()) # returns ['Hello', ' World!']\n"
   ]
  },
  {
   "cell_type": "code",
   "execution_count": 112,
   "id": "6b28ef46",
   "metadata": {},
   "outputs": [
    {
     "name": "stdout",
     "output_type": "stream",
     "text": [
      "I want 3 pieces of item 567 for 49.95 dollars.\n"
     ]
    }
   ],
   "source": [
    "## Formate\n",
    "quantity = 3\n",
    "itemno = 567\n",
    "price = 49.95\n",
    "myorder = \"I want {} pieces of item {} for {} dollars.\"\n",
    "print(myorder.format(quantity, itemno, price))"
   ]
  },
  {
   "cell_type": "code",
   "execution_count": null,
   "id": "f8547ef3",
   "metadata": {},
   "outputs": [],
   "source": []
  },
  {
   "cell_type": "code",
   "execution_count": null,
   "id": "4ed22055",
   "metadata": {},
   "outputs": [],
   "source": []
  },
  {
   "cell_type": "code",
   "execution_count": null,
   "id": "32f4d5bb",
   "metadata": {},
   "outputs": [],
   "source": []
  },
  {
   "cell_type": "code",
   "execution_count": null,
   "id": "c70b7f4e",
   "metadata": {},
   "outputs": [],
   "source": []
  },
  {
   "cell_type": "code",
   "execution_count": null,
   "id": "b2ce48f7",
   "metadata": {},
   "outputs": [],
   "source": []
  },
  {
   "cell_type": "code",
   "execution_count": null,
   "id": "e9e5febb",
   "metadata": {},
   "outputs": [],
   "source": []
  },
  {
   "cell_type": "code",
   "execution_count": null,
   "id": "1570159e",
   "metadata": {},
   "outputs": [],
   "source": []
  },
  {
   "cell_type": "code",
   "execution_count": null,
   "id": "0e0714f3",
   "metadata": {},
   "outputs": [],
   "source": []
  },
  {
   "cell_type": "code",
   "execution_count": null,
   "id": "aa7bd8af",
   "metadata": {},
   "outputs": [],
   "source": []
  },
  {
   "cell_type": "code",
   "execution_count": null,
   "id": "8ab69041",
   "metadata": {},
   "outputs": [],
   "source": [
    "## <<<<<<<<<<<<<<<<<<<<<<<<<<<<<<<<<<<<<<<<<<<<<<<<<<<<   Set  >>>>>>>>>>>>>>>>>>>>>>>>>>>>>>>>>>>>>>>>>>>>>>>>>>>>>>>\n",
    "Sets are used to store multiple items in a single variable.\n",
    "Set items are unordered, unchangeable, and do not allow duplicate values.\n",
    "\n",
    "Sets are written with curly brackets.{}"
   ]
  },
  {
   "cell_type": "code",
   "execution_count": 47,
   "id": "3b8e5e38",
   "metadata": {},
   "outputs": [
    {
     "name": "stdout",
     "output_type": "stream",
     "text": [
      "{'cherry', 'banana', 'apple'}\n"
     ]
    }
   ],
   "source": [
    "## Duplicate values will be ignored:\n",
    "\n",
    "thisset = {\"apple\", \"banana\", \"cherry\", \"apple\"}\n",
    "\n",
    "print(thisset)"
   ]
  },
  {
   "cell_type": "code",
   "execution_count": 48,
   "id": "79ef12c4",
   "metadata": {},
   "outputs": [
    {
     "name": "stdout",
     "output_type": "stream",
     "text": [
      "3\n"
     ]
    }
   ],
   "source": [
    "thisset = {\"apple\", \"banana\", \"cherry\"}\n",
    "\n",
    "print(len(thisset))"
   ]
  },
  {
   "cell_type": "code",
   "execution_count": 49,
   "id": "aa306737",
   "metadata": {},
   "outputs": [],
   "source": [
    "set1 = {\"apple\", \"banana\", \"cherry\"}\n",
    "set2 = {1, 5, 7, 9, 3}\n",
    "set3 = {True, False, False}"
   ]
  },
  {
   "cell_type": "code",
   "execution_count": 50,
   "id": "125bea78",
   "metadata": {},
   "outputs": [
    {
     "data": {
      "text/plain": [
       "{'apple', 'banana', 'cherry'}"
      ]
     },
     "execution_count": 50,
     "metadata": {},
     "output_type": "execute_result"
    }
   ],
   "source": [
    "set1"
   ]
  },
  {
   "cell_type": "code",
   "execution_count": 51,
   "id": "61a4ea4a",
   "metadata": {},
   "outputs": [
    {
     "name": "stdout",
     "output_type": "stream",
     "text": [
      "cherry\n",
      "banana\n",
      "apple\n"
     ]
    }
   ],
   "source": [
    "## Access in set item\n",
    "thisset = {\"apple\", \"banana\", \"cherry\"}\n",
    "\n",
    "for x in thisset:\n",
    "  print(x)"
   ]
  },
  {
   "cell_type": "code",
   "execution_count": 52,
   "id": "002147a9",
   "metadata": {},
   "outputs": [
    {
     "name": "stdout",
     "output_type": "stream",
     "text": [
      "{'cherry', 'orange', 'banana', 'apple'}\n"
     ]
    }
   ],
   "source": [
    "## Add an item to a set, using the add() method:\n",
    "\n",
    "thisset = {\"apple\", \"banana\", \"cherry\"}\n",
    "\n",
    "thisset.add(\"orange\")\n",
    "\n",
    "print(thisset)"
   ]
  },
  {
   "cell_type": "code",
   "execution_count": 53,
   "id": "af13240b",
   "metadata": {},
   "outputs": [
    {
     "name": "stdout",
     "output_type": "stream",
     "text": [
      "{'cherry', 'papaya', 'banana', 'apple', 'mango', 'pineapple'}\n"
     ]
    }
   ],
   "source": [
    "## Add elements from tropical into thisset:\n",
    "\n",
    "thisset = {\"apple\", \"banana\", \"cherry\"}\n",
    "tropical = {\"pineapple\", \"mango\", \"papaya\"}\n",
    "\n",
    "thisset.update(tropical)\n",
    "\n",
    "print(thisset)"
   ]
  },
  {
   "cell_type": "code",
   "execution_count": 54,
   "id": "3d909809",
   "metadata": {},
   "outputs": [
    {
     "name": "stdout",
     "output_type": "stream",
     "text": [
      "{'cherry', 'apple'}\n"
     ]
    }
   ],
   "source": [
    "## Remove \"banana\" by using the remove() method:\n",
    "\n",
    "thisset = {\"apple\", \"banana\", \"cherry\"}\n",
    "\n",
    "thisset.remove(\"banana\")\n",
    "\n",
    "print(thisset)"
   ]
  },
  {
   "cell_type": "code",
   "execution_count": 55,
   "id": "0e7980af",
   "metadata": {},
   "outputs": [
    {
     "name": "stdout",
     "output_type": "stream",
     "text": [
      "cherry\n",
      "banana\n",
      "apple\n"
     ]
    }
   ],
   "source": [
    "## Loop through the set, and print the values:\n",
    "\n",
    "thisset = {\"apple\", \"banana\", \"cherry\"}\n",
    "\n",
    "for x in thisset:\n",
    "  print(x)"
   ]
  },
  {
   "cell_type": "code",
   "execution_count": 56,
   "id": "89debd83",
   "metadata": {},
   "outputs": [
    {
     "name": "stdout",
     "output_type": "stream",
     "text": [
      "{1, 2, 'b', 3, 'c', 'a'}\n"
     ]
    }
   ],
   "source": [
    "## The union() method returns a new set with all items from both sets:\n",
    "\n",
    "set1 = {\"a\", \"b\" , \"c\"}\n",
    "set2 = {1, 2, 3}\n",
    "\n",
    "set3 = set1.union(set2)\n",
    "print(set3)"
   ]
  },
  {
   "cell_type": "code",
   "execution_count": 57,
   "id": "19d6345e",
   "metadata": {},
   "outputs": [
    {
     "name": "stdout",
     "output_type": "stream",
     "text": [
      "{1, 2, 'b', 3, 'c', 'a'}\n"
     ]
    }
   ],
   "source": [
    "## The update() method inserts the items in set2 into set1:\n",
    "\n",
    "set1 = {\"a\", \"b\" , \"c\"}\n",
    "set2 = {1, 2, 3}\n",
    "\n",
    "set1.update(set2)\n",
    "print(set1)"
   ]
  },
  {
   "cell_type": "code",
   "execution_count": null,
   "id": "7312d0cc",
   "metadata": {},
   "outputs": [],
   "source": []
  },
  {
   "cell_type": "code",
   "execution_count": null,
   "id": "b49505b9",
   "metadata": {},
   "outputs": [],
   "source": []
  },
  {
   "cell_type": "code",
   "execution_count": null,
   "id": "fa954ee6",
   "metadata": {},
   "outputs": [],
   "source": []
  },
  {
   "cell_type": "code",
   "execution_count": null,
   "id": "6bd86061",
   "metadata": {},
   "outputs": [],
   "source": [
    "##<<<<<<<<<<<<<<<<<<<<<<<<<<<<<<<<<<<<<<<<<<<<<<<< Dictionary  ,,,,,,,,,,,,,,,,,,,,,,,,,,,,,,,,,,,,,,,,,,,,,,,,,,,,,,\n",
    ">>>>>>>>>>>>>>>>>>>>>>>>>>>>>>><<<<<<<<<<<<<<<<<<<<<<\n",
    "\n",
    "\n",
    "\n",
    "\n",
    "Dictionaries are used to store data values in key:value pairs.\n",
    "    Duplicates Not Allowed\n",
    "Dictionaries are written with curly brackets\n",
    "\n",
    "clear()\tRemoves all the elements from the dictionary\n",
    "copy()\tReturns a copy of the dictionary\n",
    "fromkeys()\tReturns a dictionary with the specified keys and value\n",
    "get()\tReturns the value of the specified key\n",
    "items()\tReturns a list containing a tuple for each key value pair\n",
    "keys()\tReturns a list containing the dictionary's keys\n",
    "pop()\tRemoves the element with the specified key\n",
    "popitem()\tRemoves the last inserted key-value pair\n",
    "setdefault()\tReturns the value of the specified key. If the key does not exist: insert the key, with the specified value\n",
    "update()\tUpdates the dictionary with the specified key-value pairs\n",
    "values()"
   ]
  },
  {
   "cell_type": "code",
   "execution_count": 58,
   "id": "5d5bbdcf",
   "metadata": {},
   "outputs": [
    {
     "name": "stdout",
     "output_type": "stream",
     "text": [
      "{'brand': 'Ford', 'model': 'Mustang', 'year': 1964}\n"
     ]
    }
   ],
   "source": [
    "thisdict = {\n",
    "  \"brand\": \"Ford\",\n",
    "  \"model\": \"Mustang\",\n",
    "  \"year\": 1964\n",
    "}\n",
    "print(thisdict)"
   ]
  },
  {
   "cell_type": "code",
   "execution_count": 60,
   "id": "a0099ee9",
   "metadata": {},
   "outputs": [],
   "source": [
    "## Accessing Items\n",
    "# You can access the items of a dictionary by referring to its key name, inside square brackets:\n",
    "\n",
    "#Example\n",
    "#Get the value of the \"model\" key:\n",
    "\n",
    "thisdict = {\n",
    "  \"brand\": \"Ford\",\n",
    "  \"model\": \"Mustang\",\n",
    "  \"year\": 1964\n",
    "}\n",
    "x = thisdict[\"model\"]"
   ]
  },
  {
   "cell_type": "code",
   "execution_count": 61,
   "id": "43d3a27c",
   "metadata": {},
   "outputs": [
    {
     "data": {
      "text/plain": [
       "'Mustang'"
      ]
     },
     "execution_count": 61,
     "metadata": {},
     "output_type": "execute_result"
    }
   ],
   "source": [
    "x"
   ]
  },
  {
   "cell_type": "code",
   "execution_count": 62,
   "id": "bfb77598",
   "metadata": {},
   "outputs": [
    {
     "name": "stdout",
     "output_type": "stream",
     "text": [
      "Yes, 'model' is one of the keys in the thisdict dictionary\n"
     ]
    }
   ],
   "source": [
    "## Check if \"model\" is present in the dictionary:\n",
    "\n",
    "thisdict = {\n",
    "  \"brand\": \"Ford\",\n",
    "  \"model\": \"Mustang\",\n",
    "  \"year\": 1964\n",
    "}\n",
    "if \"model\" in thisdict:\n",
    "  print(\"Yes, 'model' is one of the keys in the thisdict dictionary\")"
   ]
  },
  {
   "cell_type": "code",
   "execution_count": 68,
   "id": "9c650c16",
   "metadata": {},
   "outputs": [],
   "source": [
    "## Change the \"year\" to 2018:\n",
    "\n",
    "thisdict = {\n",
    "  \"brand\": \"Ford\",\n",
    "  \"model\": \"Mustang\",\n",
    "  \"year\": 1964\n",
    "}\n",
    "thisdict[\"year\"] = 2018"
   ]
  },
  {
   "cell_type": "code",
   "execution_count": 64,
   "id": "13eab132",
   "metadata": {},
   "outputs": [
    {
     "data": {
      "text/plain": [
       "{'brand': 'Ford', 'model': 'Mustang', 'year': 2018}"
      ]
     },
     "execution_count": 64,
     "metadata": {},
     "output_type": "execute_result"
    }
   ],
   "source": [
    "thisdict\n"
   ]
  },
  {
   "cell_type": "code",
   "execution_count": 65,
   "id": "bb53c6d1",
   "metadata": {},
   "outputs": [],
   "source": [
    "## Update the \"year\" of the car by using the update() method:\n",
    "\n",
    "thisdict = {\n",
    "  \"brand\": \"Ford\",\n",
    "  \"model\": \"Mustang\",\n",
    "  \"year\": 1964\n",
    "}\n",
    "thisdict.update({\"year\": 2020})"
   ]
  },
  {
   "cell_type": "code",
   "execution_count": 66,
   "id": "e598fc4c",
   "metadata": {},
   "outputs": [
    {
     "data": {
      "text/plain": [
       "{'brand': 'Ford', 'model': 'Mustang', 'year': 2020}"
      ]
     },
     "execution_count": 66,
     "metadata": {},
     "output_type": "execute_result"
    }
   ],
   "source": [
    "thisdict"
   ]
  },
  {
   "cell_type": "code",
   "execution_count": 67,
   "id": "8786bd1e",
   "metadata": {},
   "outputs": [
    {
     "name": "stdout",
     "output_type": "stream",
     "text": [
      "{'brand': 'Ford', 'model': 'Mustang', 'year': 1964, 'color': 'red'}\n"
     ]
    }
   ],
   "source": [
    "## Adding Items\n",
    "\n",
    "thisdict = {\n",
    "  \"brand\": \"Ford\",\n",
    "  \"model\": \"Mustang\",\n",
    "  \"year\": 1964\n",
    "}\n",
    "thisdict[\"color\"] = \"red\"\n",
    "print(thisdict)"
   ]
  },
  {
   "cell_type": "code",
   "execution_count": 67,
   "id": "6ee83486",
   "metadata": {},
   "outputs": [
    {
     "name": "stdout",
     "output_type": "stream",
     "text": [
      "{'brand': 'Ford', 'year': 1964}\n"
     ]
    }
   ],
   "source": [
    "## The pop() method removes the item with the specified key name:\n",
    "\n",
    "thisdict = {\n",
    "  \"brand\": \"Ford\",\n",
    "  \"model\": \"Mustang\",\n",
    "  \"year\": 1964\n",
    "}\n",
    "thisdict.pop(\"model\")\n",
    "print(thisdict)"
   ]
  },
  {
   "cell_type": "code",
   "execution_count": 70,
   "id": "15ec028d",
   "metadata": {},
   "outputs": [
    {
     "name": "stdout",
     "output_type": "stream",
     "text": [
      "brand\n",
      "year\n"
     ]
    }
   ],
   "source": [
    "## Print all key names in the dictionary, one by one:  using for loop\n",
    "\n",
    "for x in thisdict:\n",
    "  print(x)"
   ]
  },
  {
   "cell_type": "code",
   "execution_count": 71,
   "id": "5ef0e22b",
   "metadata": {},
   "outputs": [
    {
     "name": "stdout",
     "output_type": "stream",
     "text": [
      "Ford\n",
      "1964\n"
     ]
    }
   ],
   "source": [
    "## You can also use the values() method to return values of a dictionary:\n",
    "\n",
    "for x in thisdict.values():\n",
    "  print(x)\n"
   ]
  },
  {
   "cell_type": "code",
   "execution_count": 72,
   "id": "1b9d5c84",
   "metadata": {},
   "outputs": [
    {
     "name": "stdout",
     "output_type": "stream",
     "text": [
      "brand\n",
      "year\n"
     ]
    }
   ],
   "source": [
    "for x in thisdict.keys():\n",
    "  print(x)"
   ]
  },
  {
   "cell_type": "code",
   "execution_count": 73,
   "id": "9a89fafa",
   "metadata": {},
   "outputs": [
    {
     "name": "stdout",
     "output_type": "stream",
     "text": [
      "brand Ford\n",
      "year 1964\n"
     ]
    }
   ],
   "source": [
    "## Loop through both keys and values, by using the items() method:\n",
    "\n",
    "for x, y in thisdict.items():\n",
    "  print(x, y)"
   ]
  },
  {
   "cell_type": "code",
   "execution_count": 76,
   "id": "f59573f9",
   "metadata": {},
   "outputs": [
    {
     "name": "stdout",
     "output_type": "stream",
     "text": [
      "{'brand': 'Ford', 'model': 'Mustang', 'year': 1964}\n"
     ]
    }
   ],
   "source": [
    "## Make a copy of a dictionary with the copy() method:\n",
    "\n",
    "thisdict = {\n",
    "  \"brand\": \"Ford\",\n",
    "  \"model\": \"Mustang\",\n",
    "  \"year\": 1964\n",
    "}\n",
    "mydict = thisdict.copy()\n",
    "print(mydict)"
   ]
  },
  {
   "cell_type": "code",
   "execution_count": 59,
   "id": "e288ed7d",
   "metadata": {},
   "outputs": [
    {
     "name": "stdout",
     "output_type": "stream",
     "text": [
      "{'child1': {'name': 'Emil', 'year': 2004}, 'child2': {'name': 'Tobias', 'year': 2007}, 'child3': {'name': 'Linus', 'year': 2011}}\n"
     ]
    }
   ],
   "source": [
    "## Nested Dictionaries\n",
    "## Create a dictionary that contain three dictionaries:\n",
    "\n",
    "myfamily = {\n",
    "  \"child1\" : {\n",
    "    \"name\" : \"Emil\",\n",
    "    \"year\" : 2004\n",
    "  },\n",
    "  \"child2\" : {\n",
    "    \"name\" : \"Tobias\",\n",
    "    \"year\" : 2007\n",
    "  },\n",
    "  \"child3\" : {\n",
    "    \"name\" : \"Linus\",\n",
    "    \"year\" : 2011\n",
    "  }\n",
    "}\n",
    "print(myfamily)"
   ]
  },
  {
   "cell_type": "code",
   "execution_count": null,
   "id": "9bb99e3d",
   "metadata": {},
   "outputs": [],
   "source": []
  },
  {
   "cell_type": "code",
   "execution_count": null,
   "id": "a33c056f",
   "metadata": {},
   "outputs": [],
   "source": []
  },
  {
   "cell_type": "code",
   "execution_count": null,
   "id": "f4aa3b23",
   "metadata": {},
   "outputs": [],
   "source": []
  },
  {
   "cell_type": "code",
   "execution_count": null,
   "id": "b4e8e1de",
   "metadata": {},
   "outputs": [],
   "source": []
  },
  {
   "cell_type": "code",
   "execution_count": null,
   "id": "dcb86121",
   "metadata": {},
   "outputs": [],
   "source": []
  },
  {
   "cell_type": "code",
   "execution_count": null,
   "id": "53238b03",
   "metadata": {},
   "outputs": [],
   "source": [
    "<<<<<<<<<<<<<<<<<<<<<<<<<<<<<<<  conditional statement >>>>>>>>>>>>>>>>>>>>>>>>>>>>>>>>>>>>>>>>>>>"
   ]
  },
  {
   "cell_type": "code",
   "execution_count": null,
   "id": "f7630ed9",
   "metadata": {},
   "outputs": [],
   "source": [
    "<<<<<<<<<<<<<<<<<<<<<<<<<<<<<<<< if...... elif,,,,, else\n"
   ]
  },
  {
   "cell_type": "code",
   "execution_count": 79,
   "id": "0f4cb571",
   "metadata": {},
   "outputs": [
    {
     "name": "stdout",
     "output_type": "stream",
     "text": [
      "a and b are equal\n"
     ]
    }
   ],
   "source": [
    "a = 33\n",
    "b = 33\n",
    "if b > a:\n",
    "  print(\"b is greater than a\")\n",
    "elif a == b:\n",
    "  print(\"a and b are equal\")\n"
   ]
  },
  {
   "cell_type": "code",
   "execution_count": 80,
   "id": "ef8e920f",
   "metadata": {},
   "outputs": [
    {
     "name": "stdout",
     "output_type": "stream",
     "text": [
      "a is greater than b\n"
     ]
    }
   ],
   "source": [
    "a = 200\n",
    "b = 33\n",
    "if b > a:\n",
    "  print(\"b is greater than a\")\n",
    "elif a == b:\n",
    "  print(\"a and b are equal\")\n",
    "else:\n",
    "  print(\"a is greater than b\")"
   ]
  },
  {
   "cell_type": "code",
   "execution_count": null,
   "id": "325c588e",
   "metadata": {},
   "outputs": [],
   "source": []
  },
  {
   "cell_type": "code",
   "execution_count": null,
   "id": "0b40b662",
   "metadata": {},
   "outputs": [],
   "source": []
  },
  {
   "cell_type": "code",
   "execution_count": null,
   "id": "20d29430",
   "metadata": {},
   "outputs": [],
   "source": []
  },
  {
   "cell_type": "code",
   "execution_count": null,
   "id": "07fc1e7e",
   "metadata": {},
   "outputs": [],
   "source": []
  },
  {
   "cell_type": "code",
   "execution_count": 61,
   "id": "4c556ea6",
   "metadata": {},
   "outputs": [
    {
     "ename": "SyntaxError",
     "evalue": "invalid syntax (<ipython-input-61-8df03384af99>, line 3)",
     "output_type": "error",
     "traceback": [
      "\u001b[1;36m  File \u001b[1;32m\"<ipython-input-61-8df03384af99>\"\u001b[1;36m, line \u001b[1;32m3\u001b[0m\n\u001b[1;33m    A function is a block of code which only runs when it is called.\u001b[0m\n\u001b[1;37m      ^\u001b[0m\n\u001b[1;31mSyntaxError\u001b[0m\u001b[1;31m:\u001b[0m invalid syntax\n"
     ]
    }
   ],
   "source": [
    "###<<<<<<<<<<<<<<<<<<<<<<<<<<<<<<<<<<<<<<    Function    <<<<<<<<<<<<<<<<<<<<<<<<<<<<<<<<<<<<<<<<<<<   calling function  >>>>>>>>>>>>>>>>>>>>>>>>>>>>>>>>>>\n",
    "\n",
    "A function is a block of code which only runs when it is called.\n",
    "\n",
    "You can pass data, known as parameters, into a function.\n",
    "\n",
    "A function can return data as a result.\n",
    "\n",
    "Creating a Function\n",
    "In Python a function is defined using the def keyword:\n",
    "\n",
    "Example\n",
    "def my_function():\n",
    "  print(\"Hello from a function\")"
   ]
  },
  {
   "cell_type": "code",
   "execution_count": 81,
   "id": "ebbb34f2",
   "metadata": {},
   "outputs": [
    {
     "name": "stdout",
     "output_type": "stream",
     "text": [
      "Hello from a function\n"
     ]
    }
   ],
   "source": [
    "def my_function():\n",
    "  print(\"Hello from a function\")\n",
    "\n",
    "my_function()"
   ]
  },
  {
   "cell_type": "code",
   "execution_count": null,
   "id": "a69f3ccd",
   "metadata": {},
   "outputs": [],
   "source": [
    "## Arbitrary Arguments, *args\n",
    "\n",
    "\n",
    "If you do not know how many arguments that will be passed into your function, add a * before the parameter name in the function definition.\n",
    "\n",
    "This way the function will receive a tuple of arguments, and can access the items accordingly:\n",
    "\n",
    "Example\n",
    "If the number of arguments is unknown, add a * before the parameter name:\n",
    "\n"
   ]
  },
  {
   "cell_type": "code",
   "execution_count": 84,
   "id": "5692fa36",
   "metadata": {},
   "outputs": [
    {
     "name": "stdout",
     "output_type": "stream",
     "text": [
      "The youngest child is Linus\n"
     ]
    }
   ],
   "source": [
    "def my_function(*kids):\n",
    "  print(\"The youngest child is \" + kids[2]) \n",
    "\n",
    "my_function(\"Emil\", \"Tobias\", \"Linus\")"
   ]
  },
  {
   "cell_type": "code",
   "execution_count": null,
   "id": "b78f2769",
   "metadata": {},
   "outputs": [],
   "source": [
    "## Arbitrary Keyword Arguments, **kwargs\n",
    "\n",
    "If you do not know how many keyword arguments that will be passed into your function, add two asterisk: ** before the parameter name in the function definition.\n",
    "\n",
    "This way the function will receive a dictionary of arguments, and can access the items accordingly:\n",
    "\n",
    "Example\n",
    "If the number of keyword arguments is unknown, add a double ** before the parameter name:\n",
    "\n"
   ]
  },
  {
   "cell_type": "code",
   "execution_count": 85,
   "id": "5cf03d79",
   "metadata": {},
   "outputs": [
    {
     "name": "stdout",
     "output_type": "stream",
     "text": [
      "His last name is Refsnes\n"
     ]
    }
   ],
   "source": [
    "def my_function(**kid):\n",
    "  print(\"His last name is \" + kid[\"lname\"])\n",
    "\n",
    "my_function(fname = \"Tobias\", lname = \"Refsnes\")"
   ]
  },
  {
   "cell_type": "code",
   "execution_count": null,
   "id": "2f574183",
   "metadata": {},
   "outputs": [],
   "source": []
  },
  {
   "cell_type": "code",
   "execution_count": null,
   "id": "1fa04c1c",
   "metadata": {},
   "outputs": [],
   "source": []
  },
  {
   "cell_type": "code",
   "execution_count": null,
   "id": "a16ed829",
   "metadata": {},
   "outputs": [],
   "source": [
    "### OOP class and objects <<<<<<<<<<<<<<<<<<<<<<<<<<<<<<<<<<<<<<<<<<<<>>>>>>>>>>>>>>>>>>>>>>>>>>>>>>>>>>>>>>>>>"
   ]
  },
  {
   "cell_type": "code",
   "execution_count": null,
   "id": "092f5122",
   "metadata": {},
   "outputs": [],
   "source": []
  },
  {
   "cell_type": "code",
   "execution_count": null,
   "id": "2e56ae01",
   "metadata": {},
   "outputs": [],
   "source": []
  },
  {
   "cell_type": "code",
   "execution_count": 60,
   "id": "0aa6a5a2",
   "metadata": {},
   "outputs": [
    {
     "name": "stdout",
     "output_type": "stream",
     "text": [
      "John 36\n"
     ]
    }
   ],
   "source": [
    "## The __init__() Function  and self\n",
    "\n",
    "#Example\n",
    "# Create a class named Person, use the __init__() function to assign values for name and age:\n",
    "\n",
    "class Person:\n",
    "  def __init__(self, name, age):\n",
    "    self.name = name\n",
    "    self.age = age\n",
    "\n",
    "p1 = Person(\"John\", 36)\n",
    "\n",
    "print(p1.name,p1.age)"
   ]
  },
  {
   "cell_type": "code",
   "execution_count": 93,
   "id": "205cab9e",
   "metadata": {},
   "outputs": [
    {
     "name": "stdout",
     "output_type": "stream",
     "text": [
      "Hello my name is John\n"
     ]
    }
   ],
   "source": [
    "## Insert a function that prints a greeting, and execute it on the p1 object:\n",
    "\n",
    "class Person:\n",
    "  def __init__(self, name, age):\n",
    "    self.name = name\n",
    "    self.age = age\n",
    "\n",
    "  def myfunc(self):\n",
    "    print(\"Hello my name is \" + self.name)\n",
    "\n",
    "p1 = Person(\"John\", 36)\n",
    "p1.myfunc()\n"
   ]
  },
  {
   "cell_type": "code",
   "execution_count": null,
   "id": "1914456b",
   "metadata": {},
   "outputs": [],
   "source": [
    "### Iterator vs Iterable\n",
    "Lists, tuples, dictionaries, and sets are all iterable objects. They are iterable containers which you can get an iterator from.\n",
    "\n",
    "All these objects have a iter() method which is used to get an iterator:\n",
    "\n",
    "Example\n",
    "Return an iterator from a tuple, and print each value:\n"
   ]
  },
  {
   "cell_type": "code",
   "execution_count": 95,
   "id": "6b8a416c",
   "metadata": {},
   "outputs": [
    {
     "name": "stdout",
     "output_type": "stream",
     "text": [
      "apple\n",
      "banana\n",
      "cherry\n"
     ]
    }
   ],
   "source": [
    "\n",
    "mytuple = (\"apple\", \"banana\", \"cherry\")\n",
    "myit = iter(mytuple)\n",
    "\n",
    "print(next(myit))\n",
    "print(next(myit))\n",
    "print(next(myit))"
   ]
  },
  {
   "cell_type": "code",
   "execution_count": 102,
   "id": "2283c23f",
   "metadata": {},
   "outputs": [
    {
     "name": "stdout",
     "output_type": "stream",
     "text": [
      "it is even number\n"
     ]
    }
   ],
   "source": [
    "num = 108\n",
    "if num%2 == 0:\n",
    "    print(\"it is even number\")\n",
    "else:\n",
    "    print(\" its odd number\")"
   ]
  },
  {
   "cell_type": "code",
   "execution_count": 18,
   "id": "fc4a8332",
   "metadata": {},
   "outputs": [
    {
     "name": "stdout",
     "output_type": "stream",
     "text": [
      "enter any number6\n",
      "even no\n"
     ]
    }
   ],
   "source": [
    "num = int(input(\"enter any number\"))\n",
    "if num%2 ==0:\n",
    "    print(\"even no\")\n",
    "else:\n",
    "        print(\"odd\")"
   ]
  },
  {
   "cell_type": "code",
   "execution_count": 110,
   "id": "88a96aa5",
   "metadata": {},
   "outputs": [
    {
     "name": "stdout",
     "output_type": "stream",
     "text": [
      "enter any nuber12\n",
      "prime not number\n",
      "prime not number\n",
      "prime not number\n",
      " prime num\n",
      "prime not number\n",
      " prime num\n",
      " prime num\n",
      " prime num\n",
      " prime num\n",
      " prime num\n"
     ]
    }
   ],
   "source": [
    "num = int(input(\"enter any nuber\"))\n",
    "\n",
    "for i in range(2,num):\n",
    "    if (num%i) == 0:\n",
    "        print(\"prime not number\")\n",
    "    else:\n",
    "        print(\" prime num\")\n",
    "        "
   ]
  },
  {
   "cell_type": "code",
   "execution_count": 14,
   "id": "612f62cf",
   "metadata": {},
   "outputs": [
    {
     "name": "stdout",
     "output_type": "stream",
     "text": [
      "[(0, 'apple'), (1, 'mango'), (2, 'hello')]\n"
     ]
    }
   ],
   "source": [
    "enum = [\"apple\",\"mango\",\"hello\"]                              ##  important\n",
    "enum1 =  enumerate(enum)\n",
    "print(list(enum1))"
   ]
  },
  {
   "cell_type": "code",
   "execution_count": 28,
   "id": "2ce31409",
   "metadata": {},
   "outputs": [
    {
     "name": "stdout",
     "output_type": "stream",
     "text": [
      "enter any nummadam\n",
      "pallidrome\n"
     ]
    }
   ],
   "source": [
    "## pallidrome nurse                                                 important\n",
    "pal = input(\"enter any num\")\n",
    "reverse = pal[::-1]\n",
    "\n",
    "if (pal==reverse):\n",
    "    print(\"pallidrome\")\n",
    "else:\n",
    "    print(\"not pallidrome\")\n"
   ]
  },
  {
   "cell_type": "code",
   "execution_count": 63,
   "id": "c822fdd1",
   "metadata": {},
   "outputs": [],
   "source": [
    "def name():\n",
    "    print(\"hello\")"
   ]
  },
  {
   "cell_type": "code",
   "execution_count": 65,
   "id": "c8f635ab",
   "metadata": {},
   "outputs": [
    {
     "name": "stdout",
     "output_type": "stream",
     "text": [
      "hello\n"
     ]
    }
   ],
   "source": [
    "name()"
   ]
  },
  {
   "cell_type": "code",
   "execution_count": 79,
   "id": "9f3c0b27",
   "metadata": {},
   "outputs": [
    {
     "name": "stdout",
     "output_type": "stream",
     "text": [
      "['hello']\n",
      "['hello']\n",
      "['hello']\n"
     ]
    }
   ],
   "source": [
    "li = [\"hello\",\"name\",\"jhfguy4w\"]              ## list comperhension\n",
    "newlist = []\n",
    "for x in li:\n",
    "    if \"o\" in x:\n",
    "        newlist.append(x)\n",
    "    print(newlist)"
   ]
  },
  {
   "cell_type": "code",
   "execution_count": 86,
   "id": "f0dcd966",
   "metadata": {},
   "outputs": [
    {
     "name": "stdout",
     "output_type": "stream",
     "text": [
      "['mango', 'anan', 'mmfnsjzfshfuahefsehijdfnewfniranjan']\n"
     ]
    }
   ],
   "source": [
    "fruits = [\"apple\",\"mango\",\"cherry\",\"anan\",\"mmfnsjzfshfuahefsehijdfnewfniranjan\"]\n",
    "newlist = []\n",
    "for x in fruits:\n",
    " if \"n\" in x:\n",
    "        newlist.append(x)\n",
    "print(newlist)"
   ]
  },
  {
   "cell_type": "code",
   "execution_count": 27,
   "id": "4bbb1965",
   "metadata": {},
   "outputs": [
    {
     "name": "stdout",
     "output_type": "stream",
     "text": [
      "enter any number3\n",
      "1\n",
      "2\n",
      "6\n"
     ]
    }
   ],
   "source": [
    "num = int(input(\"enter any number\"))    ## factorial  important\n",
    "factorial = 1\n",
    "\n",
    "for i in range(1,num+1):\n",
    "        factorial = factorial*i\n",
    "        print(factorial)"
   ]
  },
  {
   "cell_type": "code",
   "execution_count": 12,
   "id": "05b81618",
   "metadata": {},
   "outputs": [
    {
     "name": "stdout",
     "output_type": "stream",
     "text": [
      "Enter a number: 12\n",
      "The factorial of 12 is 479001600\n"
     ]
    }
   ],
   "source": [
    "num = int(input(\"Enter a number: \"))                                          ##  important factorial\n",
    "factorial = 1   \n",
    "if num < 0:    \n",
    "   print(\" Factorial does not exist for negative numbers\")    \n",
    "elif num == 0:    \n",
    "   print(\"The factorial of 0 is 1\")    \n",
    "else:    \n",
    "   for i in range(1,num + 1):    \n",
    "       factorial = factorial*i    \n",
    "   print(\"The factorial of\",num,\"is\",factorial)    "
   ]
  },
  {
   "cell_type": "code",
   "execution_count": 3,
   "id": "42d78229",
   "metadata": {},
   "outputs": [
    {
     "name": "stdout",
     "output_type": "stream",
     "text": [
      "['a', 'b', 'c']\n"
     ]
    }
   ],
   "source": [
    "## How to convert object to list  (using map())                                  important\n",
    "letter_list = [\"A\", \"B\", \"C\"]\n",
    "\n",
    "map_object = map(str.lower, letter_list)\n",
    "\n",
    "\n",
    "\n",
    "converted_list = list(map_object)\n",
    "\n",
    "\n",
    "\n",
    "print(converted_list)\n"
   ]
  },
  {
   "cell_type": "code",
   "execution_count": 12,
   "id": "55f154ed",
   "metadata": {},
   "outputs": [
    {
     "name": "stdout",
     "output_type": "stream",
     "text": [
      "[6, 7, 8, 9, 12]\n"
     ]
    }
   ],
   "source": [
    "### <<<<<<<<<<<<<<<<<,Filter() >>>>>>>>>>>>>>>><<<<<<<<<<<<<<<<<<<<<                  important\n",
    "list1 = [1,2,3,4,5,6,7,8,9,12]\n",
    "def greater(num):\n",
    "    return num>5\n",
    "greater  = list(filter(greater,list1))\n",
    "print(greater)"
   ]
  },
  {
   "cell_type": "code",
   "execution_count": 36,
   "id": "9a0bc08a",
   "metadata": {},
   "outputs": [
    {
     "name": "stdout",
     "output_type": "stream",
     "text": [
      "120\n"
     ]
    }
   ],
   "source": [
    "## Reduce() use lambda   important\n",
    "from functools import reduce\n",
    "list1 = [1,2,3,4,5]\n",
    "num = reduce(lambda a,b: a*b,list1)\n",
    "print(num)"
   ]
  },
  {
   "cell_type": "code",
   "execution_count": 113,
   "id": "e499062e",
   "metadata": {},
   "outputs": [
    {
     "name": "stdout",
     "output_type": "stream",
     "text": [
      "[('niranjan', 30), ('kapil', 12), ('java', 34)]\n"
     ]
    }
   ],
   "source": [
    "###  zip()                                                                          important\n",
    "\n",
    "name = [\"niranjan\",\"kapil\",\"java\"]\n",
    "age = [30,12,34,56]\n",
    "zipped = list(zip(name,age))\n",
    "print(zipped)"
   ]
  },
  {
   "cell_type": "code",
   "execution_count": 38,
   "id": "4e10ac4e",
   "metadata": {},
   "outputs": [
    {
     "data": {
      "text/plain": [
       "['my', 'name', 'is', 'niranjan']"
      ]
     },
     "execution_count": 38,
     "metadata": {},
     "output_type": "execute_result"
    }
   ],
   "source": [
    "### split         it means seperator                                                                      important\n",
    "name = \"my name is niranjan\"\n",
    "name.split()\n"
   ]
  },
  {
   "cell_type": "code",
   "execution_count": 50,
   "id": "aa1673fb",
   "metadata": {},
   "outputs": [
    {
     "name": "stdout",
     "output_type": "stream",
     "text": [
      "niranjankumar\n"
     ]
    }
   ],
   "source": [
    "### join   ()                                                              important\n",
    "name = [\"niranjan\",\"kumar\"]\n",
    "print(\"\".join(name))\n"
   ]
  },
  {
   "cell_type": "code",
   "execution_count": 35,
   "id": "afe2597f",
   "metadata": {},
   "outputs": [
    {
     "name": "stdout",
     "output_type": "stream",
     "text": [
      "((12, 23), (2, 45), (34, 67), (56, 78), (78, 12))\n"
     ]
    }
   ],
   "source": [
    "dc = [12,2,34,56,78]\n",
    "cd = [23,45,67,78,12]\n",
    "vd = tuple(zip(dc,cd))\n",
    "print(vd)"
   ]
  },
  {
   "cell_type": "code",
   "execution_count": 68,
   "id": "287cf0cc",
   "metadata": {},
   "outputs": [
    {
     "name": "stdout",
     "output_type": "stream",
     "text": [
      "my name is niranjan and my age is 23 \n"
     ]
    }
   ],
   "source": [
    "## formate()                                                                       important\n",
    "name = \"my name is {0} and my age is {1} \"\n",
    "print(name.format(\"niranjan\",23))"
   ]
  },
  {
   "cell_type": "code",
   "execution_count": 75,
   "id": "9e596869",
   "metadata": {},
   "outputs": [
    {
     "name": "stdout",
     "output_type": "stream",
     "text": [
      "hello kaise ho \n"
     ]
    }
   ],
   "source": [
    "## decorator                                                                         important\n",
    "def function1():\n",
    "    print(\"hello kaise ho \")\n",
    "func2 = function1\n",
    "## del function1\n",
    "func2()\n",
    "    "
   ]
  },
  {
   "cell_type": "code",
   "execution_count": 16,
   "id": "a3fe2d60",
   "metadata": {},
   "outputs": [
    {
     "name": "stdout",
     "output_type": "stream",
     "text": [
      "       name  age  roll\n",
      "0  niranjan   34  1234\n",
      "1     kumar   34  1235\n",
      "2     verma   56   456\n"
     ]
    }
   ],
   "source": [
    "### Pandas and numpy                                                         important\n",
    "import pandas as pd\n",
    "import numpy as np\n",
    "dict1 = {\n",
    "    'name':[\"niranjan\",\"kumar\",\"verma\"],\n",
    "    'age':[34,34,56],\n",
    "    'roll':[1234,1235,456]\n",
    "}\n",
    "x = pd.DataFrame(dict1)\n",
    "print(x)"
   ]
  },
  {
   "cell_type": "code",
   "execution_count": 17,
   "id": "1dbd66b8",
   "metadata": {},
   "outputs": [],
   "source": [
    "x.to_csv(\"friends\")"
   ]
  },
  {
   "cell_type": "code",
   "execution_count": 18,
   "id": "8bf39593",
   "metadata": {},
   "outputs": [
    {
     "data": {
      "text/html": [
       "<div>\n",
       "<style scoped>\n",
       "    .dataframe tbody tr th:only-of-type {\n",
       "        vertical-align: middle;\n",
       "    }\n",
       "\n",
       "    .dataframe tbody tr th {\n",
       "        vertical-align: top;\n",
       "    }\n",
       "\n",
       "    .dataframe thead th {\n",
       "        text-align: right;\n",
       "    }\n",
       "</style>\n",
       "<table border=\"1\" class=\"dataframe\">\n",
       "  <thead>\n",
       "    <tr style=\"text-align: right;\">\n",
       "      <th></th>\n",
       "      <th>name</th>\n",
       "      <th>age</th>\n",
       "      <th>roll</th>\n",
       "    </tr>\n",
       "  </thead>\n",
       "  <tbody>\n",
       "    <tr>\n",
       "      <th>0</th>\n",
       "      <td>niranjan</td>\n",
       "      <td>34</td>\n",
       "      <td>1234</td>\n",
       "    </tr>\n",
       "    <tr>\n",
       "      <th>1</th>\n",
       "      <td>kumar</td>\n",
       "      <td>34</td>\n",
       "      <td>1235</td>\n",
       "    </tr>\n",
       "  </tbody>\n",
       "</table>\n",
       "</div>"
      ],
      "text/plain": [
       "       name  age  roll\n",
       "0  niranjan   34  1234\n",
       "1     kumar   34  1235"
      ]
     },
     "execution_count": 18,
     "metadata": {},
     "output_type": "execute_result"
    }
   ],
   "source": [
    "x.head(2)"
   ]
  },
  {
   "cell_type": "code",
   "execution_count": 10,
   "id": "df08ffed",
   "metadata": {},
   "outputs": [
    {
     "name": "stdout",
     "output_type": "stream",
     "text": [
      "    October 2021\n",
      "Mo Tu We Th Fr Sa Su\n",
      "             1  2  3\n",
      " 4  5  6  7  8  9 10\n",
      "11 12 13 14 15 16 17\n",
      "18 19 20 21 22 23 24\n",
      "25 26 27 28 29 30 31\n",
      "\n"
     ]
    }
   ],
   "source": [
    "                                                                         ##Important\n",
    "import calendar                        \n",
    "yy = 2021\n",
    "mm = 10\n",
    "print(calendar. month(yy,mm))"
   ]
  },
  {
   "cell_type": "code",
   "execution_count": 12,
   "id": "83fb550c",
   "metadata": {},
   "outputs": [
    {
     "name": "stdout",
     "output_type": "stream",
     "text": [
      "2021-10-19 09:14:39.826010\n"
     ]
    }
   ],
   "source": [
    "## Datatime \n",
    "import datetime \n",
    "\n",
    "print(datetime.datetime.now())\n",
    "\n"
   ]
  },
  {
   "cell_type": "code",
   "execution_count": 109,
   "id": "0d4381f0",
   "metadata": {},
   "outputs": [
    {
     "name": "stdout",
     "output_type": "stream",
     "text": [
      "False\n",
      "None\n",
      "True\n",
      "and\n",
      "as\n",
      "assert\n",
      "async\n",
      "await\n",
      "break\n",
      "class\n",
      "continue\n",
      "def\n",
      "del\n",
      "elif\n",
      "else\n",
      "except\n",
      "finally\n",
      "for\n",
      "from\n",
      "global\n",
      "if\n",
      "import\n",
      "in\n",
      "is\n",
      "lambda\n",
      "nonlocal\n",
      "not\n",
      "or\n",
      "pass\n",
      "raise\n",
      "return\n",
      "try\n",
      "while\n",
      "with\n",
      "yield\n"
     ]
    }
   ],
   "source": [
    "## all key word print python                                                               Important\n",
    "import keyword\n",
    "keywords = keyword.kwlist\n",
    "for key in keywords:\n",
    "    print(key)"
   ]
  },
  {
   "cell_type": "code",
   "execution_count": 147,
   "id": "3c884289",
   "metadata": {},
   "outputs": [
    {
     "name": "stdout",
     "output_type": "stream",
     "text": [
      "10\n"
     ]
    }
   ],
   "source": [
    "## ternary operator in python                                               Important\n",
    "a, b = 10, 20\n",
    " \n",
    "# Copy value of a in min if a < b else copy b\n",
    "min = a if a < b else b\n",
    " \n",
    "print(min)"
   ]
  },
  {
   "cell_type": "code",
   "execution_count": 154,
   "id": "d3cd22ee",
   "metadata": {},
   "outputs": [
    {
     "name": "stdout",
     "output_type": "stream",
     "text": [
      "12\n",
      " this is functions which will calculate average two number\n"
     ]
    }
   ],
   "source": [
    "## document string                                                                    Important  very very\n",
    "def function(a,b):\n",
    "    \"\"\" this is functions which will sum of  two number\"\"\"\n",
    "    sum = a+b\n",
    "    return sum\n",
    "v = function(5,7)\n",
    "print(v)\n",
    "print(function.__doc__)"
   ]
  },
  {
   "cell_type": "code",
   "execution_count": 157,
   "id": "973d7c73",
   "metadata": {},
   "outputs": [
    {
     "name": "stdout",
     "output_type": "stream",
     "text": [
      "what is your name: hhh\n"
     ]
    }
   ],
   "source": [
    "## Raise exception\n",
    "a= input(\"what is your name: \")\n",
    "if a.isnumeric():\n",
    "    raise Exception(\"Number are not allowed\")"
   ]
  },
  {
   "cell_type": "code",
   "execution_count": 169,
   "id": "fd248f3e",
   "metadata": {},
   "outputs": [],
   "source": [
    "### pickling  and unpickling                                                     very very  important\n",
    "import pickle\n",
    "cars = [\"bmw\",\"audi\",\"maruti\"]\n",
    "file = \"mycar.pkl\"\n",
    "fileobj = open(file,'wb')\n",
    "pickle.dump(cars,fileobj)\n",
    "fileobj.close()"
   ]
  },
  {
   "cell_type": "code",
   "execution_count": 170,
   "id": "9f5b8332",
   "metadata": {},
   "outputs": [
    {
     "name": "stdout",
     "output_type": "stream",
     "text": [
      "['bmw', 'audi', 'maruti']\n"
     ]
    }
   ],
   "source": [
    "## unpickling                                    important\n",
    "file = \"mycar.pkl\"\n",
    "fileobj = open(file,'rb')\n",
    "mycar = pickle.load(fileobj)\n",
    "print(mycar)"
   ]
  },
  {
   "cell_type": "code",
   "execution_count": 48,
   "id": "96c9381d",
   "metadata": {},
   "outputs": [
    {
     "ename": "ModuleNotFoundError",
     "evalue": "No module named 'monk'",
     "output_type": "error",
     "traceback": [
      "\u001b[1;31m---------------------------------------------------------------------------\u001b[0m",
      "\u001b[1;31mModuleNotFoundError\u001b[0m                       Traceback (most recent call last)",
      "\u001b[1;32m<ipython-input-48-09bf4973b864>\u001b[0m in \u001b[0;36m<module>\u001b[1;34m\u001b[0m\n\u001b[0;32m      1\u001b[0m \u001b[1;31m### monkey patching   run time modefications\u001b[0m\u001b[1;33m\u001b[0m\u001b[1;33m\u001b[0m\u001b[1;33m\u001b[0m\u001b[0m\n\u001b[1;32m----> 2\u001b[1;33m \u001b[1;32mimport\u001b[0m \u001b[0mmonk\u001b[0m\u001b[1;33m\u001b[0m\u001b[1;33m\u001b[0m\u001b[0m\n\u001b[0m\u001b[0;32m      3\u001b[0m \u001b[1;32mdef\u001b[0m \u001b[0mfun1\u001b[0m\u001b[1;33m(\u001b[0m\u001b[1;33m)\u001b[0m\u001b[1;33m:\u001b[0m\u001b[1;33m\u001b[0m\u001b[1;33m\u001b[0m\u001b[0m\n\u001b[0;32m      4\u001b[0m     \u001b[0mprint\u001b[0m\u001b[1;33m(\u001b[0m\u001b[1;34m\"hello dear\"\u001b[0m\u001b[1;33m)\u001b[0m\u001b[1;33m\u001b[0m\u001b[1;33m\u001b[0m\u001b[0m\n\u001b[0;32m      5\u001b[0m \u001b[0mobj\u001b[0m \u001b[1;33m=\u001b[0m \u001b[0mmonk\u001b[0m\u001b[1;33m.\u001b[0m\u001b[0ma\u001b[0m\u001b[1;33m(\u001b[0m\u001b[1;33m)\u001b[0m\u001b[1;33m\u001b[0m\u001b[1;33m\u001b[0m\u001b[0m\n",
      "\u001b[1;31mModuleNotFoundError\u001b[0m: No module named 'monk'"
     ]
    }
   ],
   "source": [
    "### monkey patching   run time modefications\n",
    "import monk\n",
    "def fun1():\n",
    "    print(\"hello dear\")\n",
    "obj = monk.a()\n",
    "obj.fun = fun1()\n",
    "obj.fun()"
   ]
  },
  {
   "cell_type": "code",
   "execution_count": 45,
   "id": "aa001088",
   "metadata": {},
   "outputs": [],
   "source": [
    "##  Difference between Generator and iterator\n",
    "def generator():\n",
    "    for i in range(6):\n",
    "        yield i+1\n",
    "        t= generator()\n",
    "        \n",
    "        for i in t:\n",
    "            print(i)\n",
    "    "
   ]
  },
  {
   "cell_type": "code",
   "execution_count": 41,
   "id": "04690369",
   "metadata": {},
   "outputs": [],
   "source": [
    "def mygenerator(n):\n",
    "    for i in mygenerator(10):\n",
    "        print(i)"
   ]
  },
  {
   "cell_type": "code",
   "execution_count": 12,
   "id": "3b7e529b",
   "metadata": {},
   "outputs": [
    {
     "name": "stdout",
     "output_type": "stream",
     "text": [
      "h\n",
      "e\n",
      "l\n",
      "l\n",
      "o\n"
     ]
    }
   ],
   "source": [
    "## iterator\n",
    "num  = \"hello\"\n",
    "for i in num:\n",
    "    print(i)"
   ]
  },
  {
   "cell_type": "code",
   "execution_count": 28,
   "id": "31b69b6b",
   "metadata": {},
   "outputs": [
    {
     "name": "stdout",
     "output_type": "stream",
     "text": [
      "Niranjan\n",
      "1233\n",
      "developer\n"
     ]
    }
   ],
   "source": [
    "## self keyword\n",
    "\n",
    "class Student:\n",
    "    \n",
    "    def printdetail(self):\n",
    "        self.name = \"name\"\n",
    "        self.salary = \"salary\"\n",
    "        self.role = \"role\"\n",
    "Niranjan = Student()\n",
    "Niranjan.name = \"Niranjan\"\n",
    "Niranjan.salary = 1233\n",
    "Niranjan.role = \"developer\"\n",
    "\n",
    "print(Niranjan.name)\n",
    "print(Niranjan.salary)\n",
    "print(Niranjan.role)"
   ]
  },
  {
   "cell_type": "code",
   "execution_count": 52,
   "id": "aa453d41",
   "metadata": {},
   "outputs": [
    {
     "name": "stdout",
     "output_type": "stream",
     "text": [
      "Niranjan\n",
      "1234\n",
      "software\n"
     ]
    }
   ],
   "source": [
    "### __init__ method\n",
    "class Student:\n",
    "    def __init__(self,name,salary,role):\n",
    "        self.name = name\n",
    "        self.salary = salary\n",
    "        self.role = role\n",
    "        \n",
    "    \n",
    "  ##  def printdetail(self):\n",
    "    #    return f\"name is {self.name}.salary is {self.salary} and role is {self.role}\"\n",
    "Niranjan = Student(\"Niranjan\",1234,\"software\")\n",
    "\n",
    "\n",
    "print(Niranjan.name)\n",
    "print(Niranjan.salary)\n",
    "print(Niranjan.role)"
   ]
  },
  {
   "cell_type": "code",
   "execution_count": 77,
   "id": "07b03c6c",
   "metadata": {},
   "outputs": [
    {
     "name": "stdout",
     "output_type": "stream",
     "text": [
      "niranjan\n",
      "rohan\n"
     ]
    }
   ],
   "source": [
    "## * args and **kwargs\n",
    "def funargs(*args):\n",
    "    for item in args:\n",
    "        print(item)\n",
    "har = [\"niranjan\",\"rohan\"]\n",
    "funargs(*har)"
   ]
  },
  {
   "cell_type": "code",
   "execution_count": 73,
   "id": "31bd6d8f",
   "metadata": {},
   "outputs": [
    {
     "name": "stdout",
     "output_type": "stream",
     "text": [
      "arg1: Geeks\n",
      "arg2: for\n",
      "arg3: Geeks\n",
      "arg1: Geeks\n",
      "arg2: for\n",
      "arg3: Geeks\n"
     ]
    }
   ],
   "source": [
    "## **kwargs\n",
    "\n",
    "def myFun(arg1, arg2, arg3):\n",
    "    print(\"arg1:\", arg1)\n",
    "    print(\"arg2:\", arg2)\n",
    "    print(\"arg3:\", arg3)\n",
    "\n",
    "# Now we can use *args or **kwargs to\n",
    "# pass arguments to this function :\n",
    "args = (\"Geeks\", \"for\", \"Geeks\")\n",
    "myFun(*args)\n",
    "\n",
    "kwargs = {\"arg1\" : \"Geeks\", \"arg2\" : \"for\", \"arg3\" : \"Geeks\"}\n",
    "myFun(**kwargs)"
   ]
  },
  {
   "cell_type": "code",
   "execution_count": 32,
   "id": "34681aaf",
   "metadata": {},
   "outputs": [],
   "source": [
    "def generator():\n",
    "    for i in range(6):\n",
    "        yield i+1\n",
    "        t= generator\n",
    "        \n",
    "        for i in t:\n",
    "            print(i)"
   ]
  },
  {
   "cell_type": "code",
   "execution_count": 15,
   "id": "11bfdc2f",
   "metadata": {},
   "outputs": [
    {
     "name": "stdout",
     "output_type": "stream",
     "text": [
      "{'name': 'Niranjan', 'name1': 'kumar'}\n"
     ]
    }
   ],
   "source": [
    "## JSON\n",
    "import json\n",
    "data = '{\"name\":\"Niranjan\",\"name1\":\"kumar\"}'\n",
    "hello = json.loads(data)  ## json.dumps\n",
    "print(hello)\n"
   ]
  },
  {
   "cell_type": "code",
   "execution_count": 29,
   "id": "15b30036",
   "metadata": {},
   "outputs": [
    {
     "name": "stdout",
     "output_type": "stream",
     "text": [
      "16\n"
     ]
    }
   ],
   "source": [
    "from functools import reduce\n",
    "li = [1,2,3,4,6]\n",
    "x = reduce(lambda a,b:a+b,li);\n",
    "print(x)"
   ]
  },
  {
   "cell_type": "code",
   "execution_count": 51,
   "id": "e087d9ac",
   "metadata": {},
   "outputs": [
    {
     "name": "stdout",
     "output_type": "stream",
     "text": [
      "Hello\n"
     ]
    }
   ],
   "source": [
    "x=['a','b','c','d','e',{\"Hello\":123}]\n",
    "\n",
    "y=str(x[5].keys())\n",
    "print(y[12:17])"
   ]
  },
  {
   "cell_type": "code",
   "execution_count": 52,
   "id": "f6a3d91c",
   "metadata": {},
   "outputs": [
    {
     "name": "stdout",
     "output_type": "stream",
     "text": [
      "{'Hello'}\n"
     ]
    }
   ],
   "source": [
    "x=['a','b','c','d','e',{\"Hello\"}]\n",
    "print(x[-1])"
   ]
  },
  {
   "cell_type": "code",
   "execution_count": 53,
   "id": "afa4bc80",
   "metadata": {},
   "outputs": [
    {
     "name": "stdout",
     "output_type": "stream",
     "text": [
      "5\n"
     ]
    }
   ],
   "source": [
    "x = {\"a\":1, \"b\":2, \"c\":3,\"d\":[1,2,3,4,(5,6,7,{\"e\":5})]}\n",
    "     \n",
    "print(x[\"d\"][-1][-1]['e'])"
   ]
  },
  {
   "cell_type": "code",
   "execution_count": 15,
   "id": "d4fc94a8",
   "metadata": {},
   "outputs": [
    {
     "name": "stdout",
     "output_type": "stream",
     "text": [
      "3\n"
     ]
    }
   ],
   "source": [
    "l1 = [\"hello\",\"hii\",\"hello\"]\n",
    "print(len(l1))"
   ]
  },
  {
   "cell_type": "code",
   "execution_count": 2,
   "id": "a611c26e",
   "metadata": {},
   "outputs": [
    {
     "name": "stdout",
     "output_type": "stream",
     "text": [
      "       name  roll  id\n",
      "0  Niranjan  1234   1\n",
      "1      raju   456   3\n",
      "2      baju   345   5\n"
     ]
    }
   ],
   "source": [
    "import pandas\n",
    "dict1 = {\n",
    "    \"name\":[\"Niranjan\",\"raju\",\"baju\"],\n",
    "    \"roll\":[1234,456,345],\n",
    "    \"id\":[1,3,5]\n",
    "}\n",
    "dc = pandas.DataFrame(dict1)\n",
    "print(dc)"
   ]
  },
  {
   "cell_type": "code",
   "execution_count": 4,
   "id": "9f5f9489",
   "metadata": {},
   "outputs": [
    {
     "name": "stdout",
     "output_type": "stream",
     "text": [
      "enter any number4\n",
      "1\n",
      "2\n",
      "6\n",
      "24\n"
     ]
    }
   ],
   "source": [
    "num = int(input(\"enter any number\"))\n",
    "factorial = 1\n",
    "for i in range(1,num+1):\n",
    "    factorial = factorial*i\n",
    "    print(factorial)\n",
    "    "
   ]
  },
  {
   "cell_type": "code",
   "execution_count": 13,
   "id": "be0559e9",
   "metadata": {},
   "outputs": [
    {
     "name": "stdout",
     "output_type": "stream",
     "text": [
      "enter any number6\n",
      "2\n",
      "6\n",
      "24\n",
      "120\n",
      "720\n"
     ]
    }
   ],
   "source": [
    "num = int(input(\"enter any number\"))\n",
    "factorial = 1\n",
    "for i in range(2,num+1):\n",
    "    factorial = factorial*i\n",
    "    print(factorial)"
   ]
  },
  {
   "cell_type": "code",
   "execution_count": 21,
   "id": "79de960b",
   "metadata": {},
   "outputs": [
    {
     "name": "stdout",
     "output_type": "stream",
     "text": [
      "2  prime number\n"
     ]
    }
   ],
   "source": [
    "num=2\n",
    "num =10\n",
    "for i in range(2,num):    \n",
    "        if (num%i) == 0:\n",
    "      \n",
    "            print(num,\"not prime no\")\n",
    "        \n",
    "     \n",
    "else:\n",
    "            print(num,\" prime number\")"
   ]
  },
  {
   "cell_type": "code",
   "execution_count": 16,
   "id": "32be8633",
   "metadata": {},
   "outputs": [
    {
     "name": "stdout",
     "output_type": "stream",
     "text": [
      "Prime numbers between 1 and 100 are:\n",
      "2\n",
      "3\n",
      "5\n",
      "7\n",
      "11\n",
      "13\n",
      "17\n",
      "19\n",
      "23\n",
      "29\n",
      "31\n",
      "37\n",
      "41\n",
      "43\n",
      "47\n",
      "53\n",
      "59\n",
      "61\n",
      "67\n",
      "71\n",
      "73\n",
      "79\n",
      "83\n",
      "89\n",
      "97\n"
     ]
    }
   ],
   "source": [
    "lower = 1\n",
    "upper = 100\n",
    "\n",
    "print(\"Prime numbers between\", lower, \"and\", upper, \"are:\")\n",
    "\n",
    "for num in range(lower, upper + 1):\n",
    "   # all prime numbers are greater than 1\n",
    "   if num > 1:\n",
    "       for i in range(2, num):\n",
    "           if (num % i) == 0:\n",
    "               break\n",
    "       else:\n",
    "           print(num)"
   ]
  },
  {
   "cell_type": "code",
   "execution_count": 29,
   "id": "33a6f55c",
   "metadata": {},
   "outputs": [
    {
     "name": "stdout",
     "output_type": "stream",
     "text": [
      "<class 'int'>\n",
      "<class 'str'>\n",
      "10\n"
     ]
    }
   ],
   "source": [
    "a = 10\n",
    "print(type(a))\n",
    "y = str(a)\n",
    "print(type(y))\n",
    "print(y)\n"
   ]
  },
  {
   "cell_type": "code",
   "execution_count": 31,
   "id": "04ce4c03",
   "metadata": {},
   "outputs": [
    {
     "name": "stdout",
     "output_type": "stream",
     "text": [
      "[(0, 2), (1, 3), (2, 56), (3, 77), (4, 'hello')]\n"
     ]
    }
   ],
   "source": [
    "l1 = [2,3,56,77,\"hello\"]\n",
    "print(list(enumerate(l1)))"
   ]
  },
  {
   "cell_type": "code",
   "execution_count": 4,
   "id": "0028566c",
   "metadata": {},
   "outputs": [
    {
     "ename": "TypeError",
     "evalue": "__init__() missing 2 required positional arguments: 'name' and 'empid'",
     "output_type": "error",
     "traceback": [
      "\u001b[1;31m---------------------------------------------------------------------------\u001b[0m",
      "\u001b[1;31mTypeError\u001b[0m                                 Traceback (most recent call last)",
      "\u001b[1;32m<ipython-input-4-a8e7d1ab9070>\u001b[0m in \u001b[0;36m<module>\u001b[1;34m\u001b[0m\n\u001b[0;32m      3\u001b[0m         \u001b[0mself\u001b[0m\u001b[1;33m.\u001b[0m\u001b[0mname\u001b[0m\u001b[1;33m=\u001b[0m\u001b[0mname\u001b[0m\u001b[1;33m\u001b[0m\u001b[1;33m\u001b[0m\u001b[0m\n\u001b[0;32m      4\u001b[0m         \u001b[0mself\u001b[0m\u001b[1;33m.\u001b[0m\u001b[0mempid\u001b[0m\u001b[1;33m=\u001b[0m\u001b[0memp\u001b[0m\u001b[1;33m\u001b[0m\u001b[1;33m\u001b[0m\u001b[0m\n\u001b[1;32m----> 5\u001b[1;33m \u001b[0mobj\u001b[0m\u001b[1;33m=\u001b[0m\u001b[0mEmployee\u001b[0m\u001b[1;33m(\u001b[0m\u001b[1;33m)\u001b[0m\u001b[1;33m\u001b[0m\u001b[1;33m\u001b[0m\u001b[0m\n\u001b[0m\u001b[0;32m      6\u001b[0m \u001b[0mobj\u001b[0m\u001b[1;33m.\u001b[0m\u001b[0mEmployee\u001b[0m\u001b[1;33m(\u001b[0m\u001b[1;34m\"karan\"\u001b[0m\u001b[1;33m,\u001b[0m\u001b[1;36m12\u001b[0m\u001b[1;33m)\u001b[0m\u001b[1;33m\u001b[0m\u001b[1;33m\u001b[0m\u001b[0m\n",
      "\u001b[1;31mTypeError\u001b[0m: __init__() missing 2 required positional arguments: 'name' and 'empid'"
     ]
    }
   ],
   "source": [
    "class Employee:\n",
    "    def __init__(self,name,empid):\n",
    "        self.name=name\n",
    "        self.empid=emp\n",
    "obj=Employee()\n",
    "obj.Employee(\"karan\",12)"
   ]
  },
  {
   "cell_type": "code",
   "execution_count": 26,
   "id": "b289e30e",
   "metadata": {},
   "outputs": [
    {
     "name": "stdout",
     "output_type": "stream",
     "text": [
      "niranjan 22\n"
     ]
    }
   ],
   "source": [
    "class employee:\n",
    "    def __init__(self,name,age):\n",
    "        self.name = name\n",
    "        self.age = age\n",
    "\n",
    "n = employee(\"niranjan\",22)\n",
    "print(n.name,n.age)"
   ]
  },
  {
   "cell_type": "code",
   "execution_count": 25,
   "id": "6d1b7cdf",
   "metadata": {},
   "outputs": [
    {
     "name": "stdout",
     "output_type": "stream",
     "text": [
      "niranjan 34\n"
     ]
    }
   ],
   "source": [
    "class employee:\n",
    "    def hello(self):\n",
    "        self.name = \"name\"\n",
    "        self.age = \"age\"\n",
    "n = employee()\n",
    "n.name = \"niranjan\"\n",
    "n.age = 34\n",
    "print(n.name,n.age)"
   ]
  },
  {
   "cell_type": "code",
   "execution_count": 8,
   "id": "c0769db3",
   "metadata": {},
   "outputs": [
    {
     "name": "stdout",
     "output_type": "stream",
     "text": [
      "Niranjan\n"
     ]
    }
   ],
   "source": [
    "cap = \"niranjan\"\n",
    "print(cap.capitalize())"
   ]
  },
  {
   "cell_type": "code",
   "execution_count": 6,
   "id": "021d2069",
   "metadata": {},
   "outputs": [
    {
     "name": "stdout",
     "output_type": "stream",
     "text": [
      "hello\n",
      "hii\n"
     ]
    },
    {
     "ename": "AttributeError",
     "evalue": "'B' object has no attribute 'B'",
     "output_type": "error",
     "traceback": [
      "\u001b[1;31m---------------------------------------------------------------------------\u001b[0m",
      "\u001b[1;31mAttributeError\u001b[0m                            Traceback (most recent call last)",
      "\u001b[1;32m<ipython-input-6-9554ea54462a>\u001b[0m in \u001b[0;36m<module>\u001b[1;34m\u001b[0m\n\u001b[0;32m      3\u001b[0m \u001b[1;32mclass\u001b[0m \u001b[0mB\u001b[0m\u001b[1;33m(\u001b[0m\u001b[0mA\u001b[0m\u001b[1;33m)\u001b[0m\u001b[1;33m:\u001b[0m\u001b[1;33m\u001b[0m\u001b[1;33m\u001b[0m\u001b[0m\n\u001b[0;32m      4\u001b[0m    \u001b[0mprint\u001b[0m\u001b[1;33m(\u001b[0m\u001b[1;34m\"hii\"\u001b[0m\u001b[1;33m)\u001b[0m\u001b[1;33m\u001b[0m\u001b[1;33m\u001b[0m\u001b[0m\n\u001b[1;32m----> 5\u001b[1;33m \u001b[0mobj\u001b[0m\u001b[1;33m.\u001b[0m\u001b[0mB\u001b[0m\u001b[1;33m(\u001b[0m\u001b[1;33m)\u001b[0m\u001b[1;33m\u001b[0m\u001b[1;33m\u001b[0m\u001b[0m\n\u001b[0m\u001b[0;32m      6\u001b[0m \u001b[0mobj\u001b[0m\u001b[1;33m(\u001b[0m\u001b[0mB\u001b[0m\u001b[1;33m)\u001b[0m\u001b[1;33m\u001b[0m\u001b[1;33m\u001b[0m\u001b[0m\n\u001b[0;32m      7\u001b[0m \u001b[1;33m\u001b[0m\u001b[0m\n",
      "\u001b[1;31mAttributeError\u001b[0m: 'B' object has no attribute 'B'"
     ]
    }
   ],
   "source": [
    "class A():\n",
    "    print(\"hello\")\n",
    "class B(A):\n",
    "   print(\"hii\")\n",
    "obj.B()\n",
    "obj(B)\n",
    "    "
   ]
  },
  {
   "cell_type": "code",
   "execution_count": 41,
   "id": "be7906c9",
   "metadata": {},
   "outputs": [
    {
     "name": "stdout",
     "output_type": "stream",
     "text": [
      "1\n",
      "2\n",
      "3\n",
      "4\n",
      "5\n",
      "6\n",
      "7\n",
      "8\n",
      "9\n",
      "10\n"
     ]
    }
   ],
   "source": [
    "for i in range(1,11):\n",
    "    print(i)"
   ]
  },
  {
   "cell_type": "code",
   "execution_count": 5,
   "id": "9c9082f6",
   "metadata": {},
   "outputs": [
    {
     "name": "stdout",
     "output_type": "stream",
     "text": [
      "*****\n",
      "****\n",
      "***\n",
      "**\n",
      "*\n"
     ]
    }
   ],
   "source": [
    "n = 5\n",
    "\n",
    "for i in range(n):\n",
    "    # internal loop run for n - i times\n",
    "    for j in range(n - i):\n",
    "        print('*', end='')\n",
    "    print()"
   ]
  },
  {
   "cell_type": "code",
   "execution_count": 9,
   "id": "5d63b99d",
   "metadata": {},
   "outputs": [
    {
     "name": "stdout",
     "output_type": "stream",
     "text": [
      "Enter a number: 45\n",
      "45 is not an Armstrong number\n"
     ]
    }
   ],
   "source": [
    " num = int(input(\"Enter a number: \"))  \n",
    "sum = 0  \n",
    "temp = num  \n",
    "  \n",
    "while temp > 0:  \n",
    "   digit = temp % 10  \n",
    "   sum += digit ** 3  \n",
    "   temp //= 10  \n",
    "  \n",
    "if num == sum:  \n",
    "   print(num,\"is an Armstrong number\")  \n",
    "else:  \n",
    "   print(num,\"is not an Armstrong number\")"
   ]
  },
  {
   "cell_type": "code",
   "execution_count": 5,
   "id": "a50bad5b",
   "metadata": {},
   "outputs": [
    {
     "ename": "IndentationError",
     "evalue": "unexpected indent (<ipython-input-5-5b05046d240b>, line 5)",
     "output_type": "error",
     "traceback": [
      "\u001b[1;36m  File \u001b[1;32m\"<ipython-input-5-5b05046d240b>\"\u001b[1;36m, line \u001b[1;32m5\u001b[0m\n\u001b[1;33m    print(count)\u001b[0m\n\u001b[1;37m    ^\u001b[0m\n\u001b[1;31mIndentationError\u001b[0m\u001b[1;31m:\u001b[0m unexpected indent\n"
     ]
    }
   ],
   "source": [
    "count = 4\n",
    "def some_method():\n",
    "    global count\n",
    "    count = count+1\n",
    "       print(count)\n",
    "same_method()    "
   ]
  },
  {
   "cell_type": "code",
   "execution_count": 5,
   "id": "262f1c98",
   "metadata": {},
   "outputs": [],
   "source": [
    "def fab(n):\n",
    "    a=0\n",
    "    b=1\n",
    "    if n ==1:\n",
    "        print(a)\n",
    "    else:\n",
    "        print(a)\n",
    "        print(b)\n",
    "    for i in range(2,n):\n",
    "        c = a+b\n",
    "        a =b\n",
    "        b =c\n",
    "        print(c)"
   ]
  },
  {
   "cell_type": "code",
   "execution_count": 6,
   "id": "2f3dc014",
   "metadata": {},
   "outputs": [
    {
     "name": "stdout",
     "output_type": "stream",
     "text": [
      "0\n",
      "1\n",
      "1\n",
      "2\n",
      "3\n",
      "5\n",
      "8\n",
      "13\n",
      "21\n",
      "34\n"
     ]
    }
   ],
   "source": [
    "fab(10)"
   ]
  },
  {
   "cell_type": "code",
   "execution_count": 10,
   "id": "9f9da0f3",
   "metadata": {},
   "outputs": [
    {
     "name": "stdout",
     "output_type": "stream",
     "text": [
      "[(0, 'hello'), (1, 'hii'), (2, 'god'), (3, 'hoooo')]\n"
     ]
    }
   ],
   "source": [
    "x = [\"hello\",\"hii\",\"god\",\"hoooo\"]\n",
    "b= enumerate(x)\n",
    "print(list(b))"
   ]
  },
  {
   "cell_type": "code",
   "execution_count": 21,
   "id": "1cefbd75",
   "metadata": {},
   "outputs": [
    {
     "name": "stdout",
     "output_type": "stream",
     "text": [
      "enter any number4\n",
      "4 its not  prime \n"
     ]
    }
   ],
   "source": [
    "num = int(input(\"enter any number\"))\n",
    "if num > 1:\n",
    "    for i in range(2,num):\n",
    "        if (num % i)==0:\n",
    "            print(num,\"its not  prime \")\n",
    "            break\n",
    "    else:\n",
    "            print(num,\" prime\")\n",
    "        "
   ]
  },
  {
   "cell_type": "code",
   "execution_count": 22,
   "id": "f4329bb5",
   "metadata": {},
   "outputs": [
    {
     "name": "stdout",
     "output_type": "stream",
     "text": [
      "enter any number4\n",
      "not prime\n"
     ]
    }
   ],
   "source": [
    "num = int(input(\"enter any number\"))\n",
    "for i in range(2,num):\n",
    "    if num%i==0:\n",
    "        print(\"not prime\")\n",
    "        break\n",
    "        print(\"not prime\")"
   ]
  },
  {
   "cell_type": "code",
   "execution_count": 15,
   "id": "0bff0031",
   "metadata": {},
   "outputs": [
    {
     "name": "stdout",
     "output_type": "stream",
     "text": [
      "enter any no3\n",
      "2\n",
      "6\n"
     ]
    }
   ],
   "source": [
    "num = int(input(\"enter any no\"))\n",
    "factorial = 1\n",
    "for i in range(2,num+1):\n",
    "    factorial = factorial*i\n",
    "    print(factorial)"
   ]
  },
  {
   "cell_type": "code",
   "execution_count": 12,
   "id": "47911409",
   "metadata": {},
   "outputs": [
    {
     "name": "stdout",
     "output_type": "stream",
     "text": [
      "enter any char 121\n",
      "pallidrome no\n"
     ]
    }
   ],
   "source": [
    "s = input(\"enter any char \")\n",
    "reverse= s[::-1]\n",
    "if s == reverse:\n",
    "    print(\"pallidrome no\")\n",
    "    \n",
    "else:\n",
    "            print(\"not pallidrome no\")"
   ]
  },
  {
   "cell_type": "code",
   "execution_count": 85,
   "id": "a248eef1",
   "metadata": {},
   "outputs": [
    {
     "name": "stdout",
     "output_type": "stream",
     "text": [
      "[1, 2, 3, 4, 5, 4, 5, 67, 2, 3]\n"
     ]
    }
   ],
   "source": [
    "l1 = [1,2,3,4,5]\n",
    "l2 = [4,5,67,2,3]\n",
    "l3 = l1+l2\n",
    "print(l3)"
   ]
  },
  {
   "cell_type": "code",
   "execution_count": 9,
   "id": "d0e71b68",
   "metadata": {},
   "outputs": [
    {
     "name": "stdout",
     "output_type": "stream",
     "text": [
      "niranjankumar\n"
     ]
    }
   ],
   "source": [
    "name = \"niranjan\",\"kumar\"\n",
    "print(\"\".join(name))"
   ]
  },
  {
   "cell_type": "code",
   "execution_count": 88,
   "id": "67deb779",
   "metadata": {},
   "outputs": [
    {
     "name": "stdout",
     "output_type": "stream",
     "text": [
      "arg1 geek\n",
      "arg2 for\n",
      "arg3 geek\n",
      "arg1 geek\n",
      "arg2 for\n",
      "arg3 geek\n"
     ]
    }
   ],
   "source": [
    "def myfun(arg1,arg2,arg3):\n",
    "    print(\"arg1\",arg1)\n",
    "    print(\"arg2\",arg2)\n",
    "    print(\"arg3\",arg3)\n",
    "    \n",
    "args = (\"geek\",\"for\",\"geek\")\n",
    "myfun(*args)\n",
    "\n",
    "kwargs = {\"arg1\":\"geek\",\"arg2\":\"for\",\"arg3\":\"geek\"}\n",
    "myfun(**kwargs)"
   ]
  },
  {
   "cell_type": "code",
   "execution_count": 89,
   "id": "5a1a60e9",
   "metadata": {},
   "outputs": [
    {
     "data": {
      "text/plain": [
       "['niranjan', 'kumar', 'verma']"
      ]
     },
     "execution_count": 89,
     "metadata": {},
     "output_type": "execute_result"
    }
   ],
   "source": [
    "name = \"niranjan kumar verma\"\n",
    "name.split()"
   ]
  },
  {
   "cell_type": "code",
   "execution_count": 7,
   "id": "249f9fba",
   "metadata": {},
   "outputs": [
    {
     "name": "stdout",
     "output_type": "stream",
     "text": [
      "odd no\n"
     ]
    }
   ],
   "source": [
    "num =7\n",
    "if num%2==0:\n",
    "    print(\"even no\")\n",
    "else:\n",
    "        print(\"odd no\")"
   ]
  },
  {
   "cell_type": "code",
   "execution_count": 107,
   "id": "e1bcb1e6",
   "metadata": {},
   "outputs": [],
   "source": [
    "def fab(n):\n",
    "    a = 0\n",
    "    b= 1\n",
    "    if n== 1:\n",
    "        print(a)\n",
    "    else:\n",
    "            print(a)\n",
    "            print(b)\n",
    "            for i in range(2,n):\n",
    "                c= a+b\n",
    "                a = b\n",
    "                b= c\n",
    "                print(c)"
   ]
  },
  {
   "cell_type": "code",
   "execution_count": 108,
   "id": "8f0f62ff",
   "metadata": {},
   "outputs": [
    {
     "name": "stdout",
     "output_type": "stream",
     "text": [
      "0\n",
      "1\n",
      "1\n",
      "2\n",
      "3\n",
      "5\n",
      "8\n",
      "13\n",
      "21\n",
      "34\n"
     ]
    }
   ],
   "source": [
    "fab(10)"
   ]
  },
  {
   "cell_type": "code",
   "execution_count": 3,
   "id": "30173e5f",
   "metadata": {},
   "outputs": [
    {
     "name": "stdout",
     "output_type": "stream",
     "text": [
      "1\n"
     ]
    }
   ],
   "source": [
    "l1 = [1,2,3,4,5]\n",
    "print(l1[-5])"
   ]
  },
  {
   "cell_type": "code",
   "execution_count": 125,
   "id": "0c760a01",
   "metadata": {},
   "outputs": [
    {
     "name": "stdout",
     "output_type": "stream",
     "text": [
      "['hello', 3, 'hii', 'hello', 78, 90, 34, 'god']\n"
     ]
    }
   ],
   "source": [
    "l1 = [\"hello\",3,\"hii\",56,78,90,34,\"god\"]\n",
    "l1[3]=\"hello\"\n",
    "print(l1)"
   ]
  },
  {
   "cell_type": "code",
   "execution_count": 142,
   "id": "967754a8",
   "metadata": {},
   "outputs": [
    {
     "name": "stdout",
     "output_type": "stream",
     "text": [
      "(('hello', 'hello'), (3, 3), ('hii', 'hii'), (56, 56), (78, 78), (90, 90), (34, 34), ('god', 'god'))\n"
     ]
    }
   ],
   "source": [
    "l1 = [\"hello\",3,\"hii\",56,78,90,34,\"god\"] ## zip()\n",
    "l2 = [\"hello\",3,\"hii\",56,78,90,34,\"god\"]\n",
    "l3 = tuple(zip(l1,l2))\n",
    "print(l3)"
   ]
  },
  {
   "cell_type": "code",
   "execution_count": 4,
   "id": "23f1be8a",
   "metadata": {},
   "outputs": [
    {
     "name": "stdout",
     "output_type": "stream",
     "text": [
      "m\n",
      "y\n",
      " \n",
      "a\n",
      "n\n",
      "m\n",
      "e\n",
      " \n",
      "i\n",
      "s\n"
     ]
    }
   ],
   "source": [
    "num = \"my anme is\" ## iterator\n",
    "for i in num:\n",
    "    print(i)"
   ]
  },
  {
   "cell_type": "code",
   "execution_count": 147,
   "id": "a7dbaf8c",
   "metadata": {},
   "outputs": [
    {
     "name": "stdout",
     "output_type": "stream",
     "text": [
      "103\n"
     ]
    }
   ],
   "source": [
    "from functools import reduce\n",
    "l1 = [12,23,45,23]\n",
    "l2 = reduce(lambda a,b:a+b,l1)\n",
    "print(l2)"
   ]
  },
  {
   "cell_type": "code",
   "execution_count": 17,
   "id": "4d51c6b1",
   "metadata": {},
   "outputs": [
    {
     "name": "stdout",
     "output_type": "stream",
     "text": [
      "       name  age\n",
      "0  niranjan   26\n"
     ]
    }
   ],
   "source": [
    "import pandas\n",
    "dict1 = {\n",
    "    \"name\":[\"niranjan\"],\n",
    "    \"age\":26,\n",
    "    \n",
    "}\n",
    "sd = pandas.DataFrame(dict1)\n",
    "print(sd)"
   ]
  },
  {
   "cell_type": "code",
   "execution_count": 157,
   "id": "56ee8ef5",
   "metadata": {},
   "outputs": [
    {
     "data": {
      "text/html": [
       "<div>\n",
       "<style scoped>\n",
       "    .dataframe tbody tr th:only-of-type {\n",
       "        vertical-align: middle;\n",
       "    }\n",
       "\n",
       "    .dataframe tbody tr th {\n",
       "        vertical-align: top;\n",
       "    }\n",
       "\n",
       "    .dataframe thead th {\n",
       "        text-align: right;\n",
       "    }\n",
       "</style>\n",
       "<table border=\"1\" class=\"dataframe\">\n",
       "  <thead>\n",
       "    <tr style=\"text-align: right;\">\n",
       "      <th></th>\n",
       "      <th>name</th>\n",
       "      <th>age</th>\n",
       "    </tr>\n",
       "  </thead>\n",
       "  <tbody>\n",
       "    <tr>\n",
       "      <th>0</th>\n",
       "      <td>niranjan</td>\n",
       "      <td>26</td>\n",
       "    </tr>\n",
       "  </tbody>\n",
       "</table>\n",
       "</div>"
      ],
      "text/plain": [
       "       name  age\n",
       "0  niranjan   26"
      ]
     },
     "execution_count": 157,
     "metadata": {},
     "output_type": "execute_result"
    }
   ],
   "source": [
    "sd.head(1)"
   ]
  },
  {
   "cell_type": "code",
   "execution_count": 7,
   "id": "0d1fb9c4",
   "metadata": {},
   "outputs": [],
   "source": [
    "def fab(n):\n",
    "    a =0\n",
    "    b= 1\n",
    "    if n == 1:\n",
    "        print(a)\n",
    "    else:\n",
    "            print(a)\n",
    "            print(b)\n",
    "            for i in range(2,n):\n",
    "                c = a+b\n",
    "                a= b\n",
    "                b = c\n",
    "                print(c)"
   ]
  },
  {
   "cell_type": "code",
   "execution_count": 8,
   "id": "49b84c8f",
   "metadata": {},
   "outputs": [
    {
     "name": "stdout",
     "output_type": "stream",
     "text": [
      "0\n",
      "1\n",
      "1\n",
      "2\n",
      "3\n",
      "5\n",
      "8\n",
      "13\n",
      "21\n",
      "34\n"
     ]
    }
   ],
   "source": [
    "fab(10)"
   ]
  },
  {
   "cell_type": "code",
   "execution_count": 28,
   "id": "afeaac80",
   "metadata": {},
   "outputs": [
    {
     "name": "stdout",
     "output_type": "stream",
     "text": [
      "Enter lower range: 100\n",
      "Enter upper range: 500\n",
      "125\n",
      "153\n",
      "216\n",
      "370\n",
      "371\n",
      "407\n"
     ]
    }
   ],
   "source": [
    "lower = int(input(\"Enter lower range: \"))  \n",
    "upper = int(input(\"Enter upper range: \"))  \n",
    "  \n",
    "for num in range(lower,upper + 1):  \n",
    "   sum = 0  \n",
    "   temp = num  \n",
    "   while temp > 0:  \n",
    "       digit = temp % 10  \n",
    "       sum += digit ** 3  \n",
    "       temp //= 10  \n",
    "       if num == sum:  \n",
    "            print(num)  "
   ]
  },
  {
   "cell_type": "code",
   "execution_count": 37,
   "id": "3b5e13eb",
   "metadata": {},
   "outputs": [
    {
     "name": "stdout",
     "output_type": "stream",
     "text": [
      "Enter the number: 407\n",
      "Armstrong number\n",
      "Not an Armstrong number\n"
     ]
    }
   ],
   "source": [
    "#program to check whether the given number is Armstrong or not using a while loop\n",
    "num = int(input(\"Enter the number: \")) \n",
    "sum = 0 \n",
    "temp = num \n",
    "while (temp > 0): \n",
    "    digit = temp % 10 \n",
    "    sum += digit ** 3 \n",
    "    temp //= 10\n",
    "    if (num == sum): \n",
    "        print(\"Armstrong number\") \n",
    "        \n",
    "else: \n",
    "    print(\"Not an Armstrong number\")"
   ]
  },
  {
   "cell_type": "code",
   "execution_count": 30,
   "id": "e69eb9b4",
   "metadata": {},
   "outputs": [
    {
     "name": "stdout",
     "output_type": "stream",
     "text": [
      "\n",
      "\n",
      "Recursion Example Results\n",
      "1\n",
      "3\n",
      "6\n",
      "10\n",
      "15\n",
      "21\n"
     ]
    },
    {
     "data": {
      "text/plain": [
       "21"
      ]
     },
     "execution_count": 30,
     "metadata": {},
     "output_type": "execute_result"
    }
   ],
   "source": [
    "def recursion(k):\n",
    "  if(k > 0):\n",
    "    result = k + recursion(k - 1)\n",
    "    print(result)\n",
    "  else:\n",
    "    result = 0\n",
    "  return result\n",
    "\n",
    "print(\"\\n\\nRecursion Example Results\")\n",
    "recursion(6)"
   ]
  },
  {
   "cell_type": "code",
   "execution_count": 2,
   "id": "43ad9f53",
   "metadata": {},
   "outputs": [],
   "source": [
    "def fab(n):\n",
    "    a=0\n",
    "    b=1\n",
    "    if n==1:\n",
    "        print(a)\n",
    "    else:\n",
    "            print(a)\n",
    "            print(b)\n",
    "            for i in range(2,n):\n",
    "                c=a+b\n",
    "                a=b\n",
    "                b=c\n",
    "                print(c)"
   ]
  },
  {
   "cell_type": "code",
   "execution_count": 3,
   "id": "e456fac7",
   "metadata": {},
   "outputs": [
    {
     "name": "stdout",
     "output_type": "stream",
     "text": [
      "0\n",
      "1\n",
      "1\n",
      "2\n",
      "3\n",
      "5\n",
      "8\n",
      "13\n",
      "21\n",
      "34\n"
     ]
    }
   ],
   "source": [
    "fab(10)"
   ]
  },
  {
   "cell_type": "code",
   "execution_count": 5,
   "id": "6130e8f5",
   "metadata": {},
   "outputs": [
    {
     "name": "stdout",
     "output_type": "stream",
     "text": [
      "['apple']\n",
      "['apple', 'mango']\n",
      "['apple', 'mango', 'banana']\n"
     ]
    }
   ],
   "source": [
    "fruits = [\"apple\",\"mango\",\"banana\",\"cherry\"]\n",
    "newlist = []\n",
    "for x in fruits:\n",
    "    if \"a\" in x:\n",
    "        newlist.append(x)\n",
    "        print(newlist)\n"
   ]
  },
  {
   "cell_type": "code",
   "execution_count": 16,
   "id": "2ec15d40",
   "metadata": {},
   "outputs": [
    {
     "name": "stdout",
     "output_type": "stream",
     "text": [
      "[67, 8, 9]\n"
     ]
    }
   ],
   "source": [
    "li= [1,2,3,4,5,67,8,9]\n",
    "def greater(num):\n",
    "    return num>5\n",
    "greater = list(filter(greater,li))\n",
    "print(greater)\n",
    "    "
   ]
  },
  {
   "cell_type": "code",
   "execution_count": 17,
   "id": "d52d9cd0",
   "metadata": {},
   "outputs": [
    {
     "name": "stdout",
     "output_type": "stream",
     "text": [
      "99\n"
     ]
    }
   ],
   "source": [
    "from functools import reduce\n",
    "li= [1,2,3,4,5,67,8,9]\n",
    "lii = reduce(lambda a,b:a+b,li)\n",
    "print(lii)\n"
   ]
  },
  {
   "cell_type": "code",
   "execution_count": 22,
   "id": "2202a282",
   "metadata": {},
   "outputs": [
    {
     "name": "stdout",
     "output_type": "stream",
     "text": [
      "Enter any value6\n",
      "2\n",
      "6\n",
      "24\n",
      "120\n",
      "720\n"
     ]
    }
   ],
   "source": [
    "num = int(input(\"Enter any value\"))\n",
    "factorial = 1\n",
    "for i in range(2,num+1):\n",
    "\n",
    "        factorial = factorial*i\n",
    "        print(factorial)"
   ]
  },
  {
   "cell_type": "code",
   "execution_count": 25,
   "id": "a5b8785a",
   "metadata": {},
   "outputs": [
    {
     "name": "stdout",
     "output_type": "stream",
     "text": [
      "palidrome name\n"
     ]
    }
   ],
   "source": [
    "pal = \"121\"\n",
    "reverse = pal[::-1]\n",
    "if pal==reverse:\n",
    "    print(\"palidrome name\")\n",
    "else:\n",
    "        print(\"not palidrome\")"
   ]
  },
  {
   "cell_type": "code",
   "execution_count": 29,
   "id": "04f14947",
   "metadata": {},
   "outputs": [
    {
     "name": "stdout",
     "output_type": "stream",
     "text": [
      "((0, 'apple'), (1, 'mango'), (2, 'banana'), (3, 'cherry'))\n"
     ]
    }
   ],
   "source": [
    "fruits = [\"apple\",\"mango\",\"banana\",\"cherry\"]\n",
    "fruits1 = tuple(enumerate(fruits))\n",
    "print(fruits1)"
   ]
  },
  {
   "cell_type": "code",
   "execution_count": 63,
   "id": "bde8360c",
   "metadata": {},
   "outputs": [
    {
     "name": "stdout",
     "output_type": "stream",
     "text": [
      "prime\n",
      "prime\n",
      "prime\n",
      "prime\n",
      "prime\n",
      "prime\n",
      "prime\n",
      "prime\n",
      "prime\n",
      "prime\n",
      "prime\n"
     ]
    }
   ],
   "source": [
    "num =13\n",
    "for i in range(2,num):\n",
    "        if num%i==0:\n",
    "            print(\"not prime\")\n",
    "\n",
    "        else:\n",
    "            print(\"prime\")\n"
   ]
  },
  {
   "cell_type": "code",
   "execution_count": 97,
   "id": "266fda57",
   "metadata": {},
   "outputs": [
    {
     "name": "stdout",
     "output_type": "stream",
     "text": [
      "* \n",
      "* * \n",
      "* * * \n",
      "* * * * \n",
      "* * * * * \n",
      "* * * * * * \n",
      "* * * * * * * \n",
      "* * * * * * * * \n",
      "* * * * * * * * * \n",
      "* * * * * * * * * * \n"
     ]
    }
   ],
   "source": [
    "n=10\n",
    "for i in range(1, 11):\n",
    "    print('* '*(i)) # repeat stars for i times"
   ]
  },
  {
   "cell_type": "code",
   "execution_count": 99,
   "id": "29188d57",
   "metadata": {},
   "outputs": [
    {
     "name": "stdout",
     "output_type": "stream",
     "text": [
      "\n",
      "* \n",
      "* * \n",
      "* * * \n",
      "* * * * \n",
      "* * * * * \n",
      "* * * * * * \n",
      "* * * * * * * \n",
      "* * * * * * * * \n",
      "* * * * * * * * * \n"
     ]
    }
   ],
   "source": [
    "rows = 10\n",
    "for i in range(rows):\n",
    "    for j in range(i):\n",
    "        # display number\n",
    "        print('*', end=' ')\n",
    "        #print('i', end=' ')\n",
    "    \n",
    "    print('')"
   ]
  },
  {
   "cell_type": "code",
   "execution_count": 104,
   "id": "57c46bfa",
   "metadata": {},
   "outputs": [
    {
     "name": "stdout",
     "output_type": "stream",
     "text": [
      "* * * * * * * * * * \n",
      "* * * * * * * * * \n",
      "* * * * * * * * \n",
      "* * * * * * * \n",
      "* * * * * * \n",
      "* * * * * \n",
      "* * * * \n",
      "* * * \n",
      "* * \n",
      "* \n"
     ]
    }
   ],
   "source": [
    "rows = 10\n",
    "b=0\n",
    "for i in range(rows,0,-1):\n",
    "    b+=1\n",
    "    for j in range(1,i+1):\n",
    "        # display number\n",
    "        print('*', end=' ')\n",
    "        #print('i', end=' ')\n",
    "    \n",
    "    print('')"
   ]
  },
  {
   "cell_type": "code",
   "execution_count": 103,
   "id": "d90835e7",
   "metadata": {},
   "outputs": [
    {
     "name": "stdout",
     "output_type": "stream",
     "text": [
      "        * \n",
      "       * * \n",
      "      * * * \n",
      "     * * * * \n",
      "    * * * * * \n",
      "   * * * * * * \n",
      "    * * * * * \n",
      "     * * * * \n",
      "      * * * \n",
      "       * * \n",
      "        * \n"
     ]
    }
   ],
   "source": [
    "rows = 5\n",
    "k = 2 * rows - 2\n",
    "for i in range(0, rows):\n",
    "    for j in range(0, k):\n",
    "        print(end=\" \")\n",
    "    k = k - 1\n",
    "    for j in range(0, i + 1):\n",
    "        print(\"* \", end=\"\")\n",
    "    print(\"\")\n",
    "    \n",
    "k = rows - 2\n",
    "\n",
    "for i in range(rows, -1, -1):\n",
    "    for j in range(k, 0, -1):\n",
    "        print(end=\" \")\n",
    "    k = k + 1\n",
    "    for j in range(0, i + 1):\n",
    "        print(\"* \", end=\"\")\n",
    "    print(\"\")"
   ]
  },
  {
   "cell_type": "code",
   "execution_count": 12,
   "id": "9dc6e579",
   "metadata": {},
   "outputs": [
    {
     "name": "stdout",
     "output_type": "stream",
     "text": [
      "\n",
      "* \n",
      "* * \n",
      "* * * \n",
      "* * * * \n",
      "* * * * * \n",
      "* * * * * * \n",
      "* * * * * * * \n",
      "* * * * * * * * \n",
      "* * * * * * * * * \n"
     ]
    }
   ],
   "source": [
    "row = 10\n",
    "for i in range(row):\n",
    "    for j in range(i):\n",
    "        print('*',end =' ')\n",
    "    print('')        "
   ]
  },
  {
   "cell_type": "code",
   "execution_count": 3,
   "id": "6b0c89d5",
   "metadata": {},
   "outputs": [
    {
     "name": "stdout",
     "output_type": "stream",
     "text": [
      "* \n",
      "* * \n",
      "* * * \n",
      "* * * * \n",
      "* * * * * \n",
      "* * * * * * \n",
      "* * * * * * * \n",
      "* * * * * * * * \n",
      "* * * * * * * * * \n",
      "* * * * * * * * * * \n"
     ]
    }
   ],
   "source": [
    "for i in range(1, 11):\n",
    "  print('* ' * i)"
   ]
  },
  {
   "cell_type": "code",
   "execution_count": 1,
   "id": "6804517b",
   "metadata": {},
   "outputs": [
    {
     "name": "stdout",
     "output_type": "stream",
     "text": [
      "* * * * * * * * * * \n",
      "* * * * * * * * * \n",
      "* * * * * * * * \n",
      "* * * * * * * \n",
      "* * * * * * \n",
      "* * * * * \n",
      "* * * * \n",
      "* * * \n",
      "* * \n",
      "* \n"
     ]
    }
   ],
   "source": [
    "for i in range(10, 0, -1):\n",
    "  print('* ' * i)"
   ]
  },
  {
   "cell_type": "code",
   "execution_count": null,
   "id": "0b6b0f10",
   "metadata": {},
   "outputs": [],
   "source": [
    "i = 1\n",
    "length = 11\n",
    "while i < length:\n",
    "  print(' ' * (length - i) + '* ' * i )\n",
    "  i += 1"
   ]
  },
  {
   "cell_type": "code",
   "execution_count": 24,
   "id": "b1a96aea",
   "metadata": {},
   "outputs": [
    {
     "name": "stdout",
     "output_type": "stream",
     "text": [
      "       Name  Id             Dep\n",
      "0  Niranjan  12        computer\n",
      "1     Mohan  23  Data structuer\n",
      "2     Sohan  45         science\n",
      "3     Rohan  56            java\n"
     ]
    }
   ],
   "source": [
    "import pandas\n",
    "dict1 = {\n",
    "    \"Name\":[\"Niranjan\",\"Mohan\",\"Sohan\",\"Rohan\"],\n",
    "    \"Id\":[12,23,45,56],\n",
    "    \"Dep\":[\"computer\",\"Data structuer\",\"science\",\"java\"]\n",
    "}\n",
    "pf = pandas.DataFrame(dict1)\n",
    "print(pf)"
   ]
  },
  {
   "cell_type": "code",
   "execution_count": 25,
   "id": "d54e4786",
   "metadata": {},
   "outputs": [
    {
     "name": "stdout",
     "output_type": "stream",
     "text": [
      "# # # # # # # # # # \n",
      "# # # # # # # # # \n",
      "# # # # # # # # \n",
      "# # # # # # # \n",
      "# # # # # # \n",
      "# # # # # \n",
      "# # # # \n",
      "# # # \n",
      "# # \n",
      "# \n"
     ]
    }
   ],
   "source": [
    "for i in range(10,0,-1):\n",
    "    print('# ' * i)"
   ]
  },
  {
   "cell_type": "code",
   "execution_count": 29,
   "id": "6bd1886c",
   "metadata": {},
   "outputs": [
    {
     "name": "stdout",
     "output_type": "stream",
     "text": [
      "Enter your namemadam\n",
      "it is palidrome name\n"
     ]
    }
   ],
   "source": [
    "s = input('Enter your name')\n",
    "reverse = s[::-1]\n",
    "if s==reverse:\n",
    "    print(\"it is palidrome name\")\n",
    "    \n",
    "else:\n",
    "        print(\"it is not palidrome name\")"
   ]
  },
  {
   "cell_type": "code",
   "execution_count": 33,
   "id": "974c5255",
   "metadata": {},
   "outputs": [
    {
     "data": {
      "text/plain": [
       "['niranjan', 'kumar']"
      ]
     },
     "execution_count": 33,
     "metadata": {},
     "output_type": "execute_result"
    }
   ],
   "source": [
    "b='niranjan kumar'\n",
    "b.split()"
   ]
  },
  {
   "cell_type": "code",
   "execution_count": 39,
   "id": "b03ff9a0",
   "metadata": {},
   "outputs": [],
   "source": [
    "def fab(n):\n",
    "    a=0\n",
    "    b=1\n",
    "    if n==0:\n",
    "        print(a)\n",
    "    else:\n",
    "            print(a)\n",
    "            print(b)\n",
    "            for i in range(2,n):\n",
    "                c=a+b\n",
    "                a=b\n",
    "                b=c\n",
    "                \n",
    "                print(c)\n",
    "    "
   ]
  },
  {
   "cell_type": "code",
   "execution_count": 40,
   "id": "ae98826c",
   "metadata": {},
   "outputs": [
    {
     "name": "stdout",
     "output_type": "stream",
     "text": [
      "0\n",
      "1\n",
      "1\n",
      "2\n",
      "3\n",
      "5\n",
      "8\n",
      "13\n",
      "21\n",
      "34\n"
     ]
    }
   ],
   "source": [
    "fab(10)"
   ]
  },
  {
   "cell_type": "code",
   "execution_count": 51,
   "id": "93f5b3fb",
   "metadata": {},
   "outputs": [
    {
     "name": "stdout",
     "output_type": "stream",
     "text": [
      "niranjan\n"
     ]
    }
   ],
   "source": [
    "class employee:\n",
    "    def __init__(self, name, age):\n",
    "        self.name = name\n",
    "        self.age = age\n",
    "df = employee(\"niranjan\",24)\n",
    "print(df.name)"
   ]
  },
  {
   "cell_type": "code",
   "execution_count": null,
   "id": "d7dbe269",
   "metadata": {},
   "outputs": [],
   "source": []
  }
 ],
 "metadata": {
  "kernelspec": {
   "display_name": "Python 3",
   "language": "python",
   "name": "python3"
  },
  "language_info": {
   "codemirror_mode": {
    "name": "ipython",
    "version": 3
   },
   "file_extension": ".py",
   "mimetype": "text/x-python",
   "name": "python",
   "nbconvert_exporter": "python",
   "pygments_lexer": "ipython3",
   "version": "3.8.8"
  }
 },
 "nbformat": 4,
 "nbformat_minor": 5
}
