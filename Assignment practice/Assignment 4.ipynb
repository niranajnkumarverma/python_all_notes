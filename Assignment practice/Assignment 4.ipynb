{
 "cells": [
  {
   "cell_type": "code",
   "execution_count": null,
   "metadata": {},
   "outputs": [],
   "source": [
    "# B1.What is File function in python?what is keywords to create and write file\n",
    ":-Python has a built-in open() function to open a file. ... We can specify the mode while opening a file. In mode, we specify whether we want to read r , write w or append a to the file. We can also specify if we want to open the file in text mode or binary mode. The default is reading in text mode.\n",
    "\n",
    "    Python has several functions for creating, reading, updating and deleting files. Python provides us with an important features for reading data from the file and writing data into a file."
   ]
  },
  {
   "cell_type": "code",
   "execution_count": 32,
   "metadata": {},
   "outputs": [
    {
     "name": "stdout",
     "output_type": "stream",
     "text": [
      "\n"
     ]
    }
   ],
   "source": [
    "# B2.Write a Python program to read an entire text file\n",
    "def file_read(myniranjan):\n",
    "        txt = open(myniranjan)\n",
    "        print(txt.read())\n",
    "\n",
    "file_read('myniranjan.txt')"
   ]
  },
  {
   "cell_type": "code",
   "execution_count": 54,
   "metadata": {},
   "outputs": [
    {
     "ename": "FileExistsError",
     "evalue": "[Errno 17] File exists: 'myniranjan.txt'",
     "output_type": "error",
     "traceback": [
      "\u001b[1;31m---------------------------------------------------------------------------\u001b[0m",
      "\u001b[1;31mFileExistsError\u001b[0m                           Traceback (most recent call last)",
      "\u001b[1;32m<ipython-input-54-eff8bccbf557>\u001b[0m in \u001b[0;36m<module>\u001b[1;34m\u001b[0m\n\u001b[1;32m----> 1\u001b[1;33m \u001b[0mfile\u001b[0m \u001b[1;33m=\u001b[0m \u001b[0mopen\u001b[0m\u001b[1;33m(\u001b[0m\u001b[1;34m'myniranjan.txt'\u001b[0m\u001b[1;33m,\u001b[0m \u001b[1;34m'x'\u001b[0m\u001b[1;33m)\u001b[0m\u001b[1;33m\u001b[0m\u001b[1;33m\u001b[0m\u001b[0m\n\u001b[0m",
      "\u001b[1;31mFileExistsError\u001b[0m: [Errno 17] File exists: 'myniranjan.txt'"
     ]
    }
   ],
   "source": [
    "file = open('myniranjan.txt', 'x')"
   ]
  },
  {
   "cell_type": "code",
   "execution_count": 35,
   "metadata": {},
   "outputs": [
    {
     "data": {
      "text/plain": [
       "_io.TextIOWrapper"
      ]
     },
     "execution_count": 35,
     "metadata": {},
     "output_type": "execute_result"
    }
   ],
   "source": [
    "type(file)"
   ]
  },
  {
   "cell_type": "code",
   "execution_count": 36,
   "metadata": {},
   "outputs": [
    {
     "data": {
      "text/plain": [
       "False"
      ]
     },
     "execution_count": 36,
     "metadata": {},
     "output_type": "execute_result"
    }
   ],
   "source": [
    "file.readable()"
   ]
  },
  {
   "cell_type": "code",
   "execution_count": 37,
   "metadata": {},
   "outputs": [
    {
     "data": {
      "text/plain": [
       "True"
      ]
     },
     "execution_count": 37,
     "metadata": {},
     "output_type": "execute_result"
    }
   ],
   "source": [
    "file.writable()"
   ]
  },
  {
   "cell_type": "code",
   "execution_count": 38,
   "metadata": {},
   "outputs": [
    {
     "data": {
      "text/plain": [
       "31"
      ]
     },
     "execution_count": 38,
     "metadata": {},
     "output_type": "execute_result"
    }
   ],
   "source": [
    "file.write(\"hello niam niranjan kumar verma\")"
   ]
  },
  {
   "cell_type": "code",
   "execution_count": 40,
   "metadata": {},
   "outputs": [
    {
     "name": "stdout",
     "output_type": "stream",
     "text": [
      "<_io.TextIOWrapper name='MyNIRANJAN.txt' mode='x' encoding='cp1252'>\n"
     ]
    }
   ],
   "source": [
    "print(file)"
   ]
  },
  {
   "cell_type": "code",
   "execution_count": 42,
   "metadata": {},
   "outputs": [
    {
     "name": "stdout",
     "output_type": "stream",
     "text": [
      "hello niranjan\n",
      "tops technologies\n"
     ]
    }
   ],
   "source": [
    "# B3.Write a Python program to append text to a file and display the text\n",
    "def file_read(myniranjan):\n",
    "        from itertools import islice\n",
    "        with open(myniranjan, \"w\") as myfile:\n",
    "                myfile.write(\"hello niranjan\\n\")\n",
    "                myfile.write(\"tops technologies\")\n",
    "        txt = open(myniranjan)\n",
    "        print(txt.read())\n",
    "file_read('myniranjan.txt')\n"
   ]
  },
  {
   "cell_type": "code",
   "execution_count": 23,
   "metadata": {},
   "outputs": [
    {
     "data": {
      "text/plain": [
       "<function TextIOWrapper.close()>"
      ]
     },
     "execution_count": 23,
     "metadata": {},
     "output_type": "execute_result"
    }
   ],
   "source": [
    "file.close"
   ]
  },
  {
   "cell_type": "code",
   "execution_count": 43,
   "metadata": {},
   "outputs": [
    {
     "name": "stdout",
     "output_type": "stream",
     "text": [
      "hello niranjan\n",
      "\n",
      "tops technologies\n"
     ]
    }
   ],
   "source": [
    "# B4. Write a Python program to read first n lines of a file\n",
    "# B5. Write a Python program to read last n lines of a file\n",
    "\n",
    "def file_read_from_head(myniranjan, nlines):\n",
    "        from itertools import islice\n",
    "        with open(myniranjan) as f:\n",
    "                for line in islice(f, nlines):\n",
    "                        print(line)\n",
    "file_read_from_head('myniranjan.txt',2)\n",
    "\n",
    "\n",
    " \n",
    "\n",
    " \n"
   ]
  },
  {
   "cell_type": "code",
   "execution_count": 68,
   "metadata": {},
   "outputs": [
    {
     "ename": "SyntaxError",
     "evalue": "EOL while scanning string literal (<ipython-input-68-3d66fe52043e>, line 10)",
     "output_type": "error",
     "traceback": [
      "\u001b[1;36m  File \u001b[1;32m\"<ipython-input-68-3d66fe52043e>\"\u001b[1;36m, line \u001b[1;32m10\u001b[0m\n\u001b[1;33m    file_read('myniranjan.txt\\')\u001b[0m\n\u001b[1;37m                                ^\u001b[0m\n\u001b[1;31mSyntaxError\u001b[0m\u001b[1;31m:\u001b[0m EOL while scanning string literal\n"
     ]
    }
   ],
   "source": [
    "# i1. Write a Python program to read a file line by line and store it into a list\n",
    "\n",
    "def file_read(myniranjan):\n",
    "        with open(myniranjan) as f:\n",
    "                #Content_list is the list that contains the read lines.     \n",
    "                content_list = f.readlines()\n",
    "                \n",
    "                print(content_list)\n",
    "\n",
    "file_read('myniranjan.txt\\')\n"
   ]
  },
  {
   "cell_type": "code",
   "execution_count": 69,
   "metadata": {},
   "outputs": [
    {
     "ename": "AttributeError",
     "evalue": "'str' object has no attribute 'readlines'",
     "output_type": "error",
     "traceback": [
      "\u001b[1;31m---------------------------------------------------------------------------\u001b[0m",
      "\u001b[1;31mAttributeError\u001b[0m                            Traceback (most recent call last)",
      "\u001b[1;32m<ipython-input-69-c74368c4d3b0>\u001b[0m in \u001b[0;36m<module>\u001b[1;34m\u001b[0m\n\u001b[0;32m      4\u001b[0m                 \u001b[0mdata\u001b[0m\u001b[1;33m=\u001b[0m\u001b[0mmyniranjan\u001b[0m\u001b[1;33m.\u001b[0m\u001b[0mreadlines\u001b[0m\u001b[1;33m(\u001b[0m\u001b[1;33m)\u001b[0m\u001b[1;33m\u001b[0m\u001b[1;33m\u001b[0m\u001b[0m\n\u001b[0;32m      5\u001b[0m                 \u001b[0mprint\u001b[0m\u001b[1;33m(\u001b[0m\u001b[0mdata\u001b[0m\u001b[1;33m)\u001b[0m\u001b[1;33m\u001b[0m\u001b[1;33m\u001b[0m\u001b[0m\n\u001b[1;32m----> 6\u001b[1;33m \u001b[0mfile_read\u001b[0m\u001b[1;33m(\u001b[0m\u001b[1;34m'myniranjan.txt'\u001b[0m\u001b[1;33m)\u001b[0m\u001b[1;33m\u001b[0m\u001b[1;33m\u001b[0m\u001b[0m\n\u001b[0m",
      "\u001b[1;32m<ipython-input-69-c74368c4d3b0>\u001b[0m in \u001b[0;36mfile_read\u001b[1;34m(myniranjan)\u001b[0m\n\u001b[0;32m      2\u001b[0m \u001b[1;32mdef\u001b[0m \u001b[0mfile_read\u001b[0m\u001b[1;33m(\u001b[0m\u001b[0mmyniranjan\u001b[0m\u001b[1;33m)\u001b[0m\u001b[1;33m:\u001b[0m\u001b[1;33m\u001b[0m\u001b[1;33m\u001b[0m\u001b[0m\n\u001b[0;32m      3\u001b[0m         \u001b[1;32mwith\u001b[0m \u001b[0mopen\u001b[0m \u001b[1;33m(\u001b[0m\u001b[0mmyniranjan\u001b[0m\u001b[1;33m,\u001b[0m \u001b[1;34m\"r\"\u001b[0m\u001b[1;33m)\u001b[0m \u001b[1;32mas\u001b[0m \u001b[0mmyfile\u001b[0m\u001b[1;33m:\u001b[0m\u001b[1;33m\u001b[0m\u001b[1;33m\u001b[0m\u001b[0m\n\u001b[1;32m----> 4\u001b[1;33m                 \u001b[0mdata\u001b[0m\u001b[1;33m=\u001b[0m\u001b[0mmyniranjan\u001b[0m\u001b[1;33m.\u001b[0m\u001b[0mreadlines\u001b[0m\u001b[1;33m(\u001b[0m\u001b[1;33m)\u001b[0m\u001b[1;33m\u001b[0m\u001b[1;33m\u001b[0m\u001b[0m\n\u001b[0m\u001b[0;32m      5\u001b[0m                 \u001b[0mprint\u001b[0m\u001b[1;33m(\u001b[0m\u001b[0mdata\u001b[0m\u001b[1;33m)\u001b[0m\u001b[1;33m\u001b[0m\u001b[1;33m\u001b[0m\u001b[0m\n\u001b[0;32m      6\u001b[0m \u001b[0mfile_read\u001b[0m\u001b[1;33m(\u001b[0m\u001b[1;34m'myniranjan.txt'\u001b[0m\u001b[1;33m)\u001b[0m\u001b[1;33m\u001b[0m\u001b[1;33m\u001b[0m\u001b[0m\n",
      "\u001b[1;31mAttributeError\u001b[0m: 'str' object has no attribute 'readlines'"
     ]
    }
   ],
   "source": [
    "# i2.Write a Python program to read a file line by line store it into a variable.\n",
    "def file_read(myniranjan):\n",
    "        with open (myniranjan, \"r\") as myfile:\n",
    "                data=myniranjan.readlines()\n",
    "                print(data)\n",
    "file_read('myniranjan.txt')\n"
   ]
  },
  {
   "cell_type": "code",
   "execution_count": 70,
   "metadata": {},
   "outputs": [
    {
     "name": "stdout",
     "output_type": "stream",
     "text": [
      "['technologies']\n"
     ]
    }
   ],
   "source": [
    "# i3. Write a python program to find the longest word\n",
    "def longest_word(myniranjan):\n",
    "    with open(myniranjan , 'r') as infile:\n",
    "              words = infile.read().split()\n",
    "    max_len = len(max(words, key=len))\n",
    "    return [word for word in words if len(word) == max_len]\n",
    "\n",
    "print(longest_word('myniranjan.txt'))\n"
   ]
  },
  {
   "cell_type": "code",
   "execution_count": 71,
   "metadata": {},
   "outputs": [
    {
     "name": "stdout",
     "output_type": "stream",
     "text": [
      "Number of lines in the file:  2\n"
     ]
    }
   ],
   "source": [
    "# i4.. Write a Python program to count the number of lines in a text file\n",
    "def file_lengthy(myniranjan):\n",
    "        with open(myniranjan) as f:\n",
    "                for i, l in enumerate(f):\n",
    "                        pass\n",
    "        return i + 1\n",
    "print(\"Number of lines in the file: \",file_lengthy(\"myniranjan.txt\"))\n"
   ]
  },
  {
   "cell_type": "code",
   "execution_count": 72,
   "metadata": {},
   "outputs": [
    {
     "name": "stdout",
     "output_type": "stream",
     "text": [
      "Number of words in the file : Counter({'hello': 1, 'niranjan': 1, 'tops': 1, 'technologies': 1})\n"
     ]
    }
   ],
   "source": [
    "# i5. Write a Python program to count the frequency of words in a file\n",
    "from collections import Counter\n",
    "def word_count(myniranjan):\n",
    "        with open(myniranjan) as f:\n",
    "                return Counter(f.read().split())\n",
    "\n",
    "print(\"Number of words in the file :\",word_count(\"myniranjan.txt\"))\n",
    "\n"
   ]
  },
  {
   "cell_type": "code",
   "execution_count": 74,
   "metadata": {},
   "outputs": [
    {
     "name": "stdout",
     "output_type": "stream",
     "text": [
      "Red\n",
      "Green\n",
      "White\n",
      "Black\n",
      "Pink\n",
      "Yellow\n",
      "\n"
     ]
    }
   ],
   "source": [
    "# i6.. Write a Python program to write a list to a file.\n",
    "color = ['Red', 'Green', 'White', 'Black', 'Pink', 'Yellow']\n",
    "with open('myniranjan.txt', \"w\") as myniranjan:\n",
    "        for c in color:\n",
    "                myniranjan.write(\"%s\\n\" % c)\n",
    "\n",
    "content = open('myniranjan.txt')\n",
    "print(content.read())\n",
    "\n"
   ]
  },
  {
   "cell_type": "code",
   "execution_count": 76,
   "metadata": {},
   "outputs": [
    {
     "ename": "ValueError",
     "evalue": "I/O operation on closed file.",
     "output_type": "error",
     "traceback": [
      "\u001b[1;31m---------------------------------------------------------------------------\u001b[0m",
      "\u001b[1;31mValueError\u001b[0m                                Traceback (most recent call last)",
      "\u001b[1;32m<ipython-input-76-efc000f661d2>\u001b[0m in \u001b[0;36m<module>\u001b[1;34m\u001b[0m\n\u001b[0;32m      4\u001b[0m \u001b[1;33m\u001b[0m\u001b[0m\n\u001b[0;32m      5\u001b[0m         \u001b[1;31m# read content from first file\u001b[0m\u001b[1;33m\u001b[0m\u001b[1;33m\u001b[0m\u001b[1;33m\u001b[0m\u001b[0m\n\u001b[1;32m----> 6\u001b[1;33m         \u001b[1;32mfor\u001b[0m \u001b[0mline\u001b[0m \u001b[1;32min\u001b[0m \u001b[0mmyniranjan\u001b[0m\u001b[1;33m:\u001b[0m\u001b[1;33m\u001b[0m\u001b[1;33m\u001b[0m\u001b[0m\n\u001b[0m\u001b[0;32m      7\u001b[0m \u001b[1;33m\u001b[0m\u001b[0m\n\u001b[0;32m      8\u001b[0m                         \u001b[1;31m# append content to second file\u001b[0m\u001b[1;33m\u001b[0m\u001b[1;33m\u001b[0m\u001b[1;33m\u001b[0m\u001b[0m\n",
      "\u001b[1;31mValueError\u001b[0m: I/O operation on closed file."
     ]
    }
   ],
   "source": [
    "# i7. Write a Python program to copy the contents of a file to another fil\n",
    "# open both files\n",
    "with open('myniranjan.txt','r') as firstfile, open('myniranjan.txt','a') as secondfile:\n",
    "\t\n",
    "\t# read content from first file\n",
    "\tfor line in myniranjan:\n",
    "\t\t\t\n",
    "\t\t\t# append content to second file\n",
    "\t\t\tmyniranjan.write(line)\n"
   ]
  },
  {
   "cell_type": "code",
   "execution_count": 79,
   "metadata": {},
   "outputs": [
    {
     "name": "stdout",
     "output_type": "stream",
     "text": [
      "White\n"
     ]
    }
   ],
   "source": [
    "# A1.Write a Python program to read a random line from a file\n",
    "import random\n",
    "def random_line(myniranjan):\n",
    "    lines = open(myniranjan).read().splitlines()\n",
    "    return random.choice(lines)\n",
    "print(random_line('myniranjan.txt'))\n"
   ]
  },
  {
   "cell_type": "code",
   "execution_count": 81,
   "metadata": {},
   "outputs": [
    {
     "name": "stdout",
     "output_type": "stream",
     "text": [
      "False\n",
      "True\n"
     ]
    }
   ],
   "source": [
    "# A2. Write a Python program to assess if a file is closed or not\n",
    "f = open('myniranjan.txt','r')\n",
    "print(f.closed)\n",
    "f.close()\n",
    "print(f.closed)\n"
   ]
  },
  {
   "cell_type": "code",
   "execution_count": 83,
   "metadata": {},
   "outputs": [
    {
     "name": "stdout",
     "output_type": "stream",
     "text": [
      "myniranjan\n",
      "\n",
      "myniranjan\n"
     ]
    }
   ],
   "source": [
    "# A3. Write a Python program to remove newline characters from a file.\n",
    "str1='myniranjan\\n'\n",
    "print(str1)\n",
    "print(str1.rstrip())\n"
   ]
  },
  {
   "cell_type": "code",
   "execution_count": null,
   "metadata": {},
   "outputs": [],
   "source": [
    "# Topic: \n",
    "#  Exception Handling Exception,Except clause,Try and finally\n",
    "#  Assignment Level Basic\n",
    "\n",
    "# B1:Explain Exception handling?What is an Error in Python?\n",
    "\n",
    "exception handling is essential and types of built-in exceptions that Python supports, it is necessary to understand that there is a subtle difference between an error and an exception.\n",
    "              Errors cannot be handled, while Python exceptions can be handled at the run time\n",
    "    \n",
    "Syntax Error\n",
    "Out of Memory Error\n",
    "Recursion Error\n",
    "Exceptions"
   ]
  },
  {
   "cell_type": "code",
   "execution_count": null,
   "metadata": {},
   "outputs": [],
   "source": [
    "# B2. How many except statements can a try-except block have?\n",
    "There has to be at least one except statement. 2.\n"
   ]
  },
  {
   "cell_type": "code",
   "execution_count": null,
   "metadata": {},
   "outputs": [],
   "source": [
    "#B3. When will the else part of try-except-else be executed?\n",
    "There has to be at least one except statement. 2. When will the else part of try-except-else be executed? Explanation: The else part is executed when no exception occurs."
   ]
  },
  {
   "cell_type": "code",
   "execution_count": null,
   "metadata": {},
   "outputs": [],
   "source": [
    "# B4. Can one block of except statements handle multiple exception\n",
    "Each type of exception can be specified directly. There is no need to put it in a list."
   ]
  },
  {
   "cell_type": "code",
   "execution_count": null,
   "metadata": {},
   "outputs": [],
   "source": [
    "# B5.When is the finally block executed?\n",
    "\n",
    "A finally block is always get executed whether the exception has occurred or not. ... exit() or some similar code is written into try block then program will automatically terminate and the finally block will not be executed in this case."
   ]
  },
  {
   "cell_type": "code",
   "execution_count": null,
   "metadata": {},
   "outputs": [],
   "source": [
    "# B6. What happens when „1‟ == 1 is executed?\n"
   ]
  },
  {
   "cell_type": "code",
   "execution_count": 2,
   "metadata": {},
   "outputs": [
    {
     "name": "stdout",
     "output_type": "stream",
     "text": [
      "The entry is a\n",
      "Oops! <class 'ValueError'> occurred.\n",
      "Next entry.\n",
      "\n",
      "The entry is 0\n",
      "Oops! <class 'ZeroDivisionError'> occurred.\n",
      "Next entry.\n",
      "\n",
      "The entry is 2\n",
      "The reciprocal of 2 is 0.5\n"
     ]
    }
   ],
   "source": [
    "# b7. How Do You Handle Exceptions With Try/Except/Finally In Python?\n",
    "#In Python, exceptions can be handled using a try statement.\n",
    "\n",
    "#The critical operation which can raise an exception is placed inside the try clause. The code that handles the exceptions is written in the except clause.\n",
    "\n",
    "#We can thus choose what operations to perform once we have caught the exception. Here is a simple example.\"\"\"\"\"\"\"\"\n",
    "\n",
    "# import module sys to get the type of exception\n",
    "import sys\n",
    "\n",
    "randomList = ['a', 0, 2]\n",
    "\n",
    "for entry in randomList:\n",
    "    try:\n",
    "        print(\"The entry is\", entry)\n",
    "        r = 1/int(entry)\n",
    "        break\n",
    "    except:\n",
    "        print(\"Oops!\", sys.exc_info()[0], \"occurred.\")\n",
    "        print(\"Next entry.\")\n",
    "        print()\n",
    "print(\"The reciprocal of\", entry, \"is\", r)"
   ]
  },
  {
   "cell_type": "code",
   "execution_count": 3,
   "metadata": {},
   "outputs": [
    {
     "name": "stdout",
     "output_type": "stream",
     "text": [
      "Number of even numbers : 4\n",
      "Number of odd numbers : 5\n"
     ]
    }
   ],
   "source": [
    "# b8.write python program that user to enter only odd numbers, else will raise an exception.\n",
    "numbers = (1, 2, 3, 4, 5, 6, 7, 8, 9) # Declaring the tuple\n",
    "count_odd = 0\n",
    "count_even = 0\n",
    "for x in numbers:\n",
    "        if not x % 2:\n",
    "    \t     count_even+=1\n",
    "        else:\n",
    "    \t     count_odd+=1\n",
    "print(\"Number of even numbers :\",count_even)\n",
    "print(\"Number of odd numbers :\",count_odd)\n"
   ]
  },
  {
   "cell_type": "code",
   "execution_count": 4,
   "metadata": {},
   "outputs": [
    {
     "name": "stdout",
     "output_type": "stream",
     "text": [
      "The entry is a\n",
      "Oops! <class 'ValueError'> occurred.\n",
      "Next entry.\n",
      "\n",
      "The entry is 0\n",
      "Oops! <class 'ZeroDivisionError'> occurred.\n",
      "Next entry.\n",
      "\n",
      "The entry is 2\n",
      "The reciprocal of 2 is 0.5\n"
     ]
    }
   ],
   "source": [
    "# 1.write program for Catching Specific Exceptions in Python\n",
    "\n",
    "import sys\n",
    "\n",
    "randomList = ['a', 0, 2]\n",
    "\n",
    "for entry in randomList:\n",
    "    try:\n",
    "        print(\"The entry is\", entry)\n",
    "        r = 1/int(entry)\n",
    "        break\n",
    "    except:\n",
    "        print(\"Oops!\", sys.exc_info()[0], \"occurred.\")\n",
    "        print(\"Next entry.\")\n",
    "        print()\n",
    "print(\"The reciprocal of\", entry, \"is\", r)\n"
   ]
  },
  {
   "cell_type": "code",
   "execution_count": 5,
   "metadata": {},
   "outputs": [
    {
     "name": "stdout",
     "output_type": "stream",
     "text": [
      "False\n",
      "True\n"
     ]
    }
   ],
   "source": [
    "# I2.write python program for file operations to makes sure the file is closed\n",
    "# even if an exception occurs.\n",
    "f = open('myniranjan.txt','r')\n",
    "print(f.closed)\n",
    "f.close()\n",
    "print(f.closed)\n",
    "\n"
   ]
  },
  {
   "cell_type": "code",
   "execution_count": null,
   "metadata": {},
   "outputs": [],
   "source": [
    "# A1Explain .User-Defined Exception in Pytho\n",
    "In Python, users can define custom exceptions by creating a new class. This exception class has to be derived, either directly or indirectly, from the built-in Exception class."
   ]
  },
  {
   "cell_type": "code",
   "execution_count": 6,
   "metadata": {},
   "outputs": [
    {
     "name": "stdout",
     "output_type": "stream",
     "text": [
      "Guess a number between 1 and 10 until you get it right : 5\n",
      "Guess a number between 1 and 10 until you get it right : 6\n",
      "Well guessed!\n"
     ]
    }
   ],
   "source": [
    "#A2write .program that will ask the user to enter a number until they guess a stored\n",
    "# number correctly\n",
    "import random\n",
    "target_num, guess_num = random.randint(1, 10), 0\n",
    "while target_num != guess_num:\n",
    "    guess_num = int(input('Guess a number between 1 and 10 until you get it right : '))\n",
    "print('Well guessed!')\n"
   ]
  },
  {
   "cell_type": "code",
   "execution_count": 14,
   "metadata": {},
   "outputs": [
    {
     "ename": "SyntaxError",
     "evalue": "invalid syntax (<ipython-input-14-ecc4e7e808d4>, line 20)",
     "output_type": "error",
     "traceback": [
      "\u001b[1;36m  File \u001b[1;32m\"<ipython-input-14-ecc4e7e808d4>\"\u001b[1;36m, line \u001b[1;32m20\u001b[0m\n\u001b[1;33m    print KelvinToFahrenheit(-5)\u001b[0m\n\u001b[1;37m    ^\u001b[0m\n\u001b[1;31mSyntaxError\u001b[0m\u001b[1;31m:\u001b[0m invalid syntax\n"
     ]
    }
   ],
   "source": [
    "#A3.What is Assertions in Python? Write function that converts a temperature \n",
    "# from degrees Kelvin to degrees Fahrenheit\n",
    "#:- When it encounters an assert statement, Python evaluates the accompanying expression, which is hopefully true. If the expression is false, Python raises an AssertionError exception.\n",
    "\n",
    "#The syntax for assert is −\n",
    "\n",
    "#assert Expression[, Arguments]\n",
    "#If the assertion fails, Python uses ArgumentExpression as the argument for the AssertionError. AssertionError exceptions can be caught and handled like any other exception using the try-except statement, but if not handled, they will terminate the program and produce a traceback.\n",
    "\n",
    "#Example:-\n",
    "\n",
    "\n",
    "\n",
    "def KelvinToFahrenheit(Temperature):\n",
    "   assert (Temperature >= 0),\"Colder than absolute zero!\"\n",
    "   return ((Temperature-273)*1.8)+32\n",
    "\n",
    "print(KelvinToFahrenheit(273))\n",
    "print(int(KelvinToFahrenheit(505.78))\n",
    "print KelvinToFahrenheit(-5)"
   ]
  },
  {
   "cell_type": "code",
   "execution_count": 18,
   "metadata": {},
   "outputs": [
    {
     "name": "stdout",
     "output_type": "stream",
     "text": [
      " There is error\n"
     ]
    }
   ],
   "source": [
    "# A4.Write program that except Clause with No Exceptions\n",
    "try:\n",
    "    print ('foo'+'qux'+ 7)\n",
    "except:\n",
    "    print(' There is error')"
   ]
  },
  {
   "cell_type": "code",
   "execution_count": null,
   "metadata": {},
   "outputs": [],
   "source": [
    "# A5.What is Argument of an Exception?Explain with coding snippets\n",
    "   except ExceptionType, Argument: You can print value of Argument here... If you write the code to handle a single exception, you can have a variable follow the name of the exception in the except statement. ... The variable can receive a single value or multiple values in the form of a tuple."
   ]
  },
  {
   "cell_type": "code",
   "execution_count": 19,
   "metadata": {},
   "outputs": [],
   "source": [
    "a =  tuple(\"niranjan\")"
   ]
  },
  {
   "cell_type": "code",
   "execution_count": 20,
   "metadata": {},
   "outputs": [
    {
     "name": "stdout",
     "output_type": "stream",
     "text": [
      "('n', 'i', 'r', 'a', 'n', 'j', 'a', 'n')\n"
     ]
    }
   ],
   "source": [
    "print(a)"
   ]
  },
  {
   "cell_type": "code",
   "execution_count": null,
   "metadata": {},
   "outputs": [],
   "source": [
    "#  Topic:\n",
    "# Advance python class,object,attributes,inheritance,overloading\n",
    "\n",
    "# B1:-what are oops concepts?is multiple inheritance supported in python\n",
    "   Multiple inheritance: When a child class inherits from multiple parent classes, it is called multiple inheritance. Unlike Java and like C++, Python supports multiple inheritance."
   ]
  },
  {
   "cell_type": "code",
   "execution_count": 25,
   "metadata": {},
   "outputs": [],
   "source": [
    "# B2:How To Define a Class in Python?What Is Self?Give An Example Of A Python Class\n",
    "\n",
    "# :- Python provides the “self” keyword to represent the instance of a class. It works as a handle for accessing the class members such as attributes from the class methods. Also, please note that it is implicitly the first argument to the __init__ method in every Python class.\n",
    "\n",
    " \n",
    "class MyClass:\n",
    "  x = 5"
   ]
  },
  {
   "cell_type": "code",
   "execution_count": 28,
   "metadata": {},
   "outputs": [
    {
     "name": "stdout",
     "output_type": "stream",
     "text": [
      "9\n"
     ]
    }
   ],
   "source": [
    "print(x)"
   ]
  },
  {
   "cell_type": "code",
   "execution_count": 29,
   "metadata": {},
   "outputs": [
    {
     "name": "stdout",
     "output_type": "stream",
     "text": [
      "120\n"
     ]
    }
   ],
   "source": [
    "# B3.. Write a Python class named Rectangle constructed by a\n",
    "# length and width and a method which will compute the area of a rectangle\n",
    "class Rectangle():\n",
    "    def __init__(self, l, w):\n",
    "        self.length = l\n",
    "        self.width  = w\n",
    "\n",
    "    def rectangle_area(self):\n",
    "        return self.length*self.width\n",
    "\n",
    "newRectangle = Rectangle(12, 10)\n",
    "print(newRectangle.rectangle_area())\n"
   ]
  },
  {
   "cell_type": "code",
   "execution_count": 30,
   "metadata": {},
   "outputs": [
    {
     "name": "stdout",
     "output_type": "stream",
     "text": [
      "200.96\n",
      "50.24\n"
     ]
    }
   ],
   "source": [
    "# B4.Write a Python class named Circle constructed by a radius and two methods \n",
    "# which will compute the area and the perimeter of a circle\n",
    "class Circle():\n",
    "    def __init__(self, r):\n",
    "        self.radius = r\n",
    "\n",
    "    def area(self):\n",
    "        return self.radius**2*3.14\n",
    "    \n",
    "    def perimeter(self):\n",
    "        return 2*self.radius*3.14\n",
    "\n",
    "NewCircle = Circle(8)\n",
    "print(NewCircle.area())\n",
    "print(NewCircle.perimeter())\n"
   ]
  },
  {
   "cell_type": "code",
   "execution_count": null,
   "metadata": {},
   "outputs": [],
   "source": [
    "# B6.Explain Inheritance in Python with an example.?What Is init ? \n",
    "# Or What Is A Constructor In Python?\n",
    "\n",
    "Inheritance allows us to define a class that inherits all the methods and properties from another class.\n",
    "\n",
    "Parent class is the class being inherited from, also called base class.\n",
    "\n",
    "Child class is the class that inherits from another class, also called derived class.\n",
    "        Example\n",
    "Create a class named Person, with firstname and lastname properties, and a printname method:\n",
    "\n",
    "class Person:\n",
    "  def __init__(self, fname, lname):\n",
    "    self.firstname = fname\n",
    "    self.lastname = lname\n",
    "\n",
    "  def printname(self):\n",
    "    print(self.firstname, self.lastname)\n",
    "\n",
    "#Use the Person class to create an object, and then execute the printname method:\n",
    "\n",
    "x = Person(\"John\", \"Doe\")\n",
    "x.printname()\n",
    "\n",
    "\n",
    "# what is __init__\n",
    "    \n",
    "      :-  we have created a child class that inherits the properties and methods from its parent.\n",
    "\n",
    "We want to add the __init__() function to the child class (instead of the pass keyword).\n",
    "\n",
    "Note: The __init__() function is called automatically every time the class is being used to create a new object.\n",
    "    \n",
    "     Example\n",
    "Add the __init__() function to the Student class:\n",
    "\n",
    "class Student(Person):\n",
    "  def __init__(self, fname, lname):\n",
    "    #add properties etc.\n",
    "    \n",
    "    \n",
    "    \n",
    "#  What Is A Constructor In Python? \n",
    "  :- The constructor is a method that is called when an object is created. This method is defined in the class and can be used to initialize basic variables. If you create four objects, the class constructor is called four times."
   ]
  },
  {
   "cell_type": "code",
   "execution_count": null,
   "metadata": {},
   "outputs": [],
   "source": [
    "# B7. What is Instantiation in terms of OOP terminology?\n",
    " :-In computer science, instantiation is the realization of a predefined object. In OOP (object-oriented programming), a class of object may be defined. ... An instance of that object may then be declared, giving it a unique, named identity so that it may be used in the program. This process is called \"instantiation.\"\n"
   ]
  },
  {
   "cell_type": "code",
   "execution_count": null,
   "metadata": {},
   "outputs": [],
   "source": [
    "# B8What is used To check whether an object o is an instance of class A?\n",
    ":- The isinstance() function checks if the object (first argument) is an instance or subclass of classinfo class (second argument). Return Value : true if the object is an instance or subclass of a class, or any element of the tuple false otherwise.\n"
   ]
  },
  {
   "cell_type": "code",
   "execution_count": null,
   "metadata": {},
   "outputs": [],
   "source": [
    "# B9.What relationship is appropriate for Course and Faculty?\n",
    ":- This reusability is possible due to the relationship b/w the classes. Object oriented programming generally support 4 types of relationships that are: inheritance , association, composition and aggregation. All these relationship is based on \"is a\" relationship, \"has-a\" relationship and \"part-of\" relationship"
   ]
  },
  {
   "cell_type": "code",
   "execution_count": null,
   "metadata": {},
   "outputs": [],
   "source": [
    "# I1.Which function overloads the + operator?Which operator is overloaded by invert ()?\n",
    "\n",
    ":-Which operator is overloaded by the __or__() function? Explanation: The function __or__() overloads the bitwise OR operator |."
   ]
  },
  {
   "cell_type": "code",
   "execution_count": null,
   "metadata": {},
   "outputs": [],
   "source": [
    "# I2.Which function overloads the >> operator?\n",
    ":- Which function overloads the >> operator? Explanation: __rshift__() overloads the >> operator."
   ]
  },
  {
   "cell_type": "code",
   "execution_count": 31,
   "metadata": {},
   "outputs": [
    {
     "name": "stdout",
     "output_type": "stream",
     "text": [
      "0.125\n",
      "243\n",
      "1\n"
     ]
    }
   ],
   "source": [
    "# A1.Write a Python class to implement pow(x, n)\n",
    "class py_solution:\n",
    "   def pow(self, x, n):\n",
    "        if x==0 or x==1 or n==1:\n",
    "            return x \n",
    "\n",
    "        if x==-1:\n",
    "            if n%2 ==0:\n",
    "                return 1\n",
    "            else:\n",
    "                return -1\n",
    "        if n==0:\n",
    "            return 1\n",
    "        if n<0:\n",
    "            return 1/self.pow(x,-n)\n",
    "        val = self.pow(x,n//2)\n",
    "        if n%2 ==0:\n",
    "            return val*val\n",
    "        return val*val*x\n",
    "\n",
    "print(py_solution().pow(2, -3));\n",
    "print(py_solution().pow(3, 5));\n",
    "print(py_solution().pow(100, 0));\n",
    "\n"
   ]
  },
  {
   "cell_type": "code",
   "execution_count": null,
   "metadata": {},
   "outputs": [],
   "source": [
    "# [Regular Expression Assignment\n",
    "# Topic: Regular Expression Match,serach,matching vs searching,modifiers\n",
    "\n",
    "\n",
    "# B1.Does Python support strongly for regular expressions?\n",
    "# What are the other languages that support strongly for regular expressions?\n",
    ":-Yes, python strongly support regular expression. Other languages supporting regular expressions are: Delphi, Java, Java script, . NET, Perl, Php, Posix, python, Ruby, Tcl, Visual Basic, XML schema, VB script, Visual Basic 6.\n",
    "\n"
   ]
  },
  {
   "cell_type": "code",
   "execution_count": 32,
   "metadata": {},
   "outputs": [
    {
     "name": "stdout",
     "output_type": "stream",
     "text": [
      "Found a match!\n",
      "Found a match!\n",
      "Found a match!\n"
     ]
    }
   ],
   "source": [
    "# B2.Write a Python program that matches a string that has an a followed by zero or \n",
    "# more b's\n",
    "import re\n",
    "def text_match(text):\n",
    "        patterns = 'ab*?'\n",
    "        if re.search(patterns,  text):\n",
    "                return 'Found a match!'\n",
    "        else:\n",
    "                return('Not matched!')\n",
    "\n",
    "print(text_match(\"ac\"))\n",
    "print(text_match(\"abc\"))\n",
    "print(text_match(\"abbc\"))\n",
    "\n"
   ]
  },
  {
   "cell_type": "code",
   "execution_count": 33,
   "metadata": {},
   "outputs": [
    {
     "name": "stdout",
     "output_type": "stream",
     "text": [
      "True\n",
      "False\n"
     ]
    }
   ],
   "source": [
    "#B3.Write a Python program to check that a string contains only a certain set of characters \n",
    "# (in this case a-z, A-Z and 0-9)\n",
    "import re\n",
    "def is_allowed_specific_char(string):\n",
    "    charRe = re.compile(r'[^a-zA-Z0-9.]')\n",
    "    string = charRe.search(string)\n",
    "    return not bool(string)\n",
    "\n",
    "print(is_allowed_specific_char(\"ABCDEFabcdef123450\")) \n",
    "print(is_allowed_specific_char(\"*&%@#!}{\"))\n",
    "\n"
   ]
  },
  {
   "cell_type": "code",
   "execution_count": 34,
   "metadata": {},
   "outputs": [
    {
     "name": "stdout",
     "output_type": "stream",
     "text": [
      "True\n",
      "False\n"
     ]
    }
   ],
   "source": [
    "# B4. Write a Python program where a string will start with a specific number\n",
    "\n",
    "import re\n",
    "def match_num(string):\n",
    "    text = re.compile(r\"^5\")\n",
    "    if text.match(string):\n",
    "        return True\n",
    "    else:\n",
    "        return False\n",
    "print(match_num('5-2345861'))\n",
    "print(match_num('6-2345861'))\n"
   ]
  },
  {
   "cell_type": "code",
   "execution_count": 35,
   "metadata": {},
   "outputs": [
    {
     "name": "stdout",
     "output_type": "stream",
     "text": [
      "False\n",
      "True\n"
     ]
    }
   ],
   "source": [
    "# B5.Write a Python program to check for a number at the end of a string\n",
    "import re\n",
    "def end_num(string):\n",
    "    text = re.compile(r\".*[0-9]$\")\n",
    "    if text.match(string):\n",
    "        return True\n",
    "    else:\n",
    "        return False\n",
    "\n",
    "print(end_num('abcdef'))\n",
    "print(end_num('abcdef6'))\n"
   ]
  },
  {
   "cell_type": "code",
   "execution_count": 36,
   "metadata": {},
   "outputs": [
    {
     "name": "stdout",
     "output_type": "stream",
     "text": [
      "Original string: Python      Exercises\n",
      "Without extra spaces: Python Exercises\n"
     ]
    }
   ],
   "source": [
    "# A1.Write a Python program to remove multiple spaces in a string.\n",
    "\n",
    "import re\n",
    "text1 = 'Python      Exercises'\n",
    "print(\"Original string:\",text1)\n",
    "print(\"Without extra spaces:\",re.sub(' +',' ',text1))\n",
    "\n"
   ]
  },
  {
   "cell_type": "code",
   "execution_count": 37,
   "metadata": {},
   "outputs": [
    {
     "name": "stdout",
     "output_type": "stream",
     "text": [
      "Python\n",
      "Python Exercises\n",
      "Python Exercises Practice Solution\n"
     ]
    }
   ],
   "source": [
    "# A2. Write a Python program to insert spaces between words starting with capital letters\n",
    "import re\n",
    "def capital_words_spaces(str1):\n",
    "  return re.sub(r\"(\\w)([A-Z])\", r\"\\1 \\2\", str1)\n",
    "\n",
    "print(capital_words_spaces(\"Python\"))\n",
    "print(capital_words_spaces(\"PythonExercises\"))\n",
    "print(capital_words_spaces(\"PythonExercisesPracticeSolution\"))\n"
   ]
  },
  {
   "cell_type": "code",
   "execution_count": 38,
   "metadata": {},
   "outputs": [
    {
     "name": "stdout",
     "output_type": "stream",
     "text": [
      " quick brown jumps over lazy.\n"
     ]
    }
   ],
   "source": [
    "# 3.Write a Python program to remove words from a string of length between\n",
    "# 1 and a given number\n",
    "\n",
    "import re\n",
    "text = \"The quick brown fox jumps over the lazy dog.\"\n",
    "# remove words between 1 and 3\n",
    "shortword = re.compile(r'\\W*\\b\\w{1,3}\\b')\n",
    "print(shortword.sub('', text))\n"
   ]
  },
  {
   "cell_type": "code",
   "execution_count": null,
   "metadata": {},
   "outputs": [],
   "source": []
  }
 ],
 "metadata": {
  "kernelspec": {
   "display_name": "Python 3",
   "language": "python",
   "name": "python3"
  },
  "language_info": {
   "codemirror_mode": {
    "name": "ipython",
    "version": 3
   },
   "file_extension": ".py",
   "mimetype": "text/x-python",
   "name": "python",
   "nbconvert_exporter": "python",
   "pygments_lexer": "ipython3",
   "version": "3.8.5"
  }
 },
 "nbformat": 4,
 "nbformat_minor": 4
}
