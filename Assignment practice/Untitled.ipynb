{
 "cells": [
  {
   "cell_type": "code",
   "execution_count": 1,
   "id": "693936c2",
   "metadata": {},
   "outputs": [
    {
     "name": "stdout",
     "output_type": "stream",
     "text": [
      "The value of x after swapping: [1, 22, 3, 'kumar']\n",
      "The value of y after swapping: [2, 2, 3, 'niranjan']\n"
     ]
    }
   ],
   "source": [
    "\n",
    "x = [2,2,3,'niranjan']\n",
    "y = [1,22,3,'kumar']\n",
    "\n",
    "# create a temporary variable and swap the values\n",
    "temp = x\n",
    "x = y\n",
    "y = temp\n",
    "\n",
    "print('The value of x after swapping: {}'.format(x))\n",
    "print('The value of y after swapping: {}'.format(y))\n"
   ]
  },
  {
   "cell_type": "code",
   "execution_count": null,
   "id": "0b8dee6d",
   "metadata": {},
   "outputs": [],
   "source": [
    "num = int(input(\"enter number\")) ## even or odd check\n",
    "num1 = num%2\n",
    "if num1>0:\n",
    "    print(\"this is odd nuber\")\n",
    "else:\n",
    "    print(\"this is even number\")\n",
    "    "
   ]
  },
  {
   "cell_type": "code",
   "execution_count": null,
   "id": "c40f9d13",
   "metadata": {},
   "outputs": [],
   "source": [
    "add  = int(input(\"enter first number\"))\n",
    "add2 = int(input(\"enter 2nd num\"))"
   ]
  }
 ],
 "metadata": {
  "kernelspec": {
   "display_name": "Python 3",
   "language": "python",
   "name": "python3"
  },
  "language_info": {
   "codemirror_mode": {
    "name": "ipython",
    "version": 3
   },
   "file_extension": ".py",
   "mimetype": "text/x-python",
   "name": "python",
   "nbconvert_exporter": "python",
   "pygments_lexer": "ipython3",
   "version": "3.8.8"
  }
 },
 "nbformat": 4,
 "nbformat_minor": 5
}
