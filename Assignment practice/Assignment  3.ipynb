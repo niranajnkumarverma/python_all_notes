{
 "cells": [
  {
   "cell_type": "code",
   "execution_count": null,
   "metadata": {},
   "outputs": [],
   "source": [
    "# B1.What is List\n",
    ":-List its collection of object in python,list is created using [] or list function\n",
    "    * list is a mutable object\n",
    "    * but list object are mutable or imutable\n",
    "    * List allow hetrogeneous order element\n",
    "    * It allow duplicate value\n",
    "    * List is index\n",
    "    * listr suport negative or positive indexing also suport/salicing\n",
    "    \n"
   ]
  },
  {
   "cell_type": "code",
   "execution_count": 47,
   "metadata": {},
   "outputs": [
    {
     "name": "stdout",
     "output_type": "stream",
     "text": [
      "List Of Countries are: ['India', 'China', 'Bhutan', 'Nepal']\n",
      "List Of Countries after removing last element: ['India', 'China', 'Bhutan']\n",
      "Removed country: Nepal\n"
     ]
    }
   ],
   "source": [
    "# 2.How will you remove last object from a list?\n",
    "\n",
    "listOfCountries = ['India','China', 'Bhutan','Nepal']\n",
    "print(\"List Of Countries are:\",listOfCountries)\n",
    "removedCountry = listOfCountries.pop()\n",
    "print(\"List Of Countries after removing last element:\",listOfCountries)\n",
    "print(\"Removed country:\",removedCountry)"
   ]
  },
  {
   "cell_type": "code",
   "execution_count": null,
   "metadata": {},
   "outputs": [],
   "source": [
    "# B3.Suppose list1 is [2, 33, 222, 14, 25], What is list1[-1] ?\n",
    ":- 14"
   ]
  },
  {
   "cell_type": "code",
   "execution_count": null,
   "metadata": {},
   "outputs": [],
   "source": [
    "# B4.Differentiate between append() and extend() methods.?\n",
    ":- When append() method adds its argument as a single element to the end of a list, the length of the list itself will increase by one. Whereas extend() method iterates over its argument adding each element to the list, extending the list. The length of the list will increase by however many elements were in the iterable argument.\n",
    "    "
   ]
  },
  {
   "cell_type": "code",
   "execution_count": 50,
   "metadata": {},
   "outputs": [
    {
     "name": "stdout",
     "output_type": "stream",
     "text": [
      "Largest element is: 99\n"
     ]
    }
   ],
   "source": [
    "# B5. Write a Python function to get the largest number ,\n",
    "#smallest num and sum of all from a list\n",
    "\n",
    "list1 = [10, 20, 4, 45, 99]\n",
    "print(\"Largest element is:\", max(list1))"
   ]
  },
  {
   "cell_type": "code",
   "execution_count": 51,
   "metadata": {},
   "outputs": [
    {
     "name": "stdout",
     "output_type": "stream",
     "text": [
      "smolest number is: 23\n"
     ]
    }
   ],
   "source": [
    "list2 = [27,23,24,55]\n",
    "print(\"smolest number is:\",min(list2))"
   ]
  },
  {
   "cell_type": "code",
   "execution_count": 44,
   "metadata": {},
   "outputs": [
    {
     "name": "stdout",
     "output_type": "stream",
     "text": [
      "The lists l1 and l3 are the same\n",
      "The lists l1 and l2 are not the same\n"
     ]
    }
   ],
   "source": [
    "# B6.How will you compare two lists?\n",
    "#We can club the Python sort() method with the == operator to compare two lists.\n",
    "\n",
    "#Python sort() method is used to sort the input lists with a purpose that if the two input lists are equal, then the elements would reside at the same index positions.\n",
    "\n",
    "\n",
    "#Example:\n",
    "\n",
    "\n",
    "import collections \n",
    "l1 = [10, 20, 30, 40, 50] \n",
    "l2 = [10, 20, 30, 50, 40, 70] \n",
    "l3 = [50, 10, 30, 20, 40] \n",
    "\n",
    "l1.sort() \n",
    "l2.sort() \n",
    "l3.sort() \n",
    "\n",
    "if l1 == l3: \n",
    "    print (\"The lists l1 and l3 are the same\") \n",
    "else: \n",
    "    print (\"The lists l1 and l3 are not the same\") \n",
    "\n",
    "\n",
    "if l1 == l2: \n",
    "    print (\"The lists l1 and l2 are the same\") \n",
    "else: \n",
    "    print (\"The lists l1 and l2 are not the same\") \n",
    "\n"
   ]
  },
  {
   "cell_type": "code",
   "execution_count": 52,
   "metadata": {},
   "outputs": [
    {
     "name": "stdout",
     "output_type": "stream",
     "text": [
      "2\n"
     ]
    }
   ],
   "source": [
    "# I1. Write a Python program to count the number of strings where the \n",
    "# string length is 2 or more and the first and last character are same from \n",
    "\n",
    "def match_words(words):  \n",
    "  ctr = 0  \n",
    "  \n",
    "  for word in words:  \n",
    "    if len(word) > 1 and word[0] == word[-1]:  \n",
    "      ctr += 1  \n",
    "  return ctr  \n",
    "  \n",
    "print(match_words(['abc', 'xyz', 'aba', '1221']))  \n"
   ]
  },
  {
   "cell_type": "code",
   "execution_count": 53,
   "metadata": {},
   "outputs": [
    {
     "name": "stdout",
     "output_type": "stream",
     "text": [
      "{678, 40, 200, 10, 234, 908, 80, 50, 20, 60, 30}\n"
     ]
    }
   ],
   "source": [
    "# l2.Write a Python program to remove duplicates from a list\n",
    "\n",
    "\n",
    "\n",
    "\n",
    "hello = [10,20,30,20,10,50,60,40,80,50,40,234,234,678,908,200]\n",
    "dup_items = set()\n",
    "uniq_items = []\n",
    "for x in hello:\n",
    "    if x not in dup_items:\n",
    "        uniq_items.append(x)\n",
    "        dup_items.add(x)\n",
    "\n",
    "print(dup_items)"
   ]
  },
  {
   "cell_type": "code",
   "execution_count": 54,
   "metadata": {},
   "outputs": [
    {
     "name": "stdout",
     "output_type": "stream",
     "text": [
      "200\n"
     ]
    }
   ],
   "source": [
    "print(x)"
   ]
  },
  {
   "cell_type": "code",
   "execution_count": 55,
   "metadata": {},
   "outputs": [
    {
     "name": "stdout",
     "output_type": "stream",
     "text": [
      "List is empty\n"
     ]
    }
   ],
   "source": [
    "# 13Write a Python program to check a list is empty or not.\n",
    "l = []\n",
    "if not l:\n",
    "  print(\"List is empty\")\n",
    "  "
   ]
  },
  {
   "cell_type": "code",
   "execution_count": 56,
   "metadata": {},
   "outputs": [
    {
     "name": "stdout",
     "output_type": "stream",
     "text": [
      "True\n",
      "True\n"
     ]
    }
   ],
   "source": [
    "# 14.Write a Python function that takes two lists and returns True if the \n",
    "#y have at least one common member\n",
    "def common_data(list1, list2):\n",
    "     result = False\n",
    "     for x in list1:\n",
    "         for y in list2:\n",
    "             if x == y:\n",
    "                 result = True\n",
    "                 return result\n",
    "print(common_data([1,2,3,4,5], [5,6,7,8,9]))\n",
    "print(common_data([1,2,3,4,5], [5,6,7,8,9]))"
   ]
  },
  {
   "cell_type": "code",
   "execution_count": 57,
   "metadata": {},
   "outputs": [
    {
     "name": "stdout",
     "output_type": "stream",
     "text": [
      "[1, 4, 9, 16, 25]\n",
      "[256, 289, 324, 361, 400]\n"
     ]
    }
   ],
   "source": [
    "# I5.Write a Python program to generate and print a list of first and last 5 elements \n",
    "#where the values are square of numbers between 1 and 30\n",
    "\n",
    "def printValues():\n",
    "    l = list()\n",
    "    for i in range(1,21):\n",
    "        l.append(i**2)\n",
    "    print(l[:5])\n",
    "    print(l[-5:])\n",
    "\n",
    "printValues()"
   ]
  },
  {
   "cell_type": "code",
   "execution_count": 58,
   "metadata": {},
   "outputs": [
    {
     "name": "stdout",
     "output_type": "stream",
     "text": [
      "NIRANJAN\n"
     ]
    }
   ],
   "source": [
    "# l7. Write a Python program to convert a list of characters into a string\n",
    "s = ['N', 'I', 'R', 'A','N','J','A','N'] \n",
    "str1 = ''.join(s)\n",
    "print(str1)\n"
   ]
  },
  {
   "cell_type": "code",
   "execution_count": 59,
   "metadata": {},
   "outputs": [
    {
     "name": "stdout",
     "output_type": "stream",
     "text": [
      "Green\n"
     ]
    }
   ],
   "source": [
    "# A1.Write a Python program to select an item randomly from a list\n",
    "import random\n",
    "color_list = ['Red', 'Blue', 'Green', 'White', 'Black']\n",
    "print(random.choice(color_list))\n"
   ]
  },
  {
   "cell_type": "code",
   "execution_count": 1,
   "metadata": {},
   "outputs": [
    {
     "name": "stdout",
     "output_type": "stream",
     "text": [
      "Enter the number of elements: 12\n",
      "Enter the elements: 2\n",
      "Enter the elements: 3\n",
      "Enter the elements: 4\n",
      "Enter the elements: 5\n",
      "Enter the elements: 6\n",
      "Enter the elements: 7\n",
      "Enter the elements: 8\n",
      "Enter the elements: 9\n",
      "Enter the elements: 13\n",
      "Enter the elements: 14\n",
      "Enter the elements: 15\n",
      "Enter the elements: 16\n",
      "The sorted list:  [2, 3, 4, 5, 6, 7, 8, 9, 13, 14, 15, 16]\n",
      "The second smallest value of this list:  3\n"
     ]
    }
   ],
   "source": [
    "# A2.Write a Python program to find the second smallest number in a list.\n",
    "li = [] \n",
    "n = int(input(\"Enter the number of elements: \"))\n",
    "for i in range(1, n+1): \n",
    "    elem = int(input(\"Enter the elements: \")) \n",
    "    li.append(elem) \n",
    "li.sort() \n",
    "\n",
    "print(\"The sorted list: \", li) \n",
    "print(\"The second smallest value of this list: \",li[1])"
   ]
  },
  {
   "cell_type": "code",
   "execution_count": 2,
   "metadata": {},
   "outputs": [
    {
     "name": "stdout",
     "output_type": "stream",
     "text": [
      "Original List :  [10, 20, 30, 40, 20, 50, 60, 40]\n",
      "List of unique numbers :  [40, 10, 50, 20, 60, 30]\n"
     ]
    }
   ],
   "source": [
    "# A3. Write a Python program to get unique values from a list\n",
    "my_list = [10, 20, 30, 40, 20, 50, 60, 40]\n",
    "print(\"Original List : \",my_list)\n",
    "my_set = set(my_list)\n",
    "my_new_list = list(my_set)\n",
    "print(\"List of unique numbers : \",my_new_list)"
   ]
  },
  {
   "cell_type": "code",
   "execution_count": 1,
   "metadata": {},
   "outputs": [
    {
     "name": "stdout",
     "output_type": "stream",
     "text": [
      "True\n",
      "False\n"
     ]
    }
   ],
   "source": [
    "# A4.Write a Python program to check whether a list contains a sublist\n",
    "\n",
    "def is_Sublist(l, s):\n",
    "\tsub_set = False\n",
    "\tif s == []:\n",
    "\t\tsub_set = True\n",
    "\telif s == l:\n",
    "\t\tsub_set = True\n",
    "\telif len(s) > len(l):\n",
    "\t\tsub_set = False\n",
    "\n",
    "\telse:\n",
    "\t\tfor i in range(len(l)):\n",
    "\t\t\tif l[i] == s[0]:\n",
    "\t\t\t\tn = 1\n",
    "\t\t\t\twhile (n < len(s)) and (l[i+n] == s[n]):\n",
    "\t\t\t\t\tn += 1\n",
    "\t\t\t\t\n",
    "\t\t\t\tif n == len(s):\n",
    "\t\t\t\t\tsub_set = True\n",
    "\n",
    "\treturn sub_set\n",
    "\n",
    "a = [2,4,3,5,7]\n",
    "b = [4,3]\n",
    "c = [3,7]\n",
    "print(is_Sublist(a, b))\n",
    "print(is_Sublist(a, c))"
   ]
  },
  {
   "cell_type": "code",
   "execution_count": 3,
   "metadata": {},
   "outputs": [
    {
     "name": "stdout",
     "output_type": "stream",
     "text": [
      "('Black=', ' ', ' ')\n",
      "('Red=', ' ', ' ')\n",
      "('Yellow=', ' ', ' ')\n"
     ]
    }
   ],
   "source": [
    "# A5.Write a Python program to split a list into different variables.\n",
    "\n",
    "color = [(\"Black=\", \" \", \" \"), (\"Red=\", \" \", \" \"),\n",
    "         (\"Yellow=\", \" \", \" \")]\n",
    "var1, var2, var3 = color\n",
    "print(var1)\n",
    "print(var2)\n",
    "print(var3)"
   ]
  },
  {
   "cell_type": "code",
   "execution_count": null,
   "metadata": {},
   "outputs": [],
   "source": [
    "## TUPLE\n",
    "\n",
    "B1.What is tuple?Difference between list and tuple\n",
    ":- Tuple is collection of object and tuple is imutable type \n",
    "    * Tuple object are mutable and imutable\n",
    "    * Tuple is index\n",
    "    * salicing [/] are allowed\n",
    "    * Tuple is creating using pare of parenthasis () and tuple function\n",
    "    \n",
    "    Difference Tuple and List\n",
    "    \n",
    "    Tuple is list\n",
    "    List is imutable object"
   ]
  },
  {
   "cell_type": "code",
   "execution_count": 4,
   "metadata": {},
   "outputs": [
    {
     "name": "stdout",
     "output_type": "stream",
     "text": [
      "('tuple', False, 3.2, 1)\n"
     ]
    }
   ],
   "source": [
    "# B2.Write a Python program to create a tuple with different data types\n",
    "mytuple = (\"tuple\", False, 3.2, 1)\n",
    "print(mytuple)"
   ]
  },
  {
   "cell_type": "code",
   "execution_count": 46,
   "metadata": {},
   "outputs": [
    {
     "name": "stdout",
     "output_type": "stream",
     "text": [
      "(5, 10, 15, 20, 25)\n",
      "(5, 10, 15, 20, 25)\n"
     ]
    }
   ],
   "source": [
    "# B3. Write a Python program to create a tuple with numbers\n",
    "mytuple = 5, 10, 15, 20, 25\n",
    "print(mytuple)\n",
    "\n",
    "tuple = 5,\n",
    "print(mytuple)"
   ]
  },
  {
   "cell_type": "code",
   "execution_count": 2,
   "metadata": {},
   "outputs": [
    {
     "name": "stdout",
     "output_type": "stream",
     "text": [
      "NIRANJAN\n"
     ]
    }
   ],
   "source": [
    "# 4.Write a Python program to convert a tuple to a string\n",
    "\n",
    "\n",
    "def convertTuple(tup):\n",
    "    str =  ''.join(tup)\n",
    "    return str\n",
    "    \n",
    "\n",
    "  \n",
    "\n",
    "tuple = ('N', 'I', 'R', 'A', 'N','J','A','N')\n",
    "str = convertTuple(tuple)\n",
    "\n",
    "print(str)"
   ]
  },
  {
   "cell_type": "code",
   "execution_count": null,
   "metadata": {},
   "outputs": [],
   "source": [
    "# B5.Write a Python program to check whether an element exists within a tuple\n",
    "\n",
    "tuple = (\"w\", 3, \"r\", \"e\", \"s\", \"o\", \"u\", \"r\", \"c\", \"e\")\n",
    "print(\"r\" in tuple)\n",
    "print(5 in tuple)"
   ]
  },
  {
   "cell_type": "code",
   "execution_count": 6,
   "metadata": {},
   "outputs": [
    {
     "name": "stdout",
     "output_type": "stream",
     "text": [
      "First tuple length :  3\n",
      "Second tuple length :  2\n"
     ]
    }
   ],
   "source": [
    "# 7.Write a Python program to find the length of a tuple.\n",
    "\n",
    "tuple1, tuple2 = (123, 'xyz', 'zara'), (456, 'abc')\n",
    "print(\"First tuple length : \", len(tuple1))\n",
    "print(\"Second tuple length : \", len(tuple2))"
   ]
  },
  {
   "cell_type": "code",
   "execution_count": 7,
   "metadata": {},
   "outputs": [
    {
     "name": "stdout",
     "output_type": "stream",
     "text": [
      "[5, 10, 7, 4, 15, 3]\n"
     ]
    },
    {
     "ename": "TypeError",
     "evalue": "'tuple' object is not callable",
     "output_type": "error",
     "traceback": [
      "\u001b[1;31m---------------------------------------------------------------------------\u001b[0m",
      "\u001b[1;31mTypeError\u001b[0m                                 Traceback (most recent call last)",
      "\u001b[1;32m<ipython-input-7-3b52d08f29f2>\u001b[0m in \u001b[0;36m<module>\u001b[1;34m\u001b[0m\n\u001b[0;32m      4\u001b[0m \u001b[0mprint\u001b[0m\u001b[1;33m(\u001b[0m\u001b[0mlist1\u001b[0m\u001b[1;33m)\u001b[0m\u001b[1;33m\u001b[0m\u001b[1;33m\u001b[0m\u001b[0m\n\u001b[0;32m      5\u001b[0m \u001b[1;33m\u001b[0m\u001b[0m\n\u001b[1;32m----> 6\u001b[1;33m \u001b[0mtuple\u001b[0m \u001b[1;33m=\u001b[0m \u001b[0mtuple\u001b[0m\u001b[1;33m(\u001b[0m\u001b[0mlist1\u001b[0m\u001b[1;33m)\u001b[0m\u001b[1;33m\u001b[0m\u001b[1;33m\u001b[0m\u001b[0m\n\u001b[0m\u001b[0;32m      7\u001b[0m \u001b[0mprint\u001b[0m\u001b[1;33m(\u001b[0m\u001b[0mtuple\u001b[0m\u001b[1;33m)\u001b[0m\u001b[1;33m\u001b[0m\u001b[1;33m\u001b[0m\u001b[0m\n",
      "\u001b[1;31mTypeError\u001b[0m: 'tuple' object is not callable"
     ]
    }
   ],
   "source": [
    "# B6.Write a Python program to convert a list to a tupl\n",
    "\n",
    "list1 = [5, 10, 7, 4, 15, 3]\n",
    "print(list1)\n",
    "\n",
    "tuple = tuple(list1)\n",
    "print(tuple)"
   ]
  },
  {
   "cell_type": "code",
   "execution_count": 8,
   "metadata": {},
   "outputs": [
    {
     "name": "stdout",
     "output_type": "stream",
     "text": [
      "(19, 18, 17, 15, 14, 13, 12, 'my name is niranjan,kumar verma', 9.56, 3.78, 2, 1)\n"
     ]
    }
   ],
   "source": [
    "# I1. Write a Python program to reverse a tuple\n",
    "\n",
    "\n",
    "my_tuple = (1,2,3.78, 9.56, 'my name is niranjan,kumar verma',12,13,14,15,17,18,19)\n",
    "my_tuple = my_tuple[::-1]\n",
    "print(my_tuple)"
   ]
  },
  {
   "cell_type": "code",
   "execution_count": 9,
   "metadata": {},
   "outputs": [
    {
     "name": "stdout",
     "output_type": "stream",
     "text": [
      "[(10, 20, 100), (40, 50, 100), (70, 80, 100)]\n"
     ]
    }
   ],
   "source": [
    "# I2.Write a Python program to replace last value of tuples in a list\n",
    "l = [(10, 20, 40), (40, 50, 60), (70, 80, 90)]\n",
    "print([t[:-1] + (100,) for t in l])\n"
   ]
  },
  {
   "cell_type": "code",
   "execution_count": 10,
   "metadata": {},
   "outputs": [
    {
     "name": "stdout",
     "output_type": "stream",
     "text": [
      "(2, 4, 5, 6, 2, 3, 4, 4, 7)\n",
      "3\n"
     ]
    }
   ],
   "source": [
    "# i3.Write a Python program to find the repeated items of a tupl\n",
    "tuple = 2, 4, 5, 6, 2, 3, 4, 4, 7 \n",
    "print(tuple)\n",
    "count = tuple.count(4)\n",
    "print(count)\n"
   ]
  },
  {
   "cell_type": "code",
   "execution_count": 11,
   "metadata": {},
   "outputs": [
    {
     "name": "stdout",
     "output_type": "stream",
     "text": [
      "[('',), ('a', 'b'), ('a', 'b', 'c'), 'd']\n"
     ]
    }
   ],
   "source": [
    "# A1.Write a Python program to remove an empty tuple(s) from a list of tuples.\n",
    "\n",
    "L = [(), (), ('',), ('a', 'b'), ('a', 'b', 'c'), ('d')]\n",
    "L = [t for t in L if t]\n",
    "print(L)"
   ]
  },
  {
   "cell_type": "code",
   "execution_count": 12,
   "metadata": {},
   "outputs": [
    {
     "name": "stdout",
     "output_type": "stream",
     "text": [
      "[(1, 3, 8), (2, 4, 9)]\n"
     ]
    }
   ],
   "source": [
    "# A2.Write a Python program to unzip a list of tuples into individual lists\n",
    "\n",
    "hello = [(1,2), (3,4), (8,9)]\n",
    "print(list(zip(*hello)))"
   ]
  },
  {
   "cell_type": "code",
   "execution_count": 13,
   "metadata": {},
   "outputs": [
    {
     "name": "stdout",
     "output_type": "stream",
     "text": [
      "{'x': [1, 2, 3], 'y': [1, 2], 'z': [1]}\n"
     ]
    }
   ],
   "source": [
    "# A3. Write a Python program to convert a list of tuples into a dictionary\n",
    "\n",
    "l = [(\"x\", 1), (\"x\", 2), (\"x\", 3), (\"y\", 1), (\"y\", 2), (\"z\", 1)]\n",
    "d = {}\n",
    "for a, b in l:\n",
    "    d.setdefault(a, []).append(b)\n",
    "print (d)"
   ]
  },
  {
   "cell_type": "code",
   "execution_count": null,
   "metadata": {},
   "outputs": [],
   "source": [
    "# DICTIONARY\n",
    "\n",
    "#B1.What is Dictionaries\n",
    ":- Dictionary object its a mutable object\n",
    "    * Dictionary is created using {} compound bracket or dic function\n",
    "    * Dictionary object are based on key-value object combination\n",
    "    * Dictionary key are imutable but value are mutable\n",
    "    * Dictionary value are mutable the combinatioin of key value is known as item\n",
    "    * Duplticate value are allowed but duplicate key are not allowed\n",
    "    * Insertion order is not preserve"
   ]
  },
  {
   "cell_type": "code",
   "execution_count": 14,
   "metadata": {},
   "outputs": [
    {
     "name": "stdout",
     "output_type": "stream",
     "text": [
      "\n",
      " Dictionary  use of Integer Keys: \n",
      "{1: 'Geeks', 2: 'For', 3: 'Geeks'}\n"
     ]
    }
   ],
   "source": [
    "# B2.How will you create a dictionary in python?How will you get all the keys from the \n",
    "#dictionary?\n",
    "\n",
    "\n",
    "Dict = {1: 'Geeks', 2: 'For', 3: 'Geeks'}\n",
    "print(\"\\n Dictionary  use of Integer Keys: \")\n",
    "print(Dict)\n",
    "  \n"
   ]
  },
  {
   "cell_type": "code",
   "execution_count": 15,
   "metadata": {},
   "outputs": [
    {
     "name": "stdout",
     "output_type": "stream",
     "text": [
      "[('Geeks', 10), ('for', 12), ('Geek', 31)]\n"
     ]
    }
   ],
   "source": [
    "# B3.How will you create a dictionary using tuples in python?\n",
    "\n",
    "\n",
    "  \n",
    "\n",
    "dict = { 'Geeks': 10, 'for': 12, 'Geek': 31 }\n",
    "  \n",
    "\n",
    "list = [(k, v) for k, v in dict.items()]\n",
    "  \n",
    "\n",
    "print(list)"
   ]
  },
  {
   "cell_type": "code",
   "execution_count": 16,
   "metadata": {},
   "outputs": [
    {
     "name": "stdout",
     "output_type": "stream",
     "text": [
      "Original dictionary :  {1: 2, 3: 4, 4: 3, 2: 1, 0: 0}\n",
      "Dictionary in ascending order by value :  [(0, 0), (2, 1), (1, 2), (4, 3), (3, 4)]\n"
     ]
    },
    {
     "ename": "TypeError",
     "evalue": "'dict' object is not callable",
     "output_type": "error",
     "traceback": [
      "\u001b[1;31m---------------------------------------------------------------------------\u001b[0m",
      "\u001b[1;31mTypeError\u001b[0m                                 Traceback (most recent call last)",
      "\u001b[1;32m<ipython-input-16-c773a3b11d7f>\u001b[0m in \u001b[0;36m<module>\u001b[1;34m\u001b[0m\n\u001b[0;32m     10\u001b[0m \u001b[0mprint\u001b[0m\u001b[1;33m(\u001b[0m\u001b[1;34m'Dictionary in ascending order by value : '\u001b[0m\u001b[1;33m,\u001b[0m\u001b[0msorted_d\u001b[0m\u001b[1;33m)\u001b[0m\u001b[1;33m\u001b[0m\u001b[1;33m\u001b[0m\u001b[0m\n\u001b[0;32m     11\u001b[0m \u001b[1;33m\u001b[0m\u001b[0m\n\u001b[1;32m---> 12\u001b[1;33m \u001b[0msorted_d\u001b[0m \u001b[1;33m=\u001b[0m \u001b[0mdict\u001b[0m\u001b[1;33m(\u001b[0m \u001b[0msorted\u001b[0m\u001b[1;33m(\u001b[0m\u001b[0md\u001b[0m\u001b[1;33m.\u001b[0m\u001b[0mitems\u001b[0m\u001b[1;33m(\u001b[0m\u001b[1;33m)\u001b[0m\u001b[1;33m,\u001b[0m \u001b[0mkey\u001b[0m\u001b[1;33m=\u001b[0m\u001b[0moperator\u001b[0m\u001b[1;33m.\u001b[0m\u001b[0mitemgetter\u001b[0m\u001b[1;33m(\u001b[0m\u001b[1;36m1\u001b[0m\u001b[1;33m)\u001b[0m\u001b[1;33m,\u001b[0m\u001b[0mreverse\u001b[0m\u001b[1;33m=\u001b[0m\u001b[1;32mTrue\u001b[0m\u001b[1;33m)\u001b[0m\u001b[1;33m)\u001b[0m\u001b[1;33m\u001b[0m\u001b[1;33m\u001b[0m\u001b[0m\n\u001b[0m\u001b[0;32m     13\u001b[0m \u001b[1;33m\u001b[0m\u001b[0m\n\u001b[0;32m     14\u001b[0m \u001b[0mprint\u001b[0m\u001b[1;33m(\u001b[0m\u001b[1;34m'Dictionary in descending order by value : '\u001b[0m\u001b[1;33m,\u001b[0m\u001b[0msorted_d\u001b[0m\u001b[1;33m)\u001b[0m\u001b[1;33m\u001b[0m\u001b[1;33m\u001b[0m\u001b[0m\n",
      "\u001b[1;31mTypeError\u001b[0m: 'dict' object is not callable"
     ]
    }
   ],
   "source": [
    "# B4.Write a Python script to sort (ascending and descending) a dictionary by value\n",
    "import operator\n",
    "\n",
    "d = {1: 2, 3: 4, 4: 3, 2: 1, 0: 0}\n",
    "\n",
    "print('Original dictionary : ',d)\n",
    "\n",
    "sorted_d = sorted(d.items(), key=operator.itemgetter(1))\n",
    "\n",
    "print('Dictionary in ascending order by value : ',sorted_d)\n",
    "\n",
    "sorted_d = dict( sorted(d.items(), key=operator.itemgetter(1),reverse=True))\n",
    "\n",
    "print('Dictionary in descending order by value : ',sorted_d)\n",
    "\n"
   ]
  },
  {
   "cell_type": "code",
   "execution_count": 17,
   "metadata": {},
   "outputs": [
    {
     "ename": "NameError",
     "evalue": "name 'is_key_present' is not defined",
     "output_type": "error",
     "traceback": [
      "\u001b[1;31m---------------------------------------------------------------------------\u001b[0m",
      "\u001b[1;31mNameError\u001b[0m                                 Traceback (most recent call last)",
      "\u001b[1;32m<ipython-input-17-a9a893511a8a>\u001b[0m in \u001b[0;36m<module>\u001b[1;34m\u001b[0m\n\u001b[0;32m      7\u001b[0m   \u001b[1;32melse\u001b[0m\u001b[1;33m:\u001b[0m\u001b[1;33m\u001b[0m\u001b[1;33m\u001b[0m\u001b[0m\n\u001b[0;32m      8\u001b[0m       \u001b[0mprint\u001b[0m\u001b[1;33m(\u001b[0m\u001b[1;34m'Key is not present in the dictionary'\u001b[0m\u001b[1;33m)\u001b[0m\u001b[1;33m\u001b[0m\u001b[1;33m\u001b[0m\u001b[0m\n\u001b[1;32m----> 9\u001b[1;33m \u001b[0mis_key_present\u001b[0m\u001b[1;33m(\u001b[0m\u001b[1;36m8\u001b[0m\u001b[1;33m)\u001b[0m\u001b[1;33m\u001b[0m\u001b[1;33m\u001b[0m\u001b[0m\n\u001b[0m\u001b[0;32m     10\u001b[0m \u001b[0mis_key_present\u001b[0m\u001b[1;33m(\u001b[0m\u001b[1;36m6\u001b[0m\u001b[1;33m)\u001b[0m\u001b[1;33m\u001b[0m\u001b[1;33m\u001b[0m\u001b[0m\n",
      "\u001b[1;31mNameError\u001b[0m: name 'is_key_present' is not defined"
     ]
    }
   ],
   "source": [
    "# B6.Write a Python script to check if a given key already exists in a dictionary\n",
    "\n",
    "d = {1: 10, 2: 20, 3: 30, 4: 40, 5: 50, 6: 60}\n",
    "def iskey_present(x):\n",
    "  if x in d:\n",
    "      print('Key is present in the dictionary')\n",
    "  else:\n",
    "      print('Key is not present in the dictionary')\n",
    "is_key_present(8)\n",
    "is_key_present(6)"
   ]
  },
  {
   "cell_type": "code",
   "execution_count": 18,
   "metadata": {},
   "outputs": [
    {
     "ename": "SyntaxError",
     "evalue": "invalid syntax (<ipython-input-18-87b30a71a4be>, line 3)",
     "output_type": "error",
     "traceback": [
      "\u001b[1;36m  File \u001b[1;32m\"<ipython-input-18-87b30a71a4be>\"\u001b[1;36m, line \u001b[1;32m3\u001b[0m\n\u001b[1;33m    dict={(1:'a', 2:'b', 3:'c')}\u001b[0m\n\u001b[1;37m            ^\u001b[0m\n\u001b[1;31mSyntaxError\u001b[0m\u001b[1;31m:\u001b[0m invalid syntax\n"
     ]
    }
   ],
   "source": [
    "# B7.How Do You Traverse Through A Dictionary Object In Python?\n",
    "\n",
    "dict={(1:'a', 2:'b', 3:'c')}\n",
    "for k,v in dict.item():\n",
    "    print(k,v)\n",
    "     \n",
    "        "
   ]
  },
  {
   "cell_type": "code",
   "execution_count": 20,
   "metadata": {},
   "outputs": [
    {
     "name": "stdout",
     "output_type": "stream",
     "text": [
      "Not present\n",
      "Not present\n"
     ]
    }
   ],
   "source": [
    "# B8.How Do You Check The Presence Of A Key In A Dictionary?\n",
    "def checkKey(dict, key):\n",
    "      \n",
    "    if key in dict.keys():\n",
    "        print(\"Present, \", end =\" \")\n",
    "        print(\"value =\", dict[key])\n",
    "    else:\n",
    "        print(\"Not present\")\n",
    "        dict = {'a': 100, 'b':200, 'c':300}\n",
    "  \n",
    "key = 'b'\n",
    "checkKey(dict, key)\n",
    "  \n",
    "key = '200'\n",
    "checkKey(dict, key)"
   ]
  },
  {
   "cell_type": "code",
   "execution_count": 21,
   "metadata": {},
   "outputs": [
    {
     "ename": "TypeError",
     "evalue": "'dict' object is not callable",
     "output_type": "error",
     "traceback": [
      "\u001b[1;31m---------------------------------------------------------------------------\u001b[0m",
      "\u001b[1;31mTypeError\u001b[0m                                 Traceback (most recent call last)",
      "\u001b[1;32m<ipython-input-21-1b6eb30a46eb>\u001b[0m in \u001b[0;36m<module>\u001b[1;34m\u001b[0m\n\u001b[0;32m      2\u001b[0m \u001b[1;31m#Sample Dictionary\u001b[0m\u001b[1;33m\u001b[0m\u001b[1;33m\u001b[0m\u001b[1;33m\u001b[0m\u001b[0m\n\u001b[0;32m      3\u001b[0m \u001b[1;33m\u001b[0m\u001b[0m\n\u001b[1;32m----> 4\u001b[1;33m \u001b[0md\u001b[0m\u001b[1;33m=\u001b[0m\u001b[0mdict\u001b[0m\u001b[1;33m(\u001b[0m\u001b[1;33m)\u001b[0m\u001b[1;33m\u001b[0m\u001b[1;33m\u001b[0m\u001b[0m\n\u001b[0m\u001b[0;32m      5\u001b[0m \u001b[1;32mfor\u001b[0m \u001b[0mx\u001b[0m \u001b[1;32min\u001b[0m \u001b[0mrange\u001b[0m\u001b[1;33m(\u001b[0m\u001b[1;36m1\u001b[0m\u001b[1;33m,\u001b[0m\u001b[1;36m16\u001b[0m\u001b[1;33m)\u001b[0m\u001b[1;33m:\u001b[0m\u001b[1;33m\u001b[0m\u001b[1;33m\u001b[0m\u001b[0m\n\u001b[0;32m      6\u001b[0m     \u001b[0md\u001b[0m\u001b[1;33m[\u001b[0m\u001b[0mx\u001b[0m\u001b[1;33m]\u001b[0m\u001b[1;33m=\u001b[0m\u001b[0mx\u001b[0m\u001b[1;33m**\u001b[0m\u001b[1;36m2\u001b[0m\u001b[1;33m\u001b[0m\u001b[1;33m\u001b[0m\u001b[0m\n",
      "\u001b[1;31mTypeError\u001b[0m: 'dict' object is not callable"
     ]
    }
   ],
   "source": [
    "# I1 Write a Python script to print a dictionary where the keys are numbers between 1 and 15 (both\n",
    "#Sample Dictionary\n",
    " \n",
    "d=dict()\n",
    "for x in range(1,16):\n",
    "    d[x]=x**2\n",
    "print(d)  \n",
    " "
   ]
  },
  {
   "cell_type": "code",
   "execution_count": 22,
   "metadata": {},
   "outputs": [
    {
     "name": "stdout",
     "output_type": "stream",
     "text": [
      "True\n",
      "False\n",
      "True\n"
     ]
    }
   ],
   "source": [
    "# I2. Write a Python program to check multiple keys exists in a dictionary\n",
    "\n",
    "student = {\n",
    "  'name': 'niranjan kumar verma',\n",
    "  'class': 'x121',\n",
    "  'roll_id': '01267'\n",
    "}\n",
    "print(student.keys() >= {'class', 'name'})\n",
    "print(student.keys() >= {'name', 'niranjan kumar verma'})\n",
    "print(student.keys() >= {'roll_id', 'name'})\n"
   ]
  },
  {
   "cell_type": "code",
   "execution_count": 23,
   "metadata": {},
   "outputs": [
    {
     "name": "stdout",
     "output_type": "stream",
     "text": [
      "{'a': 100, 'b': 200, 'x': 300, 'y': 200}\n"
     ]
    }
   ],
   "source": [
    "# I3.Write a Python script to merge two Python dictionaries\n",
    "\n",
    "d1 = {'a': 100, 'b': 200}\n",
    "d2 = {'x': 300, 'y': 200}\n",
    "d = d1.copy()\n",
    "d.update(d2)\n",
    "print(d)"
   ]
  },
  {
   "cell_type": "code",
   "execution_count": 24,
   "metadata": {},
   "outputs": [
    {
     "ename": "TypeError",
     "evalue": "'dict' object is not callable",
     "output_type": "error",
     "traceback": [
      "\u001b[1;31m---------------------------------------------------------------------------\u001b[0m",
      "\u001b[1;31mTypeError\u001b[0m                                 Traceback (most recent call last)",
      "\u001b[1;32m<ipython-input-24-13d52903e55c>\u001b[0m in \u001b[0;36m<module>\u001b[1;34m\u001b[0m\n\u001b[0;32m      2\u001b[0m \u001b[0mkeys\u001b[0m \u001b[1;33m=\u001b[0m \u001b[1;33m[\u001b[0m\u001b[1;34m'niranjan'\u001b[0m\u001b[1;33m,\u001b[0m \u001b[1;34m'kumar'\u001b[0m\u001b[1;33m,\u001b[0m \u001b[1;34m'verma'\u001b[0m\u001b[1;33m]\u001b[0m\u001b[1;33m\u001b[0m\u001b[1;33m\u001b[0m\u001b[0m\n\u001b[0;32m      3\u001b[0m \u001b[0mvalues\u001b[0m \u001b[1;33m=\u001b[0m \u001b[1;33m[\u001b[0m\u001b[1;34m'0000'\u001b[0m\u001b[1;33m,\u001b[0m\u001b[1;34m'11111'\u001b[0m\u001b[1;33m,\u001b[0m \u001b[1;34m'22222'\u001b[0m\u001b[1;33m]\u001b[0m\u001b[1;33m\u001b[0m\u001b[1;33m\u001b[0m\u001b[0m\n\u001b[1;32m----> 4\u001b[1;33m \u001b[0mcolor_dictionary\u001b[0m \u001b[1;33m=\u001b[0m \u001b[0mdict\u001b[0m\u001b[1;33m(\u001b[0m\u001b[0mzip\u001b[0m\u001b[1;33m(\u001b[0m\u001b[0mkeys\u001b[0m\u001b[1;33m,\u001b[0m \u001b[0mvalues\u001b[0m\u001b[1;33m)\u001b[0m\u001b[1;33m)\u001b[0m\u001b[1;33m\u001b[0m\u001b[1;33m\u001b[0m\u001b[0m\n\u001b[0m\u001b[0;32m      5\u001b[0m \u001b[0mprint\u001b[0m\u001b[1;33m(\u001b[0m\u001b[0mcolor_dictionary\u001b[0m\u001b[1;33m)\u001b[0m\u001b[1;33m\u001b[0m\u001b[1;33m\u001b[0m\u001b[0m\n",
      "\u001b[1;31mTypeError\u001b[0m: 'dict' object is not callable"
     ]
    }
   ],
   "source": [
    "# I4. Write a Python program to map two lists into a dictionary\n",
    "keys = ['niranjan', 'kumar', 'verma']\n",
    "values = ['0000','11111', '22222']\n",
    "color_dictionary = dict(zip(keys, values))\n",
    "print(color_dictionary)\n"
   ]
  },
  {
   "cell_type": "code",
   "execution_count": 25,
   "metadata": {},
   "outputs": [
    {
     "name": "stdout",
     "output_type": "stream",
     "text": [
      "{'Geeks': 100, 'geek': 200, 'for': 325}\n"
     ]
    }
   ],
   "source": [
    "# I5. Write a Python program to combine two dictionary adding values for common keys.\n",
    "\n",
    "dict1 = {'a': 12, 'for': 25, 'c': 9}\n",
    "dict2 = {'Geeks': 100, 'geek': 200, 'for': 300}\n",
    "  \n",
    "  \n",
    "# adding the values with common key\n",
    "for key in dict2:\n",
    "    if key in dict1:\n",
    "        dict2[key] = dict2[key] + dict1[key]\n",
    "    else:\n",
    "        pass\n",
    "          \n",
    "print(dict2)"
   ]
  },
  {
   "cell_type": "code",
   "execution_count": 26,
   "metadata": {},
   "outputs": [
    {
     "name": "stdout",
     "output_type": "stream",
     "text": [
      "Original List:  [{'u1': 'S001'}, {'u2': 'S002'}, {'u1': 'S001'}, {'u1': 'S005'}, {'uII': 'S005'}, {'u': 'S009'}, {'uIII': 'S007'}]\n",
      "Unique Values:  {'S007', 'S001', 'S005', 'S002', 'S009'}\n"
     ]
    }
   ],
   "source": [
    "# 6 .Write a Python program to print all unique values in a dictionary.\n",
    "\n",
    "\n",
    "L = [{\"u1\":\"S001\"}, {\"u2\": \"S002\"}, {\"u1\": \"S001\"}, {\"u1\": \"S005\"}, {\"uII\":\"S005\"}, {\"u\":\"S009\"},{\"uIII\":\"S007\"}]\n",
    "print(\"Original List: \",L)\n",
    "u_value = set( val for dic in L for val in dic.values())\n",
    "print(\"Unique Values: \",u_value)\n"
   ]
  },
  {
   "cell_type": "code",
   "execution_count": 27,
   "metadata": {},
   "outputs": [
    {
     "name": "stdout",
     "output_type": "stream",
     "text": [
      "The zipped result is : {('Nikhil', 1, 50), ('Shambhavi', 3, 60), ('Astha', 2, 70), ('niranjan', 4, 40)}\n"
     ]
    }
   ],
   "source": [
    "# I7.Why Do You Use The Zip() Method In Python?\n",
    "\n",
    "name = [ \"niranjan\", \"Nikhil\", \"Shambhavi\", \"Astha\" ]\n",
    "roll_no = [ 4, 1, 3, 2 ]\n",
    "marks = [ 40, 50, 60, 70 ]\n",
    "  \n",
    "# using zip() to map values\n",
    "mapped = zip(name, roll_no, marks)\n",
    "  \n",
    "# converting values to print as set\n",
    "mapped = set(mapped)\n",
    "  \n",
    "# printing resultant values \n",
    "print (\"The zipped result is : \",end=\"\")\n",
    "print (mapped)"
   ]
  },
  {
   "cell_type": "code",
   "execution_count": 28,
   "metadata": {},
   "outputs": [
    {
     "name": "stdout",
     "output_type": "stream",
     "text": [
      "ac\n",
      "ad\n",
      "bc\n",
      "bd\n"
     ]
    }
   ],
   "source": [
    "# A1. Write a Python program to create and display all combinations of letters, \n",
    "#selecting each letter from a different key in a dictionary\n",
    "\n",
    "import itertools      \n",
    "d ={'1':['a','b'], '2':['c','d']}\n",
    "for combo in itertools.product(*[d[k] for k in sorted(d.keys())]):\n",
    "    print(''.join(combo))"
   ]
  },
  {
   "cell_type": "code",
   "execution_count": 29,
   "metadata": {},
   "outputs": [
    {
     "name": "stdout",
     "output_type": "stream",
     "text": [
      "Initial Dictionary:\n",
      "{'A': 67, 'B': 23, 'C': 45, 'D': 56, 'E': 12, 'F': 69, 'g': 100, 'h': 200} \n",
      "\n",
      "Dictionary with 3 highest values:\n",
      "Keys: Values\n",
      "h  : 200  \n",
      "g  : 100  \n",
      "F  : 69  \n"
     ]
    }
   ],
   "source": [
    "# A2.Write a Python program to find the highest 3 values in a dictionary\n",
    "\n",
    "from collections import Counter\n",
    "  \n",
    "my_dict = {'A': 67, 'B': 23, 'C': 45,  \n",
    "           'D': 56, 'E': 12, 'F': 69, 'g': 100,  'h': 200 }\n",
    "  \n",
    "k = Counter(my_dict)\n",
    "  \n",
    "# Finding 3 highest values\n",
    "high = k.most_common(3) \n",
    "  \n",
    "print(\"Initial Dictionary:\")\n",
    "print(my_dict, \"\\n\")\n",
    "  \n",
    "  \n",
    "print(\"Dictionary with 3 highest values:\")\n",
    "print(\"Keys: Values\")\n",
    "  \n",
    "for i in high:\n",
    "    print(i[0],\" :\",i[1],\" \")"
   ]
  },
  {
   "cell_type": "code",
   "execution_count": 30,
   "metadata": {},
   "outputs": [
    {
     "name": "stdout",
     "output_type": "stream",
     "text": [
      "Counter({'item1': 1150, 'item2': 300})\n"
     ]
    }
   ],
   "source": [
    "# A3.Write a Python program to combine values in python list of dictionaries.\n",
    "\n",
    "from collections import Counter\n",
    "item_list = [{'item': 'item1', 'amount': 400}, {'item': 'item2', 'amount': 300}, {'item': 'item1', 'amount': 750}]\n",
    "result = Counter()\n",
    "for d in item_list:\n",
    "    result[d['item']] += d['amount']\n",
    "print(result) "
   ]
  },
  {
   "cell_type": "code",
   "execution_count": 31,
   "metadata": {},
   "outputs": [
    {
     "name": "stdout",
     "output_type": "stream",
     "text": [
      "{'n': 3, 'i': 1, 'r': 3, 'a': 4, 'j': 1, ' ': 2, 'k': 1, 'u': 1, 'm': 2, 'v': 1, 'e': 1}\n"
     ]
    }
   ],
   "source": [
    "# A4. Write a Python program to create a dictionary from a string. \n",
    "\n",
    "from collections import defaultdict, Counter\n",
    "str1 = 'niranjan kumar verma' \n",
    "my_dict = {}\n",
    "for letter in str1:\n",
    "    my_dict[letter] = my_dict.get(letter, 0) + 1\n",
    "print(my_dict)"
   ]
  },
  {
   "cell_type": "code",
   "execution_count": 32,
   "metadata": {},
   "outputs": [
    {
     "name": "stdout",
     "output_type": "stream",
     "text": [
      "Input a number to compute the factiorial : 4\n",
      "24\n"
     ]
    }
   ],
   "source": [
    "##Topic : Function and method Assignment\n",
    "\n",
    "\n",
    "# B1.Write a Python function to calculate the factorial of a number (a non-negative integer\n",
    "\n",
    "def factorial(n):\n",
    "    if n == 0:\n",
    "        return 1\n",
    "    else:\n",
    "        return n * factorial(n-1)\n",
    "n=int(input(\"Input a number to compute the factiorial : \"))\n",
    "print(factorial(n))"
   ]
  },
  {
   "cell_type": "code",
   "execution_count": 33,
   "metadata": {},
   "outputs": [
    {
     "name": "stdout",
     "output_type": "stream",
     "text": [
      "The number is outside the given range.\n"
     ]
    },
    {
     "ename": "TypeError",
     "evalue": "'str' object is not callable",
     "output_type": "error",
     "traceback": [
      "\u001b[1;31m---------------------------------------------------------------------------\u001b[0m",
      "\u001b[1;31mTypeError\u001b[0m                                 Traceback (most recent call last)",
      "\u001b[1;32m<ipython-input-33-6d5b0c1048c3>\u001b[0m in \u001b[0;36m<module>\u001b[1;34m\u001b[0m\n\u001b[0;32m      7\u001b[0m         \u001b[0mprint\u001b[0m\u001b[1;33m(\u001b[0m\u001b[1;34m\"The number is outside the given range.\"\u001b[0m\u001b[1;33m)\u001b[0m\u001b[1;33m\u001b[0m\u001b[1;33m\u001b[0m\u001b[0m\n\u001b[0;32m      8\u001b[0m \u001b[0mtest_range\u001b[0m\u001b[1;33m(\u001b[0m\u001b[1;36m10\u001b[0m\u001b[1;33m)\u001b[0m\u001b[1;33m\u001b[0m\u001b[1;33m\u001b[0m\u001b[0m\n\u001b[1;32m----> 9\u001b[1;33m \u001b[0mtest_range\u001b[0m\u001b[1;33m(\u001b[0m\u001b[1;36m7\u001b[0m\u001b[1;33m)\u001b[0m\u001b[1;33m\u001b[0m\u001b[1;33m\u001b[0m\u001b[0m\n\u001b[0m",
      "\u001b[1;32m<ipython-input-33-6d5b0c1048c3>\u001b[0m in \u001b[0;36mtest_range\u001b[1;34m(n)\u001b[0m\n\u001b[0;32m      3\u001b[0m \u001b[1;32mdef\u001b[0m \u001b[0mtest_range\u001b[0m\u001b[1;33m(\u001b[0m\u001b[0mn\u001b[0m\u001b[1;33m)\u001b[0m\u001b[1;33m:\u001b[0m\u001b[1;33m\u001b[0m\u001b[1;33m\u001b[0m\u001b[0m\n\u001b[0;32m      4\u001b[0m     \u001b[1;32mif\u001b[0m \u001b[0mn\u001b[0m \u001b[1;32min\u001b[0m \u001b[0mrange\u001b[0m\u001b[1;33m(\u001b[0m\u001b[1;36m3\u001b[0m\u001b[1;33m,\u001b[0m\u001b[1;36m9\u001b[0m\u001b[1;33m)\u001b[0m\u001b[1;33m:\u001b[0m\u001b[1;33m\u001b[0m\u001b[1;33m\u001b[0m\u001b[0m\n\u001b[1;32m----> 5\u001b[1;33m         \u001b[0mprint\u001b[0m\u001b[1;33m(\u001b[0m \u001b[1;34m\" %s is in the range\"\u001b[0m\u001b[1;33m%\u001b[0m\u001b[0mstr\u001b[0m\u001b[1;33m(\u001b[0m\u001b[0mn\u001b[0m\u001b[1;33m)\u001b[0m\u001b[1;33m)\u001b[0m\u001b[1;33m\u001b[0m\u001b[1;33m\u001b[0m\u001b[0m\n\u001b[0m\u001b[0;32m      6\u001b[0m     \u001b[1;32melse\u001b[0m \u001b[1;33m:\u001b[0m\u001b[1;33m\u001b[0m\u001b[1;33m\u001b[0m\u001b[0m\n\u001b[0;32m      7\u001b[0m         \u001b[0mprint\u001b[0m\u001b[1;33m(\u001b[0m\u001b[1;34m\"The number is outside the given range.\"\u001b[0m\u001b[1;33m)\u001b[0m\u001b[1;33m\u001b[0m\u001b[1;33m\u001b[0m\u001b[0m\n",
      "\u001b[1;31mTypeError\u001b[0m: 'str' object is not callable"
     ]
    }
   ],
   "source": [
    "# B2. Write a Python function to check whether a number is in a given range\n",
    "\n",
    "def test_range(n):\n",
    "    if n in range(3,9):\n",
    "        print( \" %s is in the range\"%str(n))\n",
    "    else :\n",
    "        print(\"The number is outside the given range.\")\n",
    "test_range(10)\n",
    "test_range(7)"
   ]
  },
  {
   "cell_type": "code",
   "execution_count": 34,
   "metadata": {},
   "outputs": [
    {
     "name": "stdout",
     "output_type": "stream",
     "text": [
      "False\n"
     ]
    }
   ],
   "source": [
    "# B3.Write a Python function to check whether a number is perfect or not.\n",
    "\n",
    "\n",
    "def perfect_number(n):\n",
    "    sum = 0\n",
    "    for x in range(1, n):\n",
    "        if n % x == 0:\n",
    "            sum += x\n",
    "    return sum == n\n",
    "print(perfect_number(7))"
   ]
  },
  {
   "cell_type": "code",
   "execution_count": 35,
   "metadata": {},
   "outputs": [
    {
     "name": "stdout",
     "output_type": "stream",
     "text": [
      "False\n"
     ]
    }
   ],
   "source": [
    "# B4.Write a Python function that checks whether a passed string is palindrome or not\n",
    "def isPalindrome(string):\n",
    "\tleft_pos = 0\n",
    "\tright_pos = len(string) - 1\n",
    "\t\n",
    "\twhile right_pos >= left_pos:\n",
    "\t\tif not string[left_pos] == string[right_pos]:\n",
    "\t\t\treturn False\n",
    "\t\tleft_pos += 1\n",
    "\t\tright_pos -= 1\n",
    "\treturn True\n",
    "print(isPalindrome('123')) "
   ]
  },
  {
   "cell_type": "code",
   "execution_count": 36,
   "metadata": {},
   "outputs": [
    {
     "ename": "SyntaxError",
     "evalue": "invalid syntax (<ipython-input-36-670fcabb2be5>, line 2)",
     "output_type": "error",
     "traceback": [
      "\u001b[1;36m  File \u001b[1;32m\"<ipython-input-36-670fcabb2be5>\"\u001b[1;36m, line \u001b[1;32m2\u001b[0m\n\u001b[1;33m    : Steps of Regular Expression Matching\u001b[0m\n\u001b[1;37m    ^\u001b[0m\n\u001b[1;31mSyntaxError\u001b[0m\u001b[1;31m:\u001b[0m invalid syntax\n"
     ]
    }
   ],
   "source": [
    "#5.How do you perform pattern matching in Python? Explain\n",
    ": Steps of Regular Expression Matching\n",
    "* Import the regex module with import re.\n",
    "* Create a Regex object with the re. compile() function. ...\n",
    "* Pass the string you want to search into the Regex object's search() method. ...\n",
    "* Call the Match object's group() method to return a string of the actual matched text.\n",
    "29-Dec-2020"
   ]
  },
  {
   "cell_type": "code",
   "execution_count": 37,
   "metadata": {},
   "outputs": [
    {
     "name": "stdout",
     "output_type": "stream",
     "text": [
      "10\n"
     ]
    }
   ],
   "source": [
    "# B6.What is lambda function in python?What we call a function which is\n",
    "#incomplete version of a function?\n",
    "\n",
    "#:- Python, an anonymous function is a function that is defined without a name. ... Hence, anonymous functions are also called lambda functions.\n",
    "    \n",
    "double = lambda x: x * 2\n",
    "\n",
    "print(double(5))\n"
   ]
  },
  {
   "cell_type": "code",
   "execution_count": null,
   "metadata": {},
   "outputs": [],
   "source": [
    "# B7.How Many Basic Types Of Functions Are Available In Python\n",
    "\n",
    "\n",
    "There are three types of functions in Python:\n",
    "\n",
    "* Built-in functions:-  such as help() to ask for help, min() to get the minimum value, print() to print an object to the terminal,… You can find an overview with more of these functions here.\n",
    "* User-Defined Functions (UDFs):-  which are functions that users create to help them out; And\n",
    "* Anonymous functions:-  which are also called lambda functions because they are not declared with the standard def keyword."
   ]
  },
  {
   "cell_type": "code",
   "execution_count": 38,
   "metadata": {},
   "outputs": [
    {
     "name": "stdout",
     "output_type": "stream",
     "text": [
      "9\n"
     ]
    }
   ],
   "source": [
    "# I1.Write a Python program to access a function inside a function.\n",
    "def test(a):\n",
    "        def add(b):\n",
    "                nonlocal a\n",
    "                a += 1\n",
    "                return a+b\n",
    "        return add\n",
    "func= test(4)\n",
    "print(func(4))"
   ]
  },
  {
   "cell_type": "code",
   "execution_count": 39,
   "metadata": {},
   "outputs": [
    {
     "name": "stdout",
     "output_type": "stream",
     "text": [
      "3\n"
     ]
    }
   ],
   "source": [
    "# l2.Write a Python program to detect the number of local variables declared in a function.\n",
    "\n",
    "def abc():\n",
    "    x = 1\n",
    "    y = 2\n",
    "    str1= \"jharkhand\"\n",
    "    print(\"Python class\")\n",
    "\n",
    "print(abc.__code__.co_nlocals)"
   ]
  },
  {
   "cell_type": "code",
   "execution_count": null,
   "metadata": {},
   "outputs": [],
   "source": [
    "# l3. What is map function in Python?\n",
    ":- \n",
    "    map() function returns a map object(which is an iterator) of the results after applying the given function to each item of a given iterable (list, tuple etc.) ... fun : It is a function to which map passes each element of given iterable.\n"
   ]
  },
  {
   "cell_type": "code",
   "execution_count": null,
   "metadata": {},
   "outputs": [],
   "source": [
    "# I4.Does Python Have A Main() Method?\n",
    ":-\n",
    "    Since there is no main() function in Python, when the command to run a Python program is given to the interpreter, the code that is at level 0 indentation is to be executed. However, before doing that, it will define a few special variables"
   ]
  },
  {
   "cell_type": "code",
   "execution_count": null,
   "metadata": {},
   "outputs": [],
   "source": [
    "# 5.What Does The *Args Do In Python?What Does The **Kwargs Do In Python?\n",
    ":- \n",
    "    As in the above example we are not sure about the number of arguments that can be passed to a function. Python has *args which allow us to pass the variable number of non keyword arguments to function. In the function, we should use an asterisk * before the parameter name to pass variable length arguments."
   ]
  },
  {
   "cell_type": "code",
   "execution_count": null,
   "metadata": {},
   "outputs": [],
   "source": [
    "# I6.What Does The Name Do In Python?What Is The Purpose Of “End” In Python?\n",
    ":- \n",
    "    __name__ (A Special variable) in Python\n",
    "Unlike other programming languages, python is not designed to start execution of the code from a main function explicitly. A special variable called __name__ provides the functionality of the main function."
   ]
  },
  {
   "cell_type": "code",
   "execution_count": null,
   "metadata": {},
   "outputs": [],
   "source": [
    "# I7.What Does The Len() Function Do In Python? What Does The Ord() Function\n",
    "# Do In Python?\n",
    "\n",
    "\n",
    "             Python len() Function\n",
    "The len() function returns the number of items in an object."
   ]
  },
  {
   "cell_type": "code",
   "execution_count": 40,
   "metadata": {},
   "outputs": [
    {
     "name": "stdout",
     "output_type": "stream",
     "text": [
      "The original string  is : niranjan kumar from jharkhand\n",
      "The reversed string(using loops) is : dnahkrahj morf ramuk najnarin\n"
     ]
    }
   ],
   "source": [
    "# A2.Write a program in Python to reverse a string without using\n",
    "# inbuilt function reverse string?\n",
    "\n",
    "\n",
    "# Python code to reverse a string \n",
    "# using loop\n",
    "  \n",
    "def reverse(s):\n",
    "  str = \"\"\n",
    "  for i in s:\n",
    "    str = i + str\n",
    "  return str\n",
    "  \n",
    "s = \"niranjan kumar from jharkhand\"\n",
    "  \n",
    "print (\"The original string  is : \",end=\"\")\n",
    "print (s)\n",
    "  \n",
    "print (\"The reversed string(using loops) is : \",end=\"\")\n",
    "print (reverse(s))"
   ]
  },
  {
   "cell_type": "code",
   "execution_count": null,
   "metadata": {},
   "outputs": [],
   "source": [
    "# Topic: importing module,math module,random module,packages\n",
    "\n",
    "# B1.How can you pick a random item from a list or tuple?\n",
    "\n",
    "Selection of Random Element from Tuple in Python\n",
    "\n",
    "STEP 1: Import Random Module.\n",
    "STEP 2: Create a Tuple.\n",
    "STEP 3: Use random.choice(seq) \n",
    "STEP 1: Import Random Module. \n",
    "STEP 2: Create a Tuple as above. \n",
    "STEP 3: Use random.sample(seq,size) to return result.\n",
    "    "
   ]
  },
  {
   "cell_type": "code",
   "execution_count": null,
   "metadata": {},
   "outputs": [],
   "source": [
    "# B2.How can you pick a random item from a range?\n",
    "\n",
    "* Use randrnage() to generate random integer within a range\n",
    "* Use a random. randrange() function to get a random integer number from the given exclusive range by specifying the increment. For example, random. randrange(0, 10, 2) will return any random number between 0 and 20 (like 0, 2, 4, 6, 8).\n"
   ]
  },
  {
   "cell_type": "code",
   "execution_count": null,
   "metadata": {},
   "outputs": [],
   "source": [
    "# B3.How can you get a random number in python?\n",
    "\n",
    "Python defines a set of functions that are used to generate or manipulate random numbers through the random module. Functions in the random module rely on a pseudo-random number generator function random(), which generates a random float number between 0.0 and 1.0\n"
   ]
  },
  {
   "cell_type": "code",
   "execution_count": null,
   "metadata": {},
   "outputs": [],
   "source": [
    "# B4.How will you set the starting value in generating random numbers?\n",
    "\n",
    "The random number generator needs a number to start with (a seed value), to be able to generate a random number. By default the random number generator uses the current system time. Use the seed() method to customize the start number of the random number generator."
   ]
  },
  {
   "cell_type": "code",
   "execution_count": 41,
   "metadata": {},
   "outputs": [
    {
     "ename": "SyntaxError",
     "evalue": "invalid syntax (<ipython-input-41-588f513398e5>, line 6)",
     "output_type": "error",
     "traceback": [
      "\u001b[1;36m  File \u001b[1;32m\"<ipython-input-41-588f513398e5>\"\u001b[1;36m, line \u001b[1;32m6\u001b[0m\n\u001b[1;33m    The shuffle() method randomizes the items of a list in place.\u001b[0m\n\u001b[1;37m        ^\u001b[0m\n\u001b[1;31mSyntaxError\u001b[0m\u001b[1;31m:\u001b[0m invalid syntax\n"
     ]
    }
   ],
   "source": [
    "# B5.How will you randomizes the items of a list in place?\n",
    "\n",
    "\n",
    "Description\n",
    "\n",
    "The shuffle() method randomizes the items of a list in place.\n",
    "\n",
    "Syntax\n",
    "\n",
    "Following is the syntax for shuffle() method −\n",
    "\n",
    "shuffle (lst,[random])\n",
    "\n",
    "Note − This function is not accessible directly, so we need to import shuffle module and then we need to call this function using random static object.\n",
    "\n",
    "Parameters\n",
    "\n",
    "* lst − This could be a list or tuple.\n",
    "\n",
    "* random − This is an optional 0 argument function returning float between 0.0 - 1.0. Default is None\n",
    "\n",
    "* Return Value\n",
    "\n",
    "This method returns reshuffled list.\n",
    "\n",
    "* Example\n",
    "\n",
    "The following example shows the usage of the shuffle() method.\n",
    "\n",
    "Live Demo\n",
    "#!/usr/bin/python3\n",
    "import random\n",
    "\n",
    "list = [20, 16, 10, 5];\n",
    "random.shuffle(list)\n",
    "print (\"Reshuffled list : \",  list)\n",
    "\n",
    "random.shuffle(list)\n",
    "print (\"Reshuffled list : \",  list)\n"
   ]
  },
  {
   "cell_type": "code",
   "execution_count": 42,
   "metadata": {},
   "outputs": [
    {
     "ename": "FileNotFoundError",
     "evalue": "[Errno 2] No such file or directory: 'test.test'",
     "output_type": "error",
     "traceback": [
      "\u001b[1;31m---------------------------------------------------------------------------\u001b[0m",
      "\u001b[1;31mFileNotFoundError\u001b[0m                         Traceback (most recent call last)",
      "\u001b[1;32m<ipython-input-42-8586edd69746>\u001b[0m in \u001b[0;36m<module>\u001b[1;34m\u001b[0m\n\u001b[0;32m      5\u001b[0m     \u001b[0mlines\u001b[0m \u001b[1;33m=\u001b[0m \u001b[0mopen\u001b[0m\u001b[1;33m(\u001b[0m\u001b[0mfname\u001b[0m\u001b[1;33m)\u001b[0m\u001b[1;33m.\u001b[0m\u001b[0mread\u001b[0m\u001b[1;33m(\u001b[0m\u001b[1;33m)\u001b[0m\u001b[1;33m.\u001b[0m\u001b[0msplitlines\u001b[0m\u001b[1;33m(\u001b[0m\u001b[1;33m)\u001b[0m\u001b[1;33m\u001b[0m\u001b[1;33m\u001b[0m\u001b[0m\n\u001b[0;32m      6\u001b[0m     \u001b[1;32mreturn\u001b[0m \u001b[0mrandom\u001b[0m\u001b[1;33m.\u001b[0m\u001b[0mchoice\u001b[0m\u001b[1;33m(\u001b[0m\u001b[0mlines\u001b[0m\u001b[1;33m)\u001b[0m\u001b[1;33m\u001b[0m\u001b[1;33m\u001b[0m\u001b[0m\n\u001b[1;32m----> 7\u001b[1;33m \u001b[0mprint\u001b[0m\u001b[1;33m(\u001b[0m\u001b[0mrandom_line\u001b[0m\u001b[1;33m(\u001b[0m\u001b[1;34m'test.test'\u001b[0m\u001b[1;33m)\u001b[0m\u001b[1;33m)\u001b[0m\u001b[1;33m\u001b[0m\u001b[1;33m\u001b[0m\u001b[0m\n\u001b[0m",
      "\u001b[1;32m<ipython-input-42-8586edd69746>\u001b[0m in \u001b[0;36mrandom_line\u001b[1;34m(fname)\u001b[0m\n\u001b[0;32m      3\u001b[0m \u001b[1;32mimport\u001b[0m \u001b[0mrandom\u001b[0m\u001b[1;33m\u001b[0m\u001b[1;33m\u001b[0m\u001b[0m\n\u001b[0;32m      4\u001b[0m \u001b[1;32mdef\u001b[0m \u001b[0mrandom_line\u001b[0m\u001b[1;33m(\u001b[0m\u001b[0mfname\u001b[0m\u001b[1;33m)\u001b[0m\u001b[1;33m:\u001b[0m\u001b[1;33m\u001b[0m\u001b[1;33m\u001b[0m\u001b[0m\n\u001b[1;32m----> 5\u001b[1;33m     \u001b[0mlines\u001b[0m \u001b[1;33m=\u001b[0m \u001b[0mopen\u001b[0m\u001b[1;33m(\u001b[0m\u001b[0mfname\u001b[0m\u001b[1;33m)\u001b[0m\u001b[1;33m.\u001b[0m\u001b[0mread\u001b[0m\u001b[1;33m(\u001b[0m\u001b[1;33m)\u001b[0m\u001b[1;33m.\u001b[0m\u001b[0msplitlines\u001b[0m\u001b[1;33m(\u001b[0m\u001b[1;33m)\u001b[0m\u001b[1;33m\u001b[0m\u001b[1;33m\u001b[0m\u001b[0m\n\u001b[0m\u001b[0;32m      6\u001b[0m     \u001b[1;32mreturn\u001b[0m \u001b[0mrandom\u001b[0m\u001b[1;33m.\u001b[0m\u001b[0mchoice\u001b[0m\u001b[1;33m(\u001b[0m\u001b[0mlines\u001b[0m\u001b[1;33m)\u001b[0m\u001b[1;33m\u001b[0m\u001b[1;33m\u001b[0m\u001b[0m\n\u001b[0;32m      7\u001b[0m \u001b[0mprint\u001b[0m\u001b[1;33m(\u001b[0m\u001b[0mrandom_line\u001b[0m\u001b[1;33m(\u001b[0m\u001b[1;34m'test.test'\u001b[0m\u001b[1;33m)\u001b[0m\u001b[1;33m)\u001b[0m\u001b[1;33m\u001b[0m\u001b[1;33m\u001b[0m\u001b[0m\n",
      "\u001b[1;31mFileNotFoundError\u001b[0m: [Errno 2] No such file or directory: 'test.test'"
     ]
    }
   ],
   "source": [
    "# I1.Write a Python program to read a random line from a file.\n",
    "\n",
    "import random\n",
    "def random_line(fname):\n",
    "    lines = open(fname).read().splitlines()\n",
    "    return random.choice(lines)\n",
    "print(random_line('test.test'))\n"
   ]
  },
  {
   "cell_type": "code",
   "execution_count": 43,
   "metadata": {},
   "outputs": [
    {
     "name": "stdout",
     "output_type": "stream",
     "text": [
      "Input degrees: 45\n",
      "0.7857142857142857\n"
     ]
    }
   ],
   "source": [
    "# 2. Write a Python program to convert degree to radian\n",
    "\n",
    "pi=22/7\n",
    "degree = float(input(\"Input degrees: \"))\n",
    "radian = degree*(pi/180)\n",
    "print(radian)"
   ]
  },
  {
   "cell_type": "code",
   "execution_count": 44,
   "metadata": {},
   "outputs": [
    {
     "name": "stdout",
     "output_type": "stream",
     "text": [
      "Height of trapezoid: 23\n",
      "Base one value: 12\n",
      "Base two value: 14\n",
      "Area is: 299.0\n"
     ]
    }
   ],
   "source": [
    "# I3. Write a Python program to calculate the area of a trapezoid\n",
    "\n",
    "\n",
    "base_1 = 5\n",
    "base_2 = 6\n",
    "height = float(input(\"Height of trapezoid: \"))\n",
    "base_1 = float(input('Base one value: '))\n",
    "base_2 = float(input('Base two value: '))\n",
    "area = ((base_1 + base_2) / 2) * height\n",
    "print(\"Area is:\", area)"
   ]
  },
  {
   "cell_type": "code",
   "execution_count": 46,
   "metadata": {},
   "outputs": [
    {
     "name": "stdout",
     "output_type": "stream",
     "text": [
      "Length of base: 7\n",
      "Measurement of height: 7\n",
      "Area is:  49.0\n"
     ]
    }
   ],
   "source": [
    "# I4.Write a Python program to calculate the area of a parallelogram\n",
    "\n",
    "\n",
    "base = float(input('Length of base: '))\n",
    "height = float(input('Measurement of height: '))\n",
    "area = base * height\n",
    "print(\"Area is: \", area)"
   ]
  },
  {
   "cell_type": "code",
   "execution_count": 47,
   "metadata": {},
   "outputs": [
    {
     "name": "stdout",
     "output_type": "stream",
     "text": [
      "Height of cylinder: 4\n",
      "Radius of cylinder: 4\n",
      "Volume is:  201.14285714285714\n",
      "Surface Area is:  201.14285714285714\n"
     ]
    }
   ],
   "source": [
    "# I5.Write a Python program to calculate surface volume and area of a cylinder\n",
    "\n",
    "\n",
    "pi=22/7\n",
    "height = float(input('Height of cylinder: '))\n",
    "radian = float(input('Radius of cylinder: '))\n",
    "volume = pi * radian * radian * height\n",
    "sur_area = ((2*pi*radian) * height) + ((pi*radian**2)*2)\n",
    "print(\"Volume is: \", volume)\n",
    "print(\"Surface Area is: \", sur_area)"
   ]
  },
  {
   "cell_type": "code",
   "execution_count": null,
   "metadata": {},
   "outputs": [],
   "source": [
    "#6.Write a Python program to returns sum of all divisors of a number\n",
    "\n",
    "def sum_div(number):\n",
    "    divisors = [1]\n",
    "    for i in range(2, number):\n",
    "        if (number % i)==0:\n",
    "            divisors.append(i)\n",
    "    return sum(divisors)\n",
    "print(sum_div(8))\n",
    "print(sum_div(12))"
   ]
  },
  {
   "cell_type": "code",
   "execution_count": null,
   "metadata": {},
   "outputs": [],
   "source": [
    "# I7. Write a Python program to find the maximum and minimum numbers from the\n",
    "# specified decimal numbers.\n",
    "\n",
    "from decimal import *\n",
    "data = list(map(Decimal, '2.45 2.69 2.45 3.45 2.00 0.04 7.25'.split()))\n",
    "print(\"Maximum: \", max(data))\n",
    "print(\"Minimum: \", min(data))"
   ]
  },
  {
   "cell_type": "code",
   "execution_count": null,
   "metadata": {},
   "outputs": [],
   "source": [
    "# VVI question \n",
    "#A3.Write a Python program to add, subtract, multiply and divide two fractions.\n",
    "\n",
    "import fractions\n",
    "\n",
    "f1 = fractions.Fraction(2, 3)\n",
    "f2 = fractions.Fraction(3, 7)\n",
    "\n",
    "print('{} + {} = {}'.format(f1, f2, f1 + f2))\n",
    "print('{} - {} = {}'.format(f1, f2, f1 - f2))\n",
    "print('{} * {} = {}'.format(f1, f2, f1 * f2))\n",
    "print('{} / {} = {}'.format(f1, f2, f1 / f2))"
   ]
  },
  {
   "cell_type": "code",
   "execution_count": null,
   "metadata": {},
   "outputs": [],
   "source": []
  }
 ],
 "metadata": {
  "kernelspec": {
   "display_name": "Python 3",
   "language": "python",
   "name": "python3"
  },
  "language_info": {
   "codemirror_mode": {
    "name": "ipython",
    "version": 3
   },
   "file_extension": ".py",
   "mimetype": "text/x-python",
   "name": "python",
   "nbconvert_exporter": "python",
   "pygments_lexer": "ipython3",
   "version": "3.8.8"
  }
 },
 "nbformat": 4,
 "nbformat_minor": 4
}
